{
 "cells": [
  {
   "cell_type": "code",
   "execution_count": 125,
   "id": "24a37670",
   "metadata": {},
   "outputs": [],
   "source": [
    "using LinearAlgebra\n",
    "using PlotlyJS\n",
    "using FFTW\n",
    "using BenchmarkTools\n",
    "using Kronecker\n",
    "using Primes"
   ]
  },
  {
   "cell_type": "code",
   "execution_count": 126,
   "id": "96674719",
   "metadata": {},
   "outputs": [],
   "source": [
    "vecsize = 9\n",
    "x = randn(vecsize) + 1im * randn(vecsize);"
   ]
  },
  {
   "cell_type": "code",
   "execution_count": 127,
   "id": "119212a9-d4d2-4695-9ea2-4d0dbf8589a9",
   "metadata": {},
   "outputs": [
    {
     "data": {
      "text/plain": [
       "naive_idft_unscaled (generic function with 1 method)"
      ]
     },
     "execution_count": 127,
     "metadata": {},
     "output_type": "execute_result"
    }
   ],
   "source": [
    "# Functions to build a DFT matrix for prime sizes\n",
    "\n",
    "function dft_matrix(n)\n",
    "    \"\"\" \n",
    "    Computes the Discrete Fourier Transform matrix of size n.\n",
    "    Based on algorithm 1.16 from\n",
    "    Van Loan, C. (1992). Computational frameworks for the fast Fourier transform.\n",
    "    \n",
    "    Input: \n",
    "    n: (integer)\n",
    "    \n",
    "    Returns:\n",
    "    F: (n x n complex matrix)\n",
    "    \"\"\"\n",
    "    \n",
    "    # Base cases\n",
    "    if n == 1\n",
    "        return 1\n",
    "    end\n",
    "    \n",
    "    F = ones(ComplexF64, n, n)\n",
    "    F[1, 2] = 1\n",
    "    \n",
    "    for p = 1:n-1\n",
    "        F[p + 1, 2] = exp(-2 * pi * 1im * p/n)\n",
    "    end\n",
    "    \n",
    "    for q = 2:n-1\n",
    "        F[:, q + 1] = F[:, q] .* F[:, 2]\n",
    "    end\n",
    "\n",
    "    return F\n",
    "end\n",
    "\n",
    "function naive_dft(x)\n",
    "    \"\"\" \n",
    "    Computes the Discrete Fourier Transform of an input x.\n",
    "    \n",
    "    Input: \n",
    "    x: (vector)\n",
    "    \n",
    "    Returns:\n",
    "    y: (vector)\n",
    "    \"\"\"\n",
    "    \n",
    "    return dft_matrix(length(x)) * x\n",
    "end\n",
    "\n",
    "function naive_idft_unscaled(y)\n",
    "    \"\"\" \n",
    "    Computes the inverse Discrete Fourier Transform of an input y (unscaled).\n",
    "    \n",
    "    Input: \n",
    "    y: (vector)\n",
    "    \n",
    "    Returns:\n",
    "    x: (vector)\n",
    "    \"\"\"\n",
    "    \n",
    "    return (dft_matrix(length(y))' * y) \n",
    "end"
   ]
  },
  {
   "cell_type": "code",
   "execution_count": 128,
   "id": "37ff5436",
   "metadata": {},
   "outputs": [
    {
     "data": {
      "text/plain": [
       "pre_compute_roots_unity (generic function with 2 methods)"
      ]
     },
     "execution_count": 128,
     "metadata": {},
     "output_type": "execute_result"
    }
   ],
   "source": [
    "function bit_reverse(i, bits)\n",
    "    r = 0\n",
    "    for _ in 1:bits\n",
    "        r = (r << 1) | (i & 1)  # Shift left and add least significant bit\n",
    "        i >>= 1                 # Shift input right\n",
    "    end\n",
    "    return r\n",
    "end\n",
    "\n",
    "\n",
    "function cooley_tukey_perm(n, return_matrix = false)\n",
    "    \"\"\" \n",
    "    Finds the Cooley Tukey algorithm permutation matrix using bitwise operations.\n",
    "    \n",
    "    Input: \n",
    "    n: (integer, size of fft)\n",
    "    \n",
    "    Returns:\n",
    "    P: (permutation matrix)\n",
    "    \"\"\" \n",
    "    \n",
    "\n",
    "    t = Int(log2(n))\n",
    "    perm = bit_reverse.(collect(0:n-1), t) .+1\n",
    "    \n",
    "    if !return_matrix\n",
    "        return perm\n",
    "    end\n",
    "    \n",
    "    P = I + zeros(n, n)\n",
    "    \n",
    "    return P[:, perm] \n",
    "end\n",
    "\n",
    "function pre_compute_roots_unity(n, inverse = false)\n",
    "    \"\"\" \n",
    "    Precomputes the roots of unity array (Ω) for Pease FFT/IFFT based on (1.8.4)\n",
    "    from Van Loan, C. (1992).\n",
    "    \"\"\"\n",
    "    t = Int(log2(n))\n",
    "    pwr_sign = inverse ? 1 : -1\n",
    "    Ω = ones(ComplexF64, n ÷ 2, t)  \n",
    "        \n",
    "    for q in 1:t\n",
    "        L = 2^q\n",
    "        L_star = L ÷ 2\n",
    "        r = n ÷ L\n",
    "\n",
    "        for j in 0:L_star-1, k in 0:r-1\n",
    "            Ω[j * r + k + 1, q] = cos(2 * pi * j / L) + pwr_sign * 1im * sin(2 * pi * j/L)\n",
    "        end\n",
    "    end\n",
    "    \n",
    "    return Ω\n",
    "end\n"
   ]
  },
  {
   "cell_type": "code",
   "execution_count": 129,
   "id": "9f3f8bd3",
   "metadata": {},
   "outputs": [
    {
     "data": {
      "text/plain": [
       "pease_ifft (generic function with 1 method)"
      ]
     },
     "execution_count": 129,
     "metadata": {},
     "output_type": "execute_result"
    }
   ],
   "source": [
    "function pease_fft_base(z, inverse = false)\n",
    "    \"\"\" \n",
    "    Computes the Pease FFT/IFFT based on Algorithm 1.8.1 \n",
    "    from Van Loan, C. (1992).\n",
    "    \"\"\"\n",
    "\n",
    "    n = length(z)\n",
    "    t = Int(log2(n))\n",
    "    m = n ÷ 2\n",
    "    p = cooley_tukey_perm(n)\n",
    "\n",
    "    # Applying permutation\n",
    "    x = copy(z)[p]  \n",
    "    y = copy(x)  \n",
    "    Ω = pre_compute_roots_unity(n, inverse)  \n",
    "\n",
    "    # Performing Pease FFT\n",
    "    for q = 1:t\n",
    "        x, y = y, x  \n",
    "        u = Ω[:, q] .* y[2:2:n]  \n",
    "\n",
    "        x[1:m] = y[1:2:n] + u\n",
    "        x[m + 1:n] = y[1:2:n] - u\n",
    "    end\n",
    "\n",
    "    # Scale result for inverse FFT\n",
    "    return inverse ? x ./ n : x\n",
    "end \n",
    "\n",
    "function pease_fft(x)\n",
    "    return pease_fft_base(x, false)\n",
    "end\n",
    "\n",
    "function pease_ifft(y)\n",
    "    return pease_fft_base(y, true)\n",
    "end\n"
   ]
  },
  {
   "cell_type": "code",
   "execution_count": 9,
   "id": "3d66944e",
   "metadata": {},
   "outputs": [
    {
     "data": {
      "text/plain": [
       "2.5060156982423103e-16"
      ]
     },
     "execution_count": 9,
     "metadata": {},
     "output_type": "execute_result"
    }
   ],
   "source": [
    "norm(pease_ifft(pease_fft(x)) - x, Inf)/norm(x, Inf)"
   ]
  },
  {
   "cell_type": "code",
   "execution_count": null,
   "id": "75b280d9",
   "metadata": {},
   "outputs": [
    {
     "data": {
      "text/plain": [
       "genifft (generic function with 1 method)"
      ]
     },
     "execution_count": 130,
     "metadata": {},
     "output_type": "execute_result"
    }
   ],
   "source": [
    "# Function to perform Mixed Radix recursive FFT  \n",
    "function genfft_base(x, n, inverse = false)\n",
    "    \"\"\" \n",
    "    Computes the Radix recursive FFT/IFFT for a vector with general size\n",
    "    based on Algorithm present \n",
    "    in Section 2.1.4 \n",
    "    from Van Loan, C. (1992).\n",
    "    \"\"\"\n",
    "\n",
    "    pwr_sign = inverse ? 1 : -1\n",
    "    \n",
    "    omega = exp(pwr_sign * 2im * π / n)\n",
    "\n",
    "    # Base case: Use DFT matrix multiplication if n is prime\n",
    "    if isprime(n)\n",
    "        return inverse ? naive_idft_unscaled(x) : naive_dft(x)\n",
    "    end\n",
    "\n",
    "    # Find smallest factor p of n\n",
    "    p = first(filter(d -> n % d == 0, 2:n))\n",
    "    m = n ÷ p  # Compute m such that n = p * m\n",
    "\n",
    "    # Twiddle factor vector \n",
    "    Omega_vec = [omega^j for j in 0:m-1]  \n",
    "\n",
    "    # Step 1: Compute FFTs along p smaller groups\n",
    "    z = similar(x, ComplexF64)  \n",
    "    for j in 0:p-1\n",
    "        z[j*m+1:(j+1)*m] .= (Omega_vec .^ j) .* genfft_base(x[j+1:p:end], m, inverse)  # Element-wise multiplication\n",
    "    end\n",
    "\n",
    "    # Step 2: Compute FFTs along m groups\n",
    "    y = similar(x, ComplexF64)  \n",
    "    for j in 0:m-1\n",
    "        y[j+1:m:end] .= genfft_base(z[j+1:m:end], p, inverse)  # Vectorized slicing\n",
    "    end\n",
    "\n",
    "    return y\n",
    "end\n",
    "\n",
    "function genfft(x)\n",
    "    n = length(x)\n",
    "    return genfft_base(x, n)\n",
    "end\n",
    "\n",
    "function genifft(x)\n",
    "    n = length(x)\n",
    "    return genfft_base(x, n, true) / n\n",
    "end"
   ]
  },
  {
   "cell_type": "code",
   "execution_count": 131,
   "id": "b1216b63-e4db-4986-9af0-7d148bf03714",
   "metadata": {},
   "outputs": [
    {
     "data": {
      "text/plain": [
       "6.03076649089214e-16"
      ]
     },
     "execution_count": 131,
     "metadata": {},
     "output_type": "execute_result"
    }
   ],
   "source": [
    "norm(fft(x) - genfft(x), Inf)/norm(fft(x), Inf)"
   ]
  },
  {
   "cell_type": "code",
   "execution_count": 132,
   "id": "f0d8f964-e90f-4d2f-a295-762eb7d4b2be",
   "metadata": {},
   "outputs": [
    {
     "data": {
      "text/plain": [
       "4.751372675741167e-16"
      ]
     },
     "execution_count": 132,
     "metadata": {},
     "output_type": "execute_result"
    }
   ],
   "source": [
    "norm(x - genifft(genfft(x)), Inf)/norm(x, Inf)"
   ]
  }
 ],
 "metadata": {
  "@webio": {
   "lastCommId": "6eb411a4aae647058499e73e0f312cc6",
   "lastKernelId": "bfaf9d3f-f9bb-442e-9044-14791aa60080"
  },
  "kernelspec": {
   "display_name": "Julia 1.10.4",
   "language": "julia",
   "name": "julia-1.10"
  },
  "language_info": {
   "file_extension": ".jl",
   "mimetype": "application/julia",
   "name": "julia",
   "version": "1.10.4"
  }
 },
 "nbformat": 4,
 "nbformat_minor": 5
}
