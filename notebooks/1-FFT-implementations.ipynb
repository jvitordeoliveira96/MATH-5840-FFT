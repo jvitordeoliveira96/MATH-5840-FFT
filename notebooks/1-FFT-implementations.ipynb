{
 "cells": [
  {
   "cell_type": "code",
   "execution_count": 85,
   "id": "24a37670",
   "metadata": {},
   "outputs": [],
   "source": [
    "using LinearAlgebra\n",
    "using PlotlyJS\n",
    "using FFTW\n",
    "using BenchmarkTools\n",
    "using Kronecker"
   ]
  },
  {
   "cell_type": "code",
   "execution_count": 86,
   "id": "96674719",
   "metadata": {},
   "outputs": [],
   "source": [
    "x = collect(LinRange(0, 127, 128)) + 1im * collect(LinRange(-64, 63, 128));"
   ]
  },
  {
   "cell_type": "markdown",
   "id": "539a7fa7",
   "metadata": {},
   "source": [
    "# Comparison between naive DFT $O(n^2)$, Radix 2-FFT $O(nlogn)$ and Julia's FFTW "
   ]
  },
  {
   "cell_type": "code",
   "execution_count": 87,
   "id": "8262555a",
   "metadata": {},
   "outputs": [
    {
     "data": {
      "text/plain": [
       "naive_idft (generic function with 1 method)"
      ]
     },
     "execution_count": 87,
     "metadata": {},
     "output_type": "execute_result"
    }
   ],
   "source": [
    "function dft_matrix(n)\n",
    "    \"\"\" \n",
    "    Computes the Discrete Fourier Transform matrix of size n.\n",
    "    Based on algorithm 1.16 from\n",
    "    Van Loan, C. (1992). Computational frameworks for the fast Fourier transform.\n",
    "    \n",
    "    Input: \n",
    "    n: (integer)\n",
    "    \n",
    "    Returns:\n",
    "    F: (n x n complex matrix)\n",
    "    \"\"\"\n",
    "    \n",
    "    # Base cases\n",
    "    if n == 1\n",
    "        return 1\n",
    "    end\n",
    "    \n",
    "    F = ones(ComplexF64, n, n)\n",
    "    F[1, 2] = 1\n",
    "    \n",
    "    for p = 1:n-1\n",
    "        F[p + 1, 2] = exp(-2 * pi * 1im * p/n)\n",
    "    end\n",
    "    \n",
    "    for q = 2:n-1\n",
    "        F[:, q + 1] = F[:, q] .* F[:, 2]\n",
    "    end\n",
    "\n",
    "    return F\n",
    "end\n",
    "\n",
    "function naive_dft(x)\n",
    "    \"\"\" \n",
    "    Computes the Discrete Fourier Transform of an input x.\n",
    "    \n",
    "    Input: \n",
    "    x: (vector)\n",
    "    \n",
    "    Returns:\n",
    "    y: (vector)\n",
    "    \"\"\"\n",
    "    \n",
    "    return dft_matrix(length(x)) * x\n",
    "end\n",
    "\n",
    "function naive_idft(y)\n",
    "    \"\"\" \n",
    "    Computes the inverse Discrete Fourier Transform of an input y.\n",
    "    \n",
    "    Input: \n",
    "    y: (vector)\n",
    "    \n",
    "    Returns:\n",
    "    x: (vector)\n",
    "    \"\"\"\n",
    "    \n",
    "    return (dft_matrix(length(y))' * y) / length(y)\n",
    "end\n",
    "    "
   ]
  },
  {
   "cell_type": "code",
   "execution_count": 88,
   "id": "47125319",
   "metadata": {},
   "outputs": [
    {
     "data": {
      "text/plain": [
       "radix2_fft_base (generic function with 1 method)"
      ]
     },
     "execution_count": 88,
     "metadata": {},
     "output_type": "execute_result"
    }
   ],
   "source": [
    "function radix2_fft(x)\n",
    "    \"\"\" \n",
    "    Computes the Fast Fourier Transform of an input x, using a recursive\n",
    "    radix2 procedure.\n",
    "    \n",
    "    Input: \n",
    "    x: (vector)\n",
    "    \n",
    "    Returns:\n",
    "    y: (vector)\n",
    "    \"\"\"\n",
    "    \n",
    "    return radix2_fft_base(x, length(x), false)\n",
    "end\n",
    "\n",
    "function radix2_ifft(y)\n",
    "    \"\"\" \n",
    "    Computes the inverse Fast Fourier Transform of an input x, using a recursive\n",
    "    radix2 procedure.\n",
    "    \n",
    "    Input: \n",
    "    y: (vector)\n",
    "    \n",
    "    Returns:\n",
    "    x: (vector)\n",
    "    \"\"\"\n",
    "    \n",
    "    return radix2_fft_base(y, length(y), true) / length(y)\n",
    "end\n",
    "    \n",
    "function radix2_fft_base(x, n, inverse)\n",
    "    \"\"\" \n",
    "    Base routine for recursive\n",
    "    radix2 procedure for FFT computation.\n",
    "    Based on 1.26 from\n",
    "    Van Loan, C. (1992). Computational frameworks for the fast Fourier transform.\n",
    "    \n",
    "    Input: \n",
    "    x: (vector)\n",
    "    n: (integer, size of fft)\n",
    "    inverse: (bool, if doing fft or ifft)\n",
    "    \n",
    "    Returns:\n",
    "    y: (vector)\n",
    "    \"\"\"\n",
    "    \n",
    "    pwr_sign = inverse ? 1 : -1\n",
    "            \n",
    "    if n == 1\n",
    "        return x\n",
    "    \n",
    "    else\n",
    "        m = n÷2\n",
    "        ω = exp(pwr_sign * 2 * pi * 1im/n)\n",
    "        Ω = [ω^p for p in 0:m-1]\n",
    "        z_t = radix2_fft_base(x[1:2:n], m, inverse)\n",
    "        z_b = Ω .* radix2_fft_base(x[2:2:n], m, inverse)\n",
    "        y = [z_t + z_b;z_t - z_b]\n",
    "        \n",
    "        return y\n",
    "    end\n",
    "        \n",
    "end\n",
    "        "
   ]
  },
  {
   "cell_type": "code",
   "execution_count": 89,
   "id": "ad53c73f",
   "metadata": {},
   "outputs": [
    {
     "name": "stdout",
     "output_type": "stream",
     "text": [
      "  45.000 μs (5 allocations: 2.42 KiB)\n"
     ]
    },
    {
     "data": {
      "text/plain": [
       "128-element Vector{ComplexF64}:\n",
       "              8128.0 - 63.999999999999986im\n",
       " -2671.0709678133317 + 2543.0709678133317im\n",
       "   -1366.74992799918 + 1238.74992799918im\n",
       "  -931.6268315105551 + 803.6268315105551im\n",
       "   -713.802904806967 + 585.802904806967im\n",
       "  -582.8982914353221 + 454.89829143532194im\n",
       "  -495.4529539465592 + 367.4529539465593im\n",
       " -432.84108832760364 + 304.8410883276038im\n",
       " -385.74972749605433 + 257.7497274960543im\n",
       " -349.00494236252234 + 221.00494236252234im\n",
       " -319.50232216128546 + 191.50232216128535im\n",
       " -295.26628360367533 + 167.26628360367545im\n",
       "  -274.9797253720525 + 146.97972537205243im\n",
       "                     ⋮\n",
       "   146.9797253720525 - 274.9797253720525im\n",
       "   167.2662836036755 - 295.26628360367533im\n",
       "   191.5023221612854 - 319.5023221612855im\n",
       "  221.00494236252212 - 349.00494236252223im\n",
       "  257.74972749605433 - 385.74972749605433im\n",
       "  304.84108832760387 - 432.84108832760387im\n",
       "   367.4529539465593 - 495.45295394655926im\n",
       "    454.898291435322 - 582.8982914353221im\n",
       "    585.802904806967 - 713.802904806967im\n",
       "   803.6268315105552 - 931.6268315105553im\n",
       "  1238.7499279991803 - 1366.74992799918im\n",
       "  2543.0709678133317 - 2671.070967813331im"
      ]
     },
     "execution_count": 89,
     "metadata": {},
     "output_type": "execute_result"
    }
   ],
   "source": [
    "@btime y1 = fft(x)"
   ]
  },
  {
   "cell_type": "code",
   "execution_count": 90,
   "id": "4c081620",
   "metadata": {},
   "outputs": [
    {
     "data": {
      "text/plain": [
       "128-element Vector{ComplexF64}:\n",
       "              8128.0 - 63.999999999999986im\n",
       " -2671.0709678133317 + 2543.0709678133317im\n",
       "   -1366.74992799918 + 1238.74992799918im\n",
       "  -931.6268315105551 + 803.6268315105551im\n",
       "   -713.802904806967 + 585.802904806967im\n",
       "  -582.8982914353221 + 454.89829143532194im\n",
       "  -495.4529539465592 + 367.4529539465593im\n",
       " -432.84108832760364 + 304.8410883276038im\n",
       " -385.74972749605433 + 257.7497274960543im\n",
       " -349.00494236252234 + 221.00494236252234im\n",
       " -319.50232216128546 + 191.50232216128535im\n",
       " -295.26628360367533 + 167.26628360367545im\n",
       "  -274.9797253720525 + 146.97972537205243im\n",
       "                     ⋮\n",
       "   146.9797253720525 - 274.9797253720525im\n",
       "   167.2662836036755 - 295.26628360367533im\n",
       "   191.5023221612854 - 319.5023221612855im\n",
       "  221.00494236252212 - 349.00494236252223im\n",
       "  257.74972749605433 - 385.74972749605433im\n",
       "  304.84108832760387 - 432.84108832760387im\n",
       "   367.4529539465593 - 495.45295394655926im\n",
       "    454.898291435322 - 582.8982914353221im\n",
       "    585.802904806967 - 713.802904806967im\n",
       "   803.6268315105552 - 931.6268315105553im\n",
       "  1238.7499279991803 - 1366.74992799918im\n",
       "  2543.0709678133317 - 2671.070967813331im"
      ]
     },
     "execution_count": 90,
     "metadata": {},
     "output_type": "execute_result"
    }
   ],
   "source": [
    "y1 = fft(x)"
   ]
  },
  {
   "cell_type": "code",
   "execution_count": 91,
   "id": "dafbfa8d",
   "metadata": {},
   "outputs": [
    {
     "name": "stdout",
     "output_type": "stream",
     "text": [
      "  75.002 μs (889 allocations: 112.12 KiB)\n"
     ]
    },
    {
     "data": {
      "text/plain": [
       "128-element Vector{ComplexF64}:\n",
       "              8128.0 - 63.999999999999986im\n",
       "  -2671.070967813331 + 2543.0709678133317im\n",
       "   -1366.74992799918 + 1238.74992799918im\n",
       "  -931.6268315105556 + 803.6268315105553im\n",
       "  -713.8029048069669 + 585.8029048069671im\n",
       "  -582.8982914353219 + 454.89829143532194im\n",
       "  -495.4529539465591 + 367.4529539465591im\n",
       "  -432.8410883276034 + 304.8410883276035im\n",
       " -385.74972749605445 + 257.74972749605433im\n",
       " -349.00494236252246 + 221.00494236252229im\n",
       "  -319.5023221612856 + 191.50232216128538im\n",
       "  -295.2662836036756 + 167.26628360367545im\n",
       "  -274.9797253720526 + 146.97972537205257im\n",
       "                     ⋮\n",
       "   146.9797253720528 - 274.9797253720527im\n",
       "  167.26628360367573 - 295.2662836036755im\n",
       "  191.50232216128575 - 319.5023221612856im\n",
       "  221.00494236252257 - 349.004942362522im\n",
       "   257.7497274960549 - 385.7497274960546im\n",
       "   304.8410883276045 - 432.8410883276041im\n",
       "   367.4529539465601 - 495.45295394655966im\n",
       "   454.8982914353233 - 582.8982914353228im\n",
       "   585.8029048069682 - 713.8029048069678im\n",
       "   803.6268315105565 - 931.6268315105563im\n",
       "   1238.749927999182 - 1366.7499279991816im\n",
       "  2543.0709678133353 - 2671.0709678133344im"
      ]
     },
     "execution_count": 91,
     "metadata": {},
     "output_type": "execute_result"
    }
   ],
   "source": [
    "@btime y2 = radix2_fft(x)"
   ]
  },
  {
   "cell_type": "code",
   "execution_count": 92,
   "id": "0c5c28a9",
   "metadata": {},
   "outputs": [
    {
     "data": {
      "text/plain": [
       "128-element Vector{ComplexF64}:\n",
       "              8128.0 - 63.999999999999986im\n",
       "  -2671.070967813331 + 2543.0709678133317im\n",
       "   -1366.74992799918 + 1238.74992799918im\n",
       "  -931.6268315105556 + 803.6268315105553im\n",
       "  -713.8029048069669 + 585.8029048069671im\n",
       "  -582.8982914353219 + 454.89829143532194im\n",
       "  -495.4529539465591 + 367.4529539465591im\n",
       "  -432.8410883276034 + 304.8410883276035im\n",
       " -385.74972749605445 + 257.74972749605433im\n",
       " -349.00494236252246 + 221.00494236252229im\n",
       "  -319.5023221612856 + 191.50232216128538im\n",
       "  -295.2662836036756 + 167.26628360367545im\n",
       "  -274.9797253720526 + 146.97972537205257im\n",
       "                     ⋮\n",
       "   146.9797253720528 - 274.9797253720527im\n",
       "  167.26628360367573 - 295.2662836036755im\n",
       "  191.50232216128575 - 319.5023221612856im\n",
       "  221.00494236252257 - 349.004942362522im\n",
       "   257.7497274960549 - 385.7497274960546im\n",
       "   304.8410883276045 - 432.8410883276041im\n",
       "   367.4529539465601 - 495.45295394655966im\n",
       "   454.8982914353233 - 582.8982914353228im\n",
       "   585.8029048069682 - 713.8029048069678im\n",
       "   803.6268315105565 - 931.6268315105563im\n",
       "   1238.749927999182 - 1366.7499279991816im\n",
       "  2543.0709678133353 - 2671.0709678133344im"
      ]
     },
     "execution_count": 92,
     "metadata": {},
     "output_type": "execute_result"
    }
   ],
   "source": [
    "y2 = radix2_fft(x)"
   ]
  },
  {
   "cell_type": "code",
   "execution_count": 93,
   "id": "d8f3b84f",
   "metadata": {},
   "outputs": [
    {
     "name": "stdout",
     "output_type": "stream",
     "text": [
      "  297.005 μs (381 allocations: 1.04 MiB)\n"
     ]
    },
    {
     "data": {
      "text/plain": [
       "128-element Vector{ComplexF64}:\n",
       "              8128.0 - 64.0im\n",
       "  -2671.070967813332 + 2543.0709678133385im\n",
       "  -1366.749927999184 + 1238.7499279991898im\n",
       "  -931.6268315105585 + 803.6268315105578im\n",
       "  -713.8029048069666 + 585.8029048069641im\n",
       "   -582.898291435322 + 454.8982914353203im\n",
       " -495.45295394655847 + 367.45295394655545im\n",
       "  -432.8410883276047 + 304.84108832760495im\n",
       "  -385.7497274960541 + 257.7497274960541im\n",
       "  -349.0049423625228 + 221.00494236252212im\n",
       " -319.50232216128586 + 191.50232216128558im\n",
       "   -295.266283603678 + 167.26628360367386im\n",
       "  -274.9797253720527 + 146.97972537205106im\n",
       "                     ⋮\n",
       "   146.9797253720513 - 274.97972537205203im\n",
       "   167.2662836036812 - 295.266283603675im\n",
       "  191.50232216129712 - 319.5023221612805im\n",
       "  221.00494236254127 - 349.00494236251626im\n",
       "   257.7497274960833 - 385.74972749604564im\n",
       "    304.841088327601 - 432.8410883276053im\n",
       "   367.4529539465668 - 495.45295394655614im\n",
       "   454.8982914353419 - 582.8982914353171im\n",
       "   585.8029048070032 - 713.8029048069453im\n",
       "   803.6268315106227 - 931.6268315105202im\n",
       "  1238.7499279991694 - 1366.749927999195im\n",
       "   2543.070967813355 - 2671.0709678133167im"
      ]
     },
     "execution_count": 93,
     "metadata": {},
     "output_type": "execute_result"
    }
   ],
   "source": [
    "@btime y3 = naive_dft(x)"
   ]
  },
  {
   "cell_type": "code",
   "execution_count": 94,
   "id": "3dc0afd4",
   "metadata": {},
   "outputs": [
    {
     "data": {
      "text/plain": [
       "128-element Vector{ComplexF64}:\n",
       "              8128.0 - 64.0im\n",
       "  -2671.070967813332 + 2543.0709678133385im\n",
       "  -1366.749927999184 + 1238.7499279991898im\n",
       "  -931.6268315105585 + 803.6268315105578im\n",
       "  -713.8029048069666 + 585.8029048069641im\n",
       "   -582.898291435322 + 454.8982914353203im\n",
       " -495.45295394655847 + 367.45295394655545im\n",
       "  -432.8410883276047 + 304.84108832760495im\n",
       "  -385.7497274960541 + 257.7497274960541im\n",
       "  -349.0049423625228 + 221.00494236252212im\n",
       " -319.50232216128586 + 191.50232216128558im\n",
       "   -295.266283603678 + 167.26628360367386im\n",
       "  -274.9797253720527 + 146.97972537205106im\n",
       "                     ⋮\n",
       "   146.9797253720513 - 274.97972537205203im\n",
       "   167.2662836036812 - 295.266283603675im\n",
       "  191.50232216129712 - 319.5023221612805im\n",
       "  221.00494236254127 - 349.00494236251626im\n",
       "   257.7497274960833 - 385.74972749604564im\n",
       "    304.841088327601 - 432.8410883276053im\n",
       "   367.4529539465668 - 495.45295394655614im\n",
       "   454.8982914353419 - 582.8982914353171im\n",
       "   585.8029048070032 - 713.8029048069453im\n",
       "   803.6268315106227 - 931.6268315105202im\n",
       "  1238.7499279991694 - 1366.749927999195im\n",
       "   2543.070967813355 - 2671.0709678133167im"
      ]
     },
     "execution_count": 94,
     "metadata": {},
     "output_type": "execute_result"
    }
   ],
   "source": [
    "y3 = naive_dft(x)"
   ]
  },
  {
   "cell_type": "code",
   "execution_count": 95,
   "id": "456b5156",
   "metadata": {},
   "outputs": [
    {
     "data": {
      "text/plain": [
       "2.842170943040401e-14"
      ]
     },
     "execution_count": 95,
     "metadata": {},
     "output_type": "execute_result"
    }
   ],
   "source": [
    "norm(ifft(y1) - x, Inf)"
   ]
  },
  {
   "cell_type": "code",
   "execution_count": 96,
   "id": "d94d3987",
   "metadata": {
    "scrolled": true
   },
   "outputs": [
    {
     "data": {
      "text/plain": [
       "4.14314051144892e-13"
      ]
     },
     "execution_count": 96,
     "metadata": {},
     "output_type": "execute_result"
    }
   ],
   "source": [
    "norm(radix2_ifft(y2) - x, Inf)"
   ]
  },
  {
   "cell_type": "code",
   "execution_count": 97,
   "id": "e6eb6e6d",
   "metadata": {},
   "outputs": [
    {
     "data": {
      "text/plain": [
       "2.3017773928165964e-12"
      ]
     },
     "execution_count": 97,
     "metadata": {},
     "output_type": "execute_result"
    }
   ],
   "source": [
    "norm(naive_idft(y3) - x, Inf)"
   ]
  },
  {
   "cell_type": "code",
   "execution_count": null,
   "id": "a99e5cbc",
   "metadata": {},
   "outputs": [],
   "source": []
  },
  {
   "cell_type": "markdown",
   "id": "8c378ed9",
   "metadata": {},
   "source": [
    "# Finding Cooley - Tukey factorization permutation matrix"
   ]
  },
  {
   "cell_type": "markdown",
   "id": "52c1833f",
   "metadata": {},
   "source": [
    "### Naive method (using Kroenecker products)"
   ]
  },
  {
   "cell_type": "code",
   "execution_count": 160,
   "id": "c68c202f",
   "metadata": {},
   "outputs": [
    {
     "data": {
      "text/plain": [
       "cooley_tukey_perm_naive (generic function with 1 method)"
      ]
     },
     "execution_count": 160,
     "metadata": {},
     "output_type": "execute_result"
    }
   ],
   "source": [
    "function cooley_tukey_perm_naive(n)\n",
    "    \"\"\" \n",
    "    Finds the Cooley Tukey algorithm permutation matrix using Kroenecker products \n",
    "    (naive approach)\n",
    "    \n",
    "    Input: \n",
    "    n: (integer, size of fft)\n",
    "    \n",
    "    Returns:\n",
    "    P: (permutation matrix)\n",
    "    \"\"\" \n",
    "    \n",
    "    P = I + zeros(n, n)\n",
    "    t = Int(log2(n))\n",
    "    \n",
    "    for q = 1:t-1\n",
    "        Itq = I + zeros(2^(t-q), 2^(t-q))\n",
    "        Iq = I + zeros(2^q, 2^q)\n",
    "        perm = vcat(1:2:2^q, 2:2:2^q);\n",
    "        Πq = Iq[:, perm]\n",
    "                \n",
    "        Rq = kronecker(Itq, Πq) \n",
    "        P = Rq * P\n",
    "        \n",
    "    end\n",
    "    \n",
    "    # Last R matrix\n",
    "    perm = vcat(1:2:n, 2:2:n)\n",
    "    It = I + zeros(n, n)\n",
    "    Πt = It[:, perm]\n",
    "    Rt = Πt\n",
    "    \n",
    "    P = Rt * P\n",
    "    \n",
    "    return P\n",
    "end\n"
   ]
  },
  {
   "cell_type": "code",
   "execution_count": 162,
   "id": "721aa43d",
   "metadata": {},
   "outputs": [
    {
     "data": {
      "text/plain": [
       "8×8 Matrix{Float64}:\n",
       " 1.0  0.0  0.0  0.0  0.0  0.0  0.0  0.0\n",
       " 0.0  0.0  0.0  0.0  1.0  0.0  0.0  0.0\n",
       " 0.0  0.0  1.0  0.0  0.0  0.0  0.0  0.0\n",
       " 0.0  0.0  0.0  0.0  0.0  0.0  1.0  0.0\n",
       " 0.0  1.0  0.0  0.0  0.0  0.0  0.0  0.0\n",
       " 0.0  0.0  0.0  0.0  0.0  1.0  0.0  0.0\n",
       " 0.0  0.0  0.0  1.0  0.0  0.0  0.0  0.0\n",
       " 0.0  0.0  0.0  0.0  0.0  0.0  0.0  1.0"
      ]
     },
     "execution_count": 162,
     "metadata": {},
     "output_type": "execute_result"
    }
   ],
   "source": [
    "cooley_tukey_perm_naive(8)"
   ]
  },
  {
   "cell_type": "code",
   "execution_count": 163,
   "id": "e76fbfc6",
   "metadata": {},
   "outputs": [
    {
     "data": {
      "text/plain": [
       "bit_reverse (generic function with 1 method)"
      ]
     },
     "execution_count": 163,
     "metadata": {},
     "output_type": "execute_result"
    }
   ],
   "source": [
    "function bit_reverse(i, bits)\n",
    "    r = 0\n",
    "    for _ in 1:bits\n",
    "        r = (r << 1) | (i & 1)  # Shift left and add least significant bit\n",
    "        i >>= 1                 # Shift input right\n",
    "    end\n",
    "    return r\n",
    "end"
   ]
  },
  {
   "cell_type": "markdown",
   "id": "b5b2cfed",
   "metadata": {},
   "source": [
    "#### Small example on how bit_reverse function operates\n",
    "\n",
    "| Step | i (Binary) | Extract i & 1 | r (Binary) Before | r (Binary) After |\n",
    "|------|------------|---------------|-------------------|------------------|\n",
    "| 1    | 110        | 0             | 000               | 000              |\n",
    "| 2    | 011        | 1             | 000               | 001              |\n",
    "| 3    | 001        | 1             | 001               | 011              |"
   ]
  },
  {
   "cell_type": "code",
   "execution_count": 203,
   "id": "dddd946f",
   "metadata": {},
   "outputs": [
    {
     "data": {
      "text/plain": [
       "cooley_tukey_perm (generic function with 2 methods)"
      ]
     },
     "execution_count": 203,
     "metadata": {},
     "output_type": "execute_result"
    }
   ],
   "source": [
    "function cooley_tukey_perm(n, return_matrix = false)\n",
    "    \"\"\" \n",
    "    Finds the Cooley Tukey algorithm permutation matrix using bitwise operations.\n",
    "    \n",
    "    Input: \n",
    "    n: (integer, size of fft)\n",
    "    \n",
    "    Returns:\n",
    "    P: (permutation matrix)\n",
    "    \"\"\" \n",
    "    \n",
    "\n",
    "    t = Int(log2(n))\n",
    "    perm = bit_reverse.(collect(0:n-1), t) .+1\n",
    "    \n",
    "    if !return_matrix\n",
    "        return perm\n",
    "    end\n",
    "    \n",
    "    P = I + zeros(n, n)\n",
    "    \n",
    "    return P[:, perm] \n",
    "end\n"
   ]
  },
  {
   "cell_type": "code",
   "execution_count": 197,
   "id": "dc535654",
   "metadata": {},
   "outputs": [
    {
     "data": {
      "text/plain": [
       "0.0"
      ]
     },
     "execution_count": 197,
     "metadata": {},
     "output_type": "execute_result"
    }
   ],
   "source": [
    "norm(cooley_tukey_perm(16, true) - cooley_tukey_perm_naive(16), 1)"
   ]
  },
  {
   "cell_type": "code",
   "execution_count": 214,
   "id": "d9afac40",
   "metadata": {},
   "outputs": [
    {
     "data": {
      "text/plain": [
       "cooley_tukey_ifft (generic function with 1 method)"
      ]
     },
     "execution_count": 214,
     "metadata": {},
     "output_type": "execute_result"
    }
   ],
   "source": [
    "function cooley_tukey_fft_base(x, inverse = false)\n",
    "    \"\"\" \n",
    "    Base function to computes the Cooley Tukey FFT/IFFT. Based on algorithm 1.9.3 from\n",
    "    Van Loan, C. (1992). Computational frameworks for the fast Fourier transform.\n",
    "\n",
    "    \n",
    "    Input: \n",
    "    x: (vector)\n",
    "    \n",
    "    Returns:\n",
    "    y: (vector)\n",
    "    \"\"\" \n",
    "    n = length(x)\n",
    "    p = cooley_tukey_perm(n)\n",
    "    t = Int(log2(n))\n",
    "    # Applying permutation\n",
    "    y = x[p]    \n",
    "    pwr_sign = inverse ? 1 : -1\n",
    "    for q = 1:t\n",
    "        L = 2^q\n",
    "        r = n ÷ L\n",
    "        L_star = L ÷ 2\n",
    "        for j = 0:L_star - 1 \n",
    "            ω = cos(2 * pi * j / L) + pwr_sign * 1im * sin(2 * pi * j/L)\n",
    "            for k = 0:r-1\n",
    "                τ = ω * y[1 + (k * L + j + L_star)]\n",
    "                y[1 + (k * L + j + L_star)] = y[1 + (k * L + j)] - τ\n",
    "                y[1 + (k * L + j)] = y[1 + (k * L + j)] + τ\n",
    "            end\n",
    "        end\n",
    "    end\n",
    "\n",
    "    return inverse ? y/length(y) : y\n",
    "end\n",
    "\n",
    "\n",
    "function cooley_tukey_fft(x)\n",
    "    return cooley_tukey_fft_base(x)\n",
    "end\n",
    "\n",
    "function cooley_tukey_ifft(y)\n",
    "    return cooley_tukey_fft_base(y, true)\n",
    "end\n",
    "\n"
   ]
  },
  {
   "cell_type": "code",
   "execution_count": 216,
   "id": "e50b9150",
   "metadata": {},
   "outputs": [
    {
     "data": {
      "text/plain": [
       "128-element Vector{ComplexF64}:\n",
       " 3.552713678800501e-15 - 63.999999999999986im\n",
       "     1.000000000000007 - 62.99999999999999im\n",
       "    2.0000000000000178 - 61.99999999999999im\n",
       "     3.000000000000007 - 60.999999999999986im\n",
       "     4.000000000000021 - 59.999999999999986im\n",
       "     5.000000000000011 - 58.999999999999986im\n",
       "     6.000000000000018 - 57.999999999999986im\n",
       "     7.000000000000018 - 56.99999999999999im\n",
       "     8.000000000000007 - 55.999999999999986im\n",
       "                   9.0 - 54.999999999999986im\n",
       "     10.00000000000001 - 53.999999999999986im\n",
       "                  11.0 - 52.999999999999986im\n",
       "    12.000000000000014 - 51.999999999999986im\n",
       "                       ⋮\n",
       "                 116.0 + 52.000000000000014im\n",
       "                 117.0 + 53.00000000000001im\n",
       "    118.00000000000001 + 54.0im\n",
       "    119.00000000000001 + 55.00000000000001im\n",
       "                 120.0 + 56.00000000000001im\n",
       "                 121.0 + 57.000000000000014im\n",
       "                 122.0 + 58.00000000000003im\n",
       "                 123.0 + 58.999999999999986im\n",
       "    124.00000000000001 + 60.0im\n",
       "                 125.0 + 61.00000000000002im\n",
       "                 126.0 + 62.0im\n",
       "                 127.0 + 63.0im"
      ]
     },
     "execution_count": 216,
     "metadata": {},
     "output_type": "execute_result"
    }
   ],
   "source": [
    "cooley_tukey_ifft(cooley_tukey_fft(x))"
   ]
  },
  {
   "cell_type": "code",
   "execution_count": null,
   "id": "869dde0e",
   "metadata": {},
   "outputs": [],
   "source": []
  },
  {
   "cell_type": "code",
   "execution_count": null,
   "id": "98de43d7",
   "metadata": {},
   "outputs": [],
   "source": []
  },
  {
   "cell_type": "code",
   "execution_count": null,
   "id": "220ff440",
   "metadata": {},
   "outputs": [],
   "source": []
  }
 ],
 "metadata": {
  "@webio": {
   "lastCommId": "b18c6c10f6bd478aa171ca3b0bac6cd9",
   "lastKernelId": "f858b99e-f53f-432f-9731-6579150c0a2e"
  },
  "kernelspec": {
   "display_name": "Julia 1.10.4",
   "language": "julia",
   "name": "julia-1.10"
  },
  "language_info": {
   "file_extension": ".jl",
   "mimetype": "application/julia",
   "name": "julia",
   "version": "1.10.4"
  }
 },
 "nbformat": 4,
 "nbformat_minor": 5
}
