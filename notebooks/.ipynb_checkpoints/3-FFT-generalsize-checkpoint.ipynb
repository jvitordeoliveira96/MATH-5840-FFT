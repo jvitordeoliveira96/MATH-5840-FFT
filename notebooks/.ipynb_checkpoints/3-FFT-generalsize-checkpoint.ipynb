{
 "cells": [
  {
   "cell_type": "code",
   "execution_count": 1,
   "id": "24a37670",
   "metadata": {},
   "outputs": [
    {
     "data": {
      "application/vnd.webio.node+json": {
       "children": [],
       "instanceArgs": {
        "namespace": "html",
        "tag": "div"
       },
       "nodeType": "DOM",
       "props": {},
       "type": "node"
      },
      "text/html": [
       "<div style=\"padding: 1em; background-color: #f8d6da; border: 1px solid #f5c6cb; font-weight: bold;\">\n",
       "<p>The WebIO Jupyter extension was not detected. See the\n",
       "<a href=\"https://juliagizmos.github.io/WebIO.jl/latest/providers/ijulia/\" target=\"_blank\">\n",
       "    WebIO Jupyter integration documentation\n",
       "</a>\n",
       "for more information.\n",
       "</div>\n"
      ],
      "text/plain": [
       "WebIO._IJuliaInit()"
      ]
     },
     "metadata": {
      "@webio": {
       "kernelId": "228c2bf9-40eb-490b-b6ba-7f2e491de489"
      }
     },
     "output_type": "display_data"
    }
   ],
   "source": [
    "using LinearAlgebra\n",
    "using PlotlyJS\n",
    "using FFTW\n",
    "using BenchmarkTools\n",
    "using Kronecker\n",
    "using Primes"
   ]
  },
  {
   "cell_type": "code",
   "execution_count": 2,
   "id": "96674719",
   "metadata": {},
   "outputs": [],
   "source": [
    "vecsize = 9\n",
    "x = randn(vecsize) + 1im * randn(vecsize);"
   ]
  },
  {
   "cell_type": "code",
   "execution_count": 3,
   "id": "119212a9-d4d2-4695-9ea2-4d0dbf8589a9",
   "metadata": {},
   "outputs": [
    {
     "data": {
      "text/plain": [
       "naive_idft_unscaled (generic function with 1 method)"
      ]
     },
     "execution_count": 3,
     "metadata": {},
     "output_type": "execute_result"
    }
   ],
   "source": [
    "# Functions to build a DFT matrix for prime sizes\n",
    "\n",
    "function dft_matrix(n)\n",
    "    \"\"\" \n",
    "    Computes the Discrete Fourier Transform matrix of size n.\n",
    "    Based on algorithm 1.16 from\n",
    "    Van Loan, C. (1992). Computational frameworks for the fast Fourier transform.\n",
    "    \n",
    "    Input: \n",
    "    n: (integer)\n",
    "    \n",
    "    Returns:\n",
    "    F: (n x n complex matrix)\n",
    "    \"\"\"\n",
    "    \n",
    "    # Base cases\n",
    "    if n == 1\n",
    "        return 1\n",
    "    end\n",
    "    \n",
    "    F = ones(ComplexF64, n, n)\n",
    "    F[1, 2] = 1\n",
    "    \n",
    "    for p = 1:n-1\n",
    "        F[p + 1, 2] = exp(-2 * pi * 1im * p/n)\n",
    "    end\n",
    "    \n",
    "    for q = 2:n-1\n",
    "        F[:, q + 1] = F[:, q] .* F[:, 2]\n",
    "    end\n",
    "\n",
    "    return F\n",
    "end\n",
    "\n",
    "function naive_dft(x)\n",
    "    \"\"\" \n",
    "    Computes the Discrete Fourier Transform of an input x.\n",
    "    \n",
    "    Input: \n",
    "    x: (vector)\n",
    "    \n",
    "    Returns:\n",
    "    y: (vector)\n",
    "    \"\"\"\n",
    "    \n",
    "    return dft_matrix(length(x)) * x\n",
    "end\n",
    "\n",
    "function naive_idft_unscaled(y)\n",
    "    \"\"\" \n",
    "    Computes the inverse Discrete Fourier Transform of an input y (unscaled).\n",
    "    \n",
    "    Input: \n",
    "    y: (vector)\n",
    "    \n",
    "    Returns:\n",
    "    x: (vector)\n",
    "    \"\"\"\n",
    "    \n",
    "    return (dft_matrix(length(y))' * y) \n",
    "end"
   ]
  },
  {
   "cell_type": "code",
   "execution_count": 4,
   "id": "75b280d9",
   "metadata": {},
   "outputs": [
    {
     "data": {
      "text/plain": [
       "genifft (generic function with 1 method)"
      ]
     },
     "execution_count": 4,
     "metadata": {},
     "output_type": "execute_result"
    }
   ],
   "source": [
    "# Function to perform Mixed Radix recursive FFT  \n",
    "function genfft_base(x, n, inverse = false)\n",
    "    \"\"\" \n",
    "    Computes the Radix recursive FFT/IFFT for a vector with general size\n",
    "    based on Algorithm present \n",
    "    in Section 2.1.4 \n",
    "    from Van Loan, C. (1992).\n",
    "    \"\"\"\n",
    "\n",
    "    pwr_sign = inverse ? 1 : -1\n",
    "    \n",
    "    omega = exp(pwr_sign * 2im * π / n)\n",
    "\n",
    "    # Base case: Use DFT matrix multiplication if n is prime\n",
    "    if isprime(n)\n",
    "        return inverse ? naive_idft_unscaled(x) : naive_dft(x)\n",
    "    end\n",
    "\n",
    "    # Find smallest factor p of n\n",
    "    p = first(filter(d -> n % d == 0, 2:n))\n",
    "    m = n ÷ p  # Compute m such that n = p * m\n",
    "\n",
    "    # Twiddle factor vector \n",
    "    Omega_vec = [omega^j for j in 0:m-1]  \n",
    "\n",
    "    # Step 1: Compute FFTs along p smaller groups\n",
    "    z = similar(x, ComplexF64)  \n",
    "    for j in 0:p-1\n",
    "        z[j*m+1:(j+1)*m] .= (Omega_vec .^ j) .* genfft_base(x[j+1:p:end], m, inverse)  # Element-wise multiplication\n",
    "    end\n",
    "\n",
    "    # Step 2: Compute FFTs along m groups\n",
    "    y = similar(x, ComplexF64)  \n",
    "    for j in 0:m-1\n",
    "        y[j+1:m:end] .= genfft_base(z[j+1:m:end], p, inverse)  # Vectorized slicing\n",
    "    end\n",
    "\n",
    "    return y\n",
    "end\n",
    "\n",
    "function genfft(x)\n",
    "    n = length(x)\n",
    "    return genfft_base(x, n)\n",
    "end\n",
    "\n",
    "function genifft(x)\n",
    "    n = length(x)\n",
    "    return genfft_base(x, n, true) / n\n",
    "end"
   ]
  },
  {
   "cell_type": "code",
   "execution_count": 5,
   "id": "b1216b63-e4db-4986-9af0-7d148bf03714",
   "metadata": {},
   "outputs": [
    {
     "data": {
      "text/plain": [
       "4.665379181428376e-16"
      ]
     },
     "execution_count": 5,
     "metadata": {},
     "output_type": "execute_result"
    }
   ],
   "source": [
    "norm(fft(x) - genfft(x), Inf)/norm(fft(x), Inf)"
   ]
  },
  {
   "cell_type": "code",
   "execution_count": 6,
   "id": "f0d8f964-e90f-4d2f-a295-762eb7d4b2be",
   "metadata": {},
   "outputs": [
    {
     "data": {
      "text/plain": [
       "3.9944749813616255e-16"
      ]
     },
     "execution_count": 6,
     "metadata": {},
     "output_type": "execute_result"
    }
   ],
   "source": [
    "norm(x - genifft(genfft(x)), Inf)/norm(x, Inf)"
   ]
  },
  {
   "cell_type": "code",
   "execution_count": null,
   "id": "1a9087d3-c73b-41bf-8365-10a62a94e57f",
   "metadata": {},
   "outputs": [],
   "source": []
  },
  {
   "cell_type": "code",
   "execution_count": null,
   "id": "9e622f2e-7e1b-4e17-8cd1-0e753e2caf51",
   "metadata": {},
   "outputs": [],
   "source": []
  }
 ],
 "metadata": {
  "@webio": {
   "lastCommId": "6eb411a4aae647058499e73e0f312cc6",
   "lastKernelId": "bfaf9d3f-f9bb-442e-9044-14791aa60080"
  },
  "kernelspec": {
   "display_name": "Julia 1.10.4",
   "language": "julia",
   "name": "julia-1.10"
  },
  "language_info": {
   "file_extension": ".jl",
   "mimetype": "application/julia",
   "name": "julia",
   "version": "1.10.4"
  }
 },
 "nbformat": 4,
 "nbformat_minor": 5
}
