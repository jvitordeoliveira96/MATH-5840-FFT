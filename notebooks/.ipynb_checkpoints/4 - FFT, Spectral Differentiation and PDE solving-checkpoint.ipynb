{
 "cells": [
  {
   "cell_type": "markdown",
   "id": "70b2b486-b5f5-4535-9c17-608461a73c7f",
   "metadata": {
    "jp-MarkdownHeadingCollapsed": true
   },
   "source": [
    "# Spectral Differentiation of Periodic Functions\n",
    "\n",
    "Spectral methods are a class of numerical techniques for solving differential equations by expanding the solution in terms of global basis functions, typically trigonometric functions (for periodic problems) or orthogonal polynomials (e.g, Chebyshev polynomials). This approach can achieve extremely high accuracy with relatively function points, particularly when the function is smooth.\n",
    "\n",
    "In the case of **periodic functions**, spectral differentiation is typically carried out using the **Fourier basis**. Given a periodic function sampled at equispaced points, the derivative can be efficiently computed via the **Fast Fourier Transform (FFT)**. The main idea is to:\n",
    "1. Transform the function to the frequency domain $u \\to \\hat{u}$.\n",
    "2. Differentiate in the frequency domain by multiplying each mode by its wavenumber $\\hat{v}_k = \\frac{d}{dx} \\hat{u}_k = ik \\cdot \\hat{u}_k$.\n",
    "3. Transform back to the physical domain $u' \\approx \\hat{v} \\to v$.\n",
    "\n",
    "This approach is referred to as **Fourier spectral differentiation**.\n",
    "\n",
    "#### Benefits\n",
    "\n",
    "- **High accuracy**: For smooth, periodic functions, spectral methods exhibit **exponential convergence**—the error decreases faster than any power of the grid spacing.\n",
    "- **Efficiency**: By using the FFT, spectral differentiation is computationally efficient, with $ O(n\\log n) $ complexity.\n",
    "- **Compact representation**: Spectral coefficients often decay rapidly, enabling compact storage and manipulation.\n",
    "\n",
    "#### Drawbacks\n",
    "\n",
    "- **Restriction to periodic domains**: Fourier spectral methods assume periodic boundary conditions. Applying them to non-periodic problems often introduces artifacts unless the problem is reformulated (usually what is done to use Chebyshev polynomials).\n",
    "- **Global nature**: Spectral basis functions are global, meaning that local changes in the solution affect the entire domain, making adaptivity and handling discontinuities difficult.\n",
    "- **Aliasing and Gibbs phenomena**: Non-smooth functions can suffer from oscillations and loss of accuracy due to high-frequency mode contamination.\n",
    "\n",
    "### Fourier Interpolant and Connection to FFT/IFFT\n",
    "\n",
    "Given a $[0, 2\\pi]$ periodic function $u(x)$, sampled at $N$ **equispaced points** on the interval $[0, 2\\pi)$, we define the grid as:\n",
    "\n",
    "$$\n",
    "x_j = \\frac{2\\pi j}{N}, \\quad j = 0, 1, \\dots, N-1\n",
    "$$\n",
    "\n",
    "These points are **uniformly spaced**, with spacing $h = x_{j+1} - x_j = \\frac{2\\pi}{N}$.\n",
    "\n",
    "We define the **Fourier interpolant** $p(x)$ as a trigonometric polynomial that matches the values $ u_j = u(x_j) $ at the grid points. It is given by:\n",
    "\n",
    "$$\n",
    "p(x) = \\frac{1}{2\\pi} \\sum_{k = -N/2}^{N/2} \\hat{u}_k \\, e^{ikx}\n",
    "$$\n",
    "\n",
    "where $\\hat{u}_k$ are the **Fourier coefficients**, computed as:\n",
    "\n",
    "$$\n",
    "\\hat{u}_k = \\sum_{j=0}^{N-1} u_j \\, e^{-ikx_j}, \\quad \\text{for } k = -N/2, \\dots, N/2\n",
    "$$\n",
    "\n",
    "\n",
    "#### FFT and IFFT\n",
    "\n",
    "- **FFT** (Fast Fourier Transform) computes the coefficients $\\hat{u}_k$ efficiently from the data $\\{u_j\\}_{j = 0}^{N-1}$.\n",
    "- **IFFT** (Inverse FFT) reconstructs the values or interpolant $p(x)$ at the grid points from the Fourier coefficients.\n",
    "\n",
    "This process allows efficient interpolation and differentiation of periodic functions.\n",
    "\n",
    "\n"
   ]
  },
  {
   "cell_type": "markdown",
   "id": "f6615c41-3125-42c7-bc25-7e43832e0550",
   "metadata": {},
   "source": [
    "# Examples of Spectral Differentiation of Periodic Functions\n"
   ]
  },
  {
   "cell_type": "code",
   "execution_count": 186,
   "id": "67ad40be-67f9-4c77-8946-8273aef19d7d",
   "metadata": {},
   "outputs": [],
   "source": [
    "using LinearAlgebra\n",
    "using PlotlyJS\n",
    "using FFTW\n",
    "using BenchmarkTools\n",
    "using Kronecker"
   ]
  },
  {
   "cell_type": "markdown",
   "id": "bb2c3c14-520d-4075-b640-5bb78295e876",
   "metadata": {},
   "source": [
    "1.\n",
    "$$\n",
    "u(x) = \\exp(\\sin(x)),  \\quad \\text{for } x \\in [0, 2\\pi)\n",
    "$$\n",
    "and we will compare the spectral derivative to its associated first derivative\n",
    "$$\n",
    "u'(x) = \\cos(x) \\exp(\\sin(x)) = \\cos(x) u(x),  \\quad \\text{for } x \\in [0, 2\\pi)\n",
    "$$"
   ]
  },
  {
   "cell_type": "code",
   "execution_count": 187,
   "id": "16259dc6-9a97-4fbd-a448-53ab0558a444",
   "metadata": {},
   "outputs": [],
   "source": [
    "N = 64 # number of points\n",
    "h = 2 * pi/N # stepsize\n",
    "x = h * collect(0:N-1) # domain\n",
    "u = exp.(sin.(x)); # function"
   ]
  },
  {
   "cell_type": "code",
   "execution_count": 188,
   "id": "8aa9c460-e0bf-4720-9916-f3c53be7c0ea",
   "metadata": {},
   "outputs": [],
   "source": [
    "# First, we find its fft (Fourier coefficients)\n",
    "u_hat = fft(u);"
   ]
  },
  {
   "cell_type": "code",
   "execution_count": 189,
   "id": "5ff84c80-01d8-47f2-9159-23d29f53abda",
   "metadata": {},
   "outputs": [],
   "source": [
    "# After that, we compute its spectral derivative\n",
    "v_hat = 1im * (vcat(0:N÷2 - 1, 0, -N÷2 + 1:-1)) .* u_hat; "
   ]
  },
  {
   "cell_type": "code",
   "execution_count": 190,
   "id": "6f201487-b66c-42cf-9040-db8f553df85a",
   "metadata": {},
   "outputs": [],
   "source": [
    "# Finally, we compute the ifft to return from the frequency to the physical space\n",
    "# We will consider only the real part since it f:R->R function\n",
    "v = real(ifft(v_hat));"
   ]
  },
  {
   "cell_type": "code",
   "execution_count": 191,
   "id": "4754c2bb-1e15-4290-9a96-5fbc6927d398",
   "metadata": {},
   "outputs": [],
   "source": [
    "# Now, we compare this spectral derivative with the analytical derivative\n",
    "du_dx = cos.(x) .* u;"
   ]
  },
  {
   "cell_type": "code",
   "execution_count": 192,
   "id": "54cc7bc8-9b45-4069-8e3d-fb6743a17f21",
   "metadata": {},
   "outputs": [
    {
     "data": {
      "text/plain": [
       "6.559044768410425e-15"
      ]
     },
     "execution_count": 192,
     "metadata": {},
     "output_type": "execute_result"
    }
   ],
   "source": [
    "# We compute the L_inf error norm between the two derivatives\n",
    "error = norm(du_dx-v, Inf)/norm(du_dx, Inf)"
   ]
  },
  {
   "cell_type": "code",
   "execution_count": 193,
   "id": "ca234d1d-1c04-4853-b74e-3b3b3029d315",
   "metadata": {},
   "outputs": [
    {
     "data": {
      "application/vnd.plotly.v1+json": {
       "config": {
        "editable": false,
        "responsive": true,
        "scrollZoom": true,
        "showLink": false,
        "staticPlot": false
       },
       "data": [
        {
         "mode": "markers+lines",
         "name": "u",
         "type": "scatter",
         "x": [
          0,
          0.09817477042468103,
          0.19634954084936207,
          0.2945243112740431,
          0.39269908169872414,
          0.4908738521234052,
          0.5890486225480862,
          0.6872233929727672,
          0.7853981633974483,
          0.8835729338221293,
          0.9817477042468103,
          1.0799224746714913,
          1.1780972450961724,
          1.2762720155208536,
          1.3744467859455345,
          1.4726215563702154,
          1.5707963267948966,
          1.6689710972195777,
          1.7671458676442586,
          1.8653206380689396,
          1.9634954084936207,
          2.061670178918302,
          2.1598449493429825,
          2.2580197197676637,
          2.356194490192345,
          2.454369260617026,
          2.552544031041707,
          2.650718801466388,
          2.748893571891069,
          2.84706834231575,
          2.945243112740431,
          3.043417883165112,
          3.141592653589793,
          3.2397674240144743,
          3.3379421944391554,
          3.436116964863836,
          3.5342917352885173,
          3.6324665057131984,
          3.730641276137879,
          3.8288160465625602,
          3.9269908169872414,
          4.025165587411922,
          4.123340357836604,
          4.221515128261284,
          4.319689898685965,
          4.417864669110647,
          4.516039439535327,
          4.614214209960009,
          4.71238898038469,
          4.81056375080937,
          4.908738521234052,
          5.006913291658733,
          5.105088062083414,
          5.203262832508095,
          5.301437602932776,
          5.399612373357457,
          5.497787143782138,
          5.595961914206819,
          5.6941366846315,
          5.792311455056181,
          5.890486225480862,
          5.988660995905543,
          6.086835766330224,
          6.1850105367549055
         ],
         "y": [
          1,
          1.1029816904161587,
          1.2154207607856966,
          1.3368079926914933,
          1.4662138007571095,
          1.6022305254486338,
          1.7429345803053584,
          1.8858776024820336,
          2.028114981647472,
          2.1662779259912455,
          2.296691507421556,
          2.4155361345464557,
          2.5190441714069842,
          2.6037177713443103,
          2.666549408955427,
          2.7052240221569983,
          2.718281828459045,
          2.7052240221569988,
          2.666549408955427,
          2.6037177713443103,
          2.5190441714069842,
          2.415536134546456,
          2.2966915074215564,
          2.166277925991246,
          2.0281149816474726,
          1.8858776024820336,
          1.7429345803053584,
          1.6022305254486342,
          1.4662138007571095,
          1.3368079926914933,
          1.215420760785697,
          1.102981690416159,
          1.0000000000000002,
          0.9066333636260967,
          0.8227603413270314,
          0.748050584277722,
          0.6820287733505371,
          0.62412991396478,
          0.5737449995540294,
          0.5302571061260202,
          0.49306869139523984,
          0.4616212850631436,
          0.43540893357622834,
          0.4139867691061311,
          0.39697596864348006,
          0.384066203720573,
          0.37501649009073945,
          0.3696551530703377,
          0.36787944117144233,
          0.3696551530703377,
          0.3750164900907394,
          0.38406620372057293,
          0.39697596864348,
          0.4139867691061311,
          0.43540893357622823,
          0.4616212850631435,
          0.49306869139523973,
          0.5302571061260198,
          0.5737449995540292,
          0.6241299139647798,
          0.6820287733505366,
          0.7480505842777216,
          0.8227603413270311,
          0.9066333636260967
         ]
        },
        {
         "mode": "markers+lines",
         "name": "du_dx",
         "type": "scatter",
         "x": [
          0,
          0.09817477042468103,
          0.19634954084936207,
          0.2945243112740431,
          0.39269908169872414,
          0.4908738521234052,
          0.5890486225480862,
          0.6872233929727672,
          0.7853981633974483,
          0.8835729338221293,
          0.9817477042468103,
          1.0799224746714913,
          1.1780972450961724,
          1.2762720155208536,
          1.3744467859455345,
          1.4726215563702154,
          1.5707963267948966,
          1.6689710972195777,
          1.7671458676442586,
          1.8653206380689396,
          1.9634954084936207,
          2.061670178918302,
          2.1598449493429825,
          2.2580197197676637,
          2.356194490192345,
          2.454369260617026,
          2.552544031041707,
          2.650718801466388,
          2.748893571891069,
          2.84706834231575,
          2.945243112740431,
          3.043417883165112,
          3.141592653589793,
          3.2397674240144743,
          3.3379421944391554,
          3.436116964863836,
          3.5342917352885173,
          3.6324665057131984,
          3.730641276137879,
          3.8288160465625602,
          3.9269908169872414,
          4.025165587411922,
          4.123340357836604,
          4.221515128261284,
          4.319689898685965,
          4.417864669110647,
          4.516039439535327,
          4.614214209960009,
          4.71238898038469,
          4.81056375080937,
          4.908738521234052,
          5.006913291658733,
          5.105088062083414,
          5.203262832508095,
          5.301437602932776,
          5.399612373357457,
          5.497787143782138,
          5.595961914206819,
          5.6941366846315,
          5.792311455056181,
          5.890486225480862,
          5.988660995905543,
          6.086835766330224,
          6.1850105367549055
         ],
         "y": [
          1,
          1.0976705321012425,
          1.192066791675107,
          1.2792454893356977,
          1.3546049208050752,
          1.4130411707811883,
          1.4491971397551957,
          1.4578031004812684,
          1.434093856548958,
          1.3742721678807968,
          1.2759734359523354,
          1.1386758515104836,
          0.9639964697932984,
          0.755819372916391,
          0.520217982865031,
          0.2651583226026613,
          1.664467570201392e-16,
          -0.26515832260266103,
          -0.5202179828650306,
          -0.7558193729163907,
          -0.9639964697932981,
          -1.1386758515104836,
          -1.275973435952335,
          -1.3742721678807968,
          -1.434093856548958,
          -1.4578031004812684,
          -1.449197139755196,
          -1.4130411707811885,
          -1.3546049208050752,
          -1.2792454893356977,
          -1.1920667916751075,
          -1.0976705321012428,
          -1.0000000000000002,
          -0.9022676761721315,
          -0.80695123207309,
          -0.7158397772633983,
          -0.6301124242823407,
          -0.5504334428414488,
          -0.4770515323397129,
          -0.4098942860052879,
          -0.34865221527635126,
          -0.29284944307105026,
          -0.24190024268576166,
          -0.19515201204576804,
          -0.15191612624694342,
          -0.11148853399137315,
          -0.07316208781316068,
          -0.03623254101204044,
          -6.757835701540858e-17,
          0.036232541012040306,
          0.07316208781316054,
          0.11148853399137298,
          0.15191612624694328,
          0.1951520120457679,
          0.24190024268576146,
          0.29284944307105004,
          0.34865221527635104,
          0.4098942860052873,
          0.4770515323397127,
          0.5504334428414485,
          0.6301124242823399,
          0.7158397772633979,
          0.8069512320730897,
          0.9022676761721315
         ]
        }
       ],
       "frames": [],
       "layout": {
        "margin": {
         "b": 50,
         "l": 50,
         "r": 50,
         "t": 60
        },
        "template": {
         "data": {
          "bar": [
           {
            "error_x": {
             "color": "#2a3f5f"
            },
            "error_y": {
             "color": "#2a3f5f"
            },
            "marker": {
             "line": {
              "color": "#E5ECF6",
              "width": 0.5
             }
            },
            "type": "bar"
           }
          ],
          "barpolar": [
           {
            "marker": {
             "line": {
              "color": "#E5ECF6",
              "width": 0.5
             }
            },
            "type": "barpolar"
           }
          ],
          "carpet": [
           {
            "aaxis": {
             "endlinecolor": "#2a3f5f",
             "gridcolor": "white",
             "linecolor": "white",
             "minorgridcolor": "white",
             "startlinecolor": "#2a3f5f"
            },
            "baxis": {
             "endlinecolor": "#2a3f5f",
             "gridcolor": "white",
             "linecolor": "white",
             "minorgridcolor": "white",
             "startlinecolor": "#2a3f5f"
            },
            "type": "carpet"
           }
          ],
          "choropleth": [
           {
            "colorbar": {
             "outlinewidth": 0,
             "ticks": ""
            },
            "type": "choropleth"
           }
          ],
          "contour": [
           {
            "colorbar": {
             "outlinewidth": 0,
             "ticks": ""
            },
            "colorscale": [
             [
              0,
              "#0d0887"
             ],
             [
              0.1111111111111111,
              "#46039f"
             ],
             [
              0.2222222222222222,
              "#7201a8"
             ],
             [
              0.3333333333333333,
              "#9c179e"
             ],
             [
              0.4444444444444444,
              "#bd3786"
             ],
             [
              0.5555555555555556,
              "#d8576b"
             ],
             [
              0.6666666666666666,
              "#ed7953"
             ],
             [
              0.7777777777777778,
              "#fb9f3a"
             ],
             [
              0.8888888888888888,
              "#fdca26"
             ],
             [
              1,
              "#f0f921"
             ]
            ],
            "type": "contour"
           }
          ],
          "contourcarpet": [
           {
            "colorbar": {
             "outlinewidth": 0,
             "ticks": ""
            },
            "type": "contourcarpet"
           }
          ],
          "heatmap": [
           {
            "colorbar": {
             "outlinewidth": 0,
             "ticks": ""
            },
            "colorscale": [
             [
              0,
              "#0d0887"
             ],
             [
              0.1111111111111111,
              "#46039f"
             ],
             [
              0.2222222222222222,
              "#7201a8"
             ],
             [
              0.3333333333333333,
              "#9c179e"
             ],
             [
              0.4444444444444444,
              "#bd3786"
             ],
             [
              0.5555555555555556,
              "#d8576b"
             ],
             [
              0.6666666666666666,
              "#ed7953"
             ],
             [
              0.7777777777777778,
              "#fb9f3a"
             ],
             [
              0.8888888888888888,
              "#fdca26"
             ],
             [
              1,
              "#f0f921"
             ]
            ],
            "type": "heatmap"
           }
          ],
          "heatmapgl": [
           {
            "colorbar": {
             "outlinewidth": 0,
             "ticks": ""
            },
            "colorscale": [
             [
              0,
              "#0d0887"
             ],
             [
              0.1111111111111111,
              "#46039f"
             ],
             [
              0.2222222222222222,
              "#7201a8"
             ],
             [
              0.3333333333333333,
              "#9c179e"
             ],
             [
              0.4444444444444444,
              "#bd3786"
             ],
             [
              0.5555555555555556,
              "#d8576b"
             ],
             [
              0.6666666666666666,
              "#ed7953"
             ],
             [
              0.7777777777777778,
              "#fb9f3a"
             ],
             [
              0.8888888888888888,
              "#fdca26"
             ],
             [
              1,
              "#f0f921"
             ]
            ],
            "type": "heatmapgl"
           }
          ],
          "histogram": [
           {
            "marker": {
             "colorbar": {
              "outlinewidth": 0,
              "ticks": ""
             }
            },
            "type": "histogram"
           }
          ],
          "histogram2d": [
           {
            "colorbar": {
             "outlinewidth": 0,
             "ticks": ""
            },
            "colorscale": [
             [
              0,
              "#0d0887"
             ],
             [
              0.1111111111111111,
              "#46039f"
             ],
             [
              0.2222222222222222,
              "#7201a8"
             ],
             [
              0.3333333333333333,
              "#9c179e"
             ],
             [
              0.4444444444444444,
              "#bd3786"
             ],
             [
              0.5555555555555556,
              "#d8576b"
             ],
             [
              0.6666666666666666,
              "#ed7953"
             ],
             [
              0.7777777777777778,
              "#fb9f3a"
             ],
             [
              0.8888888888888888,
              "#fdca26"
             ],
             [
              1,
              "#f0f921"
             ]
            ],
            "type": "histogram2d"
           }
          ],
          "histogram2dcontour": [
           {
            "colorbar": {
             "outlinewidth": 0,
             "ticks": ""
            },
            "colorscale": [
             [
              0,
              "#0d0887"
             ],
             [
              0.1111111111111111,
              "#46039f"
             ],
             [
              0.2222222222222222,
              "#7201a8"
             ],
             [
              0.3333333333333333,
              "#9c179e"
             ],
             [
              0.4444444444444444,
              "#bd3786"
             ],
             [
              0.5555555555555556,
              "#d8576b"
             ],
             [
              0.6666666666666666,
              "#ed7953"
             ],
             [
              0.7777777777777778,
              "#fb9f3a"
             ],
             [
              0.8888888888888888,
              "#fdca26"
             ],
             [
              1,
              "#f0f921"
             ]
            ],
            "type": "histogram2dcontour"
           }
          ],
          "mesh3d": [
           {
            "colorbar": {
             "outlinewidth": 0,
             "ticks": ""
            },
            "type": "mesh3d"
           }
          ],
          "parcoords": [
           {
            "line": {
             "colorbar": {
              "outlinewidth": 0,
              "ticks": ""
             }
            },
            "type": "parcoords"
           }
          ],
          "pie": [
           {
            "automargin": true,
            "type": "pie"
           }
          ],
          "scatter": [
           {
            "marker": {
             "colorbar": {
              "outlinewidth": 0,
              "ticks": ""
             }
            },
            "type": "scatter"
           }
          ],
          "scatter3d": [
           {
            "line": {
             "colorbar": {
              "outlinewidth": 0,
              "ticks": ""
             }
            },
            "marker": {
             "colorbar": {
              "outlinewidth": 0,
              "ticks": ""
             }
            },
            "type": "scatter3d"
           }
          ],
          "scattercarpet": [
           {
            "marker": {
             "colorbar": {
              "outlinewidth": 0,
              "ticks": ""
             }
            },
            "type": "scattercarpet"
           }
          ],
          "scattergeo": [
           {
            "marker": {
             "colorbar": {
              "outlinewidth": 0,
              "ticks": ""
             }
            },
            "type": "scattergeo"
           }
          ],
          "scattergl": [
           {
            "marker": {
             "colorbar": {
              "outlinewidth": 0,
              "ticks": ""
             }
            },
            "type": "scattergl"
           }
          ],
          "scattermapbox": [
           {
            "marker": {
             "colorbar": {
              "outlinewidth": 0,
              "ticks": ""
             }
            },
            "type": "scattermapbox"
           }
          ],
          "scatterpolar": [
           {
            "marker": {
             "colorbar": {
              "outlinewidth": 0,
              "ticks": ""
             }
            },
            "type": "scatterpolar"
           }
          ],
          "scatterpolargl": [
           {
            "marker": {
             "colorbar": {
              "outlinewidth": 0,
              "ticks": ""
             }
            },
            "type": "scatterpolargl"
           }
          ],
          "scatterternary": [
           {
            "marker": {
             "colorbar": {
              "outlinewidth": 0,
              "ticks": ""
             }
            },
            "type": "scatterternary"
           }
          ],
          "surface": [
           {
            "colorbar": {
             "outlinewidth": 0,
             "ticks": ""
            },
            "colorscale": [
             [
              0,
              "#0d0887"
             ],
             [
              0.1111111111111111,
              "#46039f"
             ],
             [
              0.2222222222222222,
              "#7201a8"
             ],
             [
              0.3333333333333333,
              "#9c179e"
             ],
             [
              0.4444444444444444,
              "#bd3786"
             ],
             [
              0.5555555555555556,
              "#d8576b"
             ],
             [
              0.6666666666666666,
              "#ed7953"
             ],
             [
              0.7777777777777778,
              "#fb9f3a"
             ],
             [
              0.8888888888888888,
              "#fdca26"
             ],
             [
              1,
              "#f0f921"
             ]
            ],
            "type": "surface"
           }
          ],
          "table": [
           {
            "cells": {
             "fill": {
              "color": "#EBF0F8"
             },
             "line": {
              "color": "white"
             }
            },
            "header": {
             "fill": {
              "color": "#C8D4E3"
             },
             "line": {
              "color": "white"
             }
            },
            "type": "table"
           }
          ]
         },
         "layout": {
          "annotationdefaults": {
           "arrowcolor": "#2a3f5f",
           "arrowhead": 0,
           "arrowwidth": 1
          },
          "autotypenumbers": "strict",
          "coloraxis": {
           "colorbar": {
            "outlinewidth": 0,
            "ticks": ""
           }
          },
          "colorscale": {
           "diverging": [
            [
             0,
             "#8e0152"
            ],
            [
             0.1,
             "#c51b7d"
            ],
            [
             0.2,
             "#de77ae"
            ],
            [
             0.3,
             "#f1b6da"
            ],
            [
             0.4,
             "#fde0ef"
            ],
            [
             0.5,
             "#f7f7f7"
            ],
            [
             0.6,
             "#e6f5d0"
            ],
            [
             0.7,
             "#b8e186"
            ],
            [
             0.8,
             "#7fbc41"
            ],
            [
             0.9,
             "#4d9221"
            ],
            [
             1,
             "#276419"
            ]
           ],
           "sequential": [
            [
             0,
             "#0d0887"
            ],
            [
             0.1111111111111111,
             "#46039f"
            ],
            [
             0.2222222222222222,
             "#7201a8"
            ],
            [
             0.3333333333333333,
             "#9c179e"
            ],
            [
             0.4444444444444444,
             "#bd3786"
            ],
            [
             0.5555555555555556,
             "#d8576b"
            ],
            [
             0.6666666666666666,
             "#ed7953"
            ],
            [
             0.7777777777777778,
             "#fb9f3a"
            ],
            [
             0.8888888888888888,
             "#fdca26"
            ],
            [
             1,
             "#f0f921"
            ]
           ],
           "sequentialminus": [
            [
             0,
             "#0d0887"
            ],
            [
             0.1111111111111111,
             "#46039f"
            ],
            [
             0.2222222222222222,
             "#7201a8"
            ],
            [
             0.3333333333333333,
             "#9c179e"
            ],
            [
             0.4444444444444444,
             "#bd3786"
            ],
            [
             0.5555555555555556,
             "#d8576b"
            ],
            [
             0.6666666666666666,
             "#ed7953"
            ],
            [
             0.7777777777777778,
             "#fb9f3a"
            ],
            [
             0.8888888888888888,
             "#fdca26"
            ],
            [
             1,
             "#f0f921"
            ]
           ]
          },
          "colorway": [
           "#636efa",
           "#EF553B",
           "#00cc96",
           "#ab63fa",
           "#FFA15A",
           "#19d3f3",
           "#FF6692",
           "#B6E880",
           "#FF97FF",
           "#FECB52"
          ],
          "font": {
           "color": "#2a3f5f"
          },
          "geo": {
           "bgcolor": "white",
           "lakecolor": "white",
           "landcolor": "#E5ECF6",
           "showlakes": true,
           "showland": true,
           "subunitcolor": "white"
          },
          "hoverlabel": {
           "align": "left"
          },
          "hovermode": "closest",
          "mapbox": {
           "style": "light"
          },
          "paper_bgcolor": "white",
          "plot_bgcolor": "#E5ECF6",
          "polar": {
           "angularaxis": {
            "gridcolor": "white",
            "linecolor": "white",
            "ticks": ""
           },
           "bgcolor": "#E5ECF6",
           "radialaxis": {
            "gridcolor": "white",
            "linecolor": "white",
            "ticks": ""
           }
          },
          "scene": {
           "xaxis": {
            "backgroundcolor": "#E5ECF6",
            "gridcolor": "white",
            "gridwidth": 2,
            "linecolor": "white",
            "showbackground": true,
            "ticks": "",
            "zerolinecolor": "white"
           },
           "yaxis": {
            "backgroundcolor": "#E5ECF6",
            "gridcolor": "white",
            "gridwidth": 2,
            "linecolor": "white",
            "showbackground": true,
            "ticks": "",
            "zerolinecolor": "white"
           },
           "zaxis": {
            "backgroundcolor": "#E5ECF6",
            "gridcolor": "white",
            "gridwidth": 2,
            "linecolor": "white",
            "showbackground": true,
            "ticks": "",
            "zerolinecolor": "white"
           }
          },
          "shapedefaults": {
           "line": {
            "color": "#2a3f5f"
           }
          },
          "ternary": {
           "aaxis": {
            "gridcolor": "white",
            "linecolor": "white",
            "ticks": ""
           },
           "baxis": {
            "gridcolor": "white",
            "linecolor": "white",
            "ticks": ""
           },
           "bgcolor": "#E5ECF6",
           "caxis": {
            "gridcolor": "white",
            "linecolor": "white",
            "ticks": ""
           }
          },
          "title": {
           "x": 0.05
          },
          "xaxis": {
           "automargin": true,
           "gridcolor": "white",
           "linecolor": "white",
           "ticks": "",
           "title": {
            "standoff": 15
           },
           "zerolinecolor": "white",
           "zerolinewidth": 2
          },
          "yaxis": {
           "automargin": true,
           "gridcolor": "white",
           "linecolor": "white",
           "ticks": "",
           "title": {
            "standoff": 15
           },
           "zerolinecolor": "white",
           "zerolinewidth": 2
          }
         }
        },
        "xaxis": {
         "title": {
          "text": "x"
         }
        }
       }
      },
      "image/png": "[encoded data removed]",
      "text/html": [
       "<div\n",
       "    class=\"webio-mountpoint\"\n",
       "    data-webio-mountpoint=\"11888197687221249390\"\n",
       ">\n",
       "    <script>\n",
       "    (function(){\n",
       "    // Some integrations (namely, IJulia/Jupyter) use an alternate render pathway than\n",
       "    // just putting the html on the page. If WebIO isn't defined, then it's pretty likely\n",
       "    // that we're in one of those situations and the integration just isn't installed\n",
       "    // correctly.\n",
       "    if (typeof window.WebIO === \"undefined\") {\n",
       "        document\n",
       "            .querySelector('[data-webio-mountpoint=\"11888197687221249390\"]')\n",
       "            .innerHTML = (\n",
       "                '<div style=\"padding: 1em; background-color: #f8d6da; border: 1px solid #f5c6cb; font-weight: bold;\">' +\n",
       "                '<p><strong>WebIO not detected.</strong></p>' +\n",
       "                '<p>Please read ' +\n",
       "                '<a href=\"https://juliagizmos.github.io/WebIO.jl/latest/troubleshooting/not-detected/\" target=\"_blank\">the troubleshooting guide</a> ' +\n",
       "                'for more information on how to resolve this issue.</p>' +\n",
       "                '<p><a href=\"https://juliagizmos.github.io/WebIO.jl/latest/troubleshooting/not-detected/\" target=\"_blank\">https://juliagizmos.github.io/WebIO.jl/latest/troubleshooting/not-detected/</a></p>' +\n",
       "                '</div>'\n",
       "            );\n",
       "        return;\n",
       "    }\n",
       "    WebIO.mount(\n",
       "        document.querySelector('[data-webio-mountpoint=\"11888197687221249390\"]'),\n",
       "        {\"props\":{},\"nodeType\":\"Scope\",\"type\":\"node\",\"instanceArgs\":{\"imports\":{\"data\":[{\"name\":\"Plotly\",\"type\":\"js\",\"url\":\"\\/assetserver\\/d6feb8d8ce4676ebdde817a0745950a35b4ba3ae-plotly.min.js\"},{\"name\":null,\"type\":\"js\",\"url\":\"\\/assetserver\\/517030b23c1c21e94bf622985d97a74a9582e066-plotly_webio.bundle.js\"}],\"type\":\"async_block\"},\"id\":\"681061314756459092\",\"handlers\":{\"_toImage\":[\"(function (options){return this.Plotly.toImage(this.plotElem,options).then((function (data){return WebIO.setval({\\\"name\\\":\\\"image\\\",\\\"scope\\\":\\\"681061314756459092\\\",\\\"id\\\":\\\"245\\\",\\\"type\\\":\\\"observable\\\"},data)}))})\"],\"__get_gd_contents\":[\"(function (prop){prop==\\\"data\\\" ? (WebIO.setval({\\\"name\\\":\\\"__gd_contents\\\",\\\"scope\\\":\\\"681061314756459092\\\",\\\"id\\\":\\\"246\\\",\\\"type\\\":\\\"observable\\\"},this.plotElem.data)) : undefined; return prop==\\\"layout\\\" ? (WebIO.setval({\\\"name\\\":\\\"__gd_contents\\\",\\\"scope\\\":\\\"681061314756459092\\\",\\\"id\\\":\\\"246\\\",\\\"type\\\":\\\"observable\\\"},this.plotElem.layout)) : undefined})\"],\"_downloadImage\":[\"(function (options){return this.Plotly.downloadImage(this.plotElem,options)})\"],\"_commands\":[\"(function (args){var fn=args.shift(); var elem=this.plotElem; var Plotly=this.Plotly; args.unshift(elem); return Plotly[fn].apply(this,args)})\"]},\"systemjs_options\":null,\"mount_callbacks\":[\"function () {\\n    var handler = ((function (Plotly,PlotlyWebIO){PlotlyWebIO.init(WebIO); var gd=this.dom.querySelector(\\\"#plot-ed572714-829a-4246-8511-a6c0070d2d40\\\"); this.plotElem=gd; this.Plotly=Plotly; (window.Blink!==undefined) ? (gd.style.width=\\\"100%\\\", gd.style.height=\\\"100vh\\\", gd.style.marginLeft=\\\"0%\\\", gd.style.marginTop=\\\"0vh\\\") : undefined; window.onresize=(function (){return Plotly.Plots.resize(gd)}); Plotly.newPlot(gd,[{\\\"mode\\\":\\\"markers+lines\\\",\\\"y\\\":[1.0,1.1029816904161587,1.2154207607856966,1.3368079926914933,1.4662138007571095,1.6022305254486338,1.7429345803053584,1.8858776024820336,2.028114981647472,2.1662779259912455,2.296691507421556,2.4155361345464557,2.5190441714069842,2.6037177713443103,2.666549408955427,2.7052240221569983,2.718281828459045,2.7052240221569988,2.666549408955427,2.6037177713443103,2.5190441714069842,2.415536134546456,2.2966915074215564,2.166277925991246,2.0281149816474726,1.8858776024820336,1.7429345803053584,1.6022305254486342,1.4662138007571095,1.3368079926914933,1.215420760785697,1.102981690416159,1.0000000000000002,0.9066333636260967,0.8227603413270314,0.748050584277722,0.6820287733505371,0.62412991396478,0.5737449995540294,0.5302571061260202,0.49306869139523984,0.4616212850631436,0.43540893357622834,0.4139867691061311,0.39697596864348006,0.384066203720573,0.37501649009073945,0.3696551530703377,0.36787944117144233,0.3696551530703377,0.3750164900907394,0.38406620372057293,0.39697596864348,0.4139867691061311,0.43540893357622823,0.4616212850631435,0.49306869139523973,0.5302571061260198,0.5737449995540292,0.6241299139647798,0.6820287733505366,0.7480505842777216,0.8227603413270311,0.9066333636260967],\\\"type\\\":\\\"scatter\\\",\\\"name\\\":\\\"u\\\",\\\"x\\\":[0.0,0.09817477042468103,0.19634954084936207,0.2945243112740431,0.39269908169872414,0.4908738521234052,0.5890486225480862,0.6872233929727672,0.7853981633974483,0.8835729338221293,0.9817477042468103,1.0799224746714913,1.1780972450961724,1.2762720155208536,1.3744467859455345,1.4726215563702154,1.5707963267948966,1.6689710972195777,1.7671458676442586,1.8653206380689396,1.9634954084936207,2.061670178918302,2.1598449493429825,2.2580197197676637,2.356194490192345,2.454369260617026,2.552544031041707,2.650718801466388,2.748893571891069,2.84706834231575,2.945243112740431,3.043417883165112,3.141592653589793,3.2397674240144743,3.3379421944391554,3.436116964863836,3.5342917352885173,3.6324665057131984,3.730641276137879,3.8288160465625602,3.9269908169872414,4.025165587411922,4.123340357836604,4.221515128261284,4.319689898685965,4.417864669110647,4.516039439535327,4.614214209960009,4.71238898038469,4.81056375080937,4.908738521234052,5.006913291658733,5.105088062083414,5.203262832508095,5.301437602932776,5.399612373357457,5.497787143782138,5.595961914206819,5.6941366846315,5.792311455056181,5.890486225480862,5.988660995905543,6.086835766330224,6.1850105367549055]},{\\\"mode\\\":\\\"markers+lines\\\",\\\"y\\\":[1.0,1.0976705321012425,1.192066791675107,1.2792454893356977,1.3546049208050752,1.4130411707811883,1.4491971397551957,1.4578031004812684,1.434093856548958,1.3742721678807968,1.2759734359523354,1.1386758515104836,0.9639964697932984,0.755819372916391,0.520217982865031,0.2651583226026613,1.664467570201392e-16,-0.26515832260266103,-0.5202179828650306,-0.7558193729163907,-0.9639964697932981,-1.1386758515104836,-1.275973435952335,-1.3742721678807968,-1.434093856548958,-1.4578031004812684,-1.449197139755196,-1.4130411707811885,-1.3546049208050752,-1.2792454893356977,-1.1920667916751075,-1.0976705321012428,-1.0000000000000002,-0.9022676761721315,-0.80695123207309,-0.7158397772633983,-0.6301124242823407,-0.5504334428414488,-0.4770515323397129,-0.4098942860052879,-0.34865221527635126,-0.29284944307105026,-0.24190024268576166,-0.19515201204576804,-0.15191612624694342,-0.11148853399137315,-0.07316208781316068,-0.03623254101204044,-6.757835701540858e-17,0.036232541012040306,0.07316208781316054,0.11148853399137298,0.15191612624694328,0.1951520120457679,0.24190024268576146,0.29284944307105004,0.34865221527635104,0.4098942860052873,0.4770515323397127,0.5504334428414485,0.6301124242823399,0.7158397772633979,0.8069512320730897,0.9022676761721315],\\\"type\\\":\\\"scatter\\\",\\\"name\\\":\\\"du_dx\\\",\\\"x\\\":[0.0,0.09817477042468103,0.19634954084936207,0.2945243112740431,0.39269908169872414,0.4908738521234052,0.5890486225480862,0.6872233929727672,0.7853981633974483,0.8835729338221293,0.9817477042468103,1.0799224746714913,1.1780972450961724,1.2762720155208536,1.3744467859455345,1.4726215563702154,1.5707963267948966,1.6689710972195777,1.7671458676442586,1.8653206380689396,1.9634954084936207,2.061670178918302,2.1598449493429825,2.2580197197676637,2.356194490192345,2.454369260617026,2.552544031041707,2.650718801466388,2.748893571891069,2.84706834231575,2.945243112740431,3.043417883165112,3.141592653589793,3.2397674240144743,3.3379421944391554,3.436116964863836,3.5342917352885173,3.6324665057131984,3.730641276137879,3.8288160465625602,3.9269908169872414,4.025165587411922,4.123340357836604,4.221515128261284,4.319689898685965,4.417864669110647,4.516039439535327,4.614214209960009,4.71238898038469,4.81056375080937,4.908738521234052,5.006913291658733,5.105088062083414,5.203262832508095,5.301437602932776,5.399612373357457,5.497787143782138,5.595961914206819,5.6941366846315,5.792311455056181,5.890486225480862,5.988660995905543,6.086835766330224,6.1850105367549055]}],{\\\"xaxis\\\":{\\\"title\\\":{\\\"text\\\":\\\"x\\\"}},\\\"template\\\":{\\\"layout\\\":{\\\"coloraxis\\\":{\\\"colorbar\\\":{\\\"ticks\\\":\\\"\\\",\\\"outlinewidth\\\":0}},\\\"xaxis\\\":{\\\"gridcolor\\\":\\\"white\\\",\\\"zerolinewidth\\\":2,\\\"title\\\":{\\\"standoff\\\":15},\\\"ticks\\\":\\\"\\\",\\\"zerolinecolor\\\":\\\"white\\\",\\\"automargin\\\":true,\\\"linecolor\\\":\\\"white\\\"},\\\"hovermode\\\":\\\"closest\\\",\\\"paper_bgcolor\\\":\\\"white\\\",\\\"geo\\\":{\\\"showlakes\\\":true,\\\"showland\\\":true,\\\"landcolor\\\":\\\"#E5ECF6\\\",\\\"bgcolor\\\":\\\"white\\\",\\\"subunitcolor\\\":\\\"white\\\",\\\"lakecolor\\\":\\\"white\\\"},\\\"colorscale\\\":{\\\"sequential\\\":[[0.0,\\\"#0d0887\\\"],[0.1111111111111111,\\\"#46039f\\\"],[0.2222222222222222,\\\"#7201a8\\\"],[0.3333333333333333,\\\"#9c179e\\\"],[0.4444444444444444,\\\"#bd3786\\\"],[0.5555555555555556,\\\"#d8576b\\\"],[0.6666666666666666,\\\"#ed7953\\\"],[0.7777777777777778,\\\"#fb9f3a\\\"],[0.8888888888888888,\\\"#fdca26\\\"],[1.0,\\\"#f0f921\\\"]],\\\"diverging\\\":[[0,\\\"#8e0152\\\"],[0.1,\\\"#c51b7d\\\"],[0.2,\\\"#de77ae\\\"],[0.3,\\\"#f1b6da\\\"],[0.4,\\\"#fde0ef\\\"],[0.5,\\\"#f7f7f7\\\"],[0.6,\\\"#e6f5d0\\\"],[0.7,\\\"#b8e186\\\"],[0.8,\\\"#7fbc41\\\"],[0.9,\\\"#4d9221\\\"],[1,\\\"#276419\\\"]],\\\"sequentialminus\\\":[[0.0,\\\"#0d0887\\\"],[0.1111111111111111,\\\"#46039f\\\"],[0.2222222222222222,\\\"#7201a8\\\"],[0.3333333333333333,\\\"#9c179e\\\"],[0.4444444444444444,\\\"#bd3786\\\"],[0.5555555555555556,\\\"#d8576b\\\"],[0.6666666666666666,\\\"#ed7953\\\"],[0.7777777777777778,\\\"#fb9f3a\\\"],[0.8888888888888888,\\\"#fdca26\\\"],[1.0,\\\"#f0f921\\\"]]},\\\"yaxis\\\":{\\\"gridcolor\\\":\\\"white\\\",\\\"zerolinewidth\\\":2,\\\"title\\\":{\\\"standoff\\\":15},\\\"ticks\\\":\\\"\\\",\\\"zerolinecolor\\\":\\\"white\\\",\\\"automargin\\\":true,\\\"linecolor\\\":\\\"white\\\"},\\\"shapedefaults\\\":{\\\"line\\\":{\\\"color\\\":\\\"#2a3f5f\\\"}},\\\"hoverlabel\\\":{\\\"align\\\":\\\"left\\\"},\\\"mapbox\\\":{\\\"style\\\":\\\"light\\\"},\\\"polar\\\":{\\\"angularaxis\\\":{\\\"gridcolor\\\":\\\"white\\\",\\\"ticks\\\":\\\"\\\",\\\"linecolor\\\":\\\"white\\\"},\\\"bgcolor\\\":\\\"#E5ECF6\\\",\\\"radialaxis\\\":{\\\"gridcolor\\\":\\\"white\\\",\\\"ticks\\\":\\\"\\\",\\\"linecolor\\\":\\\"white\\\"}},\\\"autotypenumbers\\\":\\\"strict\\\",\\\"font\\\":{\\\"color\\\":\\\"#2a3f5f\\\"},\\\"ternary\\\":{\\\"baxis\\\":{\\\"gridcolor\\\":\\\"white\\\",\\\"ticks\\\":\\\"\\\",\\\"linecolor\\\":\\\"white\\\"},\\\"bgcolor\\\":\\\"#E5ECF6\\\",\\\"caxis\\\":{\\\"gridcolor\\\":\\\"white\\\",\\\"ticks\\\":\\\"\\\",\\\"linecolor\\\":\\\"white\\\"},\\\"aaxis\\\":{\\\"gridcolor\\\":\\\"white\\\",\\\"ticks\\\":\\\"\\\",\\\"linecolor\\\":\\\"white\\\"}},\\\"annotationdefaults\\\":{\\\"arrowhead\\\":0,\\\"arrowwidth\\\":1,\\\"arrowcolor\\\":\\\"#2a3f5f\\\"},\\\"plot_bgcolor\\\":\\\"#E5ECF6\\\",\\\"title\\\":{\\\"x\\\":0.05},\\\"scene\\\":{\\\"xaxis\\\":{\\\"gridcolor\\\":\\\"white\\\",\\\"gridwidth\\\":2,\\\"backgroundcolor\\\":\\\"#E5ECF6\\\",\\\"ticks\\\":\\\"\\\",\\\"showbackground\\\":true,\\\"zerolinecolor\\\":\\\"white\\\",\\\"linecolor\\\":\\\"white\\\"},\\\"zaxis\\\":{\\\"gridcolor\\\":\\\"white\\\",\\\"gridwidth\\\":2,\\\"backgroundcolor\\\":\\\"#E5ECF6\\\",\\\"ticks\\\":\\\"\\\",\\\"showbackground\\\":true,\\\"zerolinecolor\\\":\\\"white\\\",\\\"linecolor\\\":\\\"white\\\"},\\\"yaxis\\\":{\\\"gridcolor\\\":\\\"white\\\",\\\"gridwidth\\\":2,\\\"backgroundcolor\\\":\\\"#E5ECF6\\\",\\\"ticks\\\":\\\"\\\",\\\"showbackground\\\":true,\\\"zerolinecolor\\\":\\\"white\\\",\\\"linecolor\\\":\\\"white\\\"}},\\\"colorway\\\":[\\\"#636efa\\\",\\\"#EF553B\\\",\\\"#00cc96\\\",\\\"#ab63fa\\\",\\\"#FFA15A\\\",\\\"#19d3f3\\\",\\\"#FF6692\\\",\\\"#B6E880\\\",\\\"#FF97FF\\\",\\\"#FECB52\\\"]},\\\"data\\\":{\\\"barpolar\\\":[{\\\"type\\\":\\\"barpolar\\\",\\\"marker\\\":{\\\"line\\\":{\\\"color\\\":\\\"#E5ECF6\\\",\\\"width\\\":0.5}}}],\\\"carpet\\\":[{\\\"aaxis\\\":{\\\"gridcolor\\\":\\\"white\\\",\\\"endlinecolor\\\":\\\"#2a3f5f\\\",\\\"minorgridcolor\\\":\\\"white\\\",\\\"startlinecolor\\\":\\\"#2a3f5f\\\",\\\"linecolor\\\":\\\"white\\\"},\\\"type\\\":\\\"carpet\\\",\\\"baxis\\\":{\\\"gridcolor\\\":\\\"white\\\",\\\"endlinecolor\\\":\\\"#2a3f5f\\\",\\\"minorgridcolor\\\":\\\"white\\\",\\\"startlinecolor\\\":\\\"#2a3f5f\\\",\\\"linecolor\\\":\\\"white\\\"}}],\\\"scatterpolar\\\":[{\\\"type\\\":\\\"scatterpolar\\\",\\\"marker\\\":{\\\"colorbar\\\":{\\\"ticks\\\":\\\"\\\",\\\"outlinewidth\\\":0}}}],\\\"parcoords\\\":[{\\\"line\\\":{\\\"colorbar\\\":{\\\"ticks\\\":\\\"\\\",\\\"outlinewidth\\\":0}},\\\"type\\\":\\\"parcoords\\\"}],\\\"scatter\\\":[{\\\"type\\\":\\\"scatter\\\",\\\"marker\\\":{\\\"colorbar\\\":{\\\"ticks\\\":\\\"\\\",\\\"outlinewidth\\\":0}}}],\\\"histogram2dcontour\\\":[{\\\"colorbar\\\":{\\\"ticks\\\":\\\"\\\",\\\"outlinewidth\\\":0},\\\"type\\\":\\\"histogram2dcontour\\\",\\\"colorscale\\\":[[0.0,\\\"#0d0887\\\"],[0.1111111111111111,\\\"#46039f\\\"],[0.2222222222222222,\\\"#7201a8\\\"],[0.3333333333333333,\\\"#9c179e\\\"],[0.4444444444444444,\\\"#bd3786\\\"],[0.5555555555555556,\\\"#d8576b\\\"],[0.6666666666666666,\\\"#ed7953\\\"],[0.7777777777777778,\\\"#fb9f3a\\\"],[0.8888888888888888,\\\"#fdca26\\\"],[1.0,\\\"#f0f921\\\"]]}],\\\"contour\\\":[{\\\"colorbar\\\":{\\\"ticks\\\":\\\"\\\",\\\"outlinewidth\\\":0},\\\"type\\\":\\\"contour\\\",\\\"colorscale\\\":[[0.0,\\\"#0d0887\\\"],[0.1111111111111111,\\\"#46039f\\\"],[0.2222222222222222,\\\"#7201a8\\\"],[0.3333333333333333,\\\"#9c179e\\\"],[0.4444444444444444,\\\"#bd3786\\\"],[0.5555555555555556,\\\"#d8576b\\\"],[0.6666666666666666,\\\"#ed7953\\\"],[0.7777777777777778,\\\"#fb9f3a\\\"],[0.8888888888888888,\\\"#fdca26\\\"],[1.0,\\\"#f0f921\\\"]]}],\\\"scattercarpet\\\":[{\\\"type\\\":\\\"scattercarpet\\\",\\\"marker\\\":{\\\"colorbar\\\":{\\\"ticks\\\":\\\"\\\",\\\"outlinewidth\\\":0}}}],\\\"mesh3d\\\":[{\\\"colorbar\\\":{\\\"ticks\\\":\\\"\\\",\\\"outlinewidth\\\":0},\\\"type\\\":\\\"mesh3d\\\"}],\\\"surface\\\":[{\\\"colorbar\\\":{\\\"ticks\\\":\\\"\\\",\\\"outlinewidth\\\":0},\\\"type\\\":\\\"surface\\\",\\\"colorscale\\\":[[0.0,\\\"#0d0887\\\"],[0.1111111111111111,\\\"#46039f\\\"],[0.2222222222222222,\\\"#7201a8\\\"],[0.3333333333333333,\\\"#9c179e\\\"],[0.4444444444444444,\\\"#bd3786\\\"],[0.5555555555555556,\\\"#d8576b\\\"],[0.6666666666666666,\\\"#ed7953\\\"],[0.7777777777777778,\\\"#fb9f3a\\\"],[0.8888888888888888,\\\"#fdca26\\\"],[1.0,\\\"#f0f921\\\"]]}],\\\"scattermapbox\\\":[{\\\"type\\\":\\\"scattermapbox\\\",\\\"marker\\\":{\\\"colorbar\\\":{\\\"ticks\\\":\\\"\\\",\\\"outlinewidth\\\":0}}}],\\\"scattergeo\\\":[{\\\"type\\\":\\\"scattergeo\\\",\\\"marker\\\":{\\\"colorbar\\\":{\\\"ticks\\\":\\\"\\\",\\\"outlinewidth\\\":0}}}],\\\"histogram\\\":[{\\\"type\\\":\\\"histogram\\\",\\\"marker\\\":{\\\"colorbar\\\":{\\\"ticks\\\":\\\"\\\",\\\"outlinewidth\\\":0}}}],\\\"pie\\\":[{\\\"type\\\":\\\"pie\\\",\\\"automargin\\\":true}],\\\"choropleth\\\":[{\\\"colorbar\\\":{\\\"ticks\\\":\\\"\\\",\\\"outlinewidth\\\":0},\\\"type\\\":\\\"choropleth\\\"}],\\\"heatmapgl\\\":[{\\\"colorbar\\\":{\\\"ticks\\\":\\\"\\\",\\\"outlinewidth\\\":0},\\\"type\\\":\\\"heatmapgl\\\",\\\"colorscale\\\":[[0.0,\\\"#0d0887\\\"],[0.1111111111111111,\\\"#46039f\\\"],[0.2222222222222222,\\\"#7201a8\\\"],[0.3333333333333333,\\\"#9c179e\\\"],[0.4444444444444444,\\\"#bd3786\\\"],[0.5555555555555556,\\\"#d8576b\\\"],[0.6666666666666666,\\\"#ed7953\\\"],[0.7777777777777778,\\\"#fb9f3a\\\"],[0.8888888888888888,\\\"#fdca26\\\"],[1.0,\\\"#f0f921\\\"]]}],\\\"bar\\\":[{\\\"type\\\":\\\"bar\\\",\\\"error_y\\\":{\\\"color\\\":\\\"#2a3f5f\\\"},\\\"error_x\\\":{\\\"color\\\":\\\"#2a3f5f\\\"},\\\"marker\\\":{\\\"line\\\":{\\\"color\\\":\\\"#E5ECF6\\\",\\\"width\\\":0.5}}}],\\\"heatmap\\\":[{\\\"colorbar\\\":{\\\"ticks\\\":\\\"\\\",\\\"outlinewidth\\\":0},\\\"type\\\":\\\"heatmap\\\",\\\"colorscale\\\":[[0.0,\\\"#0d0887\\\"],[0.1111111111111111,\\\"#46039f\\\"],[0.2222222222222222,\\\"#7201a8\\\"],[0.3333333333333333,\\\"#9c179e\\\"],[0.4444444444444444,\\\"#bd3786\\\"],[0.5555555555555556,\\\"#d8576b\\\"],[0.6666666666666666,\\\"#ed7953\\\"],[0.7777777777777778,\\\"#fb9f3a\\\"],[0.8888888888888888,\\\"#fdca26\\\"],[1.0,\\\"#f0f921\\\"]]}],\\\"contourcarpet\\\":[{\\\"colorbar\\\":{\\\"ticks\\\":\\\"\\\",\\\"outlinewidth\\\":0},\\\"type\\\":\\\"contourcarpet\\\"}],\\\"table\\\":[{\\\"type\\\":\\\"table\\\",\\\"header\\\":{\\\"line\\\":{\\\"color\\\":\\\"white\\\"},\\\"fill\\\":{\\\"color\\\":\\\"#C8D4E3\\\"}},\\\"cells\\\":{\\\"line\\\":{\\\"color\\\":\\\"white\\\"},\\\"fill\\\":{\\\"color\\\":\\\"#EBF0F8\\\"}}}],\\\"scatter3d\\\":[{\\\"line\\\":{\\\"colorbar\\\":{\\\"ticks\\\":\\\"\\\",\\\"outlinewidth\\\":0}},\\\"type\\\":\\\"scatter3d\\\",\\\"marker\\\":{\\\"colorbar\\\":{\\\"ticks\\\":\\\"\\\",\\\"outlinewidth\\\":0}}}],\\\"scattergl\\\":[{\\\"type\\\":\\\"scattergl\\\",\\\"marker\\\":{\\\"colorbar\\\":{\\\"ticks\\\":\\\"\\\",\\\"outlinewidth\\\":0}}}],\\\"histogram2d\\\":[{\\\"colorbar\\\":{\\\"ticks\\\":\\\"\\\",\\\"outlinewidth\\\":0},\\\"type\\\":\\\"histogram2d\\\",\\\"colorscale\\\":[[0.0,\\\"#0d0887\\\"],[0.1111111111111111,\\\"#46039f\\\"],[0.2222222222222222,\\\"#7201a8\\\"],[0.3333333333333333,\\\"#9c179e\\\"],[0.4444444444444444,\\\"#bd3786\\\"],[0.5555555555555556,\\\"#d8576b\\\"],[0.6666666666666666,\\\"#ed7953\\\"],[0.7777777777777778,\\\"#fb9f3a\\\"],[0.8888888888888888,\\\"#fdca26\\\"],[1.0,\\\"#f0f921\\\"]]}],\\\"scatterternary\\\":[{\\\"type\\\":\\\"scatterternary\\\",\\\"marker\\\":{\\\"colorbar\\\":{\\\"ticks\\\":\\\"\\\",\\\"outlinewidth\\\":0}}}],\\\"scatterpolargl\\\":[{\\\"type\\\":\\\"scatterpolargl\\\",\\\"marker\\\":{\\\"colorbar\\\":{\\\"ticks\\\":\\\"\\\",\\\"outlinewidth\\\":0}}}]}},\\\"margin\\\":{\\\"l\\\":50,\\\"b\\\":50,\\\"r\\\":50,\\\"t\\\":60}},{\\\"showLink\\\":false,\\\"editable\\\":false,\\\"responsive\\\":true,\\\"staticPlot\\\":false,\\\"scrollZoom\\\":true}); gd.on(\\\"plotly_hover\\\",(function (data){var filtered_data=WebIO.PlotlyCommands.filterEventData(gd,data,\\\"hover\\\"); return !(filtered_data.isnil) ? (WebIO.setval({\\\"name\\\":\\\"hover\\\",\\\"scope\\\":\\\"681061314756459092\\\",\\\"id\\\":\\\"241\\\",\\\"type\\\":\\\"observable\\\"},filtered_data.out)) : undefined})); gd.on(\\\"plotly_unhover\\\",(function (){return WebIO.setval({\\\"name\\\":\\\"hover\\\",\\\"scope\\\":\\\"681061314756459092\\\",\\\"id\\\":\\\"241\\\",\\\"type\\\":\\\"observable\\\"},{})})); gd.on(\\\"plotly_selected\\\",(function (data){var filtered_data=WebIO.PlotlyCommands.filterEventData(gd,data,\\\"selected\\\"); return !(filtered_data.isnil) ? (WebIO.setval({\\\"name\\\":\\\"selected\\\",\\\"scope\\\":\\\"681061314756459092\\\",\\\"id\\\":\\\"242\\\",\\\"type\\\":\\\"observable\\\"},filtered_data.out)) : undefined})); gd.on(\\\"plotly_deselect\\\",(function (){return WebIO.setval({\\\"name\\\":\\\"selected\\\",\\\"scope\\\":\\\"681061314756459092\\\",\\\"id\\\":\\\"242\\\",\\\"type\\\":\\\"observable\\\"},{})})); gd.on(\\\"plotly_relayout\\\",(function (data){var filtered_data=WebIO.PlotlyCommands.filterEventData(gd,data,\\\"relayout\\\"); return !(filtered_data.isnil) ? (WebIO.setval({\\\"name\\\":\\\"relayout\\\",\\\"scope\\\":\\\"681061314756459092\\\",\\\"id\\\":\\\"244\\\",\\\"type\\\":\\\"observable\\\"},filtered_data.out)) : undefined})); return gd.on(\\\"plotly_click\\\",(function (data){var filtered_data=WebIO.PlotlyCommands.filterEventData(gd,data,\\\"click\\\"); return !(filtered_data.isnil) ? (WebIO.setval({\\\"name\\\":\\\"click\\\",\\\"scope\\\":\\\"681061314756459092\\\",\\\"id\\\":\\\"243\\\",\\\"type\\\":\\\"observable\\\"},filtered_data.out)) : undefined}))}));\\n    (WebIO.importBlock({\\\"data\\\":[{\\\"name\\\":\\\"Plotly\\\",\\\"type\\\":\\\"js\\\",\\\"url\\\":\\\"\\/assetserver\\/d6feb8d8ce4676ebdde817a0745950a35b4ba3ae-plotly.min.js\\\"},{\\\"name\\\":null,\\\"type\\\":\\\"js\\\",\\\"url\\\":\\\"\\/assetserver\\/517030b23c1c21e94bf622985d97a74a9582e066-plotly_webio.bundle.js\\\"}],\\\"type\\\":\\\"async_block\\\"})).then((imports) => handler.apply(this, imports));\\n}\\n\"],\"observables\":{\"_toImage\":{\"sync\":false,\"id\":\"248\",\"value\":{}},\"hover\":{\"sync\":false,\"id\":\"241\",\"value\":{}},\"selected\":{\"sync\":false,\"id\":\"242\",\"value\":{}},\"__gd_contents\":{\"sync\":false,\"id\":\"246\",\"value\":{}},\"click\":{\"sync\":false,\"id\":\"243\",\"value\":{}},\"image\":{\"sync\":true,\"id\":\"245\",\"value\":\"\"},\"__get_gd_contents\":{\"sync\":false,\"id\":\"250\",\"value\":\"\"},\"_downloadImage\":{\"sync\":false,\"id\":\"249\",\"value\":{}},\"relayout\":{\"sync\":false,\"id\":\"244\",\"value\":{}},\"_commands\":{\"sync\":false,\"id\":\"247\",\"value\":[]}}},\"children\":[{\"props\":{\"id\":\"plot-ed572714-829a-4246-8511-a6c0070d2d40\"},\"nodeType\":\"DOM\",\"type\":\"node\",\"instanceArgs\":{\"namespace\":\"html\",\"tag\":\"div\"},\"children\":[]}]},\n",
       "        window,\n",
       "    );\n",
       "    })()\n",
       "    </script>\n",
       "</div>\n"
      ],
      "text/plain": [
       "data: [\n",
       "  \"scatter with fields mode, name, type, x, and y\",\n",
       "  \"scatter with fields mode, name, type, x, and y\"\n",
       "]\n",
       "\n",
       "layout: \"layout with fields margin, template, and xaxis\"\n",
       "\n"
      ]
     },
     "execution_count": 193,
     "metadata": {},
     "output_type": "execute_result"
    }
   ],
   "source": [
    "# Also, we will plot the function, its derivative and the residual = du_dx - v\n",
    "plot([\n",
    "    scatter(x=x, y=u, mode=\"markers+lines\", name=\"u\"),\n",
    "    scatter(x=x, y=du_dx, mode=\"markers+lines\", name=\"du_dx\")],\n",
    "    Layout(xaxis_title=\"x\") #yaxis_title=\"u(x)\",  \n",
    ")\n"
   ]
  },
  {
   "cell_type": "code",
   "execution_count": 194,
   "id": "4e702fd6-6144-4f55-8616-2707efdda7d5",
   "metadata": {},
   "outputs": [
    {
     "data": {
      "application/vnd.plotly.v1+json": {
       "config": {
        "editable": false,
        "responsive": true,
        "scrollZoom": true,
        "showLink": false,
        "staticPlot": false
       },
       "data": [
        {
         "mode": "markers+lines",
         "type": "scatter",
         "x": [
          0,
          0.09817477042468103,
          0.19634954084936207,
          0.2945243112740431,
          0.39269908169872414,
          0.4908738521234052,
          0.5890486225480862,
          0.6872233929727672,
          0.7853981633974483,
          0.8835729338221293,
          0.9817477042468103,
          1.0799224746714913,
          1.1780972450961724,
          1.2762720155208536,
          1.3744467859455345,
          1.4726215563702154,
          1.5707963267948966,
          1.6689710972195777,
          1.7671458676442586,
          1.8653206380689396,
          1.9634954084936207,
          2.061670178918302,
          2.1598449493429825,
          2.2580197197676637,
          2.356194490192345,
          2.454369260617026,
          2.552544031041707,
          2.650718801466388,
          2.748893571891069,
          2.84706834231575,
          2.945243112740431,
          3.043417883165112,
          3.141592653589793,
          3.2397674240144743,
          3.3379421944391554,
          3.436116964863836,
          3.5342917352885173,
          3.6324665057131984,
          3.730641276137879,
          3.8288160465625602,
          3.9269908169872414,
          4.025165587411922,
          4.123340357836604,
          4.221515128261284,
          4.319689898685965,
          4.417864669110647,
          4.516039439535327,
          4.614214209960009,
          4.71238898038469,
          4.81056375080937,
          4.908738521234052,
          5.006913291658733,
          5.105088062083414,
          5.203262832508095,
          5.301437602932776,
          5.399612373357457,
          5.497787143782138,
          5.595961914206819,
          5.6941366846315,
          5.792311455056181,
          5.890486225480862,
          5.988660995905543,
          6.086835766330224,
          6.1850105367549055
         ],
         "y": [
          2.886579864025407e-15,
          -4.440892098500626e-16,
          2.220446049250313e-16,
          -2.220446049250313e-16,
          -2.4424906541753444e-15,
          0,
          0,
          5.10702591327572e-15,
          -3.3306690738754696e-15,
          -2.220446049250313e-16,
          2.4424906541753444e-15,
          1.5543122344752192e-15,
          -7.66053886991358e-15,
          -3.3306690738754696e-16,
          6.994405055138486e-15,
          5.551115123125783e-16,
          -5.4191162092821495e-15,
          2.9976021664879227e-15,
          -3.3306690738754696e-16,
          -1.1102230246251565e-15,
          1.2212453270876722e-15,
          -6.8833827526759706e-15,
          4.218847493575595e-15,
          2.220446049250313e-15,
          -1.9984014443252818e-15,
          2.6645352591003757e-15,
          2.220446049250313e-16,
          -1.9984014443252818e-15,
          2.6645352591003757e-15,
          -5.773159728050814e-15,
          3.3306690738754696e-15,
          -2.220446049250313e-16,
          0,
          4.773959005888173e-15,
          -2.55351295663786e-15,
          -2.3314683517128287e-15,
          1.1102230246251565e-16,
          -2.6645352591003757e-15,
          2.4980018054066022e-15,
          1.9984014443252818e-15,
          -3.774758283725532e-15,
          2.275957200481571e-15,
          2.7200464103316335e-15,
          -2.55351295663786e-15,
          -3.608224830031759e-16,
          -4.3298697960381105e-15,
          9.56179579958416e-15,
          -6.0021432268797525e-15,
          -8.949514985187097e-16,
          2.942091015256665e-15,
          -5.1486592766991635e-15,
          2.9976021664879227e-15,
          -2.3314683517128287e-15,
          1.582067810090848e-15,
          2.858824288409778e-15,
          -2.4980018054066022e-15,
          8.881784197001252e-16,
          5.551115123125783e-16,
          -1.3322676295501878e-15,
          7.66053886991358e-15,
          -9.103828801926284e-15,
          3.3306690738754696e-16,
          1.6653345369377348e-15,
          -4.440892098500626e-15
         ]
        }
       ],
       "frames": [],
       "layout": {
        "margin": {
         "b": 50,
         "l": 50,
         "r": 50,
         "t": 60
        },
        "template": {
         "data": {
          "bar": [
           {
            "error_x": {
             "color": "#2a3f5f"
            },
            "error_y": {
             "color": "#2a3f5f"
            },
            "marker": {
             "line": {
              "color": "#E5ECF6",
              "width": 0.5
             }
            },
            "type": "bar"
           }
          ],
          "barpolar": [
           {
            "marker": {
             "line": {
              "color": "#E5ECF6",
              "width": 0.5
             }
            },
            "type": "barpolar"
           }
          ],
          "carpet": [
           {
            "aaxis": {
             "endlinecolor": "#2a3f5f",
             "gridcolor": "white",
             "linecolor": "white",
             "minorgridcolor": "white",
             "startlinecolor": "#2a3f5f"
            },
            "baxis": {
             "endlinecolor": "#2a3f5f",
             "gridcolor": "white",
             "linecolor": "white",
             "minorgridcolor": "white",
             "startlinecolor": "#2a3f5f"
            },
            "type": "carpet"
           }
          ],
          "choropleth": [
           {
            "colorbar": {
             "outlinewidth": 0,
             "ticks": ""
            },
            "type": "choropleth"
           }
          ],
          "contour": [
           {
            "colorbar": {
             "outlinewidth": 0,
             "ticks": ""
            },
            "colorscale": [
             [
              0,
              "#0d0887"
             ],
             [
              0.1111111111111111,
              "#46039f"
             ],
             [
              0.2222222222222222,
              "#7201a8"
             ],
             [
              0.3333333333333333,
              "#9c179e"
             ],
             [
              0.4444444444444444,
              "#bd3786"
             ],
             [
              0.5555555555555556,
              "#d8576b"
             ],
             [
              0.6666666666666666,
              "#ed7953"
             ],
             [
              0.7777777777777778,
              "#fb9f3a"
             ],
             [
              0.8888888888888888,
              "#fdca26"
             ],
             [
              1,
              "#f0f921"
             ]
            ],
            "type": "contour"
           }
          ],
          "contourcarpet": [
           {
            "colorbar": {
             "outlinewidth": 0,
             "ticks": ""
            },
            "type": "contourcarpet"
           }
          ],
          "heatmap": [
           {
            "colorbar": {
             "outlinewidth": 0,
             "ticks": ""
            },
            "colorscale": [
             [
              0,
              "#0d0887"
             ],
             [
              0.1111111111111111,
              "#46039f"
             ],
             [
              0.2222222222222222,
              "#7201a8"
             ],
             [
              0.3333333333333333,
              "#9c179e"
             ],
             [
              0.4444444444444444,
              "#bd3786"
             ],
             [
              0.5555555555555556,
              "#d8576b"
             ],
             [
              0.6666666666666666,
              "#ed7953"
             ],
             [
              0.7777777777777778,
              "#fb9f3a"
             ],
             [
              0.8888888888888888,
              "#fdca26"
             ],
             [
              1,
              "#f0f921"
             ]
            ],
            "type": "heatmap"
           }
          ],
          "heatmapgl": [
           {
            "colorbar": {
             "outlinewidth": 0,
             "ticks": ""
            },
            "colorscale": [
             [
              0,
              "#0d0887"
             ],
             [
              0.1111111111111111,
              "#46039f"
             ],
             [
              0.2222222222222222,
              "#7201a8"
             ],
             [
              0.3333333333333333,
              "#9c179e"
             ],
             [
              0.4444444444444444,
              "#bd3786"
             ],
             [
              0.5555555555555556,
              "#d8576b"
             ],
             [
              0.6666666666666666,
              "#ed7953"
             ],
             [
              0.7777777777777778,
              "#fb9f3a"
             ],
             [
              0.8888888888888888,
              "#fdca26"
             ],
             [
              1,
              "#f0f921"
             ]
            ],
            "type": "heatmapgl"
           }
          ],
          "histogram": [
           {
            "marker": {
             "colorbar": {
              "outlinewidth": 0,
              "ticks": ""
             }
            },
            "type": "histogram"
           }
          ],
          "histogram2d": [
           {
            "colorbar": {
             "outlinewidth": 0,
             "ticks": ""
            },
            "colorscale": [
             [
              0,
              "#0d0887"
             ],
             [
              0.1111111111111111,
              "#46039f"
             ],
             [
              0.2222222222222222,
              "#7201a8"
             ],
             [
              0.3333333333333333,
              "#9c179e"
             ],
             [
              0.4444444444444444,
              "#bd3786"
             ],
             [
              0.5555555555555556,
              "#d8576b"
             ],
             [
              0.6666666666666666,
              "#ed7953"
             ],
             [
              0.7777777777777778,
              "#fb9f3a"
             ],
             [
              0.8888888888888888,
              "#fdca26"
             ],
             [
              1,
              "#f0f921"
             ]
            ],
            "type": "histogram2d"
           }
          ],
          "histogram2dcontour": [
           {
            "colorbar": {
             "outlinewidth": 0,
             "ticks": ""
            },
            "colorscale": [
             [
              0,
              "#0d0887"
             ],
             [
              0.1111111111111111,
              "#46039f"
             ],
             [
              0.2222222222222222,
              "#7201a8"
             ],
             [
              0.3333333333333333,
              "#9c179e"
             ],
             [
              0.4444444444444444,
              "#bd3786"
             ],
             [
              0.5555555555555556,
              "#d8576b"
             ],
             [
              0.6666666666666666,
              "#ed7953"
             ],
             [
              0.7777777777777778,
              "#fb9f3a"
             ],
             [
              0.8888888888888888,
              "#fdca26"
             ],
             [
              1,
              "#f0f921"
             ]
            ],
            "type": "histogram2dcontour"
           }
          ],
          "mesh3d": [
           {
            "colorbar": {
             "outlinewidth": 0,
             "ticks": ""
            },
            "type": "mesh3d"
           }
          ],
          "parcoords": [
           {
            "line": {
             "colorbar": {
              "outlinewidth": 0,
              "ticks": ""
             }
            },
            "type": "parcoords"
           }
          ],
          "pie": [
           {
            "automargin": true,
            "type": "pie"
           }
          ],
          "scatter": [
           {
            "marker": {
             "colorbar": {
              "outlinewidth": 0,
              "ticks": ""
             }
            },
            "type": "scatter"
           }
          ],
          "scatter3d": [
           {
            "line": {
             "colorbar": {
              "outlinewidth": 0,
              "ticks": ""
             }
            },
            "marker": {
             "colorbar": {
              "outlinewidth": 0,
              "ticks": ""
             }
            },
            "type": "scatter3d"
           }
          ],
          "scattercarpet": [
           {
            "marker": {
             "colorbar": {
              "outlinewidth": 0,
              "ticks": ""
             }
            },
            "type": "scattercarpet"
           }
          ],
          "scattergeo": [
           {
            "marker": {
             "colorbar": {
              "outlinewidth": 0,
              "ticks": ""
             }
            },
            "type": "scattergeo"
           }
          ],
          "scattergl": [
           {
            "marker": {
             "colorbar": {
              "outlinewidth": 0,
              "ticks": ""
             }
            },
            "type": "scattergl"
           }
          ],
          "scattermapbox": [
           {
            "marker": {
             "colorbar": {
              "outlinewidth": 0,
              "ticks": ""
             }
            },
            "type": "scattermapbox"
           }
          ],
          "scatterpolar": [
           {
            "marker": {
             "colorbar": {
              "outlinewidth": 0,
              "ticks": ""
             }
            },
            "type": "scatterpolar"
           }
          ],
          "scatterpolargl": [
           {
            "marker": {
             "colorbar": {
              "outlinewidth": 0,
              "ticks": ""
             }
            },
            "type": "scatterpolargl"
           }
          ],
          "scatterternary": [
           {
            "marker": {
             "colorbar": {
              "outlinewidth": 0,
              "ticks": ""
             }
            },
            "type": "scatterternary"
           }
          ],
          "surface": [
           {
            "colorbar": {
             "outlinewidth": 0,
             "ticks": ""
            },
            "colorscale": [
             [
              0,
              "#0d0887"
             ],
             [
              0.1111111111111111,
              "#46039f"
             ],
             [
              0.2222222222222222,
              "#7201a8"
             ],
             [
              0.3333333333333333,
              "#9c179e"
             ],
             [
              0.4444444444444444,
              "#bd3786"
             ],
             [
              0.5555555555555556,
              "#d8576b"
             ],
             [
              0.6666666666666666,
              "#ed7953"
             ],
             [
              0.7777777777777778,
              "#fb9f3a"
             ],
             [
              0.8888888888888888,
              "#fdca26"
             ],
             [
              1,
              "#f0f921"
             ]
            ],
            "type": "surface"
           }
          ],
          "table": [
           {
            "cells": {
             "fill": {
              "color": "#EBF0F8"
             },
             "line": {
              "color": "white"
             }
            },
            "header": {
             "fill": {
              "color": "#C8D4E3"
             },
             "line": {
              "color": "white"
             }
            },
            "type": "table"
           }
          ]
         },
         "layout": {
          "annotationdefaults": {
           "arrowcolor": "#2a3f5f",
           "arrowhead": 0,
           "arrowwidth": 1
          },
          "autotypenumbers": "strict",
          "coloraxis": {
           "colorbar": {
            "outlinewidth": 0,
            "ticks": ""
           }
          },
          "colorscale": {
           "diverging": [
            [
             0,
             "#8e0152"
            ],
            [
             0.1,
             "#c51b7d"
            ],
            [
             0.2,
             "#de77ae"
            ],
            [
             0.3,
             "#f1b6da"
            ],
            [
             0.4,
             "#fde0ef"
            ],
            [
             0.5,
             "#f7f7f7"
            ],
            [
             0.6,
             "#e6f5d0"
            ],
            [
             0.7,
             "#b8e186"
            ],
            [
             0.8,
             "#7fbc41"
            ],
            [
             0.9,
             "#4d9221"
            ],
            [
             1,
             "#276419"
            ]
           ],
           "sequential": [
            [
             0,
             "#0d0887"
            ],
            [
             0.1111111111111111,
             "#46039f"
            ],
            [
             0.2222222222222222,
             "#7201a8"
            ],
            [
             0.3333333333333333,
             "#9c179e"
            ],
            [
             0.4444444444444444,
             "#bd3786"
            ],
            [
             0.5555555555555556,
             "#d8576b"
            ],
            [
             0.6666666666666666,
             "#ed7953"
            ],
            [
             0.7777777777777778,
             "#fb9f3a"
            ],
            [
             0.8888888888888888,
             "#fdca26"
            ],
            [
             1,
             "#f0f921"
            ]
           ],
           "sequentialminus": [
            [
             0,
             "#0d0887"
            ],
            [
             0.1111111111111111,
             "#46039f"
            ],
            [
             0.2222222222222222,
             "#7201a8"
            ],
            [
             0.3333333333333333,
             "#9c179e"
            ],
            [
             0.4444444444444444,
             "#bd3786"
            ],
            [
             0.5555555555555556,
             "#d8576b"
            ],
            [
             0.6666666666666666,
             "#ed7953"
            ],
            [
             0.7777777777777778,
             "#fb9f3a"
            ],
            [
             0.8888888888888888,
             "#fdca26"
            ],
            [
             1,
             "#f0f921"
            ]
           ]
          },
          "colorway": [
           "#636efa",
           "#EF553B",
           "#00cc96",
           "#ab63fa",
           "#FFA15A",
           "#19d3f3",
           "#FF6692",
           "#B6E880",
           "#FF97FF",
           "#FECB52"
          ],
          "font": {
           "color": "#2a3f5f"
          },
          "geo": {
           "bgcolor": "white",
           "lakecolor": "white",
           "landcolor": "#E5ECF6",
           "showlakes": true,
           "showland": true,
           "subunitcolor": "white"
          },
          "hoverlabel": {
           "align": "left"
          },
          "hovermode": "closest",
          "mapbox": {
           "style": "light"
          },
          "paper_bgcolor": "white",
          "plot_bgcolor": "#E5ECF6",
          "polar": {
           "angularaxis": {
            "gridcolor": "white",
            "linecolor": "white",
            "ticks": ""
           },
           "bgcolor": "#E5ECF6",
           "radialaxis": {
            "gridcolor": "white",
            "linecolor": "white",
            "ticks": ""
           }
          },
          "scene": {
           "xaxis": {
            "backgroundcolor": "#E5ECF6",
            "gridcolor": "white",
            "gridwidth": 2,
            "linecolor": "white",
            "showbackground": true,
            "ticks": "",
            "zerolinecolor": "white"
           },
           "yaxis": {
            "backgroundcolor": "#E5ECF6",
            "gridcolor": "white",
            "gridwidth": 2,
            "linecolor": "white",
            "showbackground": true,
            "ticks": "",
            "zerolinecolor": "white"
           },
           "zaxis": {
            "backgroundcolor": "#E5ECF6",
            "gridcolor": "white",
            "gridwidth": 2,
            "linecolor": "white",
            "showbackground": true,
            "ticks": "",
            "zerolinecolor": "white"
           }
          },
          "shapedefaults": {
           "line": {
            "color": "#2a3f5f"
           }
          },
          "ternary": {
           "aaxis": {
            "gridcolor": "white",
            "linecolor": "white",
            "ticks": ""
           },
           "baxis": {
            "gridcolor": "white",
            "linecolor": "white",
            "ticks": ""
           },
           "bgcolor": "#E5ECF6",
           "caxis": {
            "gridcolor": "white",
            "linecolor": "white",
            "ticks": ""
           }
          },
          "title": {
           "x": 0.05
          },
          "xaxis": {
           "automargin": true,
           "gridcolor": "white",
           "linecolor": "white",
           "ticks": "",
           "title": {
            "standoff": 15
           },
           "zerolinecolor": "white",
           "zerolinewidth": 2
          },
          "yaxis": {
           "automargin": true,
           "gridcolor": "white",
           "linecolor": "white",
           "ticks": "",
           "title": {
            "standoff": 15
           },
           "zerolinecolor": "white",
           "zerolinewidth": 2
          }
         }
        },
        "title": "Residual = du_dx - v",
        "xaxis": {
         "title": {
          "text": "x"
         }
        }
       }
      },
      "image/png": "[encoded data removed]",
      "text/html": [
       "<div\n",
       "    class=\"webio-mountpoint\"\n",
       "    data-webio-mountpoint=\"4339433554701262098\"\n",
       ">\n",
       "    <script>\n",
       "    (function(){\n",
       "    // Some integrations (namely, IJulia/Jupyter) use an alternate render pathway than\n",
       "    // just putting the html on the page. If WebIO isn't defined, then it's pretty likely\n",
       "    // that we're in one of those situations and the integration just isn't installed\n",
       "    // correctly.\n",
       "    if (typeof window.WebIO === \"undefined\") {\n",
       "        document\n",
       "            .querySelector('[data-webio-mountpoint=\"4339433554701262098\"]')\n",
       "            .innerHTML = (\n",
       "                '<div style=\"padding: 1em; background-color: #f8d6da; border: 1px solid #f5c6cb; font-weight: bold;\">' +\n",
       "                '<p><strong>WebIO not detected.</strong></p>' +\n",
       "                '<p>Please read ' +\n",
       "                '<a href=\"https://juliagizmos.github.io/WebIO.jl/latest/troubleshooting/not-detected/\" target=\"_blank\">the troubleshooting guide</a> ' +\n",
       "                'for more information on how to resolve this issue.</p>' +\n",
       "                '<p><a href=\"https://juliagizmos.github.io/WebIO.jl/latest/troubleshooting/not-detected/\" target=\"_blank\">https://juliagizmos.github.io/WebIO.jl/latest/troubleshooting/not-detected/</a></p>' +\n",
       "                '</div>'\n",
       "            );\n",
       "        return;\n",
       "    }\n",
       "    WebIO.mount(\n",
       "        document.querySelector('[data-webio-mountpoint=\"4339433554701262098\"]'),\n",
       "        {\"props\":{},\"nodeType\":\"Scope\",\"type\":\"node\",\"instanceArgs\":{\"imports\":{\"data\":[{\"name\":\"Plotly\",\"type\":\"js\",\"url\":\"\\/assetserver\\/d6feb8d8ce4676ebdde817a0745950a35b4ba3ae-plotly.min.js\"},{\"name\":null,\"type\":\"js\",\"url\":\"\\/assetserver\\/517030b23c1c21e94bf622985d97a74a9582e066-plotly_webio.bundle.js\"}],\"type\":\"async_block\"},\"id\":\"3677734049590267457\",\"handlers\":{\"_toImage\":[\"(function (options){return this.Plotly.toImage(this.plotElem,options).then((function (data){return WebIO.setval({\\\"name\\\":\\\"image\\\",\\\"scope\\\":\\\"3677734049590267457\\\",\\\"id\\\":\\\"255\\\",\\\"type\\\":\\\"observable\\\"},data)}))})\"],\"__get_gd_contents\":[\"(function (prop){prop==\\\"data\\\" ? (WebIO.setval({\\\"name\\\":\\\"__gd_contents\\\",\\\"scope\\\":\\\"3677734049590267457\\\",\\\"id\\\":\\\"256\\\",\\\"type\\\":\\\"observable\\\"},this.plotElem.data)) : undefined; return prop==\\\"layout\\\" ? (WebIO.setval({\\\"name\\\":\\\"__gd_contents\\\",\\\"scope\\\":\\\"3677734049590267457\\\",\\\"id\\\":\\\"256\\\",\\\"type\\\":\\\"observable\\\"},this.plotElem.layout)) : undefined})\"],\"_downloadImage\":[\"(function (options){return this.Plotly.downloadImage(this.plotElem,options)})\"],\"_commands\":[\"(function (args){var fn=args.shift(); var elem=this.plotElem; var Plotly=this.Plotly; args.unshift(elem); return Plotly[fn].apply(this,args)})\"]},\"systemjs_options\":null,\"mount_callbacks\":[\"function () {\\n    var handler = ((function (Plotly,PlotlyWebIO){PlotlyWebIO.init(WebIO); var gd=this.dom.querySelector(\\\"#plot-267d2140-253b-4aee-b1fc-0089b8ae840c\\\"); this.plotElem=gd; this.Plotly=Plotly; (window.Blink!==undefined) ? (gd.style.width=\\\"100%\\\", gd.style.height=\\\"100vh\\\", gd.style.marginLeft=\\\"0%\\\", gd.style.marginTop=\\\"0vh\\\") : undefined; window.onresize=(function (){return Plotly.Plots.resize(gd)}); Plotly.newPlot(gd,[{\\\"mode\\\":\\\"markers+lines\\\",\\\"y\\\":[2.886579864025407e-15,-4.440892098500626e-16,2.220446049250313e-16,-2.220446049250313e-16,-2.4424906541753444e-15,0.0,0.0,5.10702591327572e-15,-3.3306690738754696e-15,-2.220446049250313e-16,2.4424906541753444e-15,1.5543122344752192e-15,-7.66053886991358e-15,-3.3306690738754696e-16,6.994405055138486e-15,5.551115123125783e-16,-5.4191162092821495e-15,2.9976021664879227e-15,-3.3306690738754696e-16,-1.1102230246251565e-15,1.2212453270876722e-15,-6.8833827526759706e-15,4.218847493575595e-15,2.220446049250313e-15,-1.9984014443252818e-15,2.6645352591003757e-15,2.220446049250313e-16,-1.9984014443252818e-15,2.6645352591003757e-15,-5.773159728050814e-15,3.3306690738754696e-15,-2.220446049250313e-16,0.0,4.773959005888173e-15,-2.55351295663786e-15,-2.3314683517128287e-15,1.1102230246251565e-16,-2.6645352591003757e-15,2.4980018054066022e-15,1.9984014443252818e-15,-3.774758283725532e-15,2.275957200481571e-15,2.7200464103316335e-15,-2.55351295663786e-15,-3.608224830031759e-16,-4.3298697960381105e-15,9.56179579958416e-15,-6.0021432268797525e-15,-8.949514985187097e-16,2.942091015256665e-15,-5.1486592766991635e-15,2.9976021664879227e-15,-2.3314683517128287e-15,1.582067810090848e-15,2.858824288409778e-15,-2.4980018054066022e-15,8.881784197001252e-16,5.551115123125783e-16,-1.3322676295501878e-15,7.66053886991358e-15,-9.103828801926284e-15,3.3306690738754696e-16,1.6653345369377348e-15,-4.440892098500626e-15],\\\"type\\\":\\\"scatter\\\",\\\"x\\\":[0.0,0.09817477042468103,0.19634954084936207,0.2945243112740431,0.39269908169872414,0.4908738521234052,0.5890486225480862,0.6872233929727672,0.7853981633974483,0.8835729338221293,0.9817477042468103,1.0799224746714913,1.1780972450961724,1.2762720155208536,1.3744467859455345,1.4726215563702154,1.5707963267948966,1.6689710972195777,1.7671458676442586,1.8653206380689396,1.9634954084936207,2.061670178918302,2.1598449493429825,2.2580197197676637,2.356194490192345,2.454369260617026,2.552544031041707,2.650718801466388,2.748893571891069,2.84706834231575,2.945243112740431,3.043417883165112,3.141592653589793,3.2397674240144743,3.3379421944391554,3.436116964863836,3.5342917352885173,3.6324665057131984,3.730641276137879,3.8288160465625602,3.9269908169872414,4.025165587411922,4.123340357836604,4.221515128261284,4.319689898685965,4.417864669110647,4.516039439535327,4.614214209960009,4.71238898038469,4.81056375080937,4.908738521234052,5.006913291658733,5.105088062083414,5.203262832508095,5.301437602932776,5.399612373357457,5.497787143782138,5.595961914206819,5.6941366846315,5.792311455056181,5.890486225480862,5.988660995905543,6.086835766330224,6.1850105367549055]}],{\\\"xaxis\\\":{\\\"title\\\":{\\\"text\\\":\\\"x\\\"}},\\\"template\\\":{\\\"layout\\\":{\\\"coloraxis\\\":{\\\"colorbar\\\":{\\\"ticks\\\":\\\"\\\",\\\"outlinewidth\\\":0}},\\\"xaxis\\\":{\\\"gridcolor\\\":\\\"white\\\",\\\"zerolinewidth\\\":2,\\\"title\\\":{\\\"standoff\\\":15},\\\"ticks\\\":\\\"\\\",\\\"zerolinecolor\\\":\\\"white\\\",\\\"automargin\\\":true,\\\"linecolor\\\":\\\"white\\\"},\\\"hovermode\\\":\\\"closest\\\",\\\"paper_bgcolor\\\":\\\"white\\\",\\\"geo\\\":{\\\"showlakes\\\":true,\\\"showland\\\":true,\\\"landcolor\\\":\\\"#E5ECF6\\\",\\\"bgcolor\\\":\\\"white\\\",\\\"subunitcolor\\\":\\\"white\\\",\\\"lakecolor\\\":\\\"white\\\"},\\\"colorscale\\\":{\\\"sequential\\\":[[0.0,\\\"#0d0887\\\"],[0.1111111111111111,\\\"#46039f\\\"],[0.2222222222222222,\\\"#7201a8\\\"],[0.3333333333333333,\\\"#9c179e\\\"],[0.4444444444444444,\\\"#bd3786\\\"],[0.5555555555555556,\\\"#d8576b\\\"],[0.6666666666666666,\\\"#ed7953\\\"],[0.7777777777777778,\\\"#fb9f3a\\\"],[0.8888888888888888,\\\"#fdca26\\\"],[1.0,\\\"#f0f921\\\"]],\\\"diverging\\\":[[0,\\\"#8e0152\\\"],[0.1,\\\"#c51b7d\\\"],[0.2,\\\"#de77ae\\\"],[0.3,\\\"#f1b6da\\\"],[0.4,\\\"#fde0ef\\\"],[0.5,\\\"#f7f7f7\\\"],[0.6,\\\"#e6f5d0\\\"],[0.7,\\\"#b8e186\\\"],[0.8,\\\"#7fbc41\\\"],[0.9,\\\"#4d9221\\\"],[1,\\\"#276419\\\"]],\\\"sequentialminus\\\":[[0.0,\\\"#0d0887\\\"],[0.1111111111111111,\\\"#46039f\\\"],[0.2222222222222222,\\\"#7201a8\\\"],[0.3333333333333333,\\\"#9c179e\\\"],[0.4444444444444444,\\\"#bd3786\\\"],[0.5555555555555556,\\\"#d8576b\\\"],[0.6666666666666666,\\\"#ed7953\\\"],[0.7777777777777778,\\\"#fb9f3a\\\"],[0.8888888888888888,\\\"#fdca26\\\"],[1.0,\\\"#f0f921\\\"]]},\\\"yaxis\\\":{\\\"gridcolor\\\":\\\"white\\\",\\\"zerolinewidth\\\":2,\\\"title\\\":{\\\"standoff\\\":15},\\\"ticks\\\":\\\"\\\",\\\"zerolinecolor\\\":\\\"white\\\",\\\"automargin\\\":true,\\\"linecolor\\\":\\\"white\\\"},\\\"shapedefaults\\\":{\\\"line\\\":{\\\"color\\\":\\\"#2a3f5f\\\"}},\\\"hoverlabel\\\":{\\\"align\\\":\\\"left\\\"},\\\"mapbox\\\":{\\\"style\\\":\\\"light\\\"},\\\"polar\\\":{\\\"angularaxis\\\":{\\\"gridcolor\\\":\\\"white\\\",\\\"ticks\\\":\\\"\\\",\\\"linecolor\\\":\\\"white\\\"},\\\"bgcolor\\\":\\\"#E5ECF6\\\",\\\"radialaxis\\\":{\\\"gridcolor\\\":\\\"white\\\",\\\"ticks\\\":\\\"\\\",\\\"linecolor\\\":\\\"white\\\"}},\\\"autotypenumbers\\\":\\\"strict\\\",\\\"font\\\":{\\\"color\\\":\\\"#2a3f5f\\\"},\\\"ternary\\\":{\\\"baxis\\\":{\\\"gridcolor\\\":\\\"white\\\",\\\"ticks\\\":\\\"\\\",\\\"linecolor\\\":\\\"white\\\"},\\\"bgcolor\\\":\\\"#E5ECF6\\\",\\\"caxis\\\":{\\\"gridcolor\\\":\\\"white\\\",\\\"ticks\\\":\\\"\\\",\\\"linecolor\\\":\\\"white\\\"},\\\"aaxis\\\":{\\\"gridcolor\\\":\\\"white\\\",\\\"ticks\\\":\\\"\\\",\\\"linecolor\\\":\\\"white\\\"}},\\\"annotationdefaults\\\":{\\\"arrowhead\\\":0,\\\"arrowwidth\\\":1,\\\"arrowcolor\\\":\\\"#2a3f5f\\\"},\\\"plot_bgcolor\\\":\\\"#E5ECF6\\\",\\\"title\\\":{\\\"x\\\":0.05},\\\"scene\\\":{\\\"xaxis\\\":{\\\"gridcolor\\\":\\\"white\\\",\\\"gridwidth\\\":2,\\\"backgroundcolor\\\":\\\"#E5ECF6\\\",\\\"ticks\\\":\\\"\\\",\\\"showbackground\\\":true,\\\"zerolinecolor\\\":\\\"white\\\",\\\"linecolor\\\":\\\"white\\\"},\\\"zaxis\\\":{\\\"gridcolor\\\":\\\"white\\\",\\\"gridwidth\\\":2,\\\"backgroundcolor\\\":\\\"#E5ECF6\\\",\\\"ticks\\\":\\\"\\\",\\\"showbackground\\\":true,\\\"zerolinecolor\\\":\\\"white\\\",\\\"linecolor\\\":\\\"white\\\"},\\\"yaxis\\\":{\\\"gridcolor\\\":\\\"white\\\",\\\"gridwidth\\\":2,\\\"backgroundcolor\\\":\\\"#E5ECF6\\\",\\\"ticks\\\":\\\"\\\",\\\"showbackground\\\":true,\\\"zerolinecolor\\\":\\\"white\\\",\\\"linecolor\\\":\\\"white\\\"}},\\\"colorway\\\":[\\\"#636efa\\\",\\\"#EF553B\\\",\\\"#00cc96\\\",\\\"#ab63fa\\\",\\\"#FFA15A\\\",\\\"#19d3f3\\\",\\\"#FF6692\\\",\\\"#B6E880\\\",\\\"#FF97FF\\\",\\\"#FECB52\\\"]},\\\"data\\\":{\\\"barpolar\\\":[{\\\"type\\\":\\\"barpolar\\\",\\\"marker\\\":{\\\"line\\\":{\\\"color\\\":\\\"#E5ECF6\\\",\\\"width\\\":0.5}}}],\\\"carpet\\\":[{\\\"aaxis\\\":{\\\"gridcolor\\\":\\\"white\\\",\\\"endlinecolor\\\":\\\"#2a3f5f\\\",\\\"minorgridcolor\\\":\\\"white\\\",\\\"startlinecolor\\\":\\\"#2a3f5f\\\",\\\"linecolor\\\":\\\"white\\\"},\\\"type\\\":\\\"carpet\\\",\\\"baxis\\\":{\\\"gridcolor\\\":\\\"white\\\",\\\"endlinecolor\\\":\\\"#2a3f5f\\\",\\\"minorgridcolor\\\":\\\"white\\\",\\\"startlinecolor\\\":\\\"#2a3f5f\\\",\\\"linecolor\\\":\\\"white\\\"}}],\\\"scatterpolar\\\":[{\\\"type\\\":\\\"scatterpolar\\\",\\\"marker\\\":{\\\"colorbar\\\":{\\\"ticks\\\":\\\"\\\",\\\"outlinewidth\\\":0}}}],\\\"parcoords\\\":[{\\\"line\\\":{\\\"colorbar\\\":{\\\"ticks\\\":\\\"\\\",\\\"outlinewidth\\\":0}},\\\"type\\\":\\\"parcoords\\\"}],\\\"scatter\\\":[{\\\"type\\\":\\\"scatter\\\",\\\"marker\\\":{\\\"colorbar\\\":{\\\"ticks\\\":\\\"\\\",\\\"outlinewidth\\\":0}}}],\\\"histogram2dcontour\\\":[{\\\"colorbar\\\":{\\\"ticks\\\":\\\"\\\",\\\"outlinewidth\\\":0},\\\"type\\\":\\\"histogram2dcontour\\\",\\\"colorscale\\\":[[0.0,\\\"#0d0887\\\"],[0.1111111111111111,\\\"#46039f\\\"],[0.2222222222222222,\\\"#7201a8\\\"],[0.3333333333333333,\\\"#9c179e\\\"],[0.4444444444444444,\\\"#bd3786\\\"],[0.5555555555555556,\\\"#d8576b\\\"],[0.6666666666666666,\\\"#ed7953\\\"],[0.7777777777777778,\\\"#fb9f3a\\\"],[0.8888888888888888,\\\"#fdca26\\\"],[1.0,\\\"#f0f921\\\"]]}],\\\"contour\\\":[{\\\"colorbar\\\":{\\\"ticks\\\":\\\"\\\",\\\"outlinewidth\\\":0},\\\"type\\\":\\\"contour\\\",\\\"colorscale\\\":[[0.0,\\\"#0d0887\\\"],[0.1111111111111111,\\\"#46039f\\\"],[0.2222222222222222,\\\"#7201a8\\\"],[0.3333333333333333,\\\"#9c179e\\\"],[0.4444444444444444,\\\"#bd3786\\\"],[0.5555555555555556,\\\"#d8576b\\\"],[0.6666666666666666,\\\"#ed7953\\\"],[0.7777777777777778,\\\"#fb9f3a\\\"],[0.8888888888888888,\\\"#fdca26\\\"],[1.0,\\\"#f0f921\\\"]]}],\\\"scattercarpet\\\":[{\\\"type\\\":\\\"scattercarpet\\\",\\\"marker\\\":{\\\"colorbar\\\":{\\\"ticks\\\":\\\"\\\",\\\"outlinewidth\\\":0}}}],\\\"mesh3d\\\":[{\\\"colorbar\\\":{\\\"ticks\\\":\\\"\\\",\\\"outlinewidth\\\":0},\\\"type\\\":\\\"mesh3d\\\"}],\\\"surface\\\":[{\\\"colorbar\\\":{\\\"ticks\\\":\\\"\\\",\\\"outlinewidth\\\":0},\\\"type\\\":\\\"surface\\\",\\\"colorscale\\\":[[0.0,\\\"#0d0887\\\"],[0.1111111111111111,\\\"#46039f\\\"],[0.2222222222222222,\\\"#7201a8\\\"],[0.3333333333333333,\\\"#9c179e\\\"],[0.4444444444444444,\\\"#bd3786\\\"],[0.5555555555555556,\\\"#d8576b\\\"],[0.6666666666666666,\\\"#ed7953\\\"],[0.7777777777777778,\\\"#fb9f3a\\\"],[0.8888888888888888,\\\"#fdca26\\\"],[1.0,\\\"#f0f921\\\"]]}],\\\"scattermapbox\\\":[{\\\"type\\\":\\\"scattermapbox\\\",\\\"marker\\\":{\\\"colorbar\\\":{\\\"ticks\\\":\\\"\\\",\\\"outlinewidth\\\":0}}}],\\\"scattergeo\\\":[{\\\"type\\\":\\\"scattergeo\\\",\\\"marker\\\":{\\\"colorbar\\\":{\\\"ticks\\\":\\\"\\\",\\\"outlinewidth\\\":0}}}],\\\"histogram\\\":[{\\\"type\\\":\\\"histogram\\\",\\\"marker\\\":{\\\"colorbar\\\":{\\\"ticks\\\":\\\"\\\",\\\"outlinewidth\\\":0}}}],\\\"pie\\\":[{\\\"type\\\":\\\"pie\\\",\\\"automargin\\\":true}],\\\"choropleth\\\":[{\\\"colorbar\\\":{\\\"ticks\\\":\\\"\\\",\\\"outlinewidth\\\":0},\\\"type\\\":\\\"choropleth\\\"}],\\\"heatmapgl\\\":[{\\\"colorbar\\\":{\\\"ticks\\\":\\\"\\\",\\\"outlinewidth\\\":0},\\\"type\\\":\\\"heatmapgl\\\",\\\"colorscale\\\":[[0.0,\\\"#0d0887\\\"],[0.1111111111111111,\\\"#46039f\\\"],[0.2222222222222222,\\\"#7201a8\\\"],[0.3333333333333333,\\\"#9c179e\\\"],[0.4444444444444444,\\\"#bd3786\\\"],[0.5555555555555556,\\\"#d8576b\\\"],[0.6666666666666666,\\\"#ed7953\\\"],[0.7777777777777778,\\\"#fb9f3a\\\"],[0.8888888888888888,\\\"#fdca26\\\"],[1.0,\\\"#f0f921\\\"]]}],\\\"bar\\\":[{\\\"type\\\":\\\"bar\\\",\\\"error_y\\\":{\\\"color\\\":\\\"#2a3f5f\\\"},\\\"error_x\\\":{\\\"color\\\":\\\"#2a3f5f\\\"},\\\"marker\\\":{\\\"line\\\":{\\\"color\\\":\\\"#E5ECF6\\\",\\\"width\\\":0.5}}}],\\\"heatmap\\\":[{\\\"colorbar\\\":{\\\"ticks\\\":\\\"\\\",\\\"outlinewidth\\\":0},\\\"type\\\":\\\"heatmap\\\",\\\"colorscale\\\":[[0.0,\\\"#0d0887\\\"],[0.1111111111111111,\\\"#46039f\\\"],[0.2222222222222222,\\\"#7201a8\\\"],[0.3333333333333333,\\\"#9c179e\\\"],[0.4444444444444444,\\\"#bd3786\\\"],[0.5555555555555556,\\\"#d8576b\\\"],[0.6666666666666666,\\\"#ed7953\\\"],[0.7777777777777778,\\\"#fb9f3a\\\"],[0.8888888888888888,\\\"#fdca26\\\"],[1.0,\\\"#f0f921\\\"]]}],\\\"contourcarpet\\\":[{\\\"colorbar\\\":{\\\"ticks\\\":\\\"\\\",\\\"outlinewidth\\\":0},\\\"type\\\":\\\"contourcarpet\\\"}],\\\"table\\\":[{\\\"type\\\":\\\"table\\\",\\\"header\\\":{\\\"line\\\":{\\\"color\\\":\\\"white\\\"},\\\"fill\\\":{\\\"color\\\":\\\"#C8D4E3\\\"}},\\\"cells\\\":{\\\"line\\\":{\\\"color\\\":\\\"white\\\"},\\\"fill\\\":{\\\"color\\\":\\\"#EBF0F8\\\"}}}],\\\"scatter3d\\\":[{\\\"line\\\":{\\\"colorbar\\\":{\\\"ticks\\\":\\\"\\\",\\\"outlinewidth\\\":0}},\\\"type\\\":\\\"scatter3d\\\",\\\"marker\\\":{\\\"colorbar\\\":{\\\"ticks\\\":\\\"\\\",\\\"outlinewidth\\\":0}}}],\\\"scattergl\\\":[{\\\"type\\\":\\\"scattergl\\\",\\\"marker\\\":{\\\"colorbar\\\":{\\\"ticks\\\":\\\"\\\",\\\"outlinewidth\\\":0}}}],\\\"histogram2d\\\":[{\\\"colorbar\\\":{\\\"ticks\\\":\\\"\\\",\\\"outlinewidth\\\":0},\\\"type\\\":\\\"histogram2d\\\",\\\"colorscale\\\":[[0.0,\\\"#0d0887\\\"],[0.1111111111111111,\\\"#46039f\\\"],[0.2222222222222222,\\\"#7201a8\\\"],[0.3333333333333333,\\\"#9c179e\\\"],[0.4444444444444444,\\\"#bd3786\\\"],[0.5555555555555556,\\\"#d8576b\\\"],[0.6666666666666666,\\\"#ed7953\\\"],[0.7777777777777778,\\\"#fb9f3a\\\"],[0.8888888888888888,\\\"#fdca26\\\"],[1.0,\\\"#f0f921\\\"]]}],\\\"scatterternary\\\":[{\\\"type\\\":\\\"scatterternary\\\",\\\"marker\\\":{\\\"colorbar\\\":{\\\"ticks\\\":\\\"\\\",\\\"outlinewidth\\\":0}}}],\\\"scatterpolargl\\\":[{\\\"type\\\":\\\"scatterpolargl\\\",\\\"marker\\\":{\\\"colorbar\\\":{\\\"ticks\\\":\\\"\\\",\\\"outlinewidth\\\":0}}}]}},\\\"margin\\\":{\\\"l\\\":50,\\\"b\\\":50,\\\"r\\\":50,\\\"t\\\":60},\\\"title\\\":\\\"Residual = du_dx - v\\\"},{\\\"showLink\\\":false,\\\"editable\\\":false,\\\"responsive\\\":true,\\\"staticPlot\\\":false,\\\"scrollZoom\\\":true}); gd.on(\\\"plotly_hover\\\",(function (data){var filtered_data=WebIO.PlotlyCommands.filterEventData(gd,data,\\\"hover\\\"); return !(filtered_data.isnil) ? (WebIO.setval({\\\"name\\\":\\\"hover\\\",\\\"scope\\\":\\\"3677734049590267457\\\",\\\"id\\\":\\\"251\\\",\\\"type\\\":\\\"observable\\\"},filtered_data.out)) : undefined})); gd.on(\\\"plotly_unhover\\\",(function (){return WebIO.setval({\\\"name\\\":\\\"hover\\\",\\\"scope\\\":\\\"3677734049590267457\\\",\\\"id\\\":\\\"251\\\",\\\"type\\\":\\\"observable\\\"},{})})); gd.on(\\\"plotly_selected\\\",(function (data){var filtered_data=WebIO.PlotlyCommands.filterEventData(gd,data,\\\"selected\\\"); return !(filtered_data.isnil) ? (WebIO.setval({\\\"name\\\":\\\"selected\\\",\\\"scope\\\":\\\"3677734049590267457\\\",\\\"id\\\":\\\"252\\\",\\\"type\\\":\\\"observable\\\"},filtered_data.out)) : undefined})); gd.on(\\\"plotly_deselect\\\",(function (){return WebIO.setval({\\\"name\\\":\\\"selected\\\",\\\"scope\\\":\\\"3677734049590267457\\\",\\\"id\\\":\\\"252\\\",\\\"type\\\":\\\"observable\\\"},{})})); gd.on(\\\"plotly_relayout\\\",(function (data){var filtered_data=WebIO.PlotlyCommands.filterEventData(gd,data,\\\"relayout\\\"); return !(filtered_data.isnil) ? (WebIO.setval({\\\"name\\\":\\\"relayout\\\",\\\"scope\\\":\\\"3677734049590267457\\\",\\\"id\\\":\\\"254\\\",\\\"type\\\":\\\"observable\\\"},filtered_data.out)) : undefined})); return gd.on(\\\"plotly_click\\\",(function (data){var filtered_data=WebIO.PlotlyCommands.filterEventData(gd,data,\\\"click\\\"); return !(filtered_data.isnil) ? (WebIO.setval({\\\"name\\\":\\\"click\\\",\\\"scope\\\":\\\"3677734049590267457\\\",\\\"id\\\":\\\"253\\\",\\\"type\\\":\\\"observable\\\"},filtered_data.out)) : undefined}))}));\\n    (WebIO.importBlock({\\\"data\\\":[{\\\"name\\\":\\\"Plotly\\\",\\\"type\\\":\\\"js\\\",\\\"url\\\":\\\"\\/assetserver\\/d6feb8d8ce4676ebdde817a0745950a35b4ba3ae-plotly.min.js\\\"},{\\\"name\\\":null,\\\"type\\\":\\\"js\\\",\\\"url\\\":\\\"\\/assetserver\\/517030b23c1c21e94bf622985d97a74a9582e066-plotly_webio.bundle.js\\\"}],\\\"type\\\":\\\"async_block\\\"})).then((imports) => handler.apply(this, imports));\\n}\\n\"],\"observables\":{\"_toImage\":{\"sync\":false,\"id\":\"258\",\"value\":{}},\"hover\":{\"sync\":false,\"id\":\"251\",\"value\":{}},\"selected\":{\"sync\":false,\"id\":\"252\",\"value\":{}},\"__gd_contents\":{\"sync\":false,\"id\":\"256\",\"value\":{}},\"click\":{\"sync\":false,\"id\":\"253\",\"value\":{}},\"image\":{\"sync\":true,\"id\":\"255\",\"value\":\"\"},\"__get_gd_contents\":{\"sync\":false,\"id\":\"260\",\"value\":\"\"},\"_downloadImage\":{\"sync\":false,\"id\":\"259\",\"value\":{}},\"relayout\":{\"sync\":false,\"id\":\"254\",\"value\":{}},\"_commands\":{\"sync\":false,\"id\":\"257\",\"value\":[]}}},\"children\":[{\"props\":{\"id\":\"plot-267d2140-253b-4aee-b1fc-0089b8ae840c\"},\"nodeType\":\"DOM\",\"type\":\"node\",\"instanceArgs\":{\"namespace\":\"html\",\"tag\":\"div\"},\"children\":[]}]},\n",
       "        window,\n",
       "    );\n",
       "    })()\n",
       "    </script>\n",
       "</div>\n"
      ],
      "text/plain": [
       "data: [\n",
       "  \"scatter with fields mode, type, x, and y\"\n",
       "]\n",
       "\n",
       "layout: \"layout with fields margin, template, title, and xaxis\"\n",
       "\n"
      ]
     },
     "execution_count": 194,
     "metadata": {},
     "output_type": "execute_result"
    }
   ],
   "source": [
    "plot([\n",
    "    scatter(x=x, y=du_dx - v, mode=\"markers+lines\")],\n",
    "    Layout(xaxis_title=\"x\", title=\"Residual = du_dx - v\") #yaxis_title=\"u(x)\",  \n",
    ")"
   ]
  },
  {
   "cell_type": "markdown",
   "id": "dd53ef2b-7677-4af6-82e5-8f4cf07d4515",
   "metadata": {},
   "source": [
    "2.\n",
    "$$\n",
    "u(x) = \\left[\\sin^{2}\\left(\\frac{1}{2}\\pi x\\right)\\right]^{\\frac{3}{4}}$$\n",
    "\n",
    "\n",
    "\n",
    "Unlike our previous function, this function is not $C^{\\infty}$. While we can still use spectral differentiation, this reduces the quality of the approximations. Let's start plotting $u(x)$ first."
   ]
  },
  {
   "cell_type": "code",
   "execution_count": 195,
   "id": "4bcd3f6b-65c7-41f2-9eda-983f2175fa1d",
   "metadata": {},
   "outputs": [],
   "source": [
    "N = 64 # number of points\n",
    "h = 2 * pi/N # stepsize\n",
    "x = h * collect(0:N-1) # domain\n",
    "u = ((sin.(1/2 * pi * x)).^2).^(3/4); # function"
   ]
  },
  {
   "cell_type": "code",
   "execution_count": 196,
   "id": "ef7cd1f5-c694-464d-b7ea-c97373891826",
   "metadata": {},
   "outputs": [
    {
     "data": {
      "application/vnd.plotly.v1+json": {
       "config": {
        "editable": false,
        "responsive": true,
        "scrollZoom": true,
        "showLink": false,
        "staticPlot": false
       },
       "data": [
        {
         "mode": "markers+lines",
         "name": "u",
         "type": "scatter",
         "x": [
          0,
          0.09817477042468103,
          0.19634954084936207,
          0.2945243112740431,
          0.39269908169872414,
          0.4908738521234052,
          0.5890486225480862,
          0.6872233929727672,
          0.7853981633974483,
          0.8835729338221293,
          0.9817477042468103,
          1.0799224746714913,
          1.1780972450961724,
          1.2762720155208536,
          1.3744467859455345,
          1.4726215563702154,
          1.5707963267948966,
          1.6689710972195777,
          1.7671458676442586,
          1.8653206380689396,
          1.9634954084936207,
          2.061670178918302,
          2.1598449493429825,
          2.2580197197676637,
          2.356194490192345,
          2.454369260617026,
          2.552544031041707,
          2.650718801466388,
          2.748893571891069,
          2.84706834231575,
          2.945243112740431,
          3.043417883165112,
          3.141592653589793,
          3.2397674240144743,
          3.3379421944391554,
          3.436116964863836,
          3.5342917352885173,
          3.6324665057131984,
          3.730641276137879,
          3.8288160465625602,
          3.9269908169872414,
          4.025165587411922,
          4.123340357836604,
          4.221515128261284,
          4.319689898685965,
          4.417864669110647,
          4.516039439535327,
          4.614214209960009,
          4.71238898038469,
          4.81056375080937,
          4.908738521234052,
          5.006913291658733,
          5.105088062083414,
          5.203262832508095,
          5.301437602932776,
          5.399612373357457,
          5.497787143782138,
          5.595961914206819,
          5.6941366846315,
          5.792311455056181,
          5.890486225480862,
          5.988660995905543,
          6.086835766330224,
          6.1850105367549055
         ],
         "y": [
          0,
          0.060199871169201606,
          0.16724899653091205,
          0.29816389148742845,
          0.43996679220259904,
          0.5817731955226367,
          0.7139142701423816,
          0.827929486925611,
          0.9167780206976732,
          0.9750897193613065,
          0.9993836014106907,
          0.988218192050885,
          0.9422553851361676,
          0.8642310121116414,
          0.7588352011513272,
          0.6325161936568386,
          0.4932356669503813,
          0.35023016103147464,
          0.21390201608161177,
          0.09621990091113922,
          0.01371968130929541,
          0.030079696454822016,
          0.1238422783295587,
          0.24758573086646374,
          0.3866871230746825,
          0.529682097632569,
          0.6664732044962527,
          0.7881317918380558,
          0.8870597994074642,
          0.9572375957436907,
          0.994460010288588,
          0.9965148828135793,
          0.9632804272333862,
          0.8967306517979785,
          0.8008482705714718,
          0.6814546107770753,
          0.5459784446472915,
          0.40320600224895486,
          0.2631008184153604,
          0.1369320199676554,
          0.03870949022660817,
          0.007856348775902515,
          0.08448061571689816,
          0.19910681679403114,
          0.333933519668156,
          0.4767220076169753,
          0.616926797141142,
          0.7451756813509238,
          0.853348493790743,
          0.934809181142908,
          0.9846532958825603,
          0.9999115576840765,
          0.979679255393049,
          0.9251564414081859,
          0.839594689307212,
          0.7281560572527176,
          0.5977010614602242,
          0.4565387711587559,
          0.31420493975997954,
          0.1814269691599844,
          0.07082177864272264,
          0.002376882643405448,
          0.050142556991521245,
          0.15338356111913928
         ]
        }
       ],
       "frames": [],
       "layout": {
        "margin": {
         "b": 50,
         "l": 50,
         "r": 50,
         "t": 60
        },
        "template": {
         "data": {
          "bar": [
           {
            "error_x": {
             "color": "#2a3f5f"
            },
            "error_y": {
             "color": "#2a3f5f"
            },
            "marker": {
             "line": {
              "color": "#E5ECF6",
              "width": 0.5
             }
            },
            "type": "bar"
           }
          ],
          "barpolar": [
           {
            "marker": {
             "line": {
              "color": "#E5ECF6",
              "width": 0.5
             }
            },
            "type": "barpolar"
           }
          ],
          "carpet": [
           {
            "aaxis": {
             "endlinecolor": "#2a3f5f",
             "gridcolor": "white",
             "linecolor": "white",
             "minorgridcolor": "white",
             "startlinecolor": "#2a3f5f"
            },
            "baxis": {
             "endlinecolor": "#2a3f5f",
             "gridcolor": "white",
             "linecolor": "white",
             "minorgridcolor": "white",
             "startlinecolor": "#2a3f5f"
            },
            "type": "carpet"
           }
          ],
          "choropleth": [
           {
            "colorbar": {
             "outlinewidth": 0,
             "ticks": ""
            },
            "type": "choropleth"
           }
          ],
          "contour": [
           {
            "colorbar": {
             "outlinewidth": 0,
             "ticks": ""
            },
            "colorscale": [
             [
              0,
              "#0d0887"
             ],
             [
              0.1111111111111111,
              "#46039f"
             ],
             [
              0.2222222222222222,
              "#7201a8"
             ],
             [
              0.3333333333333333,
              "#9c179e"
             ],
             [
              0.4444444444444444,
              "#bd3786"
             ],
             [
              0.5555555555555556,
              "#d8576b"
             ],
             [
              0.6666666666666666,
              "#ed7953"
             ],
             [
              0.7777777777777778,
              "#fb9f3a"
             ],
             [
              0.8888888888888888,
              "#fdca26"
             ],
             [
              1,
              "#f0f921"
             ]
            ],
            "type": "contour"
           }
          ],
          "contourcarpet": [
           {
            "colorbar": {
             "outlinewidth": 0,
             "ticks": ""
            },
            "type": "contourcarpet"
           }
          ],
          "heatmap": [
           {
            "colorbar": {
             "outlinewidth": 0,
             "ticks": ""
            },
            "colorscale": [
             [
              0,
              "#0d0887"
             ],
             [
              0.1111111111111111,
              "#46039f"
             ],
             [
              0.2222222222222222,
              "#7201a8"
             ],
             [
              0.3333333333333333,
              "#9c179e"
             ],
             [
              0.4444444444444444,
              "#bd3786"
             ],
             [
              0.5555555555555556,
              "#d8576b"
             ],
             [
              0.6666666666666666,
              "#ed7953"
             ],
             [
              0.7777777777777778,
              "#fb9f3a"
             ],
             [
              0.8888888888888888,
              "#fdca26"
             ],
             [
              1,
              "#f0f921"
             ]
            ],
            "type": "heatmap"
           }
          ],
          "heatmapgl": [
           {
            "colorbar": {
             "outlinewidth": 0,
             "ticks": ""
            },
            "colorscale": [
             [
              0,
              "#0d0887"
             ],
             [
              0.1111111111111111,
              "#46039f"
             ],
             [
              0.2222222222222222,
              "#7201a8"
             ],
             [
              0.3333333333333333,
              "#9c179e"
             ],
             [
              0.4444444444444444,
              "#bd3786"
             ],
             [
              0.5555555555555556,
              "#d8576b"
             ],
             [
              0.6666666666666666,
              "#ed7953"
             ],
             [
              0.7777777777777778,
              "#fb9f3a"
             ],
             [
              0.8888888888888888,
              "#fdca26"
             ],
             [
              1,
              "#f0f921"
             ]
            ],
            "type": "heatmapgl"
           }
          ],
          "histogram": [
           {
            "marker": {
             "colorbar": {
              "outlinewidth": 0,
              "ticks": ""
             }
            },
            "type": "histogram"
           }
          ],
          "histogram2d": [
           {
            "colorbar": {
             "outlinewidth": 0,
             "ticks": ""
            },
            "colorscale": [
             [
              0,
              "#0d0887"
             ],
             [
              0.1111111111111111,
              "#46039f"
             ],
             [
              0.2222222222222222,
              "#7201a8"
             ],
             [
              0.3333333333333333,
              "#9c179e"
             ],
             [
              0.4444444444444444,
              "#bd3786"
             ],
             [
              0.5555555555555556,
              "#d8576b"
             ],
             [
              0.6666666666666666,
              "#ed7953"
             ],
             [
              0.7777777777777778,
              "#fb9f3a"
             ],
             [
              0.8888888888888888,
              "#fdca26"
             ],
             [
              1,
              "#f0f921"
             ]
            ],
            "type": "histogram2d"
           }
          ],
          "histogram2dcontour": [
           {
            "colorbar": {
             "outlinewidth": 0,
             "ticks": ""
            },
            "colorscale": [
             [
              0,
              "#0d0887"
             ],
             [
              0.1111111111111111,
              "#46039f"
             ],
             [
              0.2222222222222222,
              "#7201a8"
             ],
             [
              0.3333333333333333,
              "#9c179e"
             ],
             [
              0.4444444444444444,
              "#bd3786"
             ],
             [
              0.5555555555555556,
              "#d8576b"
             ],
             [
              0.6666666666666666,
              "#ed7953"
             ],
             [
              0.7777777777777778,
              "#fb9f3a"
             ],
             [
              0.8888888888888888,
              "#fdca26"
             ],
             [
              1,
              "#f0f921"
             ]
            ],
            "type": "histogram2dcontour"
           }
          ],
          "mesh3d": [
           {
            "colorbar": {
             "outlinewidth": 0,
             "ticks": ""
            },
            "type": "mesh3d"
           }
          ],
          "parcoords": [
           {
            "line": {
             "colorbar": {
              "outlinewidth": 0,
              "ticks": ""
             }
            },
            "type": "parcoords"
           }
          ],
          "pie": [
           {
            "automargin": true,
            "type": "pie"
           }
          ],
          "scatter": [
           {
            "marker": {
             "colorbar": {
              "outlinewidth": 0,
              "ticks": ""
             }
            },
            "type": "scatter"
           }
          ],
          "scatter3d": [
           {
            "line": {
             "colorbar": {
              "outlinewidth": 0,
              "ticks": ""
             }
            },
            "marker": {
             "colorbar": {
              "outlinewidth": 0,
              "ticks": ""
             }
            },
            "type": "scatter3d"
           }
          ],
          "scattercarpet": [
           {
            "marker": {
             "colorbar": {
              "outlinewidth": 0,
              "ticks": ""
             }
            },
            "type": "scattercarpet"
           }
          ],
          "scattergeo": [
           {
            "marker": {
             "colorbar": {
              "outlinewidth": 0,
              "ticks": ""
             }
            },
            "type": "scattergeo"
           }
          ],
          "scattergl": [
           {
            "marker": {
             "colorbar": {
              "outlinewidth": 0,
              "ticks": ""
             }
            },
            "type": "scattergl"
           }
          ],
          "scattermapbox": [
           {
            "marker": {
             "colorbar": {
              "outlinewidth": 0,
              "ticks": ""
             }
            },
            "type": "scattermapbox"
           }
          ],
          "scatterpolar": [
           {
            "marker": {
             "colorbar": {
              "outlinewidth": 0,
              "ticks": ""
             }
            },
            "type": "scatterpolar"
           }
          ],
          "scatterpolargl": [
           {
            "marker": {
             "colorbar": {
              "outlinewidth": 0,
              "ticks": ""
             }
            },
            "type": "scatterpolargl"
           }
          ],
          "scatterternary": [
           {
            "marker": {
             "colorbar": {
              "outlinewidth": 0,
              "ticks": ""
             }
            },
            "type": "scatterternary"
           }
          ],
          "surface": [
           {
            "colorbar": {
             "outlinewidth": 0,
             "ticks": ""
            },
            "colorscale": [
             [
              0,
              "#0d0887"
             ],
             [
              0.1111111111111111,
              "#46039f"
             ],
             [
              0.2222222222222222,
              "#7201a8"
             ],
             [
              0.3333333333333333,
              "#9c179e"
             ],
             [
              0.4444444444444444,
              "#bd3786"
             ],
             [
              0.5555555555555556,
              "#d8576b"
             ],
             [
              0.6666666666666666,
              "#ed7953"
             ],
             [
              0.7777777777777778,
              "#fb9f3a"
             ],
             [
              0.8888888888888888,
              "#fdca26"
             ],
             [
              1,
              "#f0f921"
             ]
            ],
            "type": "surface"
           }
          ],
          "table": [
           {
            "cells": {
             "fill": {
              "color": "#EBF0F8"
             },
             "line": {
              "color": "white"
             }
            },
            "header": {
             "fill": {
              "color": "#C8D4E3"
             },
             "line": {
              "color": "white"
             }
            },
            "type": "table"
           }
          ]
         },
         "layout": {
          "annotationdefaults": {
           "arrowcolor": "#2a3f5f",
           "arrowhead": 0,
           "arrowwidth": 1
          },
          "autotypenumbers": "strict",
          "coloraxis": {
           "colorbar": {
            "outlinewidth": 0,
            "ticks": ""
           }
          },
          "colorscale": {
           "diverging": [
            [
             0,
             "#8e0152"
            ],
            [
             0.1,
             "#c51b7d"
            ],
            [
             0.2,
             "#de77ae"
            ],
            [
             0.3,
             "#f1b6da"
            ],
            [
             0.4,
             "#fde0ef"
            ],
            [
             0.5,
             "#f7f7f7"
            ],
            [
             0.6,
             "#e6f5d0"
            ],
            [
             0.7,
             "#b8e186"
            ],
            [
             0.8,
             "#7fbc41"
            ],
            [
             0.9,
             "#4d9221"
            ],
            [
             1,
             "#276419"
            ]
           ],
           "sequential": [
            [
             0,
             "#0d0887"
            ],
            [
             0.1111111111111111,
             "#46039f"
            ],
            [
             0.2222222222222222,
             "#7201a8"
            ],
            [
             0.3333333333333333,
             "#9c179e"
            ],
            [
             0.4444444444444444,
             "#bd3786"
            ],
            [
             0.5555555555555556,
             "#d8576b"
            ],
            [
             0.6666666666666666,
             "#ed7953"
            ],
            [
             0.7777777777777778,
             "#fb9f3a"
            ],
            [
             0.8888888888888888,
             "#fdca26"
            ],
            [
             1,
             "#f0f921"
            ]
           ],
           "sequentialminus": [
            [
             0,
             "#0d0887"
            ],
            [
             0.1111111111111111,
             "#46039f"
            ],
            [
             0.2222222222222222,
             "#7201a8"
            ],
            [
             0.3333333333333333,
             "#9c179e"
            ],
            [
             0.4444444444444444,
             "#bd3786"
            ],
            [
             0.5555555555555556,
             "#d8576b"
            ],
            [
             0.6666666666666666,
             "#ed7953"
            ],
            [
             0.7777777777777778,
             "#fb9f3a"
            ],
            [
             0.8888888888888888,
             "#fdca26"
            ],
            [
             1,
             "#f0f921"
            ]
           ]
          },
          "colorway": [
           "#636efa",
           "#EF553B",
           "#00cc96",
           "#ab63fa",
           "#FFA15A",
           "#19d3f3",
           "#FF6692",
           "#B6E880",
           "#FF97FF",
           "#FECB52"
          ],
          "font": {
           "color": "#2a3f5f"
          },
          "geo": {
           "bgcolor": "white",
           "lakecolor": "white",
           "landcolor": "#E5ECF6",
           "showlakes": true,
           "showland": true,
           "subunitcolor": "white"
          },
          "hoverlabel": {
           "align": "left"
          },
          "hovermode": "closest",
          "mapbox": {
           "style": "light"
          },
          "paper_bgcolor": "white",
          "plot_bgcolor": "#E5ECF6",
          "polar": {
           "angularaxis": {
            "gridcolor": "white",
            "linecolor": "white",
            "ticks": ""
           },
           "bgcolor": "#E5ECF6",
           "radialaxis": {
            "gridcolor": "white",
            "linecolor": "white",
            "ticks": ""
           }
          },
          "scene": {
           "xaxis": {
            "backgroundcolor": "#E5ECF6",
            "gridcolor": "white",
            "gridwidth": 2,
            "linecolor": "white",
            "showbackground": true,
            "ticks": "",
            "zerolinecolor": "white"
           },
           "yaxis": {
            "backgroundcolor": "#E5ECF6",
            "gridcolor": "white",
            "gridwidth": 2,
            "linecolor": "white",
            "showbackground": true,
            "ticks": "",
            "zerolinecolor": "white"
           },
           "zaxis": {
            "backgroundcolor": "#E5ECF6",
            "gridcolor": "white",
            "gridwidth": 2,
            "linecolor": "white",
            "showbackground": true,
            "ticks": "",
            "zerolinecolor": "white"
           }
          },
          "shapedefaults": {
           "line": {
            "color": "#2a3f5f"
           }
          },
          "ternary": {
           "aaxis": {
            "gridcolor": "white",
            "linecolor": "white",
            "ticks": ""
           },
           "baxis": {
            "gridcolor": "white",
            "linecolor": "white",
            "ticks": ""
           },
           "bgcolor": "#E5ECF6",
           "caxis": {
            "gridcolor": "white",
            "linecolor": "white",
            "ticks": ""
           }
          },
          "title": {
           "x": 0.05
          },
          "xaxis": {
           "automargin": true,
           "gridcolor": "white",
           "linecolor": "white",
           "ticks": "",
           "title": {
            "standoff": 15
           },
           "zerolinecolor": "white",
           "zerolinewidth": 2
          },
          "yaxis": {
           "automargin": true,
           "gridcolor": "white",
           "linecolor": "white",
           "ticks": "",
           "title": {
            "standoff": 15
           },
           "zerolinecolor": "white",
           "zerolinewidth": 2
          }
         }
        },
        "xaxis": {
         "title": {
          "text": "x"
         }
        }
       }
      },
      "image/png": "[encoded data removed]",
      "text/html": [
       "<div\n",
       "    class=\"webio-mountpoint\"\n",
       "    data-webio-mountpoint=\"3564575061945397296\"\n",
       ">\n",
       "    <script>\n",
       "    (function(){\n",
       "    // Some integrations (namely, IJulia/Jupyter) use an alternate render pathway than\n",
       "    // just putting the html on the page. If WebIO isn't defined, then it's pretty likely\n",
       "    // that we're in one of those situations and the integration just isn't installed\n",
       "    // correctly.\n",
       "    if (typeof window.WebIO === \"undefined\") {\n",
       "        document\n",
       "            .querySelector('[data-webio-mountpoint=\"3564575061945397296\"]')\n",
       "            .innerHTML = (\n",
       "                '<div style=\"padding: 1em; background-color: #f8d6da; border: 1px solid #f5c6cb; font-weight: bold;\">' +\n",
       "                '<p><strong>WebIO not detected.</strong></p>' +\n",
       "                '<p>Please read ' +\n",
       "                '<a href=\"https://juliagizmos.github.io/WebIO.jl/latest/troubleshooting/not-detected/\" target=\"_blank\">the troubleshooting guide</a> ' +\n",
       "                'for more information on how to resolve this issue.</p>' +\n",
       "                '<p><a href=\"https://juliagizmos.github.io/WebIO.jl/latest/troubleshooting/not-detected/\" target=\"_blank\">https://juliagizmos.github.io/WebIO.jl/latest/troubleshooting/not-detected/</a></p>' +\n",
       "                '</div>'\n",
       "            );\n",
       "        return;\n",
       "    }\n",
       "    WebIO.mount(\n",
       "        document.querySelector('[data-webio-mountpoint=\"3564575061945397296\"]'),\n",
       "        {\"props\":{},\"nodeType\":\"Scope\",\"type\":\"node\",\"instanceArgs\":{\"imports\":{\"data\":[{\"name\":\"Plotly\",\"type\":\"js\",\"url\":\"\\/assetserver\\/d6feb8d8ce4676ebdde817a0745950a35b4ba3ae-plotly.min.js\"},{\"name\":null,\"type\":\"js\",\"url\":\"\\/assetserver\\/517030b23c1c21e94bf622985d97a74a9582e066-plotly_webio.bundle.js\"}],\"type\":\"async_block\"},\"id\":\"13687437224872927145\",\"handlers\":{\"_toImage\":[\"(function (options){return this.Plotly.toImage(this.plotElem,options).then((function (data){return WebIO.setval({\\\"name\\\":\\\"image\\\",\\\"scope\\\":\\\"13687437224872927145\\\",\\\"id\\\":\\\"265\\\",\\\"type\\\":\\\"observable\\\"},data)}))})\"],\"__get_gd_contents\":[\"(function (prop){prop==\\\"data\\\" ? (WebIO.setval({\\\"name\\\":\\\"__gd_contents\\\",\\\"scope\\\":\\\"13687437224872927145\\\",\\\"id\\\":\\\"266\\\",\\\"type\\\":\\\"observable\\\"},this.plotElem.data)) : undefined; return prop==\\\"layout\\\" ? (WebIO.setval({\\\"name\\\":\\\"__gd_contents\\\",\\\"scope\\\":\\\"13687437224872927145\\\",\\\"id\\\":\\\"266\\\",\\\"type\\\":\\\"observable\\\"},this.plotElem.layout)) : undefined})\"],\"_downloadImage\":[\"(function (options){return this.Plotly.downloadImage(this.plotElem,options)})\"],\"_commands\":[\"(function (args){var fn=args.shift(); var elem=this.plotElem; var Plotly=this.Plotly; args.unshift(elem); return Plotly[fn].apply(this,args)})\"]},\"systemjs_options\":null,\"mount_callbacks\":[\"function () {\\n    var handler = ((function (Plotly,PlotlyWebIO){PlotlyWebIO.init(WebIO); var gd=this.dom.querySelector(\\\"#plot-d2b51051-5cff-496c-9d7a-8b335f8c53d1\\\"); this.plotElem=gd; this.Plotly=Plotly; (window.Blink!==undefined) ? (gd.style.width=\\\"100%\\\", gd.style.height=\\\"100vh\\\", gd.style.marginLeft=\\\"0%\\\", gd.style.marginTop=\\\"0vh\\\") : undefined; window.onresize=(function (){return Plotly.Plots.resize(gd)}); Plotly.newPlot(gd,[{\\\"mode\\\":\\\"markers+lines\\\",\\\"y\\\":[0.0,0.060199871169201606,0.16724899653091205,0.29816389148742845,0.43996679220259904,0.5817731955226367,0.7139142701423816,0.827929486925611,0.9167780206976732,0.9750897193613065,0.9993836014106907,0.988218192050885,0.9422553851361676,0.8642310121116414,0.7588352011513272,0.6325161936568386,0.4932356669503813,0.35023016103147464,0.21390201608161177,0.09621990091113922,0.01371968130929541,0.030079696454822016,0.1238422783295587,0.24758573086646374,0.3866871230746825,0.529682097632569,0.6664732044962527,0.7881317918380558,0.8870597994074642,0.9572375957436907,0.994460010288588,0.9965148828135793,0.9632804272333862,0.8967306517979785,0.8008482705714718,0.6814546107770753,0.5459784446472915,0.40320600224895486,0.2631008184153604,0.1369320199676554,0.03870949022660817,0.007856348775902515,0.08448061571689816,0.19910681679403114,0.333933519668156,0.4767220076169753,0.616926797141142,0.7451756813509238,0.853348493790743,0.934809181142908,0.9846532958825603,0.9999115576840765,0.979679255393049,0.9251564414081859,0.839594689307212,0.7281560572527176,0.5977010614602242,0.4565387711587559,0.31420493975997954,0.1814269691599844,0.07082177864272264,0.002376882643405448,0.050142556991521245,0.15338356111913928],\\\"type\\\":\\\"scatter\\\",\\\"name\\\":\\\"u\\\",\\\"x\\\":[0.0,0.09817477042468103,0.19634954084936207,0.2945243112740431,0.39269908169872414,0.4908738521234052,0.5890486225480862,0.6872233929727672,0.7853981633974483,0.8835729338221293,0.9817477042468103,1.0799224746714913,1.1780972450961724,1.2762720155208536,1.3744467859455345,1.4726215563702154,1.5707963267948966,1.6689710972195777,1.7671458676442586,1.8653206380689396,1.9634954084936207,2.061670178918302,2.1598449493429825,2.2580197197676637,2.356194490192345,2.454369260617026,2.552544031041707,2.650718801466388,2.748893571891069,2.84706834231575,2.945243112740431,3.043417883165112,3.141592653589793,3.2397674240144743,3.3379421944391554,3.436116964863836,3.5342917352885173,3.6324665057131984,3.730641276137879,3.8288160465625602,3.9269908169872414,4.025165587411922,4.123340357836604,4.221515128261284,4.319689898685965,4.417864669110647,4.516039439535327,4.614214209960009,4.71238898038469,4.81056375080937,4.908738521234052,5.006913291658733,5.105088062083414,5.203262832508095,5.301437602932776,5.399612373357457,5.497787143782138,5.595961914206819,5.6941366846315,5.792311455056181,5.890486225480862,5.988660995905543,6.086835766330224,6.1850105367549055]}],{\\\"xaxis\\\":{\\\"title\\\":{\\\"text\\\":\\\"x\\\"}},\\\"template\\\":{\\\"layout\\\":{\\\"coloraxis\\\":{\\\"colorbar\\\":{\\\"ticks\\\":\\\"\\\",\\\"outlinewidth\\\":0}},\\\"xaxis\\\":{\\\"gridcolor\\\":\\\"white\\\",\\\"zerolinewidth\\\":2,\\\"title\\\":{\\\"standoff\\\":15},\\\"ticks\\\":\\\"\\\",\\\"zerolinecolor\\\":\\\"white\\\",\\\"automargin\\\":true,\\\"linecolor\\\":\\\"white\\\"},\\\"hovermode\\\":\\\"closest\\\",\\\"paper_bgcolor\\\":\\\"white\\\",\\\"geo\\\":{\\\"showlakes\\\":true,\\\"showland\\\":true,\\\"landcolor\\\":\\\"#E5ECF6\\\",\\\"bgcolor\\\":\\\"white\\\",\\\"subunitcolor\\\":\\\"white\\\",\\\"lakecolor\\\":\\\"white\\\"},\\\"colorscale\\\":{\\\"sequential\\\":[[0.0,\\\"#0d0887\\\"],[0.1111111111111111,\\\"#46039f\\\"],[0.2222222222222222,\\\"#7201a8\\\"],[0.3333333333333333,\\\"#9c179e\\\"],[0.4444444444444444,\\\"#bd3786\\\"],[0.5555555555555556,\\\"#d8576b\\\"],[0.6666666666666666,\\\"#ed7953\\\"],[0.7777777777777778,\\\"#fb9f3a\\\"],[0.8888888888888888,\\\"#fdca26\\\"],[1.0,\\\"#f0f921\\\"]],\\\"diverging\\\":[[0,\\\"#8e0152\\\"],[0.1,\\\"#c51b7d\\\"],[0.2,\\\"#de77ae\\\"],[0.3,\\\"#f1b6da\\\"],[0.4,\\\"#fde0ef\\\"],[0.5,\\\"#f7f7f7\\\"],[0.6,\\\"#e6f5d0\\\"],[0.7,\\\"#b8e186\\\"],[0.8,\\\"#7fbc41\\\"],[0.9,\\\"#4d9221\\\"],[1,\\\"#276419\\\"]],\\\"sequentialminus\\\":[[0.0,\\\"#0d0887\\\"],[0.1111111111111111,\\\"#46039f\\\"],[0.2222222222222222,\\\"#7201a8\\\"],[0.3333333333333333,\\\"#9c179e\\\"],[0.4444444444444444,\\\"#bd3786\\\"],[0.5555555555555556,\\\"#d8576b\\\"],[0.6666666666666666,\\\"#ed7953\\\"],[0.7777777777777778,\\\"#fb9f3a\\\"],[0.8888888888888888,\\\"#fdca26\\\"],[1.0,\\\"#f0f921\\\"]]},\\\"yaxis\\\":{\\\"gridcolor\\\":\\\"white\\\",\\\"zerolinewidth\\\":2,\\\"title\\\":{\\\"standoff\\\":15},\\\"ticks\\\":\\\"\\\",\\\"zerolinecolor\\\":\\\"white\\\",\\\"automargin\\\":true,\\\"linecolor\\\":\\\"white\\\"},\\\"shapedefaults\\\":{\\\"line\\\":{\\\"color\\\":\\\"#2a3f5f\\\"}},\\\"hoverlabel\\\":{\\\"align\\\":\\\"left\\\"},\\\"mapbox\\\":{\\\"style\\\":\\\"light\\\"},\\\"polar\\\":{\\\"angularaxis\\\":{\\\"gridcolor\\\":\\\"white\\\",\\\"ticks\\\":\\\"\\\",\\\"linecolor\\\":\\\"white\\\"},\\\"bgcolor\\\":\\\"#E5ECF6\\\",\\\"radialaxis\\\":{\\\"gridcolor\\\":\\\"white\\\",\\\"ticks\\\":\\\"\\\",\\\"linecolor\\\":\\\"white\\\"}},\\\"autotypenumbers\\\":\\\"strict\\\",\\\"font\\\":{\\\"color\\\":\\\"#2a3f5f\\\"},\\\"ternary\\\":{\\\"baxis\\\":{\\\"gridcolor\\\":\\\"white\\\",\\\"ticks\\\":\\\"\\\",\\\"linecolor\\\":\\\"white\\\"},\\\"bgcolor\\\":\\\"#E5ECF6\\\",\\\"caxis\\\":{\\\"gridcolor\\\":\\\"white\\\",\\\"ticks\\\":\\\"\\\",\\\"linecolor\\\":\\\"white\\\"},\\\"aaxis\\\":{\\\"gridcolor\\\":\\\"white\\\",\\\"ticks\\\":\\\"\\\",\\\"linecolor\\\":\\\"white\\\"}},\\\"annotationdefaults\\\":{\\\"arrowhead\\\":0,\\\"arrowwidth\\\":1,\\\"arrowcolor\\\":\\\"#2a3f5f\\\"},\\\"plot_bgcolor\\\":\\\"#E5ECF6\\\",\\\"title\\\":{\\\"x\\\":0.05},\\\"scene\\\":{\\\"xaxis\\\":{\\\"gridcolor\\\":\\\"white\\\",\\\"gridwidth\\\":2,\\\"backgroundcolor\\\":\\\"#E5ECF6\\\",\\\"ticks\\\":\\\"\\\",\\\"showbackground\\\":true,\\\"zerolinecolor\\\":\\\"white\\\",\\\"linecolor\\\":\\\"white\\\"},\\\"zaxis\\\":{\\\"gridcolor\\\":\\\"white\\\",\\\"gridwidth\\\":2,\\\"backgroundcolor\\\":\\\"#E5ECF6\\\",\\\"ticks\\\":\\\"\\\",\\\"showbackground\\\":true,\\\"zerolinecolor\\\":\\\"white\\\",\\\"linecolor\\\":\\\"white\\\"},\\\"yaxis\\\":{\\\"gridcolor\\\":\\\"white\\\",\\\"gridwidth\\\":2,\\\"backgroundcolor\\\":\\\"#E5ECF6\\\",\\\"ticks\\\":\\\"\\\",\\\"showbackground\\\":true,\\\"zerolinecolor\\\":\\\"white\\\",\\\"linecolor\\\":\\\"white\\\"}},\\\"colorway\\\":[\\\"#636efa\\\",\\\"#EF553B\\\",\\\"#00cc96\\\",\\\"#ab63fa\\\",\\\"#FFA15A\\\",\\\"#19d3f3\\\",\\\"#FF6692\\\",\\\"#B6E880\\\",\\\"#FF97FF\\\",\\\"#FECB52\\\"]},\\\"data\\\":{\\\"barpolar\\\":[{\\\"type\\\":\\\"barpolar\\\",\\\"marker\\\":{\\\"line\\\":{\\\"color\\\":\\\"#E5ECF6\\\",\\\"width\\\":0.5}}}],\\\"carpet\\\":[{\\\"aaxis\\\":{\\\"gridcolor\\\":\\\"white\\\",\\\"endlinecolor\\\":\\\"#2a3f5f\\\",\\\"minorgridcolor\\\":\\\"white\\\",\\\"startlinecolor\\\":\\\"#2a3f5f\\\",\\\"linecolor\\\":\\\"white\\\"},\\\"type\\\":\\\"carpet\\\",\\\"baxis\\\":{\\\"gridcolor\\\":\\\"white\\\",\\\"endlinecolor\\\":\\\"#2a3f5f\\\",\\\"minorgridcolor\\\":\\\"white\\\",\\\"startlinecolor\\\":\\\"#2a3f5f\\\",\\\"linecolor\\\":\\\"white\\\"}}],\\\"scatterpolar\\\":[{\\\"type\\\":\\\"scatterpolar\\\",\\\"marker\\\":{\\\"colorbar\\\":{\\\"ticks\\\":\\\"\\\",\\\"outlinewidth\\\":0}}}],\\\"parcoords\\\":[{\\\"line\\\":{\\\"colorbar\\\":{\\\"ticks\\\":\\\"\\\",\\\"outlinewidth\\\":0}},\\\"type\\\":\\\"parcoords\\\"}],\\\"scatter\\\":[{\\\"type\\\":\\\"scatter\\\",\\\"marker\\\":{\\\"colorbar\\\":{\\\"ticks\\\":\\\"\\\",\\\"outlinewidth\\\":0}}}],\\\"histogram2dcontour\\\":[{\\\"colorbar\\\":{\\\"ticks\\\":\\\"\\\",\\\"outlinewidth\\\":0},\\\"type\\\":\\\"histogram2dcontour\\\",\\\"colorscale\\\":[[0.0,\\\"#0d0887\\\"],[0.1111111111111111,\\\"#46039f\\\"],[0.2222222222222222,\\\"#7201a8\\\"],[0.3333333333333333,\\\"#9c179e\\\"],[0.4444444444444444,\\\"#bd3786\\\"],[0.5555555555555556,\\\"#d8576b\\\"],[0.6666666666666666,\\\"#ed7953\\\"],[0.7777777777777778,\\\"#fb9f3a\\\"],[0.8888888888888888,\\\"#fdca26\\\"],[1.0,\\\"#f0f921\\\"]]}],\\\"contour\\\":[{\\\"colorbar\\\":{\\\"ticks\\\":\\\"\\\",\\\"outlinewidth\\\":0},\\\"type\\\":\\\"contour\\\",\\\"colorscale\\\":[[0.0,\\\"#0d0887\\\"],[0.1111111111111111,\\\"#46039f\\\"],[0.2222222222222222,\\\"#7201a8\\\"],[0.3333333333333333,\\\"#9c179e\\\"],[0.4444444444444444,\\\"#bd3786\\\"],[0.5555555555555556,\\\"#d8576b\\\"],[0.6666666666666666,\\\"#ed7953\\\"],[0.7777777777777778,\\\"#fb9f3a\\\"],[0.8888888888888888,\\\"#fdca26\\\"],[1.0,\\\"#f0f921\\\"]]}],\\\"scattercarpet\\\":[{\\\"type\\\":\\\"scattercarpet\\\",\\\"marker\\\":{\\\"colorbar\\\":{\\\"ticks\\\":\\\"\\\",\\\"outlinewidth\\\":0}}}],\\\"mesh3d\\\":[{\\\"colorbar\\\":{\\\"ticks\\\":\\\"\\\",\\\"outlinewidth\\\":0},\\\"type\\\":\\\"mesh3d\\\"}],\\\"surface\\\":[{\\\"colorbar\\\":{\\\"ticks\\\":\\\"\\\",\\\"outlinewidth\\\":0},\\\"type\\\":\\\"surface\\\",\\\"colorscale\\\":[[0.0,\\\"#0d0887\\\"],[0.1111111111111111,\\\"#46039f\\\"],[0.2222222222222222,\\\"#7201a8\\\"],[0.3333333333333333,\\\"#9c179e\\\"],[0.4444444444444444,\\\"#bd3786\\\"],[0.5555555555555556,\\\"#d8576b\\\"],[0.6666666666666666,\\\"#ed7953\\\"],[0.7777777777777778,\\\"#fb9f3a\\\"],[0.8888888888888888,\\\"#fdca26\\\"],[1.0,\\\"#f0f921\\\"]]}],\\\"scattermapbox\\\":[{\\\"type\\\":\\\"scattermapbox\\\",\\\"marker\\\":{\\\"colorbar\\\":{\\\"ticks\\\":\\\"\\\",\\\"outlinewidth\\\":0}}}],\\\"scattergeo\\\":[{\\\"type\\\":\\\"scattergeo\\\",\\\"marker\\\":{\\\"colorbar\\\":{\\\"ticks\\\":\\\"\\\",\\\"outlinewidth\\\":0}}}],\\\"histogram\\\":[{\\\"type\\\":\\\"histogram\\\",\\\"marker\\\":{\\\"colorbar\\\":{\\\"ticks\\\":\\\"\\\",\\\"outlinewidth\\\":0}}}],\\\"pie\\\":[{\\\"type\\\":\\\"pie\\\",\\\"automargin\\\":true}],\\\"choropleth\\\":[{\\\"colorbar\\\":{\\\"ticks\\\":\\\"\\\",\\\"outlinewidth\\\":0},\\\"type\\\":\\\"choropleth\\\"}],\\\"heatmapgl\\\":[{\\\"colorbar\\\":{\\\"ticks\\\":\\\"\\\",\\\"outlinewidth\\\":0},\\\"type\\\":\\\"heatmapgl\\\",\\\"colorscale\\\":[[0.0,\\\"#0d0887\\\"],[0.1111111111111111,\\\"#46039f\\\"],[0.2222222222222222,\\\"#7201a8\\\"],[0.3333333333333333,\\\"#9c179e\\\"],[0.4444444444444444,\\\"#bd3786\\\"],[0.5555555555555556,\\\"#d8576b\\\"],[0.6666666666666666,\\\"#ed7953\\\"],[0.7777777777777778,\\\"#fb9f3a\\\"],[0.8888888888888888,\\\"#fdca26\\\"],[1.0,\\\"#f0f921\\\"]]}],\\\"bar\\\":[{\\\"type\\\":\\\"bar\\\",\\\"error_y\\\":{\\\"color\\\":\\\"#2a3f5f\\\"},\\\"error_x\\\":{\\\"color\\\":\\\"#2a3f5f\\\"},\\\"marker\\\":{\\\"line\\\":{\\\"color\\\":\\\"#E5ECF6\\\",\\\"width\\\":0.5}}}],\\\"heatmap\\\":[{\\\"colorbar\\\":{\\\"ticks\\\":\\\"\\\",\\\"outlinewidth\\\":0},\\\"type\\\":\\\"heatmap\\\",\\\"colorscale\\\":[[0.0,\\\"#0d0887\\\"],[0.1111111111111111,\\\"#46039f\\\"],[0.2222222222222222,\\\"#7201a8\\\"],[0.3333333333333333,\\\"#9c179e\\\"],[0.4444444444444444,\\\"#bd3786\\\"],[0.5555555555555556,\\\"#d8576b\\\"],[0.6666666666666666,\\\"#ed7953\\\"],[0.7777777777777778,\\\"#fb9f3a\\\"],[0.8888888888888888,\\\"#fdca26\\\"],[1.0,\\\"#f0f921\\\"]]}],\\\"contourcarpet\\\":[{\\\"colorbar\\\":{\\\"ticks\\\":\\\"\\\",\\\"outlinewidth\\\":0},\\\"type\\\":\\\"contourcarpet\\\"}],\\\"table\\\":[{\\\"type\\\":\\\"table\\\",\\\"header\\\":{\\\"line\\\":{\\\"color\\\":\\\"white\\\"},\\\"fill\\\":{\\\"color\\\":\\\"#C8D4E3\\\"}},\\\"cells\\\":{\\\"line\\\":{\\\"color\\\":\\\"white\\\"},\\\"fill\\\":{\\\"color\\\":\\\"#EBF0F8\\\"}}}],\\\"scatter3d\\\":[{\\\"line\\\":{\\\"colorbar\\\":{\\\"ticks\\\":\\\"\\\",\\\"outlinewidth\\\":0}},\\\"type\\\":\\\"scatter3d\\\",\\\"marker\\\":{\\\"colorbar\\\":{\\\"ticks\\\":\\\"\\\",\\\"outlinewidth\\\":0}}}],\\\"scattergl\\\":[{\\\"type\\\":\\\"scattergl\\\",\\\"marker\\\":{\\\"colorbar\\\":{\\\"ticks\\\":\\\"\\\",\\\"outlinewidth\\\":0}}}],\\\"histogram2d\\\":[{\\\"colorbar\\\":{\\\"ticks\\\":\\\"\\\",\\\"outlinewidth\\\":0},\\\"type\\\":\\\"histogram2d\\\",\\\"colorscale\\\":[[0.0,\\\"#0d0887\\\"],[0.1111111111111111,\\\"#46039f\\\"],[0.2222222222222222,\\\"#7201a8\\\"],[0.3333333333333333,\\\"#9c179e\\\"],[0.4444444444444444,\\\"#bd3786\\\"],[0.5555555555555556,\\\"#d8576b\\\"],[0.6666666666666666,\\\"#ed7953\\\"],[0.7777777777777778,\\\"#fb9f3a\\\"],[0.8888888888888888,\\\"#fdca26\\\"],[1.0,\\\"#f0f921\\\"]]}],\\\"scatterternary\\\":[{\\\"type\\\":\\\"scatterternary\\\",\\\"marker\\\":{\\\"colorbar\\\":{\\\"ticks\\\":\\\"\\\",\\\"outlinewidth\\\":0}}}],\\\"scatterpolargl\\\":[{\\\"type\\\":\\\"scatterpolargl\\\",\\\"marker\\\":{\\\"colorbar\\\":{\\\"ticks\\\":\\\"\\\",\\\"outlinewidth\\\":0}}}]}},\\\"margin\\\":{\\\"l\\\":50,\\\"b\\\":50,\\\"r\\\":50,\\\"t\\\":60}},{\\\"showLink\\\":false,\\\"editable\\\":false,\\\"responsive\\\":true,\\\"staticPlot\\\":false,\\\"scrollZoom\\\":true}); gd.on(\\\"plotly_hover\\\",(function (data){var filtered_data=WebIO.PlotlyCommands.filterEventData(gd,data,\\\"hover\\\"); return !(filtered_data.isnil) ? (WebIO.setval({\\\"name\\\":\\\"hover\\\",\\\"scope\\\":\\\"13687437224872927145\\\",\\\"id\\\":\\\"261\\\",\\\"type\\\":\\\"observable\\\"},filtered_data.out)) : undefined})); gd.on(\\\"plotly_unhover\\\",(function (){return WebIO.setval({\\\"name\\\":\\\"hover\\\",\\\"scope\\\":\\\"13687437224872927145\\\",\\\"id\\\":\\\"261\\\",\\\"type\\\":\\\"observable\\\"},{})})); gd.on(\\\"plotly_selected\\\",(function (data){var filtered_data=WebIO.PlotlyCommands.filterEventData(gd,data,\\\"selected\\\"); return !(filtered_data.isnil) ? (WebIO.setval({\\\"name\\\":\\\"selected\\\",\\\"scope\\\":\\\"13687437224872927145\\\",\\\"id\\\":\\\"262\\\",\\\"type\\\":\\\"observable\\\"},filtered_data.out)) : undefined})); gd.on(\\\"plotly_deselect\\\",(function (){return WebIO.setval({\\\"name\\\":\\\"selected\\\",\\\"scope\\\":\\\"13687437224872927145\\\",\\\"id\\\":\\\"262\\\",\\\"type\\\":\\\"observable\\\"},{})})); gd.on(\\\"plotly_relayout\\\",(function (data){var filtered_data=WebIO.PlotlyCommands.filterEventData(gd,data,\\\"relayout\\\"); return !(filtered_data.isnil) ? (WebIO.setval({\\\"name\\\":\\\"relayout\\\",\\\"scope\\\":\\\"13687437224872927145\\\",\\\"id\\\":\\\"264\\\",\\\"type\\\":\\\"observable\\\"},filtered_data.out)) : undefined})); return gd.on(\\\"plotly_click\\\",(function (data){var filtered_data=WebIO.PlotlyCommands.filterEventData(gd,data,\\\"click\\\"); return !(filtered_data.isnil) ? (WebIO.setval({\\\"name\\\":\\\"click\\\",\\\"scope\\\":\\\"13687437224872927145\\\",\\\"id\\\":\\\"263\\\",\\\"type\\\":\\\"observable\\\"},filtered_data.out)) : undefined}))}));\\n    (WebIO.importBlock({\\\"data\\\":[{\\\"name\\\":\\\"Plotly\\\",\\\"type\\\":\\\"js\\\",\\\"url\\\":\\\"\\/assetserver\\/d6feb8d8ce4676ebdde817a0745950a35b4ba3ae-plotly.min.js\\\"},{\\\"name\\\":null,\\\"type\\\":\\\"js\\\",\\\"url\\\":\\\"\\/assetserver\\/517030b23c1c21e94bf622985d97a74a9582e066-plotly_webio.bundle.js\\\"}],\\\"type\\\":\\\"async_block\\\"})).then((imports) => handler.apply(this, imports));\\n}\\n\"],\"observables\":{\"_toImage\":{\"sync\":false,\"id\":\"268\",\"value\":{}},\"hover\":{\"sync\":false,\"id\":\"261\",\"value\":{}},\"selected\":{\"sync\":false,\"id\":\"262\",\"value\":{}},\"__gd_contents\":{\"sync\":false,\"id\":\"266\",\"value\":{}},\"click\":{\"sync\":false,\"id\":\"263\",\"value\":{}},\"image\":{\"sync\":true,\"id\":\"265\",\"value\":\"\"},\"__get_gd_contents\":{\"sync\":false,\"id\":\"270\",\"value\":\"\"},\"_downloadImage\":{\"sync\":false,\"id\":\"269\",\"value\":{}},\"relayout\":{\"sync\":false,\"id\":\"264\",\"value\":{}},\"_commands\":{\"sync\":false,\"id\":\"267\",\"value\":[]}}},\"children\":[{\"props\":{\"id\":\"plot-d2b51051-5cff-496c-9d7a-8b335f8c53d1\"},\"nodeType\":\"DOM\",\"type\":\"node\",\"instanceArgs\":{\"namespace\":\"html\",\"tag\":\"div\"},\"children\":[]}]},\n",
       "        window,\n",
       "    );\n",
       "    })()\n",
       "    </script>\n",
       "</div>\n"
      ],
      "text/plain": [
       "data: [\n",
       "  \"scatter with fields mode, name, type, x, and y\"\n",
       "]\n",
       "\n",
       "layout: \"layout with fields margin, template, and xaxis\"\n",
       "\n"
      ]
     },
     "execution_count": 196,
     "metadata": {},
     "output_type": "execute_result"
    }
   ],
   "source": [
    "plot([\n",
    "    scatter(x=x, y=u, mode=\"markers+lines\", name=\"u\")],\n",
    "    Layout(xaxis_title=\"x\") #yaxis_title=\"u(x)\",  \n",
    ")"
   ]
  },
  {
   "cell_type": "markdown",
   "id": "10128493-5c29-4720-8100-73eb20d6edf6",
   "metadata": {},
   "source": [
    "We first notice that the function is periodic in $[0, 2)$. In order to perform spectral derivative, we may consider: "
   ]
  },
  {
   "cell_type": "markdown",
   "id": "0edba5fc-a691-4843-b672-86529d125ba3",
   "metadata": {},
   "source": [
    "$$\n",
    "u(x(z)) = \\left[\\sin^{2}\\left(\\frac{1}{2}\\pi x(z)\\right)\\right]^{\\frac{3}{4}}$$\n",
    "\n",
    "in which $x(z) = \\frac{2}{2\\pi}z.$\n",
    "\n",
    "Thus, with respect $z$, this function is periodic in $[0, 2\\pi)$"
   ]
  },
  {
   "cell_type": "code",
   "execution_count": 197,
   "id": "0f43674d-2c29-4e9b-9d9a-afb016c0322f",
   "metadata": {},
   "outputs": [],
   "source": [
    "N = 64 # number of points\n",
    "z = h * collect(0:N-1) # domain\n",
    "x = 1/pi * z\n",
    "u = ((sin.(1/2 * pi * x)).^2).^(3/4); # function"
   ]
  },
  {
   "cell_type": "code",
   "execution_count": 198,
   "id": "15a148ad-39b4-4b46-ad4a-6269cadcd022",
   "metadata": {},
   "outputs": [
    {
     "data": {
      "application/vnd.plotly.v1+json": {
       "config": {
        "editable": false,
        "responsive": true,
        "scrollZoom": true,
        "showLink": false,
        "staticPlot": false
       },
       "data": [
        {
         "mode": "markers+lines",
         "name": "u",
         "type": "scatter",
         "x": [
          0,
          0.09817477042468103,
          0.19634954084936207,
          0.2945243112740431,
          0.39269908169872414,
          0.4908738521234052,
          0.5890486225480862,
          0.6872233929727672,
          0.7853981633974483,
          0.8835729338221293,
          0.9817477042468103,
          1.0799224746714913,
          1.1780972450961724,
          1.2762720155208536,
          1.3744467859455345,
          1.4726215563702154,
          1.5707963267948966,
          1.6689710972195777,
          1.7671458676442586,
          1.8653206380689396,
          1.9634954084936207,
          2.061670178918302,
          2.1598449493429825,
          2.2580197197676637,
          2.356194490192345,
          2.454369260617026,
          2.552544031041707,
          2.650718801466388,
          2.748893571891069,
          2.84706834231575,
          2.945243112740431,
          3.043417883165112,
          3.141592653589793,
          3.2397674240144743,
          3.3379421944391554,
          3.436116964863836,
          3.5342917352885173,
          3.6324665057131984,
          3.730641276137879,
          3.8288160465625602,
          3.9269908169872414,
          4.025165587411922,
          4.123340357836604,
          4.221515128261284,
          4.319689898685965,
          4.417864669110647,
          4.516039439535327,
          4.614214209960009,
          4.71238898038469,
          4.81056375080937,
          4.908738521234052,
          5.006913291658733,
          5.105088062083414,
          5.203262832508095,
          5.301437602932776,
          5.399612373357457,
          5.497787143782138,
          5.595961914206819,
          5.6941366846315,
          5.792311455056181,
          5.890486225480862,
          5.988660995905543,
          6.086835766330224,
          6.1850105367549055
         ],
         "y": [
          0,
          0.010869090657597478,
          0.030686901661048475,
          0.0562057157587268,
          0.08616950305761106,
          0.11977226814122421,
          0.15639979092109593,
          0.19553832755778858,
          0.2367333756486306,
          0.2795684295017511,
          0.3236531645935955,
          0.368616594978608,
          0.4141030725120185,
          0.45977000997625955,
          0.5052866978613679,
          0.5503338380157107,
          0.5946035575013604,
          0.637799747485926,
          0.6796386214861198,
          0.7198494184636315,
          0.7581751965890713,
          0.794373677130826,
          0.8282181073507486,
          0.8594981179842097,
          0.8880205557726338,
          0.9136102751915453,
          0.9361108763603103,
          0.9553853783864644,
          0.9713168192603581,
          0.9838087749936197,
          0.9927857920705754,
          0.9981937285141971,
          1,
          0.9981937285141971,
          0.9927857920705755,
          0.9838087749936197,
          0.9713168192603581,
          0.9553853783864644,
          0.9361108763603103,
          0.9136102751915453,
          0.8880205557726338,
          0.8594981179842098,
          0.8282181073507489,
          0.794373677130826,
          0.7581751965890714,
          0.7198494184636317,
          0.67963862148612,
          0.6377997474859258,
          0.5946035575013606,
          0.5503338380157109,
          0.5052866978613679,
          0.4597700099762597,
          0.4141030725120185,
          0.3686165949786081,
          0.3236531645935957,
          0.27956842950175104,
          0.2367333756486307,
          0.19553832755778883,
          0.15639979092109563,
          0.11977226814122437,
          0.0861695030576113,
          0.056205715758726835,
          0.03068690166104858,
          0.010869090657597462
         ]
        }
       ],
       "frames": [],
       "layout": {
        "margin": {
         "b": 50,
         "l": 50,
         "r": 50,
         "t": 60
        },
        "template": {
         "data": {
          "bar": [
           {
            "error_x": {
             "color": "#2a3f5f"
            },
            "error_y": {
             "color": "#2a3f5f"
            },
            "marker": {
             "line": {
              "color": "#E5ECF6",
              "width": 0.5
             }
            },
            "type": "bar"
           }
          ],
          "barpolar": [
           {
            "marker": {
             "line": {
              "color": "#E5ECF6",
              "width": 0.5
             }
            },
            "type": "barpolar"
           }
          ],
          "carpet": [
           {
            "aaxis": {
             "endlinecolor": "#2a3f5f",
             "gridcolor": "white",
             "linecolor": "white",
             "minorgridcolor": "white",
             "startlinecolor": "#2a3f5f"
            },
            "baxis": {
             "endlinecolor": "#2a3f5f",
             "gridcolor": "white",
             "linecolor": "white",
             "minorgridcolor": "white",
             "startlinecolor": "#2a3f5f"
            },
            "type": "carpet"
           }
          ],
          "choropleth": [
           {
            "colorbar": {
             "outlinewidth": 0,
             "ticks": ""
            },
            "type": "choropleth"
           }
          ],
          "contour": [
           {
            "colorbar": {
             "outlinewidth": 0,
             "ticks": ""
            },
            "colorscale": [
             [
              0,
              "#0d0887"
             ],
             [
              0.1111111111111111,
              "#46039f"
             ],
             [
              0.2222222222222222,
              "#7201a8"
             ],
             [
              0.3333333333333333,
              "#9c179e"
             ],
             [
              0.4444444444444444,
              "#bd3786"
             ],
             [
              0.5555555555555556,
              "#d8576b"
             ],
             [
              0.6666666666666666,
              "#ed7953"
             ],
             [
              0.7777777777777778,
              "#fb9f3a"
             ],
             [
              0.8888888888888888,
              "#fdca26"
             ],
             [
              1,
              "#f0f921"
             ]
            ],
            "type": "contour"
           }
          ],
          "contourcarpet": [
           {
            "colorbar": {
             "outlinewidth": 0,
             "ticks": ""
            },
            "type": "contourcarpet"
           }
          ],
          "heatmap": [
           {
            "colorbar": {
             "outlinewidth": 0,
             "ticks": ""
            },
            "colorscale": [
             [
              0,
              "#0d0887"
             ],
             [
              0.1111111111111111,
              "#46039f"
             ],
             [
              0.2222222222222222,
              "#7201a8"
             ],
             [
              0.3333333333333333,
              "#9c179e"
             ],
             [
              0.4444444444444444,
              "#bd3786"
             ],
             [
              0.5555555555555556,
              "#d8576b"
             ],
             [
              0.6666666666666666,
              "#ed7953"
             ],
             [
              0.7777777777777778,
              "#fb9f3a"
             ],
             [
              0.8888888888888888,
              "#fdca26"
             ],
             [
              1,
              "#f0f921"
             ]
            ],
            "type": "heatmap"
           }
          ],
          "heatmapgl": [
           {
            "colorbar": {
             "outlinewidth": 0,
             "ticks": ""
            },
            "colorscale": [
             [
              0,
              "#0d0887"
             ],
             [
              0.1111111111111111,
              "#46039f"
             ],
             [
              0.2222222222222222,
              "#7201a8"
             ],
             [
              0.3333333333333333,
              "#9c179e"
             ],
             [
              0.4444444444444444,
              "#bd3786"
             ],
             [
              0.5555555555555556,
              "#d8576b"
             ],
             [
              0.6666666666666666,
              "#ed7953"
             ],
             [
              0.7777777777777778,
              "#fb9f3a"
             ],
             [
              0.8888888888888888,
              "#fdca26"
             ],
             [
              1,
              "#f0f921"
             ]
            ],
            "type": "heatmapgl"
           }
          ],
          "histogram": [
           {
            "marker": {
             "colorbar": {
              "outlinewidth": 0,
              "ticks": ""
             }
            },
            "type": "histogram"
           }
          ],
          "histogram2d": [
           {
            "colorbar": {
             "outlinewidth": 0,
             "ticks": ""
            },
            "colorscale": [
             [
              0,
              "#0d0887"
             ],
             [
              0.1111111111111111,
              "#46039f"
             ],
             [
              0.2222222222222222,
              "#7201a8"
             ],
             [
              0.3333333333333333,
              "#9c179e"
             ],
             [
              0.4444444444444444,
              "#bd3786"
             ],
             [
              0.5555555555555556,
              "#d8576b"
             ],
             [
              0.6666666666666666,
              "#ed7953"
             ],
             [
              0.7777777777777778,
              "#fb9f3a"
             ],
             [
              0.8888888888888888,
              "#fdca26"
             ],
             [
              1,
              "#f0f921"
             ]
            ],
            "type": "histogram2d"
           }
          ],
          "histogram2dcontour": [
           {
            "colorbar": {
             "outlinewidth": 0,
             "ticks": ""
            },
            "colorscale": [
             [
              0,
              "#0d0887"
             ],
             [
              0.1111111111111111,
              "#46039f"
             ],
             [
              0.2222222222222222,
              "#7201a8"
             ],
             [
              0.3333333333333333,
              "#9c179e"
             ],
             [
              0.4444444444444444,
              "#bd3786"
             ],
             [
              0.5555555555555556,
              "#d8576b"
             ],
             [
              0.6666666666666666,
              "#ed7953"
             ],
             [
              0.7777777777777778,
              "#fb9f3a"
             ],
             [
              0.8888888888888888,
              "#fdca26"
             ],
             [
              1,
              "#f0f921"
             ]
            ],
            "type": "histogram2dcontour"
           }
          ],
          "mesh3d": [
           {
            "colorbar": {
             "outlinewidth": 0,
             "ticks": ""
            },
            "type": "mesh3d"
           }
          ],
          "parcoords": [
           {
            "line": {
             "colorbar": {
              "outlinewidth": 0,
              "ticks": ""
             }
            },
            "type": "parcoords"
           }
          ],
          "pie": [
           {
            "automargin": true,
            "type": "pie"
           }
          ],
          "scatter": [
           {
            "marker": {
             "colorbar": {
              "outlinewidth": 0,
              "ticks": ""
             }
            },
            "type": "scatter"
           }
          ],
          "scatter3d": [
           {
            "line": {
             "colorbar": {
              "outlinewidth": 0,
              "ticks": ""
             }
            },
            "marker": {
             "colorbar": {
              "outlinewidth": 0,
              "ticks": ""
             }
            },
            "type": "scatter3d"
           }
          ],
          "scattercarpet": [
           {
            "marker": {
             "colorbar": {
              "outlinewidth": 0,
              "ticks": ""
             }
            },
            "type": "scattercarpet"
           }
          ],
          "scattergeo": [
           {
            "marker": {
             "colorbar": {
              "outlinewidth": 0,
              "ticks": ""
             }
            },
            "type": "scattergeo"
           }
          ],
          "scattergl": [
           {
            "marker": {
             "colorbar": {
              "outlinewidth": 0,
              "ticks": ""
             }
            },
            "type": "scattergl"
           }
          ],
          "scattermapbox": [
           {
            "marker": {
             "colorbar": {
              "outlinewidth": 0,
              "ticks": ""
             }
            },
            "type": "scattermapbox"
           }
          ],
          "scatterpolar": [
           {
            "marker": {
             "colorbar": {
              "outlinewidth": 0,
              "ticks": ""
             }
            },
            "type": "scatterpolar"
           }
          ],
          "scatterpolargl": [
           {
            "marker": {
             "colorbar": {
              "outlinewidth": 0,
              "ticks": ""
             }
            },
            "type": "scatterpolargl"
           }
          ],
          "scatterternary": [
           {
            "marker": {
             "colorbar": {
              "outlinewidth": 0,
              "ticks": ""
             }
            },
            "type": "scatterternary"
           }
          ],
          "surface": [
           {
            "colorbar": {
             "outlinewidth": 0,
             "ticks": ""
            },
            "colorscale": [
             [
              0,
              "#0d0887"
             ],
             [
              0.1111111111111111,
              "#46039f"
             ],
             [
              0.2222222222222222,
              "#7201a8"
             ],
             [
              0.3333333333333333,
              "#9c179e"
             ],
             [
              0.4444444444444444,
              "#bd3786"
             ],
             [
              0.5555555555555556,
              "#d8576b"
             ],
             [
              0.6666666666666666,
              "#ed7953"
             ],
             [
              0.7777777777777778,
              "#fb9f3a"
             ],
             [
              0.8888888888888888,
              "#fdca26"
             ],
             [
              1,
              "#f0f921"
             ]
            ],
            "type": "surface"
           }
          ],
          "table": [
           {
            "cells": {
             "fill": {
              "color": "#EBF0F8"
             },
             "line": {
              "color": "white"
             }
            },
            "header": {
             "fill": {
              "color": "#C8D4E3"
             },
             "line": {
              "color": "white"
             }
            },
            "type": "table"
           }
          ]
         },
         "layout": {
          "annotationdefaults": {
           "arrowcolor": "#2a3f5f",
           "arrowhead": 0,
           "arrowwidth": 1
          },
          "autotypenumbers": "strict",
          "coloraxis": {
           "colorbar": {
            "outlinewidth": 0,
            "ticks": ""
           }
          },
          "colorscale": {
           "diverging": [
            [
             0,
             "#8e0152"
            ],
            [
             0.1,
             "#c51b7d"
            ],
            [
             0.2,
             "#de77ae"
            ],
            [
             0.3,
             "#f1b6da"
            ],
            [
             0.4,
             "#fde0ef"
            ],
            [
             0.5,
             "#f7f7f7"
            ],
            [
             0.6,
             "#e6f5d0"
            ],
            [
             0.7,
             "#b8e186"
            ],
            [
             0.8,
             "#7fbc41"
            ],
            [
             0.9,
             "#4d9221"
            ],
            [
             1,
             "#276419"
            ]
           ],
           "sequential": [
            [
             0,
             "#0d0887"
            ],
            [
             0.1111111111111111,
             "#46039f"
            ],
            [
             0.2222222222222222,
             "#7201a8"
            ],
            [
             0.3333333333333333,
             "#9c179e"
            ],
            [
             0.4444444444444444,
             "#bd3786"
            ],
            [
             0.5555555555555556,
             "#d8576b"
            ],
            [
             0.6666666666666666,
             "#ed7953"
            ],
            [
             0.7777777777777778,
             "#fb9f3a"
            ],
            [
             0.8888888888888888,
             "#fdca26"
            ],
            [
             1,
             "#f0f921"
            ]
           ],
           "sequentialminus": [
            [
             0,
             "#0d0887"
            ],
            [
             0.1111111111111111,
             "#46039f"
            ],
            [
             0.2222222222222222,
             "#7201a8"
            ],
            [
             0.3333333333333333,
             "#9c179e"
            ],
            [
             0.4444444444444444,
             "#bd3786"
            ],
            [
             0.5555555555555556,
             "#d8576b"
            ],
            [
             0.6666666666666666,
             "#ed7953"
            ],
            [
             0.7777777777777778,
             "#fb9f3a"
            ],
            [
             0.8888888888888888,
             "#fdca26"
            ],
            [
             1,
             "#f0f921"
            ]
           ]
          },
          "colorway": [
           "#636efa",
           "#EF553B",
           "#00cc96",
           "#ab63fa",
           "#FFA15A",
           "#19d3f3",
           "#FF6692",
           "#B6E880",
           "#FF97FF",
           "#FECB52"
          ],
          "font": {
           "color": "#2a3f5f"
          },
          "geo": {
           "bgcolor": "white",
           "lakecolor": "white",
           "landcolor": "#E5ECF6",
           "showlakes": true,
           "showland": true,
           "subunitcolor": "white"
          },
          "hoverlabel": {
           "align": "left"
          },
          "hovermode": "closest",
          "mapbox": {
           "style": "light"
          },
          "paper_bgcolor": "white",
          "plot_bgcolor": "#E5ECF6",
          "polar": {
           "angularaxis": {
            "gridcolor": "white",
            "linecolor": "white",
            "ticks": ""
           },
           "bgcolor": "#E5ECF6",
           "radialaxis": {
            "gridcolor": "white",
            "linecolor": "white",
            "ticks": ""
           }
          },
          "scene": {
           "xaxis": {
            "backgroundcolor": "#E5ECF6",
            "gridcolor": "white",
            "gridwidth": 2,
            "linecolor": "white",
            "showbackground": true,
            "ticks": "",
            "zerolinecolor": "white"
           },
           "yaxis": {
            "backgroundcolor": "#E5ECF6",
            "gridcolor": "white",
            "gridwidth": 2,
            "linecolor": "white",
            "showbackground": true,
            "ticks": "",
            "zerolinecolor": "white"
           },
           "zaxis": {
            "backgroundcolor": "#E5ECF6",
            "gridcolor": "white",
            "gridwidth": 2,
            "linecolor": "white",
            "showbackground": true,
            "ticks": "",
            "zerolinecolor": "white"
           }
          },
          "shapedefaults": {
           "line": {
            "color": "#2a3f5f"
           }
          },
          "ternary": {
           "aaxis": {
            "gridcolor": "white",
            "linecolor": "white",
            "ticks": ""
           },
           "baxis": {
            "gridcolor": "white",
            "linecolor": "white",
            "ticks": ""
           },
           "bgcolor": "#E5ECF6",
           "caxis": {
            "gridcolor": "white",
            "linecolor": "white",
            "ticks": ""
           }
          },
          "title": {
           "x": 0.05
          },
          "xaxis": {
           "automargin": true,
           "gridcolor": "white",
           "linecolor": "white",
           "ticks": "",
           "title": {
            "standoff": 15
           },
           "zerolinecolor": "white",
           "zerolinewidth": 2
          },
          "yaxis": {
           "automargin": true,
           "gridcolor": "white",
           "linecolor": "white",
           "ticks": "",
           "title": {
            "standoff": 15
           },
           "zerolinecolor": "white",
           "zerolinewidth": 2
          }
         }
        },
        "xaxis": {
         "title": {
          "text": "z"
         }
        }
       }
      },
      "image/png": "[encoded data removed]",
      "text/html": [
       "<div\n",
       "    class=\"webio-mountpoint\"\n",
       "    data-webio-mountpoint=\"2735366783478978792\"\n",
       ">\n",
       "    <script>\n",
       "    (function(){\n",
       "    // Some integrations (namely, IJulia/Jupyter) use an alternate render pathway than\n",
       "    // just putting the html on the page. If WebIO isn't defined, then it's pretty likely\n",
       "    // that we're in one of those situations and the integration just isn't installed\n",
       "    // correctly.\n",
       "    if (typeof window.WebIO === \"undefined\") {\n",
       "        document\n",
       "            .querySelector('[data-webio-mountpoint=\"2735366783478978792\"]')\n",
       "            .innerHTML = (\n",
       "                '<div style=\"padding: 1em; background-color: #f8d6da; border: 1px solid #f5c6cb; font-weight: bold;\">' +\n",
       "                '<p><strong>WebIO not detected.</strong></p>' +\n",
       "                '<p>Please read ' +\n",
       "                '<a href=\"https://juliagizmos.github.io/WebIO.jl/latest/troubleshooting/not-detected/\" target=\"_blank\">the troubleshooting guide</a> ' +\n",
       "                'for more information on how to resolve this issue.</p>' +\n",
       "                '<p><a href=\"https://juliagizmos.github.io/WebIO.jl/latest/troubleshooting/not-detected/\" target=\"_blank\">https://juliagizmos.github.io/WebIO.jl/latest/troubleshooting/not-detected/</a></p>' +\n",
       "                '</div>'\n",
       "            );\n",
       "        return;\n",
       "    }\n",
       "    WebIO.mount(\n",
       "        document.querySelector('[data-webio-mountpoint=\"2735366783478978792\"]'),\n",
       "        {\"props\":{},\"nodeType\":\"Scope\",\"type\":\"node\",\"instanceArgs\":{\"imports\":{\"data\":[{\"name\":\"Plotly\",\"type\":\"js\",\"url\":\"\\/assetserver\\/d6feb8d8ce4676ebdde817a0745950a35b4ba3ae-plotly.min.js\"},{\"name\":null,\"type\":\"js\",\"url\":\"\\/assetserver\\/517030b23c1c21e94bf622985d97a74a9582e066-plotly_webio.bundle.js\"}],\"type\":\"async_block\"},\"id\":\"18230455754957175765\",\"handlers\":{\"_toImage\":[\"(function (options){return this.Plotly.toImage(this.plotElem,options).then((function (data){return WebIO.setval({\\\"name\\\":\\\"image\\\",\\\"scope\\\":\\\"18230455754957175765\\\",\\\"id\\\":\\\"275\\\",\\\"type\\\":\\\"observable\\\"},data)}))})\"],\"__get_gd_contents\":[\"(function (prop){prop==\\\"data\\\" ? (WebIO.setval({\\\"name\\\":\\\"__gd_contents\\\",\\\"scope\\\":\\\"18230455754957175765\\\",\\\"id\\\":\\\"276\\\",\\\"type\\\":\\\"observable\\\"},this.plotElem.data)) : undefined; return prop==\\\"layout\\\" ? (WebIO.setval({\\\"name\\\":\\\"__gd_contents\\\",\\\"scope\\\":\\\"18230455754957175765\\\",\\\"id\\\":\\\"276\\\",\\\"type\\\":\\\"observable\\\"},this.plotElem.layout)) : undefined})\"],\"_downloadImage\":[\"(function (options){return this.Plotly.downloadImage(this.plotElem,options)})\"],\"_commands\":[\"(function (args){var fn=args.shift(); var elem=this.plotElem; var Plotly=this.Plotly; args.unshift(elem); return Plotly[fn].apply(this,args)})\"]},\"systemjs_options\":null,\"mount_callbacks\":[\"function () {\\n    var handler = ((function (Plotly,PlotlyWebIO){PlotlyWebIO.init(WebIO); var gd=this.dom.querySelector(\\\"#plot-53f70403-cccb-46a1-a2fb-b5136e5d0ec3\\\"); this.plotElem=gd; this.Plotly=Plotly; (window.Blink!==undefined) ? (gd.style.width=\\\"100%\\\", gd.style.height=\\\"100vh\\\", gd.style.marginLeft=\\\"0%\\\", gd.style.marginTop=\\\"0vh\\\") : undefined; window.onresize=(function (){return Plotly.Plots.resize(gd)}); Plotly.newPlot(gd,[{\\\"mode\\\":\\\"markers+lines\\\",\\\"y\\\":[0.0,0.010869090657597478,0.030686901661048475,0.0562057157587268,0.08616950305761106,0.11977226814122421,0.15639979092109593,0.19553832755778858,0.2367333756486306,0.2795684295017511,0.3236531645935955,0.368616594978608,0.4141030725120185,0.45977000997625955,0.5052866978613679,0.5503338380157107,0.5946035575013604,0.637799747485926,0.6796386214861198,0.7198494184636315,0.7581751965890713,0.794373677130826,0.8282181073507486,0.8594981179842097,0.8880205557726338,0.9136102751915453,0.9361108763603103,0.9553853783864644,0.9713168192603581,0.9838087749936197,0.9927857920705754,0.9981937285141971,1.0,0.9981937285141971,0.9927857920705755,0.9838087749936197,0.9713168192603581,0.9553853783864644,0.9361108763603103,0.9136102751915453,0.8880205557726338,0.8594981179842098,0.8282181073507489,0.794373677130826,0.7581751965890714,0.7198494184636317,0.67963862148612,0.6377997474859258,0.5946035575013606,0.5503338380157109,0.5052866978613679,0.4597700099762597,0.4141030725120185,0.3686165949786081,0.3236531645935957,0.27956842950175104,0.2367333756486307,0.19553832755778883,0.15639979092109563,0.11977226814122437,0.0861695030576113,0.056205715758726835,0.03068690166104858,0.010869090657597462],\\\"type\\\":\\\"scatter\\\",\\\"name\\\":\\\"u\\\",\\\"x\\\":[0.0,0.09817477042468103,0.19634954084936207,0.2945243112740431,0.39269908169872414,0.4908738521234052,0.5890486225480862,0.6872233929727672,0.7853981633974483,0.8835729338221293,0.9817477042468103,1.0799224746714913,1.1780972450961724,1.2762720155208536,1.3744467859455345,1.4726215563702154,1.5707963267948966,1.6689710972195777,1.7671458676442586,1.8653206380689396,1.9634954084936207,2.061670178918302,2.1598449493429825,2.2580197197676637,2.356194490192345,2.454369260617026,2.552544031041707,2.650718801466388,2.748893571891069,2.84706834231575,2.945243112740431,3.043417883165112,3.141592653589793,3.2397674240144743,3.3379421944391554,3.436116964863836,3.5342917352885173,3.6324665057131984,3.730641276137879,3.8288160465625602,3.9269908169872414,4.025165587411922,4.123340357836604,4.221515128261284,4.319689898685965,4.417864669110647,4.516039439535327,4.614214209960009,4.71238898038469,4.81056375080937,4.908738521234052,5.006913291658733,5.105088062083414,5.203262832508095,5.301437602932776,5.399612373357457,5.497787143782138,5.595961914206819,5.6941366846315,5.792311455056181,5.890486225480862,5.988660995905543,6.086835766330224,6.1850105367549055]}],{\\\"xaxis\\\":{\\\"title\\\":{\\\"text\\\":\\\"z\\\"}},\\\"template\\\":{\\\"layout\\\":{\\\"coloraxis\\\":{\\\"colorbar\\\":{\\\"ticks\\\":\\\"\\\",\\\"outlinewidth\\\":0}},\\\"xaxis\\\":{\\\"gridcolor\\\":\\\"white\\\",\\\"zerolinewidth\\\":2,\\\"title\\\":{\\\"standoff\\\":15},\\\"ticks\\\":\\\"\\\",\\\"zerolinecolor\\\":\\\"white\\\",\\\"automargin\\\":true,\\\"linecolor\\\":\\\"white\\\"},\\\"hovermode\\\":\\\"closest\\\",\\\"paper_bgcolor\\\":\\\"white\\\",\\\"geo\\\":{\\\"showlakes\\\":true,\\\"showland\\\":true,\\\"landcolor\\\":\\\"#E5ECF6\\\",\\\"bgcolor\\\":\\\"white\\\",\\\"subunitcolor\\\":\\\"white\\\",\\\"lakecolor\\\":\\\"white\\\"},\\\"colorscale\\\":{\\\"sequential\\\":[[0.0,\\\"#0d0887\\\"],[0.1111111111111111,\\\"#46039f\\\"],[0.2222222222222222,\\\"#7201a8\\\"],[0.3333333333333333,\\\"#9c179e\\\"],[0.4444444444444444,\\\"#bd3786\\\"],[0.5555555555555556,\\\"#d8576b\\\"],[0.6666666666666666,\\\"#ed7953\\\"],[0.7777777777777778,\\\"#fb9f3a\\\"],[0.8888888888888888,\\\"#fdca26\\\"],[1.0,\\\"#f0f921\\\"]],\\\"diverging\\\":[[0,\\\"#8e0152\\\"],[0.1,\\\"#c51b7d\\\"],[0.2,\\\"#de77ae\\\"],[0.3,\\\"#f1b6da\\\"],[0.4,\\\"#fde0ef\\\"],[0.5,\\\"#f7f7f7\\\"],[0.6,\\\"#e6f5d0\\\"],[0.7,\\\"#b8e186\\\"],[0.8,\\\"#7fbc41\\\"],[0.9,\\\"#4d9221\\\"],[1,\\\"#276419\\\"]],\\\"sequentialminus\\\":[[0.0,\\\"#0d0887\\\"],[0.1111111111111111,\\\"#46039f\\\"],[0.2222222222222222,\\\"#7201a8\\\"],[0.3333333333333333,\\\"#9c179e\\\"],[0.4444444444444444,\\\"#bd3786\\\"],[0.5555555555555556,\\\"#d8576b\\\"],[0.6666666666666666,\\\"#ed7953\\\"],[0.7777777777777778,\\\"#fb9f3a\\\"],[0.8888888888888888,\\\"#fdca26\\\"],[1.0,\\\"#f0f921\\\"]]},\\\"yaxis\\\":{\\\"gridcolor\\\":\\\"white\\\",\\\"zerolinewidth\\\":2,\\\"title\\\":{\\\"standoff\\\":15},\\\"ticks\\\":\\\"\\\",\\\"zerolinecolor\\\":\\\"white\\\",\\\"automargin\\\":true,\\\"linecolor\\\":\\\"white\\\"},\\\"shapedefaults\\\":{\\\"line\\\":{\\\"color\\\":\\\"#2a3f5f\\\"}},\\\"hoverlabel\\\":{\\\"align\\\":\\\"left\\\"},\\\"mapbox\\\":{\\\"style\\\":\\\"light\\\"},\\\"polar\\\":{\\\"angularaxis\\\":{\\\"gridcolor\\\":\\\"white\\\",\\\"ticks\\\":\\\"\\\",\\\"linecolor\\\":\\\"white\\\"},\\\"bgcolor\\\":\\\"#E5ECF6\\\",\\\"radialaxis\\\":{\\\"gridcolor\\\":\\\"white\\\",\\\"ticks\\\":\\\"\\\",\\\"linecolor\\\":\\\"white\\\"}},\\\"autotypenumbers\\\":\\\"strict\\\",\\\"font\\\":{\\\"color\\\":\\\"#2a3f5f\\\"},\\\"ternary\\\":{\\\"baxis\\\":{\\\"gridcolor\\\":\\\"white\\\",\\\"ticks\\\":\\\"\\\",\\\"linecolor\\\":\\\"white\\\"},\\\"bgcolor\\\":\\\"#E5ECF6\\\",\\\"caxis\\\":{\\\"gridcolor\\\":\\\"white\\\",\\\"ticks\\\":\\\"\\\",\\\"linecolor\\\":\\\"white\\\"},\\\"aaxis\\\":{\\\"gridcolor\\\":\\\"white\\\",\\\"ticks\\\":\\\"\\\",\\\"linecolor\\\":\\\"white\\\"}},\\\"annotationdefaults\\\":{\\\"arrowhead\\\":0,\\\"arrowwidth\\\":1,\\\"arrowcolor\\\":\\\"#2a3f5f\\\"},\\\"plot_bgcolor\\\":\\\"#E5ECF6\\\",\\\"title\\\":{\\\"x\\\":0.05},\\\"scene\\\":{\\\"xaxis\\\":{\\\"gridcolor\\\":\\\"white\\\",\\\"gridwidth\\\":2,\\\"backgroundcolor\\\":\\\"#E5ECF6\\\",\\\"ticks\\\":\\\"\\\",\\\"showbackground\\\":true,\\\"zerolinecolor\\\":\\\"white\\\",\\\"linecolor\\\":\\\"white\\\"},\\\"zaxis\\\":{\\\"gridcolor\\\":\\\"white\\\",\\\"gridwidth\\\":2,\\\"backgroundcolor\\\":\\\"#E5ECF6\\\",\\\"ticks\\\":\\\"\\\",\\\"showbackground\\\":true,\\\"zerolinecolor\\\":\\\"white\\\",\\\"linecolor\\\":\\\"white\\\"},\\\"yaxis\\\":{\\\"gridcolor\\\":\\\"white\\\",\\\"gridwidth\\\":2,\\\"backgroundcolor\\\":\\\"#E5ECF6\\\",\\\"ticks\\\":\\\"\\\",\\\"showbackground\\\":true,\\\"zerolinecolor\\\":\\\"white\\\",\\\"linecolor\\\":\\\"white\\\"}},\\\"colorway\\\":[\\\"#636efa\\\",\\\"#EF553B\\\",\\\"#00cc96\\\",\\\"#ab63fa\\\",\\\"#FFA15A\\\",\\\"#19d3f3\\\",\\\"#FF6692\\\",\\\"#B6E880\\\",\\\"#FF97FF\\\",\\\"#FECB52\\\"]},\\\"data\\\":{\\\"barpolar\\\":[{\\\"type\\\":\\\"barpolar\\\",\\\"marker\\\":{\\\"line\\\":{\\\"color\\\":\\\"#E5ECF6\\\",\\\"width\\\":0.5}}}],\\\"carpet\\\":[{\\\"aaxis\\\":{\\\"gridcolor\\\":\\\"white\\\",\\\"endlinecolor\\\":\\\"#2a3f5f\\\",\\\"minorgridcolor\\\":\\\"white\\\",\\\"startlinecolor\\\":\\\"#2a3f5f\\\",\\\"linecolor\\\":\\\"white\\\"},\\\"type\\\":\\\"carpet\\\",\\\"baxis\\\":{\\\"gridcolor\\\":\\\"white\\\",\\\"endlinecolor\\\":\\\"#2a3f5f\\\",\\\"minorgridcolor\\\":\\\"white\\\",\\\"startlinecolor\\\":\\\"#2a3f5f\\\",\\\"linecolor\\\":\\\"white\\\"}}],\\\"scatterpolar\\\":[{\\\"type\\\":\\\"scatterpolar\\\",\\\"marker\\\":{\\\"colorbar\\\":{\\\"ticks\\\":\\\"\\\",\\\"outlinewidth\\\":0}}}],\\\"parcoords\\\":[{\\\"line\\\":{\\\"colorbar\\\":{\\\"ticks\\\":\\\"\\\",\\\"outlinewidth\\\":0}},\\\"type\\\":\\\"parcoords\\\"}],\\\"scatter\\\":[{\\\"type\\\":\\\"scatter\\\",\\\"marker\\\":{\\\"colorbar\\\":{\\\"ticks\\\":\\\"\\\",\\\"outlinewidth\\\":0}}}],\\\"histogram2dcontour\\\":[{\\\"colorbar\\\":{\\\"ticks\\\":\\\"\\\",\\\"outlinewidth\\\":0},\\\"type\\\":\\\"histogram2dcontour\\\",\\\"colorscale\\\":[[0.0,\\\"#0d0887\\\"],[0.1111111111111111,\\\"#46039f\\\"],[0.2222222222222222,\\\"#7201a8\\\"],[0.3333333333333333,\\\"#9c179e\\\"],[0.4444444444444444,\\\"#bd3786\\\"],[0.5555555555555556,\\\"#d8576b\\\"],[0.6666666666666666,\\\"#ed7953\\\"],[0.7777777777777778,\\\"#fb9f3a\\\"],[0.8888888888888888,\\\"#fdca26\\\"],[1.0,\\\"#f0f921\\\"]]}],\\\"contour\\\":[{\\\"colorbar\\\":{\\\"ticks\\\":\\\"\\\",\\\"outlinewidth\\\":0},\\\"type\\\":\\\"contour\\\",\\\"colorscale\\\":[[0.0,\\\"#0d0887\\\"],[0.1111111111111111,\\\"#46039f\\\"],[0.2222222222222222,\\\"#7201a8\\\"],[0.3333333333333333,\\\"#9c179e\\\"],[0.4444444444444444,\\\"#bd3786\\\"],[0.5555555555555556,\\\"#d8576b\\\"],[0.6666666666666666,\\\"#ed7953\\\"],[0.7777777777777778,\\\"#fb9f3a\\\"],[0.8888888888888888,\\\"#fdca26\\\"],[1.0,\\\"#f0f921\\\"]]}],\\\"scattercarpet\\\":[{\\\"type\\\":\\\"scattercarpet\\\",\\\"marker\\\":{\\\"colorbar\\\":{\\\"ticks\\\":\\\"\\\",\\\"outlinewidth\\\":0}}}],\\\"mesh3d\\\":[{\\\"colorbar\\\":{\\\"ticks\\\":\\\"\\\",\\\"outlinewidth\\\":0},\\\"type\\\":\\\"mesh3d\\\"}],\\\"surface\\\":[{\\\"colorbar\\\":{\\\"ticks\\\":\\\"\\\",\\\"outlinewidth\\\":0},\\\"type\\\":\\\"surface\\\",\\\"colorscale\\\":[[0.0,\\\"#0d0887\\\"],[0.1111111111111111,\\\"#46039f\\\"],[0.2222222222222222,\\\"#7201a8\\\"],[0.3333333333333333,\\\"#9c179e\\\"],[0.4444444444444444,\\\"#bd3786\\\"],[0.5555555555555556,\\\"#d8576b\\\"],[0.6666666666666666,\\\"#ed7953\\\"],[0.7777777777777778,\\\"#fb9f3a\\\"],[0.8888888888888888,\\\"#fdca26\\\"],[1.0,\\\"#f0f921\\\"]]}],\\\"scattermapbox\\\":[{\\\"type\\\":\\\"scattermapbox\\\",\\\"marker\\\":{\\\"colorbar\\\":{\\\"ticks\\\":\\\"\\\",\\\"outlinewidth\\\":0}}}],\\\"scattergeo\\\":[{\\\"type\\\":\\\"scattergeo\\\",\\\"marker\\\":{\\\"colorbar\\\":{\\\"ticks\\\":\\\"\\\",\\\"outlinewidth\\\":0}}}],\\\"histogram\\\":[{\\\"type\\\":\\\"histogram\\\",\\\"marker\\\":{\\\"colorbar\\\":{\\\"ticks\\\":\\\"\\\",\\\"outlinewidth\\\":0}}}],\\\"pie\\\":[{\\\"type\\\":\\\"pie\\\",\\\"automargin\\\":true}],\\\"choropleth\\\":[{\\\"colorbar\\\":{\\\"ticks\\\":\\\"\\\",\\\"outlinewidth\\\":0},\\\"type\\\":\\\"choropleth\\\"}],\\\"heatmapgl\\\":[{\\\"colorbar\\\":{\\\"ticks\\\":\\\"\\\",\\\"outlinewidth\\\":0},\\\"type\\\":\\\"heatmapgl\\\",\\\"colorscale\\\":[[0.0,\\\"#0d0887\\\"],[0.1111111111111111,\\\"#46039f\\\"],[0.2222222222222222,\\\"#7201a8\\\"],[0.3333333333333333,\\\"#9c179e\\\"],[0.4444444444444444,\\\"#bd3786\\\"],[0.5555555555555556,\\\"#d8576b\\\"],[0.6666666666666666,\\\"#ed7953\\\"],[0.7777777777777778,\\\"#fb9f3a\\\"],[0.8888888888888888,\\\"#fdca26\\\"],[1.0,\\\"#f0f921\\\"]]}],\\\"bar\\\":[{\\\"type\\\":\\\"bar\\\",\\\"error_y\\\":{\\\"color\\\":\\\"#2a3f5f\\\"},\\\"error_x\\\":{\\\"color\\\":\\\"#2a3f5f\\\"},\\\"marker\\\":{\\\"line\\\":{\\\"color\\\":\\\"#E5ECF6\\\",\\\"width\\\":0.5}}}],\\\"heatmap\\\":[{\\\"colorbar\\\":{\\\"ticks\\\":\\\"\\\",\\\"outlinewidth\\\":0},\\\"type\\\":\\\"heatmap\\\",\\\"colorscale\\\":[[0.0,\\\"#0d0887\\\"],[0.1111111111111111,\\\"#46039f\\\"],[0.2222222222222222,\\\"#7201a8\\\"],[0.3333333333333333,\\\"#9c179e\\\"],[0.4444444444444444,\\\"#bd3786\\\"],[0.5555555555555556,\\\"#d8576b\\\"],[0.6666666666666666,\\\"#ed7953\\\"],[0.7777777777777778,\\\"#fb9f3a\\\"],[0.8888888888888888,\\\"#fdca26\\\"],[1.0,\\\"#f0f921\\\"]]}],\\\"contourcarpet\\\":[{\\\"colorbar\\\":{\\\"ticks\\\":\\\"\\\",\\\"outlinewidth\\\":0},\\\"type\\\":\\\"contourcarpet\\\"}],\\\"table\\\":[{\\\"type\\\":\\\"table\\\",\\\"header\\\":{\\\"line\\\":{\\\"color\\\":\\\"white\\\"},\\\"fill\\\":{\\\"color\\\":\\\"#C8D4E3\\\"}},\\\"cells\\\":{\\\"line\\\":{\\\"color\\\":\\\"white\\\"},\\\"fill\\\":{\\\"color\\\":\\\"#EBF0F8\\\"}}}],\\\"scatter3d\\\":[{\\\"line\\\":{\\\"colorbar\\\":{\\\"ticks\\\":\\\"\\\",\\\"outlinewidth\\\":0}},\\\"type\\\":\\\"scatter3d\\\",\\\"marker\\\":{\\\"colorbar\\\":{\\\"ticks\\\":\\\"\\\",\\\"outlinewidth\\\":0}}}],\\\"scattergl\\\":[{\\\"type\\\":\\\"scattergl\\\",\\\"marker\\\":{\\\"colorbar\\\":{\\\"ticks\\\":\\\"\\\",\\\"outlinewidth\\\":0}}}],\\\"histogram2d\\\":[{\\\"colorbar\\\":{\\\"ticks\\\":\\\"\\\",\\\"outlinewidth\\\":0},\\\"type\\\":\\\"histogram2d\\\",\\\"colorscale\\\":[[0.0,\\\"#0d0887\\\"],[0.1111111111111111,\\\"#46039f\\\"],[0.2222222222222222,\\\"#7201a8\\\"],[0.3333333333333333,\\\"#9c179e\\\"],[0.4444444444444444,\\\"#bd3786\\\"],[0.5555555555555556,\\\"#d8576b\\\"],[0.6666666666666666,\\\"#ed7953\\\"],[0.7777777777777778,\\\"#fb9f3a\\\"],[0.8888888888888888,\\\"#fdca26\\\"],[1.0,\\\"#f0f921\\\"]]}],\\\"scatterternary\\\":[{\\\"type\\\":\\\"scatterternary\\\",\\\"marker\\\":{\\\"colorbar\\\":{\\\"ticks\\\":\\\"\\\",\\\"outlinewidth\\\":0}}}],\\\"scatterpolargl\\\":[{\\\"type\\\":\\\"scatterpolargl\\\",\\\"marker\\\":{\\\"colorbar\\\":{\\\"ticks\\\":\\\"\\\",\\\"outlinewidth\\\":0}}}]}},\\\"margin\\\":{\\\"l\\\":50,\\\"b\\\":50,\\\"r\\\":50,\\\"t\\\":60}},{\\\"showLink\\\":false,\\\"editable\\\":false,\\\"responsive\\\":true,\\\"staticPlot\\\":false,\\\"scrollZoom\\\":true}); gd.on(\\\"plotly_hover\\\",(function (data){var filtered_data=WebIO.PlotlyCommands.filterEventData(gd,data,\\\"hover\\\"); return !(filtered_data.isnil) ? (WebIO.setval({\\\"name\\\":\\\"hover\\\",\\\"scope\\\":\\\"18230455754957175765\\\",\\\"id\\\":\\\"271\\\",\\\"type\\\":\\\"observable\\\"},filtered_data.out)) : undefined})); gd.on(\\\"plotly_unhover\\\",(function (){return WebIO.setval({\\\"name\\\":\\\"hover\\\",\\\"scope\\\":\\\"18230455754957175765\\\",\\\"id\\\":\\\"271\\\",\\\"type\\\":\\\"observable\\\"},{})})); gd.on(\\\"plotly_selected\\\",(function (data){var filtered_data=WebIO.PlotlyCommands.filterEventData(gd,data,\\\"selected\\\"); return !(filtered_data.isnil) ? (WebIO.setval({\\\"name\\\":\\\"selected\\\",\\\"scope\\\":\\\"18230455754957175765\\\",\\\"id\\\":\\\"272\\\",\\\"type\\\":\\\"observable\\\"},filtered_data.out)) : undefined})); gd.on(\\\"plotly_deselect\\\",(function (){return WebIO.setval({\\\"name\\\":\\\"selected\\\",\\\"scope\\\":\\\"18230455754957175765\\\",\\\"id\\\":\\\"272\\\",\\\"type\\\":\\\"observable\\\"},{})})); gd.on(\\\"plotly_relayout\\\",(function (data){var filtered_data=WebIO.PlotlyCommands.filterEventData(gd,data,\\\"relayout\\\"); return !(filtered_data.isnil) ? (WebIO.setval({\\\"name\\\":\\\"relayout\\\",\\\"scope\\\":\\\"18230455754957175765\\\",\\\"id\\\":\\\"274\\\",\\\"type\\\":\\\"observable\\\"},filtered_data.out)) : undefined})); return gd.on(\\\"plotly_click\\\",(function (data){var filtered_data=WebIO.PlotlyCommands.filterEventData(gd,data,\\\"click\\\"); return !(filtered_data.isnil) ? (WebIO.setval({\\\"name\\\":\\\"click\\\",\\\"scope\\\":\\\"18230455754957175765\\\",\\\"id\\\":\\\"273\\\",\\\"type\\\":\\\"observable\\\"},filtered_data.out)) : undefined}))}));\\n    (WebIO.importBlock({\\\"data\\\":[{\\\"name\\\":\\\"Plotly\\\",\\\"type\\\":\\\"js\\\",\\\"url\\\":\\\"\\/assetserver\\/d6feb8d8ce4676ebdde817a0745950a35b4ba3ae-plotly.min.js\\\"},{\\\"name\\\":null,\\\"type\\\":\\\"js\\\",\\\"url\\\":\\\"\\/assetserver\\/517030b23c1c21e94bf622985d97a74a9582e066-plotly_webio.bundle.js\\\"}],\\\"type\\\":\\\"async_block\\\"})).then((imports) => handler.apply(this, imports));\\n}\\n\"],\"observables\":{\"_toImage\":{\"sync\":false,\"id\":\"278\",\"value\":{}},\"hover\":{\"sync\":false,\"id\":\"271\",\"value\":{}},\"selected\":{\"sync\":false,\"id\":\"272\",\"value\":{}},\"__gd_contents\":{\"sync\":false,\"id\":\"276\",\"value\":{}},\"click\":{\"sync\":false,\"id\":\"273\",\"value\":{}},\"image\":{\"sync\":true,\"id\":\"275\",\"value\":\"\"},\"__get_gd_contents\":{\"sync\":false,\"id\":\"280\",\"value\":\"\"},\"_downloadImage\":{\"sync\":false,\"id\":\"279\",\"value\":{}},\"relayout\":{\"sync\":false,\"id\":\"274\",\"value\":{}},\"_commands\":{\"sync\":false,\"id\":\"277\",\"value\":[]}}},\"children\":[{\"props\":{\"id\":\"plot-53f70403-cccb-46a1-a2fb-b5136e5d0ec3\"},\"nodeType\":\"DOM\",\"type\":\"node\",\"instanceArgs\":{\"namespace\":\"html\",\"tag\":\"div\"},\"children\":[]}]},\n",
       "        window,\n",
       "    );\n",
       "    })()\n",
       "    </script>\n",
       "</div>\n"
      ],
      "text/plain": [
       "data: [\n",
       "  \"scatter with fields mode, name, type, x, and y\"\n",
       "]\n",
       "\n",
       "layout: \"layout with fields margin, template, and xaxis\"\n",
       "\n"
      ]
     },
     "execution_count": 198,
     "metadata": {},
     "output_type": "execute_result"
    }
   ],
   "source": [
    "plot([\n",
    "    scatter(x=z, y=u, mode=\"markers+lines\", name=\"u\")],\n",
    "    Layout(xaxis_title=\"z\") #yaxis_title=\"u(x)\",  \n",
    ")"
   ]
  },
  {
   "cell_type": "markdown",
   "id": "9a72cdf9-d28f-4ae5-9bc7-84ac8933dd91",
   "metadata": {},
   "source": [
    "Now, we may try to compute $\\frac{du}{dx}$. We know that \n",
    "\n",
    "$$\\begin{align*}\n",
    "\\frac{d}{dz} u(x(z)) = \\frac{du}{dx} \\frac{dx}{dz}\n",
    "\\end{align*}\n",
    "$$\n",
    "in which\n",
    "\n",
    "$$\n",
    "\\frac{du}{dx} = \\frac{3\\pi}{4} \\left(\\sin\\left(\\frac{\\pi x}{2}\\right)\\right)^{\\frac{1}{2}} \\cos\\left(\\frac{\\pi x}{2}\\right)\n",
    "$$\n",
    "$$\n",
    "\\frac{dx}{dz} = \\frac{1}{\\pi}\n",
    "$$\n",
    "\n",
    "If spectral differentation computes $\\frac{d}{dz} u(x(z))$, we just need to compute $\\frac{du}{dx} = \\left( \\frac{dx}{dz} \\right)^{-1} \\frac{d}{dz} u(x(z)) = \\pi \\cdot \\frac{d}{dz} u(x(z)).$"
   ]
  },
  {
   "cell_type": "code",
   "execution_count": 199,
   "id": "5336e1cc-0f86-4eea-9815-661d24de632f",
   "metadata": {},
   "outputs": [],
   "source": [
    "# Finding fourier coefficients (or moving to frequency domain)\n",
    "u_hat = fft(u);"
   ]
  },
  {
   "cell_type": "code",
   "execution_count": 200,
   "id": "14751d77-7622-4646-a02d-dd7c8f5e8237",
   "metadata": {},
   "outputs": [],
   "source": [
    "# After that, we compute its spectral derivative\n",
    "v_hat = 1im * (vcat(0:N÷2 - 1, 0, -N÷2 + 1:-1)) .* u_hat; "
   ]
  },
  {
   "cell_type": "code",
   "execution_count": 201,
   "id": "fb741a92-794b-4fc5-b36a-9d292199ab8f",
   "metadata": {},
   "outputs": [],
   "source": [
    "# Finally, we compute the ifft to return from the frequency to the physical space\n",
    "# We will consider only the real part since it f:R->R function\n",
    "v = real(ifft(v_hat));"
   ]
  },
  {
   "cell_type": "code",
   "execution_count": 202,
   "id": "d651cea3-dcf4-4218-9522-0f369ab069a6",
   "metadata": {},
   "outputs": [],
   "source": [
    "# Finding du/dx = (dx/dz)^-1 * d/dz u(x(z)) \n",
    "dx_dz = 1/pi\n",
    "v = v * (dx_dz)^(-1);"
   ]
  },
  {
   "cell_type": "code",
   "execution_count": 203,
   "id": "827209d8-8bef-4418-9644-d39db35bfdba",
   "metadata": {},
   "outputs": [],
   "source": [
    "# Computing analytical derivative on domain\n",
    "du_dx = (3 * pi / 4) * sqrt.(sin.(pi * x / 2)) .* cos.(pi * x / 2);"
   ]
  },
  {
   "cell_type": "code",
   "execution_count": 204,
   "id": "a9bcd7fc-3a9d-41ed-b3d8-9322433d951f",
   "metadata": {},
   "outputs": [
    {
     "data": {
      "text/plain": [
       "0.038261343072240925"
      ]
     },
     "execution_count": 204,
     "metadata": {},
     "output_type": "execute_result"
    }
   ],
   "source": [
    "# We compute the L_inf error norm between the two derivatives\n",
    "error = norm(du_dx-v, Inf)/norm(du_dx, Inf)"
   ]
  },
  {
   "cell_type": "markdown",
   "id": "5f50bc8b-f4ce-4c16-a350-91682e2f8ed5",
   "metadata": {},
   "source": [
    "We notice that the error is much larger this time, since $u(x)$ is not as smooth as the previous example. "
   ]
  },
  {
   "cell_type": "markdown",
   "id": "712fba76-bdc2-4f18-ab2b-2cdbc3404c08",
   "metadata": {},
   "source": [
    "*It is worth mentioning that, if we consider the wavelength to be $\\hat{k} = \\frac{2\\pi k}{L}$, then it is not necessary to rescale the problem domain.*"
   ]
  },
  {
   "cell_type": "markdown",
   "id": "c5977c85-96cd-4e02-995b-3faf57fec7b2",
   "metadata": {},
   "source": [
    "# Solution of differential equations\n",
    "\n",
    "We may use the concept of spectral differentiation to solve differential equations. For example, the 1D Poisson equation with periodic BCs:\n",
    "\n",
    "$$\n",
    "\\begin{align*}\n",
    "-u''(x) = f(x)&, \\quad x\\in[0, 2\\pi] \\\\ \n",
    "\\begin{cases}&u(0) = u(2\\pi) \\\\\n",
    "&u'(0) = u'(2\\pi)\n",
    "\\end{cases}\n",
    "\\end{align*}\n",
    "$$\n",
    "\n",
    "It is necessary that $$\\frac{1}{2\\pi}\\int_{0}^{2\\pi}f(x) dx = 0,$$ since\n",
    "\n",
    "$$\\frac{1}{2\\pi}\\int_{0}^{2\\pi}f(x) dx= -\\frac{1}{2\\pi}\\int_{0}^{2\\pi}u''(x) dx = -\\frac{1}{2\\pi}(u'(2\\pi) - u'(0)) = 0.$$\n",
    "\n",
    "Our first example will be $f(x) = \\cos(x) - \\cos(3x)$. Thus, the analytical solution is $u(x) = \\cos(x) - \\frac{1}{9}\\cos(3x)$."
   ]
  },
  {
   "cell_type": "code",
   "execution_count": 205,
   "id": "2c128d9c-3ffd-40dc-b446-a21d35f0cd7c",
   "metadata": {},
   "outputs": [],
   "source": [
    "using QuadGK;"
   ]
  },
  {
   "cell_type": "code",
   "execution_count": 206,
   "id": "886f5fdb-3662-46b9-8a56-41ea93f47627",
   "metadata": {},
   "outputs": [
    {
     "data": {
      "text/plain": [
       "(2.991419572420751e-14, 4.8197776865144034e-18)"
      ]
     },
     "execution_count": 206,
     "metadata": {},
     "output_type": "execute_result"
    }
   ],
   "source": [
    "# Checking if satisfies the condition\n",
    "f(x) = cos(x) - cos(3 * x)\n",
    "result, err = quadgk(f, 0, 2*pi)"
   ]
  },
  {
   "cell_type": "markdown",
   "id": "9c939fd4-0fab-4ac4-ba56-837bd477064f",
   "metadata": {},
   "source": [
    "In order to solve this differential equation, we may compute the DFT (with FFT) at both sides of the ODE:\n",
    "\n",
    "$$-\\hat{u}''_k = \\hat{f}_k, \\quad \\text{for }k = -N/2, ..., N/2.$$\n",
    "\n",
    "Moreover, using the results from spectral differentation, \n",
    "$$\\hat{u}''_k= (ik)^2 \\hat{u}_k \\to  \\hat{u}_k = -\\frac{\\hat{u}''_k}{k^2} = \\frac{f_k}{k^2}.$$\n",
    "\n",
    "After finding $\\hat{u}_k$, we may use the inverse DFT (with IFFT) to obtain the solution $u_k$.\n"
   ]
  },
  {
   "cell_type": "code",
   "execution_count": 207,
   "id": "9f3c3a97-5b17-4c2f-aa4a-5ee8d55ba3b0",
   "metadata": {},
   "outputs": [],
   "source": [
    "# Number of grid points\n",
    "N = 64\n",
    "L = 2 * pi\n",
    "h = L/N # stepsize\n",
    "x = h * collect(0:N-1) # domain\n",
    "\n",
    "\n",
    "# Define RHS function\n",
    "f_rhs = cos.(x) .- cos.(3 * x)\n",
    "\n",
    "# FFT of RHS\n",
    "f_hat = fft(f_rhs)\n",
    "\n",
    "# Wavenumbers (assumes 2π-period)\n",
    "k = vcat(0:N÷2, -N÷2+1:-1)\n",
    "\n",
    "# Solve in Fourier space: u_hat = f_hat / k^2\n",
    "u_hat = copy(f_hat) \n",
    "u_hat[2:end] = u_hat[2:end] ./ (k[2:end].^2)   \n",
    "\n",
    "# Inverse FFT to get back to physical space\n",
    "u = real(ifft(u_hat));"
   ]
  },
  {
   "cell_type": "code",
   "execution_count": 208,
   "id": "6935bd51-f3ef-4e35-b900-12f64379a0ae",
   "metadata": {},
   "outputs": [],
   "source": [
    "u_exact(x) = cos(x) - cos(3 * x)/9 ;"
   ]
  },
  {
   "cell_type": "code",
   "execution_count": 209,
   "id": "ce0aec05-4499-4a66-94cd-742f114ba902",
   "metadata": {},
   "outputs": [
    {
     "data": {
      "text/plain": [
       "6.245004513516506e-16"
      ]
     },
     "execution_count": 209,
     "metadata": {},
     "output_type": "execute_result"
    }
   ],
   "source": [
    "# Finding error\n",
    "error = norm(u_exact.(x) - u, Inf)/norm(u_exact.(x), Inf)"
   ]
  },
  {
   "cell_type": "code",
   "execution_count": 210,
   "id": "e0bc9157-bcb2-4332-92f8-0b89d2a831f0",
   "metadata": {},
   "outputs": [
    {
     "data": {
      "application/vnd.plotly.v1+json": {
       "config": {
        "editable": false,
        "responsive": true,
        "scrollZoom": true,
        "showLink": false,
        "staticPlot": false
       },
       "data": [
        {
         "mode": "markers+lines",
         "name": "u",
         "type": "scatter",
         "x": [
          0,
          0.09817477042468103,
          0.19634954084936207,
          0.2945243112740431,
          0.39269908169872414,
          0.4908738521234052,
          0.5890486225480862,
          0.6872233929727672,
          0.7853981633974483,
          0.8835729338221293,
          0.9817477042468103,
          1.0799224746714913,
          1.1780972450961724,
          1.2762720155208536,
          1.3744467859455345,
          1.4726215563702154,
          1.5707963267948966,
          1.6689710972195777,
          1.7671458676442586,
          1.8653206380689396,
          1.9634954084936207,
          2.061670178918302,
          2.1598449493429825,
          2.2580197197676637,
          2.356194490192345,
          2.454369260617026,
          2.552544031041707,
          2.650718801466388,
          2.748893571891069,
          2.84706834231575,
          2.945243112740431,
          3.043417883165112,
          3.141592653589793,
          3.2397674240144743,
          3.3379421944391554,
          3.436116964863836,
          3.5342917352885173,
          3.6324665057131984,
          3.730641276137879,
          3.8288160465625602,
          3.9269908169872414,
          4.025165587411922,
          4.123340357836604,
          4.221515128261284,
          4.319689898685965,
          4.417864669110647,
          4.516039439535327,
          4.614214209960009,
          4.71238898038469,
          4.81056375080937,
          4.908738521234052,
          5.006913291658733,
          5.105088062083414,
          5.203262832508095,
          5.301437602932776,
          5.399612373357457,
          5.497787143782138,
          5.595961914206819,
          5.6941366846315,
          5.792311455056181,
          5.890486225480862,
          5.988660995905543,
          6.086835766330224,
          6.1850105367549055
         ],
         "y": [
          0.8888888888888892,
          0.8888580227019517,
          0.8883997679251701,
          0.8864521930473596,
          0.881359151137388,
          0.871030470978404,
          0.8531463147487819,
          0.8253878685656257,
          0.7856742013183864,
          0.7323845357579074,
          0.6645463752866281,
          0.5819728175673532,
          0.48533671375523285,
          0.3761747276281,
          0.2568203479071954,
          0.13027099335783449,
          1.2742093432651477e-16,
          -0.1302709933578341,
          -0.2568203479071951,
          -0.3761747276280997,
          -0.4853367137552327,
          -0.5819728175673529,
          -0.6645463752866277,
          -0.7323845357579072,
          -0.7856742013183864,
          -0.8253878685656257,
          -0.8531463147487819,
          -0.871030470978404,
          -0.8813591511373882,
          -0.8864521930473596,
          -0.8883997679251701,
          -0.8888580227019516,
          -0.8888888888888892,
          -0.8888580227019517,
          -0.8883997679251701,
          -0.8864521930473596,
          -0.881359151137388,
          -0.871030470978404,
          -0.8531463147487819,
          -0.8253878685656257,
          -0.7856742013183864,
          -0.7323845357579073,
          -0.6645463752866281,
          -0.5819728175673531,
          -0.4853367137552329,
          -0.3761747276281001,
          -0.2568203479071954,
          -0.13027099335783449,
          -1.9788512044568436e-16,
          0.13027099335783404,
          0.256820347907195,
          0.3761747276280996,
          0.4853367137552327,
          0.5819728175673529,
          0.6645463752866277,
          0.7323845357579072,
          0.7856742013183864,
          0.8253878685656258,
          0.8531463147487819,
          0.8710304709784041,
          0.8813591511373882,
          0.8864521930473597,
          0.8883997679251703,
          0.8888580227019518
         ]
        },
        {
         "mode": "markers+lines",
         "name": "f(x)",
         "type": "scatter",
         "x": [
          0,
          0.09817477042468103,
          0.19634954084936207,
          0.2945243112740431,
          0.39269908169872414,
          0.4908738521234052,
          0.5890486225480862,
          0.6872233929727672,
          0.7853981633974483,
          0.8835729338221293,
          0.9817477042468103,
          1.0799224746714913,
          1.1780972450961724,
          1.2762720155208536,
          1.3744467859455345,
          1.4726215563702154,
          1.5707963267948966,
          1.6689710972195777,
          1.7671458676442586,
          1.8653206380689396,
          1.9634954084936207,
          2.061670178918302,
          2.1598449493429825,
          2.2580197197676637,
          2.356194490192345,
          2.454369260617026,
          2.552544031041707,
          2.650718801466388,
          2.748893571891069,
          2.84706834231575,
          2.945243112740431,
          3.043417883165112,
          3.141592653589793,
          3.2397674240144743,
          3.3379421944391554,
          3.436116964863836,
          3.5342917352885173,
          3.6324665057131984,
          3.730641276137879,
          3.8288160465625602,
          3.9269908169872414,
          4.025165587411922,
          4.123340357836604,
          4.221515128261284,
          4.319689898685965,
          4.417864669110647,
          4.516039439535327,
          4.614214209960009,
          4.71238898038469,
          4.81056375080937,
          4.908738521234052,
          5.006913291658733,
          5.105088062083414,
          5.203262832508095,
          5.301437602932776,
          5.399612373357457,
          5.497787143782138,
          5.595961914206819,
          5.6941366846315,
          5.792311455056181,
          5.890486225480862,
          5.988660995905543,
          6.086835766330224,
          6.1850105367549055
         ],
         "y": [
          0,
          0.038244390939988104,
          0.1493156681006852,
          0.32254705156856334,
          0.5411961001461969,
          0.7839041240187943,
          1.0265599343186733,
          1.2444071901887348,
          1.414213562373095,
          1.5163145485120004,
          1.5363555134228326,
          1.4665814634981946,
          1.3065629648763766,
          1.0632951306171992,
          0.7506605550357305,
          0.38830181758402404,
          2.4492935982947064e-16,
          -0.3883018175840236,
          -0.75066055503573,
          -1.0632951306171987,
          -1.3065629648763761,
          -1.4665814634981946,
          -1.5363555134228326,
          -1.5163145485120004,
          -1.4142135623730951,
          -1.244407190188735,
          -1.0265599343186733,
          -0.783904124018795,
          -0.5411961001461969,
          -0.322547051568564,
          -0.1493156681006863,
          -0.038244390939988326,
          0,
          -0.038244390939988215,
          -0.14931566810068586,
          -0.32254705156856356,
          -0.5411961001461962,
          -0.7839041240187944,
          -1.0265599343186727,
          -1.2444071901887344,
          -1.4142135623730943,
          -1.5163145485119998,
          -1.5363555134228326,
          -1.4665814634981948,
          -1.306562964876378,
          -1.063295130617199,
          -0.7506605550357311,
          -0.3883018175840224,
          -7.347880794884119e-16,
          0.388301817584021,
          0.7506605550357298,
          1.0632951306171978,
          1.306562964876377,
          1.4665814634981944,
          1.5363555134228326,
          1.516314548512,
          1.4142135623730947,
          1.2444071901887348,
          1.0265599343186753,
          0.7839041240187935,
          0.5411961001462002,
          0.32254705156856434,
          0.1493156681006863,
          0.03824439093998799
         ]
        }
       ],
       "frames": [],
       "layout": {
        "margin": {
         "b": 50,
         "l": 50,
         "r": 50,
         "t": 60
        },
        "template": {
         "data": {
          "bar": [
           {
            "error_x": {
             "color": "#2a3f5f"
            },
            "error_y": {
             "color": "#2a3f5f"
            },
            "marker": {
             "line": {
              "color": "#E5ECF6",
              "width": 0.5
             }
            },
            "type": "bar"
           }
          ],
          "barpolar": [
           {
            "marker": {
             "line": {
              "color": "#E5ECF6",
              "width": 0.5
             }
            },
            "type": "barpolar"
           }
          ],
          "carpet": [
           {
            "aaxis": {
             "endlinecolor": "#2a3f5f",
             "gridcolor": "white",
             "linecolor": "white",
             "minorgridcolor": "white",
             "startlinecolor": "#2a3f5f"
            },
            "baxis": {
             "endlinecolor": "#2a3f5f",
             "gridcolor": "white",
             "linecolor": "white",
             "minorgridcolor": "white",
             "startlinecolor": "#2a3f5f"
            },
            "type": "carpet"
           }
          ],
          "choropleth": [
           {
            "colorbar": {
             "outlinewidth": 0,
             "ticks": ""
            },
            "type": "choropleth"
           }
          ],
          "contour": [
           {
            "colorbar": {
             "outlinewidth": 0,
             "ticks": ""
            },
            "colorscale": [
             [
              0,
              "#0d0887"
             ],
             [
              0.1111111111111111,
              "#46039f"
             ],
             [
              0.2222222222222222,
              "#7201a8"
             ],
             [
              0.3333333333333333,
              "#9c179e"
             ],
             [
              0.4444444444444444,
              "#bd3786"
             ],
             [
              0.5555555555555556,
              "#d8576b"
             ],
             [
              0.6666666666666666,
              "#ed7953"
             ],
             [
              0.7777777777777778,
              "#fb9f3a"
             ],
             [
              0.8888888888888888,
              "#fdca26"
             ],
             [
              1,
              "#f0f921"
             ]
            ],
            "type": "contour"
           }
          ],
          "contourcarpet": [
           {
            "colorbar": {
             "outlinewidth": 0,
             "ticks": ""
            },
            "type": "contourcarpet"
           }
          ],
          "heatmap": [
           {
            "colorbar": {
             "outlinewidth": 0,
             "ticks": ""
            },
            "colorscale": [
             [
              0,
              "#0d0887"
             ],
             [
              0.1111111111111111,
              "#46039f"
             ],
             [
              0.2222222222222222,
              "#7201a8"
             ],
             [
              0.3333333333333333,
              "#9c179e"
             ],
             [
              0.4444444444444444,
              "#bd3786"
             ],
             [
              0.5555555555555556,
              "#d8576b"
             ],
             [
              0.6666666666666666,
              "#ed7953"
             ],
             [
              0.7777777777777778,
              "#fb9f3a"
             ],
             [
              0.8888888888888888,
              "#fdca26"
             ],
             [
              1,
              "#f0f921"
             ]
            ],
            "type": "heatmap"
           }
          ],
          "heatmapgl": [
           {
            "colorbar": {
             "outlinewidth": 0,
             "ticks": ""
            },
            "colorscale": [
             [
              0,
              "#0d0887"
             ],
             [
              0.1111111111111111,
              "#46039f"
             ],
             [
              0.2222222222222222,
              "#7201a8"
             ],
             [
              0.3333333333333333,
              "#9c179e"
             ],
             [
              0.4444444444444444,
              "#bd3786"
             ],
             [
              0.5555555555555556,
              "#d8576b"
             ],
             [
              0.6666666666666666,
              "#ed7953"
             ],
             [
              0.7777777777777778,
              "#fb9f3a"
             ],
             [
              0.8888888888888888,
              "#fdca26"
             ],
             [
              1,
              "#f0f921"
             ]
            ],
            "type": "heatmapgl"
           }
          ],
          "histogram": [
           {
            "marker": {
             "colorbar": {
              "outlinewidth": 0,
              "ticks": ""
             }
            },
            "type": "histogram"
           }
          ],
          "histogram2d": [
           {
            "colorbar": {
             "outlinewidth": 0,
             "ticks": ""
            },
            "colorscale": [
             [
              0,
              "#0d0887"
             ],
             [
              0.1111111111111111,
              "#46039f"
             ],
             [
              0.2222222222222222,
              "#7201a8"
             ],
             [
              0.3333333333333333,
              "#9c179e"
             ],
             [
              0.4444444444444444,
              "#bd3786"
             ],
             [
              0.5555555555555556,
              "#d8576b"
             ],
             [
              0.6666666666666666,
              "#ed7953"
             ],
             [
              0.7777777777777778,
              "#fb9f3a"
             ],
             [
              0.8888888888888888,
              "#fdca26"
             ],
             [
              1,
              "#f0f921"
             ]
            ],
            "type": "histogram2d"
           }
          ],
          "histogram2dcontour": [
           {
            "colorbar": {
             "outlinewidth": 0,
             "ticks": ""
            },
            "colorscale": [
             [
              0,
              "#0d0887"
             ],
             [
              0.1111111111111111,
              "#46039f"
             ],
             [
              0.2222222222222222,
              "#7201a8"
             ],
             [
              0.3333333333333333,
              "#9c179e"
             ],
             [
              0.4444444444444444,
              "#bd3786"
             ],
             [
              0.5555555555555556,
              "#d8576b"
             ],
             [
              0.6666666666666666,
              "#ed7953"
             ],
             [
              0.7777777777777778,
              "#fb9f3a"
             ],
             [
              0.8888888888888888,
              "#fdca26"
             ],
             [
              1,
              "#f0f921"
             ]
            ],
            "type": "histogram2dcontour"
           }
          ],
          "mesh3d": [
           {
            "colorbar": {
             "outlinewidth": 0,
             "ticks": ""
            },
            "type": "mesh3d"
           }
          ],
          "parcoords": [
           {
            "line": {
             "colorbar": {
              "outlinewidth": 0,
              "ticks": ""
             }
            },
            "type": "parcoords"
           }
          ],
          "pie": [
           {
            "automargin": true,
            "type": "pie"
           }
          ],
          "scatter": [
           {
            "marker": {
             "colorbar": {
              "outlinewidth": 0,
              "ticks": ""
             }
            },
            "type": "scatter"
           }
          ],
          "scatter3d": [
           {
            "line": {
             "colorbar": {
              "outlinewidth": 0,
              "ticks": ""
             }
            },
            "marker": {
             "colorbar": {
              "outlinewidth": 0,
              "ticks": ""
             }
            },
            "type": "scatter3d"
           }
          ],
          "scattercarpet": [
           {
            "marker": {
             "colorbar": {
              "outlinewidth": 0,
              "ticks": ""
             }
            },
            "type": "scattercarpet"
           }
          ],
          "scattergeo": [
           {
            "marker": {
             "colorbar": {
              "outlinewidth": 0,
              "ticks": ""
             }
            },
            "type": "scattergeo"
           }
          ],
          "scattergl": [
           {
            "marker": {
             "colorbar": {
              "outlinewidth": 0,
              "ticks": ""
             }
            },
            "type": "scattergl"
           }
          ],
          "scattermapbox": [
           {
            "marker": {
             "colorbar": {
              "outlinewidth": 0,
              "ticks": ""
             }
            },
            "type": "scattermapbox"
           }
          ],
          "scatterpolar": [
           {
            "marker": {
             "colorbar": {
              "outlinewidth": 0,
              "ticks": ""
             }
            },
            "type": "scatterpolar"
           }
          ],
          "scatterpolargl": [
           {
            "marker": {
             "colorbar": {
              "outlinewidth": 0,
              "ticks": ""
             }
            },
            "type": "scatterpolargl"
           }
          ],
          "scatterternary": [
           {
            "marker": {
             "colorbar": {
              "outlinewidth": 0,
              "ticks": ""
             }
            },
            "type": "scatterternary"
           }
          ],
          "surface": [
           {
            "colorbar": {
             "outlinewidth": 0,
             "ticks": ""
            },
            "colorscale": [
             [
              0,
              "#0d0887"
             ],
             [
              0.1111111111111111,
              "#46039f"
             ],
             [
              0.2222222222222222,
              "#7201a8"
             ],
             [
              0.3333333333333333,
              "#9c179e"
             ],
             [
              0.4444444444444444,
              "#bd3786"
             ],
             [
              0.5555555555555556,
              "#d8576b"
             ],
             [
              0.6666666666666666,
              "#ed7953"
             ],
             [
              0.7777777777777778,
              "#fb9f3a"
             ],
             [
              0.8888888888888888,
              "#fdca26"
             ],
             [
              1,
              "#f0f921"
             ]
            ],
            "type": "surface"
           }
          ],
          "table": [
           {
            "cells": {
             "fill": {
              "color": "#EBF0F8"
             },
             "line": {
              "color": "white"
             }
            },
            "header": {
             "fill": {
              "color": "#C8D4E3"
             },
             "line": {
              "color": "white"
             }
            },
            "type": "table"
           }
          ]
         },
         "layout": {
          "annotationdefaults": {
           "arrowcolor": "#2a3f5f",
           "arrowhead": 0,
           "arrowwidth": 1
          },
          "autotypenumbers": "strict",
          "coloraxis": {
           "colorbar": {
            "outlinewidth": 0,
            "ticks": ""
           }
          },
          "colorscale": {
           "diverging": [
            [
             0,
             "#8e0152"
            ],
            [
             0.1,
             "#c51b7d"
            ],
            [
             0.2,
             "#de77ae"
            ],
            [
             0.3,
             "#f1b6da"
            ],
            [
             0.4,
             "#fde0ef"
            ],
            [
             0.5,
             "#f7f7f7"
            ],
            [
             0.6,
             "#e6f5d0"
            ],
            [
             0.7,
             "#b8e186"
            ],
            [
             0.8,
             "#7fbc41"
            ],
            [
             0.9,
             "#4d9221"
            ],
            [
             1,
             "#276419"
            ]
           ],
           "sequential": [
            [
             0,
             "#0d0887"
            ],
            [
             0.1111111111111111,
             "#46039f"
            ],
            [
             0.2222222222222222,
             "#7201a8"
            ],
            [
             0.3333333333333333,
             "#9c179e"
            ],
            [
             0.4444444444444444,
             "#bd3786"
            ],
            [
             0.5555555555555556,
             "#d8576b"
            ],
            [
             0.6666666666666666,
             "#ed7953"
            ],
            [
             0.7777777777777778,
             "#fb9f3a"
            ],
            [
             0.8888888888888888,
             "#fdca26"
            ],
            [
             1,
             "#f0f921"
            ]
           ],
           "sequentialminus": [
            [
             0,
             "#0d0887"
            ],
            [
             0.1111111111111111,
             "#46039f"
            ],
            [
             0.2222222222222222,
             "#7201a8"
            ],
            [
             0.3333333333333333,
             "#9c179e"
            ],
            [
             0.4444444444444444,
             "#bd3786"
            ],
            [
             0.5555555555555556,
             "#d8576b"
            ],
            [
             0.6666666666666666,
             "#ed7953"
            ],
            [
             0.7777777777777778,
             "#fb9f3a"
            ],
            [
             0.8888888888888888,
             "#fdca26"
            ],
            [
             1,
             "#f0f921"
            ]
           ]
          },
          "colorway": [
           "#636efa",
           "#EF553B",
           "#00cc96",
           "#ab63fa",
           "#FFA15A",
           "#19d3f3",
           "#FF6692",
           "#B6E880",
           "#FF97FF",
           "#FECB52"
          ],
          "font": {
           "color": "#2a3f5f"
          },
          "geo": {
           "bgcolor": "white",
           "lakecolor": "white",
           "landcolor": "#E5ECF6",
           "showlakes": true,
           "showland": true,
           "subunitcolor": "white"
          },
          "hoverlabel": {
           "align": "left"
          },
          "hovermode": "closest",
          "mapbox": {
           "style": "light"
          },
          "paper_bgcolor": "white",
          "plot_bgcolor": "#E5ECF6",
          "polar": {
           "angularaxis": {
            "gridcolor": "white",
            "linecolor": "white",
            "ticks": ""
           },
           "bgcolor": "#E5ECF6",
           "radialaxis": {
            "gridcolor": "white",
            "linecolor": "white",
            "ticks": ""
           }
          },
          "scene": {
           "xaxis": {
            "backgroundcolor": "#E5ECF6",
            "gridcolor": "white",
            "gridwidth": 2,
            "linecolor": "white",
            "showbackground": true,
            "ticks": "",
            "zerolinecolor": "white"
           },
           "yaxis": {
            "backgroundcolor": "#E5ECF6",
            "gridcolor": "white",
            "gridwidth": 2,
            "linecolor": "white",
            "showbackground": true,
            "ticks": "",
            "zerolinecolor": "white"
           },
           "zaxis": {
            "backgroundcolor": "#E5ECF6",
            "gridcolor": "white",
            "gridwidth": 2,
            "linecolor": "white",
            "showbackground": true,
            "ticks": "",
            "zerolinecolor": "white"
           }
          },
          "shapedefaults": {
           "line": {
            "color": "#2a3f5f"
           }
          },
          "ternary": {
           "aaxis": {
            "gridcolor": "white",
            "linecolor": "white",
            "ticks": ""
           },
           "baxis": {
            "gridcolor": "white",
            "linecolor": "white",
            "ticks": ""
           },
           "bgcolor": "#E5ECF6",
           "caxis": {
            "gridcolor": "white",
            "linecolor": "white",
            "ticks": ""
           }
          },
          "title": {
           "x": 0.05
          },
          "xaxis": {
           "automargin": true,
           "gridcolor": "white",
           "linecolor": "white",
           "ticks": "",
           "title": {
            "standoff": 15
           },
           "zerolinecolor": "white",
           "zerolinewidth": 2
          },
          "yaxis": {
           "automargin": true,
           "gridcolor": "white",
           "linecolor": "white",
           "ticks": "",
           "title": {
            "standoff": 15
           },
           "zerolinecolor": "white",
           "zerolinewidth": 2
          }
         }
        },
        "xaxis": {
         "title": {
          "text": "x"
         }
        }
       }
      },
      "text/html": [
       "<div\n",
       "    class=\"webio-mountpoint\"\n",
       "    data-webio-mountpoint=\"11899466606800697483\"\n",
       ">\n",
       "    <script>\n",
       "    (function(){\n",
       "    // Some integrations (namely, IJulia/Jupyter) use an alternate render pathway than\n",
       "    // just putting the html on the page. If WebIO isn't defined, then it's pretty likely\n",
       "    // that we're in one of those situations and the integration just isn't installed\n",
       "    // correctly.\n",
       "    if (typeof window.WebIO === \"undefined\") {\n",
       "        document\n",
       "            .querySelector('[data-webio-mountpoint=\"11899466606800697483\"]')\n",
       "            .innerHTML = (\n",
       "                '<div style=\"padding: 1em; background-color: #f8d6da; border: 1px solid #f5c6cb; font-weight: bold;\">' +\n",
       "                '<p><strong>WebIO not detected.</strong></p>' +\n",
       "                '<p>Please read ' +\n",
       "                '<a href=\"https://juliagizmos.github.io/WebIO.jl/latest/troubleshooting/not-detected/\" target=\"_blank\">the troubleshooting guide</a> ' +\n",
       "                'for more information on how to resolve this issue.</p>' +\n",
       "                '<p><a href=\"https://juliagizmos.github.io/WebIO.jl/latest/troubleshooting/not-detected/\" target=\"_blank\">https://juliagizmos.github.io/WebIO.jl/latest/troubleshooting/not-detected/</a></p>' +\n",
       "                '</div>'\n",
       "            );\n",
       "        return;\n",
       "    }\n",
       "    WebIO.mount(\n",
       "        document.querySelector('[data-webio-mountpoint=\"11899466606800697483\"]'),\n",
       "        {\"props\":{},\"nodeType\":\"Scope\",\"type\":\"node\",\"instanceArgs\":{\"imports\":{\"data\":[{\"name\":\"Plotly\",\"type\":\"js\",\"url\":\"\\/assetserver\\/d6feb8d8ce4676ebdde817a0745950a35b4ba3ae-plotly.min.js\"},{\"name\":null,\"type\":\"js\",\"url\":\"\\/assetserver\\/517030b23c1c21e94bf622985d97a74a9582e066-plotly_webio.bundle.js\"}],\"type\":\"async_block\"},\"id\":\"9231512164401870464\",\"handlers\":{\"_toImage\":[\"(function (options){return this.Plotly.toImage(this.plotElem,options).then((function (data){return WebIO.setval({\\\"name\\\":\\\"image\\\",\\\"scope\\\":\\\"9231512164401870464\\\",\\\"id\\\":\\\"285\\\",\\\"type\\\":\\\"observable\\\"},data)}))})\"],\"__get_gd_contents\":[\"(function (prop){prop==\\\"data\\\" ? (WebIO.setval({\\\"name\\\":\\\"__gd_contents\\\",\\\"scope\\\":\\\"9231512164401870464\\\",\\\"id\\\":\\\"286\\\",\\\"type\\\":\\\"observable\\\"},this.plotElem.data)) : undefined; return prop==\\\"layout\\\" ? (WebIO.setval({\\\"name\\\":\\\"__gd_contents\\\",\\\"scope\\\":\\\"9231512164401870464\\\",\\\"id\\\":\\\"286\\\",\\\"type\\\":\\\"observable\\\"},this.plotElem.layout)) : undefined})\"],\"_downloadImage\":[\"(function (options){return this.Plotly.downloadImage(this.plotElem,options)})\"],\"_commands\":[\"(function (args){var fn=args.shift(); var elem=this.plotElem; var Plotly=this.Plotly; args.unshift(elem); return Plotly[fn].apply(this,args)})\"]},\"systemjs_options\":null,\"mount_callbacks\":[\"function () {\\n    var handler = ((function (Plotly,PlotlyWebIO){PlotlyWebIO.init(WebIO); var gd=this.dom.querySelector(\\\"#plot-4c54f298-b775-4c32-ac9c-16248683696f\\\"); this.plotElem=gd; this.Plotly=Plotly; (window.Blink!==undefined) ? (gd.style.width=\\\"100%\\\", gd.style.height=\\\"100vh\\\", gd.style.marginLeft=\\\"0%\\\", gd.style.marginTop=\\\"0vh\\\") : undefined; window.onresize=(function (){return Plotly.Plots.resize(gd)}); Plotly.newPlot(gd,[{\\\"mode\\\":\\\"markers+lines\\\",\\\"y\\\":[0.8888888888888892,0.8888580227019517,0.8883997679251701,0.8864521930473596,0.881359151137388,0.871030470978404,0.8531463147487819,0.8253878685656257,0.7856742013183864,0.7323845357579074,0.6645463752866281,0.5819728175673532,0.48533671375523285,0.3761747276281,0.2568203479071954,0.13027099335783449,1.2742093432651477e-16,-0.1302709933578341,-0.2568203479071951,-0.3761747276280997,-0.4853367137552327,-0.5819728175673529,-0.6645463752866277,-0.7323845357579072,-0.7856742013183864,-0.8253878685656257,-0.8531463147487819,-0.871030470978404,-0.8813591511373882,-0.8864521930473596,-0.8883997679251701,-0.8888580227019516,-0.8888888888888892,-0.8888580227019517,-0.8883997679251701,-0.8864521930473596,-0.881359151137388,-0.871030470978404,-0.8531463147487819,-0.8253878685656257,-0.7856742013183864,-0.7323845357579073,-0.6645463752866281,-0.5819728175673531,-0.4853367137552329,-0.3761747276281001,-0.2568203479071954,-0.13027099335783449,-1.9788512044568436e-16,0.13027099335783404,0.256820347907195,0.3761747276280996,0.4853367137552327,0.5819728175673529,0.6645463752866277,0.7323845357579072,0.7856742013183864,0.8253878685656258,0.8531463147487819,0.8710304709784041,0.8813591511373882,0.8864521930473597,0.8883997679251703,0.8888580227019518],\\\"type\\\":\\\"scatter\\\",\\\"name\\\":\\\"u\\\",\\\"x\\\":[0.0,0.09817477042468103,0.19634954084936207,0.2945243112740431,0.39269908169872414,0.4908738521234052,0.5890486225480862,0.6872233929727672,0.7853981633974483,0.8835729338221293,0.9817477042468103,1.0799224746714913,1.1780972450961724,1.2762720155208536,1.3744467859455345,1.4726215563702154,1.5707963267948966,1.6689710972195777,1.7671458676442586,1.8653206380689396,1.9634954084936207,2.061670178918302,2.1598449493429825,2.2580197197676637,2.356194490192345,2.454369260617026,2.552544031041707,2.650718801466388,2.748893571891069,2.84706834231575,2.945243112740431,3.043417883165112,3.141592653589793,3.2397674240144743,3.3379421944391554,3.436116964863836,3.5342917352885173,3.6324665057131984,3.730641276137879,3.8288160465625602,3.9269908169872414,4.025165587411922,4.123340357836604,4.221515128261284,4.319689898685965,4.417864669110647,4.516039439535327,4.614214209960009,4.71238898038469,4.81056375080937,4.908738521234052,5.006913291658733,5.105088062083414,5.203262832508095,5.301437602932776,5.399612373357457,5.497787143782138,5.595961914206819,5.6941366846315,5.792311455056181,5.890486225480862,5.988660995905543,6.086835766330224,6.1850105367549055]},{\\\"mode\\\":\\\"markers+lines\\\",\\\"y\\\":[0.0,0.038244390939988104,0.1493156681006852,0.32254705156856334,0.5411961001461969,0.7839041240187943,1.0265599343186733,1.2444071901887348,1.414213562373095,1.5163145485120004,1.5363555134228326,1.4665814634981946,1.3065629648763766,1.0632951306171992,0.7506605550357305,0.38830181758402404,2.4492935982947064e-16,-0.3883018175840236,-0.75066055503573,-1.0632951306171987,-1.3065629648763761,-1.4665814634981946,-1.5363555134228326,-1.5163145485120004,-1.4142135623730951,-1.244407190188735,-1.0265599343186733,-0.783904124018795,-0.5411961001461969,-0.322547051568564,-0.1493156681006863,-0.038244390939988326,0.0,-0.038244390939988215,-0.14931566810068586,-0.32254705156856356,-0.5411961001461962,-0.7839041240187944,-1.0265599343186727,-1.2444071901887344,-1.4142135623730943,-1.5163145485119998,-1.5363555134228326,-1.4665814634981948,-1.306562964876378,-1.063295130617199,-0.7506605550357311,-0.3883018175840224,-7.347880794884119e-16,0.388301817584021,0.7506605550357298,1.0632951306171978,1.306562964876377,1.4665814634981944,1.5363555134228326,1.516314548512,1.4142135623730947,1.2444071901887348,1.0265599343186753,0.7839041240187935,0.5411961001462002,0.32254705156856434,0.1493156681006863,0.03824439093998799],\\\"type\\\":\\\"scatter\\\",\\\"name\\\":\\\"f(x)\\\",\\\"x\\\":[0.0,0.09817477042468103,0.19634954084936207,0.2945243112740431,0.39269908169872414,0.4908738521234052,0.5890486225480862,0.6872233929727672,0.7853981633974483,0.8835729338221293,0.9817477042468103,1.0799224746714913,1.1780972450961724,1.2762720155208536,1.3744467859455345,1.4726215563702154,1.5707963267948966,1.6689710972195777,1.7671458676442586,1.8653206380689396,1.9634954084936207,2.061670178918302,2.1598449493429825,2.2580197197676637,2.356194490192345,2.454369260617026,2.552544031041707,2.650718801466388,2.748893571891069,2.84706834231575,2.945243112740431,3.043417883165112,3.141592653589793,3.2397674240144743,3.3379421944391554,3.436116964863836,3.5342917352885173,3.6324665057131984,3.730641276137879,3.8288160465625602,3.9269908169872414,4.025165587411922,4.123340357836604,4.221515128261284,4.319689898685965,4.417864669110647,4.516039439535327,4.614214209960009,4.71238898038469,4.81056375080937,4.908738521234052,5.006913291658733,5.105088062083414,5.203262832508095,5.301437602932776,5.399612373357457,5.497787143782138,5.595961914206819,5.6941366846315,5.792311455056181,5.890486225480862,5.988660995905543,6.086835766330224,6.1850105367549055]}],{\\\"xaxis\\\":{\\\"title\\\":{\\\"text\\\":\\\"x\\\"}},\\\"template\\\":{\\\"layout\\\":{\\\"coloraxis\\\":{\\\"colorbar\\\":{\\\"ticks\\\":\\\"\\\",\\\"outlinewidth\\\":0}},\\\"xaxis\\\":{\\\"gridcolor\\\":\\\"white\\\",\\\"zerolinewidth\\\":2,\\\"title\\\":{\\\"standoff\\\":15},\\\"ticks\\\":\\\"\\\",\\\"zerolinecolor\\\":\\\"white\\\",\\\"automargin\\\":true,\\\"linecolor\\\":\\\"white\\\"},\\\"hovermode\\\":\\\"closest\\\",\\\"paper_bgcolor\\\":\\\"white\\\",\\\"geo\\\":{\\\"showlakes\\\":true,\\\"showland\\\":true,\\\"landcolor\\\":\\\"#E5ECF6\\\",\\\"bgcolor\\\":\\\"white\\\",\\\"subunitcolor\\\":\\\"white\\\",\\\"lakecolor\\\":\\\"white\\\"},\\\"colorscale\\\":{\\\"sequential\\\":[[0.0,\\\"#0d0887\\\"],[0.1111111111111111,\\\"#46039f\\\"],[0.2222222222222222,\\\"#7201a8\\\"],[0.3333333333333333,\\\"#9c179e\\\"],[0.4444444444444444,\\\"#bd3786\\\"],[0.5555555555555556,\\\"#d8576b\\\"],[0.6666666666666666,\\\"#ed7953\\\"],[0.7777777777777778,\\\"#fb9f3a\\\"],[0.8888888888888888,\\\"#fdca26\\\"],[1.0,\\\"#f0f921\\\"]],\\\"diverging\\\":[[0,\\\"#8e0152\\\"],[0.1,\\\"#c51b7d\\\"],[0.2,\\\"#de77ae\\\"],[0.3,\\\"#f1b6da\\\"],[0.4,\\\"#fde0ef\\\"],[0.5,\\\"#f7f7f7\\\"],[0.6,\\\"#e6f5d0\\\"],[0.7,\\\"#b8e186\\\"],[0.8,\\\"#7fbc41\\\"],[0.9,\\\"#4d9221\\\"],[1,\\\"#276419\\\"]],\\\"sequentialminus\\\":[[0.0,\\\"#0d0887\\\"],[0.1111111111111111,\\\"#46039f\\\"],[0.2222222222222222,\\\"#7201a8\\\"],[0.3333333333333333,\\\"#9c179e\\\"],[0.4444444444444444,\\\"#bd3786\\\"],[0.5555555555555556,\\\"#d8576b\\\"],[0.6666666666666666,\\\"#ed7953\\\"],[0.7777777777777778,\\\"#fb9f3a\\\"],[0.8888888888888888,\\\"#fdca26\\\"],[1.0,\\\"#f0f921\\\"]]},\\\"yaxis\\\":{\\\"gridcolor\\\":\\\"white\\\",\\\"zerolinewidth\\\":2,\\\"title\\\":{\\\"standoff\\\":15},\\\"ticks\\\":\\\"\\\",\\\"zerolinecolor\\\":\\\"white\\\",\\\"automargin\\\":true,\\\"linecolor\\\":\\\"white\\\"},\\\"shapedefaults\\\":{\\\"line\\\":{\\\"color\\\":\\\"#2a3f5f\\\"}},\\\"hoverlabel\\\":{\\\"align\\\":\\\"left\\\"},\\\"mapbox\\\":{\\\"style\\\":\\\"light\\\"},\\\"polar\\\":{\\\"angularaxis\\\":{\\\"gridcolor\\\":\\\"white\\\",\\\"ticks\\\":\\\"\\\",\\\"linecolor\\\":\\\"white\\\"},\\\"bgcolor\\\":\\\"#E5ECF6\\\",\\\"radialaxis\\\":{\\\"gridcolor\\\":\\\"white\\\",\\\"ticks\\\":\\\"\\\",\\\"linecolor\\\":\\\"white\\\"}},\\\"autotypenumbers\\\":\\\"strict\\\",\\\"font\\\":{\\\"color\\\":\\\"#2a3f5f\\\"},\\\"ternary\\\":{\\\"baxis\\\":{\\\"gridcolor\\\":\\\"white\\\",\\\"ticks\\\":\\\"\\\",\\\"linecolor\\\":\\\"white\\\"},\\\"bgcolor\\\":\\\"#E5ECF6\\\",\\\"caxis\\\":{\\\"gridcolor\\\":\\\"white\\\",\\\"ticks\\\":\\\"\\\",\\\"linecolor\\\":\\\"white\\\"},\\\"aaxis\\\":{\\\"gridcolor\\\":\\\"white\\\",\\\"ticks\\\":\\\"\\\",\\\"linecolor\\\":\\\"white\\\"}},\\\"annotationdefaults\\\":{\\\"arrowhead\\\":0,\\\"arrowwidth\\\":1,\\\"arrowcolor\\\":\\\"#2a3f5f\\\"},\\\"plot_bgcolor\\\":\\\"#E5ECF6\\\",\\\"title\\\":{\\\"x\\\":0.05},\\\"scene\\\":{\\\"xaxis\\\":{\\\"gridcolor\\\":\\\"white\\\",\\\"gridwidth\\\":2,\\\"backgroundcolor\\\":\\\"#E5ECF6\\\",\\\"ticks\\\":\\\"\\\",\\\"showbackground\\\":true,\\\"zerolinecolor\\\":\\\"white\\\",\\\"linecolor\\\":\\\"white\\\"},\\\"zaxis\\\":{\\\"gridcolor\\\":\\\"white\\\",\\\"gridwidth\\\":2,\\\"backgroundcolor\\\":\\\"#E5ECF6\\\",\\\"ticks\\\":\\\"\\\",\\\"showbackground\\\":true,\\\"zerolinecolor\\\":\\\"white\\\",\\\"linecolor\\\":\\\"white\\\"},\\\"yaxis\\\":{\\\"gridcolor\\\":\\\"white\\\",\\\"gridwidth\\\":2,\\\"backgroundcolor\\\":\\\"#E5ECF6\\\",\\\"ticks\\\":\\\"\\\",\\\"showbackground\\\":true,\\\"zerolinecolor\\\":\\\"white\\\",\\\"linecolor\\\":\\\"white\\\"}},\\\"colorway\\\":[\\\"#636efa\\\",\\\"#EF553B\\\",\\\"#00cc96\\\",\\\"#ab63fa\\\",\\\"#FFA15A\\\",\\\"#19d3f3\\\",\\\"#FF6692\\\",\\\"#B6E880\\\",\\\"#FF97FF\\\",\\\"#FECB52\\\"]},\\\"data\\\":{\\\"barpolar\\\":[{\\\"type\\\":\\\"barpolar\\\",\\\"marker\\\":{\\\"line\\\":{\\\"color\\\":\\\"#E5ECF6\\\",\\\"width\\\":0.5}}}],\\\"carpet\\\":[{\\\"aaxis\\\":{\\\"gridcolor\\\":\\\"white\\\",\\\"endlinecolor\\\":\\\"#2a3f5f\\\",\\\"minorgridcolor\\\":\\\"white\\\",\\\"startlinecolor\\\":\\\"#2a3f5f\\\",\\\"linecolor\\\":\\\"white\\\"},\\\"type\\\":\\\"carpet\\\",\\\"baxis\\\":{\\\"gridcolor\\\":\\\"white\\\",\\\"endlinecolor\\\":\\\"#2a3f5f\\\",\\\"minorgridcolor\\\":\\\"white\\\",\\\"startlinecolor\\\":\\\"#2a3f5f\\\",\\\"linecolor\\\":\\\"white\\\"}}],\\\"scatterpolar\\\":[{\\\"type\\\":\\\"scatterpolar\\\",\\\"marker\\\":{\\\"colorbar\\\":{\\\"ticks\\\":\\\"\\\",\\\"outlinewidth\\\":0}}}],\\\"parcoords\\\":[{\\\"line\\\":{\\\"colorbar\\\":{\\\"ticks\\\":\\\"\\\",\\\"outlinewidth\\\":0}},\\\"type\\\":\\\"parcoords\\\"}],\\\"scatter\\\":[{\\\"type\\\":\\\"scatter\\\",\\\"marker\\\":{\\\"colorbar\\\":{\\\"ticks\\\":\\\"\\\",\\\"outlinewidth\\\":0}}}],\\\"histogram2dcontour\\\":[{\\\"colorbar\\\":{\\\"ticks\\\":\\\"\\\",\\\"outlinewidth\\\":0},\\\"type\\\":\\\"histogram2dcontour\\\",\\\"colorscale\\\":[[0.0,\\\"#0d0887\\\"],[0.1111111111111111,\\\"#46039f\\\"],[0.2222222222222222,\\\"#7201a8\\\"],[0.3333333333333333,\\\"#9c179e\\\"],[0.4444444444444444,\\\"#bd3786\\\"],[0.5555555555555556,\\\"#d8576b\\\"],[0.6666666666666666,\\\"#ed7953\\\"],[0.7777777777777778,\\\"#fb9f3a\\\"],[0.8888888888888888,\\\"#fdca26\\\"],[1.0,\\\"#f0f921\\\"]]}],\\\"contour\\\":[{\\\"colorbar\\\":{\\\"ticks\\\":\\\"\\\",\\\"outlinewidth\\\":0},\\\"type\\\":\\\"contour\\\",\\\"colorscale\\\":[[0.0,\\\"#0d0887\\\"],[0.1111111111111111,\\\"#46039f\\\"],[0.2222222222222222,\\\"#7201a8\\\"],[0.3333333333333333,\\\"#9c179e\\\"],[0.4444444444444444,\\\"#bd3786\\\"],[0.5555555555555556,\\\"#d8576b\\\"],[0.6666666666666666,\\\"#ed7953\\\"],[0.7777777777777778,\\\"#fb9f3a\\\"],[0.8888888888888888,\\\"#fdca26\\\"],[1.0,\\\"#f0f921\\\"]]}],\\\"scattercarpet\\\":[{\\\"type\\\":\\\"scattercarpet\\\",\\\"marker\\\":{\\\"colorbar\\\":{\\\"ticks\\\":\\\"\\\",\\\"outlinewidth\\\":0}}}],\\\"mesh3d\\\":[{\\\"colorbar\\\":{\\\"ticks\\\":\\\"\\\",\\\"outlinewidth\\\":0},\\\"type\\\":\\\"mesh3d\\\"}],\\\"surface\\\":[{\\\"colorbar\\\":{\\\"ticks\\\":\\\"\\\",\\\"outlinewidth\\\":0},\\\"type\\\":\\\"surface\\\",\\\"colorscale\\\":[[0.0,\\\"#0d0887\\\"],[0.1111111111111111,\\\"#46039f\\\"],[0.2222222222222222,\\\"#7201a8\\\"],[0.3333333333333333,\\\"#9c179e\\\"],[0.4444444444444444,\\\"#bd3786\\\"],[0.5555555555555556,\\\"#d8576b\\\"],[0.6666666666666666,\\\"#ed7953\\\"],[0.7777777777777778,\\\"#fb9f3a\\\"],[0.8888888888888888,\\\"#fdca26\\\"],[1.0,\\\"#f0f921\\\"]]}],\\\"scattermapbox\\\":[{\\\"type\\\":\\\"scattermapbox\\\",\\\"marker\\\":{\\\"colorbar\\\":{\\\"ticks\\\":\\\"\\\",\\\"outlinewidth\\\":0}}}],\\\"scattergeo\\\":[{\\\"type\\\":\\\"scattergeo\\\",\\\"marker\\\":{\\\"colorbar\\\":{\\\"ticks\\\":\\\"\\\",\\\"outlinewidth\\\":0}}}],\\\"histogram\\\":[{\\\"type\\\":\\\"histogram\\\",\\\"marker\\\":{\\\"colorbar\\\":{\\\"ticks\\\":\\\"\\\",\\\"outlinewidth\\\":0}}}],\\\"pie\\\":[{\\\"type\\\":\\\"pie\\\",\\\"automargin\\\":true}],\\\"choropleth\\\":[{\\\"colorbar\\\":{\\\"ticks\\\":\\\"\\\",\\\"outlinewidth\\\":0},\\\"type\\\":\\\"choropleth\\\"}],\\\"heatmapgl\\\":[{\\\"colorbar\\\":{\\\"ticks\\\":\\\"\\\",\\\"outlinewidth\\\":0},\\\"type\\\":\\\"heatmapgl\\\",\\\"colorscale\\\":[[0.0,\\\"#0d0887\\\"],[0.1111111111111111,\\\"#46039f\\\"],[0.2222222222222222,\\\"#7201a8\\\"],[0.3333333333333333,\\\"#9c179e\\\"],[0.4444444444444444,\\\"#bd3786\\\"],[0.5555555555555556,\\\"#d8576b\\\"],[0.6666666666666666,\\\"#ed7953\\\"],[0.7777777777777778,\\\"#fb9f3a\\\"],[0.8888888888888888,\\\"#fdca26\\\"],[1.0,\\\"#f0f921\\\"]]}],\\\"bar\\\":[{\\\"type\\\":\\\"bar\\\",\\\"error_y\\\":{\\\"color\\\":\\\"#2a3f5f\\\"},\\\"error_x\\\":{\\\"color\\\":\\\"#2a3f5f\\\"},\\\"marker\\\":{\\\"line\\\":{\\\"color\\\":\\\"#E5ECF6\\\",\\\"width\\\":0.5}}}],\\\"heatmap\\\":[{\\\"colorbar\\\":{\\\"ticks\\\":\\\"\\\",\\\"outlinewidth\\\":0},\\\"type\\\":\\\"heatmap\\\",\\\"colorscale\\\":[[0.0,\\\"#0d0887\\\"],[0.1111111111111111,\\\"#46039f\\\"],[0.2222222222222222,\\\"#7201a8\\\"],[0.3333333333333333,\\\"#9c179e\\\"],[0.4444444444444444,\\\"#bd3786\\\"],[0.5555555555555556,\\\"#d8576b\\\"],[0.6666666666666666,\\\"#ed7953\\\"],[0.7777777777777778,\\\"#fb9f3a\\\"],[0.8888888888888888,\\\"#fdca26\\\"],[1.0,\\\"#f0f921\\\"]]}],\\\"contourcarpet\\\":[{\\\"colorbar\\\":{\\\"ticks\\\":\\\"\\\",\\\"outlinewidth\\\":0},\\\"type\\\":\\\"contourcarpet\\\"}],\\\"table\\\":[{\\\"type\\\":\\\"table\\\",\\\"header\\\":{\\\"line\\\":{\\\"color\\\":\\\"white\\\"},\\\"fill\\\":{\\\"color\\\":\\\"#C8D4E3\\\"}},\\\"cells\\\":{\\\"line\\\":{\\\"color\\\":\\\"white\\\"},\\\"fill\\\":{\\\"color\\\":\\\"#EBF0F8\\\"}}}],\\\"scatter3d\\\":[{\\\"line\\\":{\\\"colorbar\\\":{\\\"ticks\\\":\\\"\\\",\\\"outlinewidth\\\":0}},\\\"type\\\":\\\"scatter3d\\\",\\\"marker\\\":{\\\"colorbar\\\":{\\\"ticks\\\":\\\"\\\",\\\"outlinewidth\\\":0}}}],\\\"scattergl\\\":[{\\\"type\\\":\\\"scattergl\\\",\\\"marker\\\":{\\\"colorbar\\\":{\\\"ticks\\\":\\\"\\\",\\\"outlinewidth\\\":0}}}],\\\"histogram2d\\\":[{\\\"colorbar\\\":{\\\"ticks\\\":\\\"\\\",\\\"outlinewidth\\\":0},\\\"type\\\":\\\"histogram2d\\\",\\\"colorscale\\\":[[0.0,\\\"#0d0887\\\"],[0.1111111111111111,\\\"#46039f\\\"],[0.2222222222222222,\\\"#7201a8\\\"],[0.3333333333333333,\\\"#9c179e\\\"],[0.4444444444444444,\\\"#bd3786\\\"],[0.5555555555555556,\\\"#d8576b\\\"],[0.6666666666666666,\\\"#ed7953\\\"],[0.7777777777777778,\\\"#fb9f3a\\\"],[0.8888888888888888,\\\"#fdca26\\\"],[1.0,\\\"#f0f921\\\"]]}],\\\"scatterternary\\\":[{\\\"type\\\":\\\"scatterternary\\\",\\\"marker\\\":{\\\"colorbar\\\":{\\\"ticks\\\":\\\"\\\",\\\"outlinewidth\\\":0}}}],\\\"scatterpolargl\\\":[{\\\"type\\\":\\\"scatterpolargl\\\",\\\"marker\\\":{\\\"colorbar\\\":{\\\"ticks\\\":\\\"\\\",\\\"outlinewidth\\\":0}}}]}},\\\"margin\\\":{\\\"l\\\":50,\\\"b\\\":50,\\\"r\\\":50,\\\"t\\\":60}},{\\\"showLink\\\":false,\\\"editable\\\":false,\\\"responsive\\\":true,\\\"staticPlot\\\":false,\\\"scrollZoom\\\":true}); gd.on(\\\"plotly_hover\\\",(function (data){var filtered_data=WebIO.PlotlyCommands.filterEventData(gd,data,\\\"hover\\\"); return !(filtered_data.isnil) ? (WebIO.setval({\\\"name\\\":\\\"hover\\\",\\\"scope\\\":\\\"9231512164401870464\\\",\\\"id\\\":\\\"281\\\",\\\"type\\\":\\\"observable\\\"},filtered_data.out)) : undefined})); gd.on(\\\"plotly_unhover\\\",(function (){return WebIO.setval({\\\"name\\\":\\\"hover\\\",\\\"scope\\\":\\\"9231512164401870464\\\",\\\"id\\\":\\\"281\\\",\\\"type\\\":\\\"observable\\\"},{})})); gd.on(\\\"plotly_selected\\\",(function (data){var filtered_data=WebIO.PlotlyCommands.filterEventData(gd,data,\\\"selected\\\"); return !(filtered_data.isnil) ? (WebIO.setval({\\\"name\\\":\\\"selected\\\",\\\"scope\\\":\\\"9231512164401870464\\\",\\\"id\\\":\\\"282\\\",\\\"type\\\":\\\"observable\\\"},filtered_data.out)) : undefined})); gd.on(\\\"plotly_deselect\\\",(function (){return WebIO.setval({\\\"name\\\":\\\"selected\\\",\\\"scope\\\":\\\"9231512164401870464\\\",\\\"id\\\":\\\"282\\\",\\\"type\\\":\\\"observable\\\"},{})})); gd.on(\\\"plotly_relayout\\\",(function (data){var filtered_data=WebIO.PlotlyCommands.filterEventData(gd,data,\\\"relayout\\\"); return !(filtered_data.isnil) ? (WebIO.setval({\\\"name\\\":\\\"relayout\\\",\\\"scope\\\":\\\"9231512164401870464\\\",\\\"id\\\":\\\"284\\\",\\\"type\\\":\\\"observable\\\"},filtered_data.out)) : undefined})); return gd.on(\\\"plotly_click\\\",(function (data){var filtered_data=WebIO.PlotlyCommands.filterEventData(gd,data,\\\"click\\\"); return !(filtered_data.isnil) ? (WebIO.setval({\\\"name\\\":\\\"click\\\",\\\"scope\\\":\\\"9231512164401870464\\\",\\\"id\\\":\\\"283\\\",\\\"type\\\":\\\"observable\\\"},filtered_data.out)) : undefined}))}));\\n    (WebIO.importBlock({\\\"data\\\":[{\\\"name\\\":\\\"Plotly\\\",\\\"type\\\":\\\"js\\\",\\\"url\\\":\\\"\\/assetserver\\/d6feb8d8ce4676ebdde817a0745950a35b4ba3ae-plotly.min.js\\\"},{\\\"name\\\":null,\\\"type\\\":\\\"js\\\",\\\"url\\\":\\\"\\/assetserver\\/517030b23c1c21e94bf622985d97a74a9582e066-plotly_webio.bundle.js\\\"}],\\\"type\\\":\\\"async_block\\\"})).then((imports) => handler.apply(this, imports));\\n}\\n\"],\"observables\":{\"_toImage\":{\"sync\":false,\"id\":\"288\",\"value\":{}},\"hover\":{\"sync\":false,\"id\":\"281\",\"value\":{}},\"selected\":{\"sync\":false,\"id\":\"282\",\"value\":{}},\"__gd_contents\":{\"sync\":false,\"id\":\"286\",\"value\":{}},\"click\":{\"sync\":false,\"id\":\"283\",\"value\":{}},\"image\":{\"sync\":true,\"id\":\"285\",\"value\":\"\"},\"__get_gd_contents\":{\"sync\":false,\"id\":\"290\",\"value\":\"\"},\"_downloadImage\":{\"sync\":false,\"id\":\"289\",\"value\":{}},\"relayout\":{\"sync\":false,\"id\":\"284\",\"value\":{}},\"_commands\":{\"sync\":false,\"id\":\"287\",\"value\":[]}}},\"children\":[{\"props\":{\"id\":\"plot-4c54f298-b775-4c32-ac9c-16248683696f\"},\"nodeType\":\"DOM\",\"type\":\"node\",\"instanceArgs\":{\"namespace\":\"html\",\"tag\":\"div\"},\"children\":[]}]},\n",
       "        window,\n",
       "    );\n",
       "    })()\n",
       "    </script>\n",
       "</div>\n"
      ],
      "text/plain": [
       "data: [\n",
       "  \"scatter with fields mode, name, type, x, and y\",\n",
       "  \"scatter with fields mode, name, type, x, and y\"\n",
       "]\n",
       "\n",
       "layout: \"layout with fields margin, template, and xaxis\"\n",
       "\n"
      ]
     },
     "execution_count": 210,
     "metadata": {},
     "output_type": "execute_result"
    }
   ],
   "source": [
    "plot([\n",
    "    scatter(x=x, y=u, mode=\"markers+lines\", name=\"u\"),\n",
    "    scatter(x=x, y=f_rhs, mode=\"markers+lines\", name=\"f(x)\")],\n",
    "    Layout(xaxis_title=\"x\") #yaxis_title=\"u(x)\",  \n",
    ")"
   ]
  },
  {
   "cell_type": "markdown",
   "id": "ef836adf-b5b2-4e93-9e32-fa7cd04c52cc",
   "metadata": {},
   "source": [
    "The condition $$\\frac{1}{2\\pi}\\int_{0}^{2\\pi}f(x) dx = 0$$ certainly limits the possibilities of solving differential equations with this approach. It is possible to circumvent this limitation by subtracting the mean and adding it after the solution is obtained.\n",
    "Assume we solve another Poisson problem (Dirchlet homogeneous BCs):\n",
    "\n",
    "$$f(x) = \\cos(x) + \\cos(2x) + \\exp(\\sin(x)).$$\n",
    "\n",
    "$$\n",
    "\\begin{align*}\n",
    "-u''(x) = f(x)&, \\quad x\\in[0, 2\\pi] \\\\ \n",
    "\\begin{cases}&u(0) = u(2\\pi) = 0  \\end{cases}\n",
    "\\end{align*}\n",
    "$$\n",
    "\n",
    "Since the term $\\int_{0}^{2\\pi}\\exp(\\sin(x))dx \\neq 0$, $u'(0) \\neq u'(2\\pi)$, and if the same approach is employed, it is necessary to consider an alternate problem: \n",
    "\n",
    "$$\n",
    "\\begin{align*}\n",
    "-u_{\\text{zero}}''(x) = f_{\\text{zero}}(x)&, \\quad x\\in[0, 2\\pi] \\\\ \n",
    "\\begin{cases}&u_{\\text{zero}}(0) = u_{\\text{zero}}(2\\pi) \\\\\n",
    "&u_{\\text{zero}}'(0) = u_{\\text{zero}}'(2\\pi)\n",
    "\\end{cases}\n",
    "\\end{align*}\n",
    "$$\n",
    "in which $f_{\\text{zero}}(x) = f(x) - \\frac{1}{2\\pi}\\int_{0}^{2\\pi}f(x)dx = f(x) - \\mu_f.$\n",
    "\n",
    "We will approximate $\\mu_f$ in our grid as $\\frac{1}{N}\\sum_{j=1}^N f(x_j)$."
   ]
  },
  {
   "cell_type": "code",
   "execution_count": 211,
   "id": "d7998187-7479-4d80-9cf0-7bceec89cce8",
   "metadata": {},
   "outputs": [],
   "source": [
    "# Number of grid points\n",
    "N = 200\n",
    "L = 2 * pi\n",
    "h = L/N # stepsize\n",
    "x = h * collect(0:N-1) # domain\n",
    "\n",
    "# Define RHS function\n",
    "f_rhs = cos.(x) + cos.(2 * x) + exp.(sin.(x))\n",
    "\n",
    "# Finding f_zero\n",
    "μ_f = mean(f_rhs)\n",
    "f_zero = f_rhs .- μ_f \n",
    "\n",
    "# FFT of RHS\n",
    "f_hat = fft(f_zero)\n",
    "\n",
    "# Wavenumbers (assumes 2π-period)\n",
    "k = vcat(0:N÷2, -N÷2+1:-1)\n",
    "\n",
    "# Solve in Fourier space: u_hat = f_hat / k^2\n",
    "u_hat = copy(f_hat) \n",
    "u_hat[2:end] = u_hat[2:end] ./ (k[2:end].^2)   \n",
    "\n",
    "# Inverse FFT to get back to physical space\n",
    "u_zero = real(ifft(u_hat));"
   ]
  },
  {
   "cell_type": "markdown",
   "id": "1745a4c8-edda-44cf-ac84-e680bb597376",
   "metadata": {},
   "source": [
    "Now, we obtained a solution $u_\\text{zero}(x)$, which is not the solution itself $u(x)$.\n",
    "\n",
    "We notice that, by integrating $-u''_\\text{zero}(x) = f_{\\text{zero}}(x)$ twice from $0$ to $x$:\n",
    "$$\\begin{align*}\n",
    "-u_\\text{zero}(x) = -u(x) - \\mu_f \\frac{x^2}{2} - C_0x - C_1\\\\ u(x) = u_\\text{zero}(x) - \\mu_f \\frac{x^2}{2} + C_0x + C_1. \n",
    "\\end{align*}$$\n",
    "\n",
    "For $u(0) = 0$,\n",
    "$$\\begin{align*}\n",
    "u_\\text{zero}(0) + C_1 = 0 \\to C_1 = -u_\\text{zero}(0).\n",
    "\\end{align*}$$\n",
    "As for $u(2\\pi) = 0$,\n",
    "$$\\begin{align*}\n",
    "u_\\text{zero}(2\\pi) - \\mu_f \\frac{(2\\pi)^2}{2} + C_0 \\cdot 2\\pi -u_\\text{zero}(0) = 0 \\\\\n",
    "C_0 = \\frac{1}{2\\pi} (u_\\text{zero}(0) - u_\\text{zero}(2\\pi) - \\mu_f 2\\pi^2) =  -\\mu_f \\pi.\n",
    "\\end{align*}\n",
    "$$"
   ]
  },
  {
   "cell_type": "code",
   "execution_count": 212,
   "id": "d4577c2c-c5bd-4921-bba3-f38601cbcb0c",
   "metadata": {},
   "outputs": [],
   "source": [
    "# Recovering u from u_zero\n",
    "c_1 = -u_zero[1]\n",
    "c_0 = μ_f * pi\n",
    "u_fft = u_zero - μ_f/2 * x.^2 + c_0 * x .+ c_1;"
   ]
  },
  {
   "cell_type": "markdown",
   "id": "00d3e2f7-5f35-4668-b19c-c136029bb481",
   "metadata": {},
   "source": [
    "Since the term $\\exp(\\sin(x))$ does not have an antiderivative expressed in terms of elementary functions, we will instead compare the second derivative of $u$ along the grid (using finite difference formulas) and the exact $f(x)$ given in the differential equation."
   ]
  },
  {
   "cell_type": "code",
   "execution_count": 213,
   "id": "dbbd6b95-e35f-4b32-8797-a083df1bb28d",
   "metadata": {},
   "outputs": [
    {
     "data": {
      "text/plain": [
       "second_derivative_fd (generic function with 1 method)"
      ]
     },
     "execution_count": 213,
     "metadata": {},
     "output_type": "execute_result"
    }
   ],
   "source": [
    "function second_derivative_fd(u, dx)\n",
    "    N = length(u)\n",
    "    d2u = zeros(N)\n",
    "\n",
    "    # Interior points: centered 3-point stencil\n",
    "    for i in 2:N-1\n",
    "        d2u[i] = (u[i+1] - 2 * u[i] + u[i-1]) / dx^2\n",
    "    end\n",
    "\n",
    "    # Left endpoint: 5-point forward difference\n",
    "    d2u[1] = (35/12 * u[1] - 26/3 * u[2] + 19/2 * u[3] − 14/3 * u[4] + 11/12 * u[5]) / dx^2\n",
    "\n",
    "    # Right endpoint: 5-point backward difference\n",
    "    d2u[end] = (35/12 * u[end] - 26/3 * u[end-1] + 19/2 * u[end-2] − 14/3 * u[end-3] + 11/12 * u[end-4]) / dx^2\n",
    "\n",
    "    return d2u\n",
    "end\n"
   ]
  },
  {
   "cell_type": "code",
   "execution_count": 214,
   "id": "434c1e53-80ea-46ba-a276-605c1f5b265f",
   "metadata": {},
   "outputs": [
    {
     "data": {
      "text/plain": [
       "0.00036189218138216184"
      ]
     },
     "execution_count": 214,
     "metadata": {},
     "output_type": "execute_result"
    }
   ],
   "source": [
    "d2u_fd = second_derivative_fd(u_fft, h)\n",
    "abs_error = norm(-d2u_fd - f_rhs, Inf)"
   ]
  },
  {
   "cell_type": "code",
   "execution_count": 215,
   "id": "bf619bdf-e338-406b-995e-6c621887e5df",
   "metadata": {},
   "outputs": [
    {
     "data": {
      "text/plain": [
       "(0.031415926535897934, 0.0009869604401089359)"
      ]
     },
     "execution_count": 215,
     "metadata": {},
     "output_type": "execute_result"
    }
   ],
   "source": [
    "h, h^2"
   ]
  },
  {
   "cell_type": "markdown",
   "id": "f04a0328-ff23-4968-9c23-8607877a3bd6",
   "metadata": {},
   "source": [
    "The absolute error $\\|-u_{\\text{FDiff}}'' - f\\|_{\\infty} $ is of order $O(h^2)$, which agrees with the finite difference approximation theory.\n"
   ]
  },
  {
   "cell_type": "code",
   "execution_count": 216,
   "id": "7e04ae50-d71e-4096-9349-ebed0312a29c",
   "metadata": {},
   "outputs": [
    {
     "data": {
      "text/plain": [
       "0.00011572276492521297"
      ]
     },
     "execution_count": 216,
     "metadata": {},
     "output_type": "execute_result"
    }
   ],
   "source": [
    "error = abs_error/norm(f_rhs, Inf)"
   ]
  },
  {
   "cell_type": "code",
   "execution_count": 217,
   "id": "c645dbe9-c544-41cf-bdb4-99f5dd0b2d88",
   "metadata": {},
   "outputs": [
    {
     "data": {
      "application/vnd.plotly.v1+json": {
       "config": {
        "editable": false,
        "responsive": true,
        "scrollZoom": true,
        "showLink": false,
        "staticPlot": false
       },
       "data": [
        {
         "mode": "markers+lines",
         "name": "u",
         "type": "scatter",
         "x": [
          0,
          0.031415926535897934,
          0.06283185307179587,
          0.0942477796076938,
          0.12566370614359174,
          0.15707963267948966,
          0.1884955592153876,
          0.21991148575128555,
          0.25132741228718347,
          0.2827433388230814,
          0.3141592653589793,
          0.3455751918948773,
          0.3769911184307752,
          0.4084070449666731,
          0.4398229715025711,
          0.471238898038469,
          0.5026548245743669,
          0.5340707511102649,
          0.5654866776461628,
          0.5969026041820608,
          0.6283185307179586,
          0.6597344572538566,
          0.6911503837897546,
          0.7225663103256524,
          0.7539822368615504,
          0.7853981633974484,
          0.8168140899333463,
          0.8482300164692442,
          0.8796459430051422,
          0.9110618695410401,
          0.942477796076938,
          0.9738937226128359,
          1.0053096491487339,
          1.0367255756846319,
          1.0681415022205298,
          1.0995574287564276,
          1.1309733552923256,
          1.1623892818282235,
          1.1938052083641215,
          1.2252211349000195,
          1.2566370614359172,
          1.2880529879718152,
          1.3194689145077132,
          1.3508848410436112,
          1.3823007675795091,
          1.4137166941154071,
          1.4451326206513049,
          1.4765485471872029,
          1.5079644737231008,
          1.5393804002589988,
          1.5707963267948968,
          1.6022122533307945,
          1.6336281798666925,
          1.6650441064025905,
          1.6964600329384885,
          1.7278759594743864,
          1.7592918860102844,
          1.7907078125461822,
          1.8221237390820801,
          1.8535396656179781,
          1.884955592153876,
          1.916371518689774,
          1.9477874452256718,
          1.9792033717615698,
          2.0106192982974678,
          2.0420352248333655,
          2.0734511513692637,
          2.1048670779051615,
          2.1362830044410597,
          2.1676989309769574,
          2.199114857512855,
          2.2305307840487534,
          2.261946710584651,
          2.2933626371205493,
          2.324778563656447,
          2.356194490192345,
          2.387610416728243,
          2.419026343264141,
          2.450442269800039,
          2.4818581963359367,
          2.5132741228718345,
          2.5446900494077327,
          2.5761059759436304,
          2.6075219024795286,
          2.6389378290154264,
          2.6703537555513246,
          2.7017696820872223,
          2.73318560862312,
          2.7646015351590183,
          2.796017461694916,
          2.8274333882308142,
          2.858849314766712,
          2.8902652413026098,
          2.921681167838508,
          2.9530970943744057,
          2.984513020910304,
          3.0159289474462017,
          3.0473448739820994,
          3.0787608005179976,
          3.1101767270538954,
          3.1415926535897936,
          3.1730085801256913,
          3.204424506661589,
          3.2358404331974873,
          3.267256359733385,
          3.298672286269283,
          3.330088212805181,
          3.3615041393410787,
          3.392920065876977,
          3.4243359924128747,
          3.455751918948773,
          3.4871678454846706,
          3.518583772020569,
          3.5499996985564666,
          3.5814156250923643,
          3.6128315516282625,
          3.6442474781641603,
          3.6756634047000585,
          3.7070793312359562,
          3.738495257771854,
          3.769911184307752,
          3.80132711084365,
          3.832743037379548,
          3.864158963915446,
          3.8955748904513436,
          3.926990816987242,
          3.9584067435231396,
          3.989822670059038,
          4.0212385965949355,
          4.052654523130833,
          4.084070449666731,
          4.11548637620263,
          4.1469023027385274,
          4.178318229274425,
          4.209734155810323,
          4.241150082346221,
          4.272566008882119,
          4.303981935418017,
          4.335397861953915,
          4.366813788489813,
          4.39822971502571,
          4.429645641561609,
          4.461061568097507,
          4.4924774946334045,
          4.523893421169302,
          4.5553093477052,
          4.586725274241099,
          4.618141200776996,
          4.649557127312894,
          4.680973053848792,
          4.71238898038469,
          4.743804906920588,
          4.775220833456486,
          4.806636759992384,
          4.838052686528282,
          4.869468613064179,
          4.900884539600078,
          4.932300466135976,
          4.9637163926718735,
          4.995132319207771,
          5.026548245743669,
          5.057964172279568,
          5.089380098815465,
          5.120796025351363,
          5.152211951887261,
          5.1836278784231595,
          5.215043804959057,
          5.246459731494955,
          5.277875658030853,
          5.3092915845667505,
          5.340707511102649,
          5.372123437638547,
          5.403539364174445,
          5.4349552907103424,
          5.46637121724624,
          5.497787143782139,
          5.529203070318037,
          5.560618996853934,
          5.592034923389832,
          5.62345084992573,
          5.6548667764616285,
          5.686282702997526,
          5.717698629533424,
          5.749114556069322,
          5.7805304826052195,
          5.811946409141118,
          5.843362335677016,
          5.874778262212914,
          5.906194188748811,
          5.937610115284709,
          5.969026041820608,
          6.000441968356506,
          6.031857894892403,
          6.063273821428301,
          6.094689747964199,
          6.1261056745000975,
          6.157521601035995,
          6.188937527571893,
          6.220353454107791,
          6.2517693806436885
         ],
         "y": [
          0,
          0.15851934391708178,
          0.31404907196338394,
          0.46656401240886813,
          0.6160428611920741,
          0.7624681492740812,
          0.9058261975535955,
          1.0461070597962885,
          1.1833044540856985,
          1.3174156833535373,
          1.448441545593821,
          1.576386234407384,
          1.7012572305607416,
          1.8230651852756625,
          1.9418237959928324,
          2.0575496753745224,
          2.17026221432692,
          2.2799834398327126,
          2.3867378683885407,
          2.49055235583998,
          2.591455944398996,
          2.689479707615272,
          2.78465659405381,
          2.877021270406916,
          2.9666099647394524,
          3.0534603105325115,
          3.1376111921528413,
          3.2191025923340173,
          3.2979754422109795,
          3.374271474402915,
          3.4480330795909677,
          3.5193031669878807,
          3.5881250290467785,
          3.654542210706874,
          3.718598383425387,
          3.780337224198201,
          3.8398022997273,
          3.897036955851474,
          3.9520842123186557,
          4.004986662943956,
          4.055786381167579,
          4.1045248310013225,
          4.151242783331853,
          4.195980237533204,
          4.238776348330182,
          4.279669357848414,
          4.318696532785472,
          4.3558941066405215,
          4.391297226946994,
          4.424939907463292,
          4.456854985290045,
          4.487074082898339,
          4.515627575070974,
          4.542544560777401,
          4.567852840022075,
          4.591578895724467,
          4.6137478807065495,
          4.634383609879238,
          4.6535085577325646,
          4.671143861244589,
          4.687309328330713,
          4.7020234519577055,
          4.7153034300449335,
          4.727165191268849,
          4.737623426875393,
          4.74669162858865,
          4.754382132682801,
          4.760706170258279,
          4.765673923732237,
          4.769294589518372,
          4.771576446832077,
          4.772526932514321,
          4.772152721722263,
          4.770459814286676,
          4.767453626486731,
          4.763139087941987,
          4.7575207432705025,
          4.750602858111172,
          4.742389529058709,
          4.732884797011673,
          4.722092763388185,
          4.710017708621242,
          4.6966642123061995,
          4.682037274337819,
          4.666142436343488,
          4.648985902693385,
          4.630574660347692,
          4.610916596785904,
          4.590020615253746,
          4.567896746559741,
          4.544556256655625,
          4.520011749243066,
          4.494277262663154,
          4.467368360344814,
          4.439302214113539,
          4.4100976796924325,
          4.379775363763047,
          4.348357681993939,
          4.315868907489374,
          4.282335209159456,
          4.247784679565141,
          4.212247351847157,
          4.175755205406061,
          4.13834216006126,
          4.100044058479316,
          4.060898636725794,
          4.020945482859778,
          3.9802259835558096,
          3.9387832588036047,
          3.896662084801384,
          3.853908805223449,
          3.8105712311063935,
          3.7666985296607787,
          3.7223411023758017,
          3.6775504528430782,
          3.632379044782073,
          3.586880150803324,
          3.5411076924965896,
          3.495116072478591,
          3.4489599990796935,
          3.40269430438958,
          3.356373756419458,
          3.3100528661715862,
          3.2637856904366234,
          3.217625631164656,
          3.171625232277218,
          3.1258359748047595,
          3.080308071247003,
          3.035090260062345,
          2.9902296011969383,
          2.945771273564309,
          2.9017583753824385,
          2.858231728266961,
          2.815229685967173,
          2.7727879486149685,
          2.730939383336984,
          2.6897138520560406,
          2.6491380472803985,
          2.6092353366481897,
          2.570025616959732,
          2.531525178392577,
          2.4937465795533824,
          2.456698533976789,
          2.420385808635078,
          2.3848091349735543,
          2.349965132935249,
          2.3158462483854296,
          2.2824407042912997,
          2.249732465955574,
          2.2177012205448157,
          2.186322371094096,
          2.1555670451097693,
          2.125402117831596,
          2.095790250154422,
          2.0666899411488298,
          2.038055595059198,
          2.0098376025971834,
          1.981982436289044,
          1.9544327595760786,
          1.9271275493101174,
          1.900002231229443,
          1.872988827945981,
          1.8460161189219089,
          1.8190098118630185,
          1.7918927249079455,
          1.7645849789465333,
          1.737004199357553,
          1.7090657264157687,
          1.6806828335815065,
          1.6517669528519465,
          1.6222279063231961,
          1.5919741430855292,
          1.5609129805510622,
          1.5289508492943429,
          1.4959935404708697,
          1.4619464548677388,
          1.426714852633601,
          1.3902041027323686,
          1.352319931166686,
          1.3129686670230565,
          1.272057485400388,
          1.2294946462984266,
          1.1851897285609314,
          1.1390538579914806,
          1.0909999287867538,
          1.0409428174632107,
          0.9887995884882161,
          0.9344896908655609,
          0.8779351449677715,
          0.819060718954034,
          0.7577940941616457,
          0.6940660189118542,
          0.6278104502261495,
          0.5589646830072854,
          0.4874694662998311,
          0.41326910630744207,
          0.33631155590833783,
          0.2565484904761841,
          0.1739353698800694,
          0.08843148660478262
         ]
        },
        {
         "mode": "markers+lines",
         "name": "f(x)",
         "type": "scatter",
         "x": [
          0,
          0.031415926535897934,
          0.06283185307179587,
          0.0942477796076938,
          0.12566370614359174,
          0.15707963267948966,
          0.1884955592153876,
          0.21991148575128555,
          0.25132741228718347,
          0.2827433388230814,
          0.3141592653589793,
          0.3455751918948773,
          0.3769911184307752,
          0.4084070449666731,
          0.4398229715025711,
          0.471238898038469,
          0.5026548245743669,
          0.5340707511102649,
          0.5654866776461628,
          0.5969026041820608,
          0.6283185307179586,
          0.6597344572538566,
          0.6911503837897546,
          0.7225663103256524,
          0.7539822368615504,
          0.7853981633974484,
          0.8168140899333463,
          0.8482300164692442,
          0.8796459430051422,
          0.9110618695410401,
          0.942477796076938,
          0.9738937226128359,
          1.0053096491487339,
          1.0367255756846319,
          1.0681415022205298,
          1.0995574287564276,
          1.1309733552923256,
          1.1623892818282235,
          1.1938052083641215,
          1.2252211349000195,
          1.2566370614359172,
          1.2880529879718152,
          1.3194689145077132,
          1.3508848410436112,
          1.3823007675795091,
          1.4137166941154071,
          1.4451326206513049,
          1.4765485471872029,
          1.5079644737231008,
          1.5393804002589988,
          1.5707963267948968,
          1.6022122533307945,
          1.6336281798666925,
          1.6650441064025905,
          1.6964600329384885,
          1.7278759594743864,
          1.7592918860102844,
          1.7907078125461822,
          1.8221237390820801,
          1.8535396656179781,
          1.884955592153876,
          1.916371518689774,
          1.9477874452256718,
          1.9792033717615698,
          2.0106192982974678,
          2.0420352248333655,
          2.0734511513692637,
          2.1048670779051615,
          2.1362830044410597,
          2.1676989309769574,
          2.199114857512855,
          2.2305307840487534,
          2.261946710584651,
          2.2933626371205493,
          2.324778563656447,
          2.356194490192345,
          2.387610416728243,
          2.419026343264141,
          2.450442269800039,
          2.4818581963359367,
          2.5132741228718345,
          2.5446900494077327,
          2.5761059759436304,
          2.6075219024795286,
          2.6389378290154264,
          2.6703537555513246,
          2.7017696820872223,
          2.73318560862312,
          2.7646015351590183,
          2.796017461694916,
          2.8274333882308142,
          2.858849314766712,
          2.8902652413026098,
          2.921681167838508,
          2.9530970943744057,
          2.984513020910304,
          3.0159289474462017,
          3.0473448739820994,
          3.0787608005179976,
          3.1101767270538954,
          3.1415926535897936,
          3.1730085801256913,
          3.204424506661589,
          3.2358404331974873,
          3.267256359733385,
          3.298672286269283,
          3.330088212805181,
          3.3615041393410787,
          3.392920065876977,
          3.4243359924128747,
          3.455751918948773,
          3.4871678454846706,
          3.518583772020569,
          3.5499996985564666,
          3.5814156250923643,
          3.6128315516282625,
          3.6442474781641603,
          3.6756634047000585,
          3.7070793312359562,
          3.738495257771854,
          3.769911184307752,
          3.80132711084365,
          3.832743037379548,
          3.864158963915446,
          3.8955748904513436,
          3.926990816987242,
          3.9584067435231396,
          3.989822670059038,
          4.0212385965949355,
          4.052654523130833,
          4.084070449666731,
          4.11548637620263,
          4.1469023027385274,
          4.178318229274425,
          4.209734155810323,
          4.241150082346221,
          4.272566008882119,
          4.303981935418017,
          4.335397861953915,
          4.366813788489813,
          4.39822971502571,
          4.429645641561609,
          4.461061568097507,
          4.4924774946334045,
          4.523893421169302,
          4.5553093477052,
          4.586725274241099,
          4.618141200776996,
          4.649557127312894,
          4.680973053848792,
          4.71238898038469,
          4.743804906920588,
          4.775220833456486,
          4.806636759992384,
          4.838052686528282,
          4.869468613064179,
          4.900884539600078,
          4.932300466135976,
          4.9637163926718735,
          4.995132319207771,
          5.026548245743669,
          5.057964172279568,
          5.089380098815465,
          5.120796025351363,
          5.152211951887261,
          5.1836278784231595,
          5.215043804959057,
          5.246459731494955,
          5.277875658030853,
          5.3092915845667505,
          5.340707511102649,
          5.372123437638547,
          5.403539364174445,
          5.4349552907103424,
          5.46637121724624,
          5.497787143782139,
          5.529203070318037,
          5.560618996853934,
          5.592034923389832,
          5.62345084992573,
          5.6548667764616285,
          5.686282702997526,
          5.717698629533424,
          5.749114556069322,
          5.7805304826052195,
          5.811946409141118,
          5.843362335677016,
          5.874778262212914,
          5.906194188748811,
          5.937610115284709,
          5.969026041820608,
          6.000441968356506,
          6.031857894892403,
          6.063273821428301,
          6.094689747964199,
          6.1261056745000975,
          6.157521601035995,
          6.188937527571893,
          6.220353454107791,
          6.2517693806436885
         ],
         "y": [
          3,
          3.0294425717447955,
          3.054945190016637,
          3.0765279563448695,
          3.094223981529839,
          3.108078984433228,
          3.1181508325963376,
          3.1245090279307464,
          3.1272341411479267,
          3.1264171989981135,
          3.122159028768838,
          3.1145695648446408,
          3.103767122446083,
          3.0898776439428746,
          3.0730339233673893,
          3.053374814935832,
          3.031044431510271,
          3.0061913390011314,
          2.9789677527129816,
          2.9495287415735176,
          2.918031446054328,
          2.884634315391245,
          2.84949636944161,
          2.812776490176773,
          2.7746327474027614,
          2.73522176283402,
          2.6946981161191714,
          2.65321379584018,
          2.6109176978845126,
          2.567955172932574,
          2.5244676241195174,
          2.480592155232277,
          2.4364612691006666,
          2.3922026151477387,
          2.3479387843915664,
          2.303787149550634,
          2.259859747310255,
          2.2162631992696196,
          2.1730986676190627,
          2.130461841204868,
          2.0884429473328665,
          2.0471267844492034,
          2.006592770722156,
          1.9669150035359355,
          1.928162324997154,
          1.8903983887459996,
          1.8536817236538718,
          1.8180657903718527,
          1.783599027162392,
          1.7503248819904669,
          1.7182818284590449,
          1.6875033638342103,
          1.6580179881037653,
          1.629849163734824,
          1.6030152565252629,
          1.577529458665538,
          1.5533996958257044,
          1.5306285207428505,
          1.509212996392446,
          1.489144572370745,
          1.4704089585829716,
          1.4529860007142852,
          1.436849562249707,
          1.4219674180000585,
          1.4083011641801098,
          1.39580615007154,
          1.384431436188136,
          1.3741197836469965,
          1.3648076791426735,
          1.356425399528016,
          1.3488971195345714,
          1.3421410656266215,
          1.3360697183871333,
          1.330590065192876,
          1.3256039042617942,
          1.321008200460925,
          1.3166954925599383,
          1.3125543509158537,
          1.3084698838900315,
          1.3043242906398635,
          1.2999974573044333,
          1.2953675930243942,
          1.2903119017089517,
          1.2847072849932442,
          1.2784310714225442,
          1.2713617665590964,
          1.2633798184353506,
          1.2543683925749125,
          1.2442141506695799,
          1.2328080269361903,
          1.2200459961785306,
          1.2058298276442274,
          1.190067818890665,
          1.1726755040532515,
          1.1535763311389602,
          1.1327023032429522,
          1.109994578900883,
          1.0854040271387095,
          1.0588917331600936,
          1.0304294510133323,
          0.9999999999999997,
          0.9675976020211275,
          0.9332281574989852,
          0.8969094579590341,
          0.8586713338032321,
          0.8185557362488981,
          0.776616752843478,
          0.7329205563917405,
          0.687545287545668,
          0.6405808717062623,
          0.59212877126879,
          0.5423016746070972,
          0.4912231235371114,
          0.4390270813236905,
          0.38585744359758234,
          0.33186749483006794,
          0.27721931327135463,
          0.22208312749485343,
          0.16663662790306594,
          0.11106423674191168,
          0.055556340339245835,
          0.00030848743018885294,
          -0.054479442442892045,
          -0.10860409636392754,
          -0.16185952713534724,
          -0.21403808979130817,
          -0.26493135125152617,
          -0.3143310088118381,
          -0.36202981316300276,
          -0.40782249164298745,
          -0.4515066674594001,
          -0.49288377066739525,
          -0.5317599367535977,
          -0.5679468887578888,
          -0.6012627989615567,
          -0.6315331262818737,
          -0.658591425638879,
          -0.6822801256994463,
          -0.7024512715559762,
          -0.7189672290615299,
          -0.7317013477193477,
          -0.7405385792116628,
          -0.7453760488499117,
          -0.7461235774350455,
          -0.7427041512319741,
          -0.7350543379854155,
          -0.7231246471348158,
          -0.7068798326227295,
          -0.6862991369333153,
          -0.6613764752445489,
          -0.6321205588285579,
          -0.5985549570882917,
          -0.5607180978746884,
          -0.5186632059857008,
          -0.4724581800062076,
          -0.4221854079049541,
          -0.3679415220605238,
          -0.3098370946419598,
          -0.2479962745202019,
          -0.1825563671332044,
          -0.11366735896945324,
          -0.041491388570945975,
          0.03379783381338086,
          0.1120156555701155,
          0.19296715749126653,
          0.2764478731972216,
          0.3622445492418754,
          0.4501359427428549,
          0.5398936532043965,
          0.6312829850368666,
          0.724063837125548,
          0.8179916156629671,
          0.912818166334378,
          1.0082927218354667,
          1.1041628606058511,
          1.2001754725817895,
          1.2960777277074773,
          1.3916180428969929,
          1.4865470431086876,
          1.5806185121815697,
          1.6735903290891432,
          1.765225385291037,
          1.8552924789070973,
          1.9435671815027418,
          2.0298326733590817,
          2.1138805432068057,
          2.1955115485296224,
          2.274536332691654,
          2.350776095313615,
          2.424063212515548,
          2.494241803859099,
          2.5611682430601492,
          2.6247116098029313,
          2.6847540802692356,
          2.7411912543008556,
          2.793932417439175,
          2.8429007364321888,
          2.888033387165195,
          2.9292816143555283,
          2.966610722752591
         ]
        }
       ],
       "frames": [],
       "layout": {
        "margin": {
         "b": 50,
         "l": 50,
         "r": 50,
         "t": 60
        },
        "template": {
         "data": {
          "bar": [
           {
            "error_x": {
             "color": "#2a3f5f"
            },
            "error_y": {
             "color": "#2a3f5f"
            },
            "marker": {
             "line": {
              "color": "#E5ECF6",
              "width": 0.5
             }
            },
            "type": "bar"
           }
          ],
          "barpolar": [
           {
            "marker": {
             "line": {
              "color": "#E5ECF6",
              "width": 0.5
             }
            },
            "type": "barpolar"
           }
          ],
          "carpet": [
           {
            "aaxis": {
             "endlinecolor": "#2a3f5f",
             "gridcolor": "white",
             "linecolor": "white",
             "minorgridcolor": "white",
             "startlinecolor": "#2a3f5f"
            },
            "baxis": {
             "endlinecolor": "#2a3f5f",
             "gridcolor": "white",
             "linecolor": "white",
             "minorgridcolor": "white",
             "startlinecolor": "#2a3f5f"
            },
            "type": "carpet"
           }
          ],
          "choropleth": [
           {
            "colorbar": {
             "outlinewidth": 0,
             "ticks": ""
            },
            "type": "choropleth"
           }
          ],
          "contour": [
           {
            "colorbar": {
             "outlinewidth": 0,
             "ticks": ""
            },
            "colorscale": [
             [
              0,
              "#0d0887"
             ],
             [
              0.1111111111111111,
              "#46039f"
             ],
             [
              0.2222222222222222,
              "#7201a8"
             ],
             [
              0.3333333333333333,
              "#9c179e"
             ],
             [
              0.4444444444444444,
              "#bd3786"
             ],
             [
              0.5555555555555556,
              "#d8576b"
             ],
             [
              0.6666666666666666,
              "#ed7953"
             ],
             [
              0.7777777777777778,
              "#fb9f3a"
             ],
             [
              0.8888888888888888,
              "#fdca26"
             ],
             [
              1,
              "#f0f921"
             ]
            ],
            "type": "contour"
           }
          ],
          "contourcarpet": [
           {
            "colorbar": {
             "outlinewidth": 0,
             "ticks": ""
            },
            "type": "contourcarpet"
           }
          ],
          "heatmap": [
           {
            "colorbar": {
             "outlinewidth": 0,
             "ticks": ""
            },
            "colorscale": [
             [
              0,
              "#0d0887"
             ],
             [
              0.1111111111111111,
              "#46039f"
             ],
             [
              0.2222222222222222,
              "#7201a8"
             ],
             [
              0.3333333333333333,
              "#9c179e"
             ],
             [
              0.4444444444444444,
              "#bd3786"
             ],
             [
              0.5555555555555556,
              "#d8576b"
             ],
             [
              0.6666666666666666,
              "#ed7953"
             ],
             [
              0.7777777777777778,
              "#fb9f3a"
             ],
             [
              0.8888888888888888,
              "#fdca26"
             ],
             [
              1,
              "#f0f921"
             ]
            ],
            "type": "heatmap"
           }
          ],
          "heatmapgl": [
           {
            "colorbar": {
             "outlinewidth": 0,
             "ticks": ""
            },
            "colorscale": [
             [
              0,
              "#0d0887"
             ],
             [
              0.1111111111111111,
              "#46039f"
             ],
             [
              0.2222222222222222,
              "#7201a8"
             ],
             [
              0.3333333333333333,
              "#9c179e"
             ],
             [
              0.4444444444444444,
              "#bd3786"
             ],
             [
              0.5555555555555556,
              "#d8576b"
             ],
             [
              0.6666666666666666,
              "#ed7953"
             ],
             [
              0.7777777777777778,
              "#fb9f3a"
             ],
             [
              0.8888888888888888,
              "#fdca26"
             ],
             [
              1,
              "#f0f921"
             ]
            ],
            "type": "heatmapgl"
           }
          ],
          "histogram": [
           {
            "marker": {
             "colorbar": {
              "outlinewidth": 0,
              "ticks": ""
             }
            },
            "type": "histogram"
           }
          ],
          "histogram2d": [
           {
            "colorbar": {
             "outlinewidth": 0,
             "ticks": ""
            },
            "colorscale": [
             [
              0,
              "#0d0887"
             ],
             [
              0.1111111111111111,
              "#46039f"
             ],
             [
              0.2222222222222222,
              "#7201a8"
             ],
             [
              0.3333333333333333,
              "#9c179e"
             ],
             [
              0.4444444444444444,
              "#bd3786"
             ],
             [
              0.5555555555555556,
              "#d8576b"
             ],
             [
              0.6666666666666666,
              "#ed7953"
             ],
             [
              0.7777777777777778,
              "#fb9f3a"
             ],
             [
              0.8888888888888888,
              "#fdca26"
             ],
             [
              1,
              "#f0f921"
             ]
            ],
            "type": "histogram2d"
           }
          ],
          "histogram2dcontour": [
           {
            "colorbar": {
             "outlinewidth": 0,
             "ticks": ""
            },
            "colorscale": [
             [
              0,
              "#0d0887"
             ],
             [
              0.1111111111111111,
              "#46039f"
             ],
             [
              0.2222222222222222,
              "#7201a8"
             ],
             [
              0.3333333333333333,
              "#9c179e"
             ],
             [
              0.4444444444444444,
              "#bd3786"
             ],
             [
              0.5555555555555556,
              "#d8576b"
             ],
             [
              0.6666666666666666,
              "#ed7953"
             ],
             [
              0.7777777777777778,
              "#fb9f3a"
             ],
             [
              0.8888888888888888,
              "#fdca26"
             ],
             [
              1,
              "#f0f921"
             ]
            ],
            "type": "histogram2dcontour"
           }
          ],
          "mesh3d": [
           {
            "colorbar": {
             "outlinewidth": 0,
             "ticks": ""
            },
            "type": "mesh3d"
           }
          ],
          "parcoords": [
           {
            "line": {
             "colorbar": {
              "outlinewidth": 0,
              "ticks": ""
             }
            },
            "type": "parcoords"
           }
          ],
          "pie": [
           {
            "automargin": true,
            "type": "pie"
           }
          ],
          "scatter": [
           {
            "marker": {
             "colorbar": {
              "outlinewidth": 0,
              "ticks": ""
             }
            },
            "type": "scatter"
           }
          ],
          "scatter3d": [
           {
            "line": {
             "colorbar": {
              "outlinewidth": 0,
              "ticks": ""
             }
            },
            "marker": {
             "colorbar": {
              "outlinewidth": 0,
              "ticks": ""
             }
            },
            "type": "scatter3d"
           }
          ],
          "scattercarpet": [
           {
            "marker": {
             "colorbar": {
              "outlinewidth": 0,
              "ticks": ""
             }
            },
            "type": "scattercarpet"
           }
          ],
          "scattergeo": [
           {
            "marker": {
             "colorbar": {
              "outlinewidth": 0,
              "ticks": ""
             }
            },
            "type": "scattergeo"
           }
          ],
          "scattergl": [
           {
            "marker": {
             "colorbar": {
              "outlinewidth": 0,
              "ticks": ""
             }
            },
            "type": "scattergl"
           }
          ],
          "scattermapbox": [
           {
            "marker": {
             "colorbar": {
              "outlinewidth": 0,
              "ticks": ""
             }
            },
            "type": "scattermapbox"
           }
          ],
          "scatterpolar": [
           {
            "marker": {
             "colorbar": {
              "outlinewidth": 0,
              "ticks": ""
             }
            },
            "type": "scatterpolar"
           }
          ],
          "scatterpolargl": [
           {
            "marker": {
             "colorbar": {
              "outlinewidth": 0,
              "ticks": ""
             }
            },
            "type": "scatterpolargl"
           }
          ],
          "scatterternary": [
           {
            "marker": {
             "colorbar": {
              "outlinewidth": 0,
              "ticks": ""
             }
            },
            "type": "scatterternary"
           }
          ],
          "surface": [
           {
            "colorbar": {
             "outlinewidth": 0,
             "ticks": ""
            },
            "colorscale": [
             [
              0,
              "#0d0887"
             ],
             [
              0.1111111111111111,
              "#46039f"
             ],
             [
              0.2222222222222222,
              "#7201a8"
             ],
             [
              0.3333333333333333,
              "#9c179e"
             ],
             [
              0.4444444444444444,
              "#bd3786"
             ],
             [
              0.5555555555555556,
              "#d8576b"
             ],
             [
              0.6666666666666666,
              "#ed7953"
             ],
             [
              0.7777777777777778,
              "#fb9f3a"
             ],
             [
              0.8888888888888888,
              "#fdca26"
             ],
             [
              1,
              "#f0f921"
             ]
            ],
            "type": "surface"
           }
          ],
          "table": [
           {
            "cells": {
             "fill": {
              "color": "#EBF0F8"
             },
             "line": {
              "color": "white"
             }
            },
            "header": {
             "fill": {
              "color": "#C8D4E3"
             },
             "line": {
              "color": "white"
             }
            },
            "type": "table"
           }
          ]
         },
         "layout": {
          "annotationdefaults": {
           "arrowcolor": "#2a3f5f",
           "arrowhead": 0,
           "arrowwidth": 1
          },
          "autotypenumbers": "strict",
          "coloraxis": {
           "colorbar": {
            "outlinewidth": 0,
            "ticks": ""
           }
          },
          "colorscale": {
           "diverging": [
            [
             0,
             "#8e0152"
            ],
            [
             0.1,
             "#c51b7d"
            ],
            [
             0.2,
             "#de77ae"
            ],
            [
             0.3,
             "#f1b6da"
            ],
            [
             0.4,
             "#fde0ef"
            ],
            [
             0.5,
             "#f7f7f7"
            ],
            [
             0.6,
             "#e6f5d0"
            ],
            [
             0.7,
             "#b8e186"
            ],
            [
             0.8,
             "#7fbc41"
            ],
            [
             0.9,
             "#4d9221"
            ],
            [
             1,
             "#276419"
            ]
           ],
           "sequential": [
            [
             0,
             "#0d0887"
            ],
            [
             0.1111111111111111,
             "#46039f"
            ],
            [
             0.2222222222222222,
             "#7201a8"
            ],
            [
             0.3333333333333333,
             "#9c179e"
            ],
            [
             0.4444444444444444,
             "#bd3786"
            ],
            [
             0.5555555555555556,
             "#d8576b"
            ],
            [
             0.6666666666666666,
             "#ed7953"
            ],
            [
             0.7777777777777778,
             "#fb9f3a"
            ],
            [
             0.8888888888888888,
             "#fdca26"
            ],
            [
             1,
             "#f0f921"
            ]
           ],
           "sequentialminus": [
            [
             0,
             "#0d0887"
            ],
            [
             0.1111111111111111,
             "#46039f"
            ],
            [
             0.2222222222222222,
             "#7201a8"
            ],
            [
             0.3333333333333333,
             "#9c179e"
            ],
            [
             0.4444444444444444,
             "#bd3786"
            ],
            [
             0.5555555555555556,
             "#d8576b"
            ],
            [
             0.6666666666666666,
             "#ed7953"
            ],
            [
             0.7777777777777778,
             "#fb9f3a"
            ],
            [
             0.8888888888888888,
             "#fdca26"
            ],
            [
             1,
             "#f0f921"
            ]
           ]
          },
          "colorway": [
           "#636efa",
           "#EF553B",
           "#00cc96",
           "#ab63fa",
           "#FFA15A",
           "#19d3f3",
           "#FF6692",
           "#B6E880",
           "#FF97FF",
           "#FECB52"
          ],
          "font": {
           "color": "#2a3f5f"
          },
          "geo": {
           "bgcolor": "white",
           "lakecolor": "white",
           "landcolor": "#E5ECF6",
           "showlakes": true,
           "showland": true,
           "subunitcolor": "white"
          },
          "hoverlabel": {
           "align": "left"
          },
          "hovermode": "closest",
          "mapbox": {
           "style": "light"
          },
          "paper_bgcolor": "white",
          "plot_bgcolor": "#E5ECF6",
          "polar": {
           "angularaxis": {
            "gridcolor": "white",
            "linecolor": "white",
            "ticks": ""
           },
           "bgcolor": "#E5ECF6",
           "radialaxis": {
            "gridcolor": "white",
            "linecolor": "white",
            "ticks": ""
           }
          },
          "scene": {
           "xaxis": {
            "backgroundcolor": "#E5ECF6",
            "gridcolor": "white",
            "gridwidth": 2,
            "linecolor": "white",
            "showbackground": true,
            "ticks": "",
            "zerolinecolor": "white"
           },
           "yaxis": {
            "backgroundcolor": "#E5ECF6",
            "gridcolor": "white",
            "gridwidth": 2,
            "linecolor": "white",
            "showbackground": true,
            "ticks": "",
            "zerolinecolor": "white"
           },
           "zaxis": {
            "backgroundcolor": "#E5ECF6",
            "gridcolor": "white",
            "gridwidth": 2,
            "linecolor": "white",
            "showbackground": true,
            "ticks": "",
            "zerolinecolor": "white"
           }
          },
          "shapedefaults": {
           "line": {
            "color": "#2a3f5f"
           }
          },
          "ternary": {
           "aaxis": {
            "gridcolor": "white",
            "linecolor": "white",
            "ticks": ""
           },
           "baxis": {
            "gridcolor": "white",
            "linecolor": "white",
            "ticks": ""
           },
           "bgcolor": "#E5ECF6",
           "caxis": {
            "gridcolor": "white",
            "linecolor": "white",
            "ticks": ""
           }
          },
          "title": {
           "x": 0.05
          },
          "xaxis": {
           "automargin": true,
           "gridcolor": "white",
           "linecolor": "white",
           "ticks": "",
           "title": {
            "standoff": 15
           },
           "zerolinecolor": "white",
           "zerolinewidth": 2
          },
          "yaxis": {
           "automargin": true,
           "gridcolor": "white",
           "linecolor": "white",
           "ticks": "",
           "title": {
            "standoff": 15
           },
           "zerolinecolor": "white",
           "zerolinewidth": 2
          }
         }
        },
        "xaxis": {
         "title": {
          "text": "x"
         }
        }
       }
      },
      "image/png": "[encoded data removed]",
      "text/html": [
       "<div\n",
       "    class=\"webio-mountpoint\"\n",
       "    data-webio-mountpoint=\"18230671039859650859\"\n",
       ">\n",
       "    <script>\n",
       "    (function(){\n",
       "    // Some integrations (namely, IJulia/Jupyter) use an alternate render pathway than\n",
       "    // just putting the html on the page. If WebIO isn't defined, then it's pretty likely\n",
       "    // that we're in one of those situations and the integration just isn't installed\n",
       "    // correctly.\n",
       "    if (typeof window.WebIO === \"undefined\") {\n",
       "        document\n",
       "            .querySelector('[data-webio-mountpoint=\"18230671039859650859\"]')\n",
       "            .innerHTML = (\n",
       "                '<div style=\"padding: 1em; background-color: #f8d6da; border: 1px solid #f5c6cb; font-weight: bold;\">' +\n",
       "                '<p><strong>WebIO not detected.</strong></p>' +\n",
       "                '<p>Please read ' +\n",
       "                '<a href=\"https://juliagizmos.github.io/WebIO.jl/latest/troubleshooting/not-detected/\" target=\"_blank\">the troubleshooting guide</a> ' +\n",
       "                'for more information on how to resolve this issue.</p>' +\n",
       "                '<p><a href=\"https://juliagizmos.github.io/WebIO.jl/latest/troubleshooting/not-detected/\" target=\"_blank\">https://juliagizmos.github.io/WebIO.jl/latest/troubleshooting/not-detected/</a></p>' +\n",
       "                '</div>'\n",
       "            );\n",
       "        return;\n",
       "    }\n",
       "    WebIO.mount(\n",
       "        document.querySelector('[data-webio-mountpoint=\"18230671039859650859\"]'),\n",
       "        {\"props\":{},\"nodeType\":\"Scope\",\"type\":\"node\",\"instanceArgs\":{\"imports\":{\"data\":[{\"name\":\"Plotly\",\"type\":\"js\",\"url\":\"\\/assetserver\\/d6feb8d8ce4676ebdde817a0745950a35b4ba3ae-plotly.min.js\"},{\"name\":null,\"type\":\"js\",\"url\":\"\\/assetserver\\/517030b23c1c21e94bf622985d97a74a9582e066-plotly_webio.bundle.js\"}],\"type\":\"async_block\"},\"id\":\"17346320974634314753\",\"handlers\":{\"_toImage\":[\"(function (options){return this.Plotly.toImage(this.plotElem,options).then((function (data){return WebIO.setval({\\\"name\\\":\\\"image\\\",\\\"scope\\\":\\\"17346320974634314753\\\",\\\"id\\\":\\\"295\\\",\\\"type\\\":\\\"observable\\\"},data)}))})\"],\"__get_gd_contents\":[\"(function (prop){prop==\\\"data\\\" ? (WebIO.setval({\\\"name\\\":\\\"__gd_contents\\\",\\\"scope\\\":\\\"17346320974634314753\\\",\\\"id\\\":\\\"296\\\",\\\"type\\\":\\\"observable\\\"},this.plotElem.data)) : undefined; return prop==\\\"layout\\\" ? (WebIO.setval({\\\"name\\\":\\\"__gd_contents\\\",\\\"scope\\\":\\\"17346320974634314753\\\",\\\"id\\\":\\\"296\\\",\\\"type\\\":\\\"observable\\\"},this.plotElem.layout)) : undefined})\"],\"_downloadImage\":[\"(function (options){return this.Plotly.downloadImage(this.plotElem,options)})\"],\"_commands\":[\"(function (args){var fn=args.shift(); var elem=this.plotElem; var Plotly=this.Plotly; args.unshift(elem); return Plotly[fn].apply(this,args)})\"]},\"systemjs_options\":null,\"mount_callbacks\":[\"function () {\\n    var handler = ((function (Plotly,PlotlyWebIO){PlotlyWebIO.init(WebIO); var gd=this.dom.querySelector(\\\"#plot-fd9da691-3ef5-43c6-bbf7-53970342167e\\\"); this.plotElem=gd; this.Plotly=Plotly; (window.Blink!==undefined) ? (gd.style.width=\\\"100%\\\", gd.style.height=\\\"100vh\\\", gd.style.marginLeft=\\\"0%\\\", gd.style.marginTop=\\\"0vh\\\") : undefined; window.onresize=(function (){return Plotly.Plots.resize(gd)}); Plotly.newPlot(gd,[{\\\"mode\\\":\\\"markers+lines\\\",\\\"y\\\":[0.0,0.15851934391708178,0.31404907196338394,0.46656401240886813,0.6160428611920741,0.7624681492740812,0.9058261975535955,1.0461070597962885,1.1833044540856985,1.3174156833535373,1.448441545593821,1.576386234407384,1.7012572305607416,1.8230651852756625,1.9418237959928324,2.0575496753745224,2.17026221432692,2.2799834398327126,2.3867378683885407,2.49055235583998,2.591455944398996,2.689479707615272,2.78465659405381,2.877021270406916,2.9666099647394524,3.0534603105325115,3.1376111921528413,3.2191025923340173,3.2979754422109795,3.374271474402915,3.4480330795909677,3.5193031669878807,3.5881250290467785,3.654542210706874,3.718598383425387,3.780337224198201,3.8398022997273,3.897036955851474,3.9520842123186557,4.004986662943956,4.055786381167579,4.1045248310013225,4.151242783331853,4.195980237533204,4.238776348330182,4.279669357848414,4.318696532785472,4.3558941066405215,4.391297226946994,4.424939907463292,4.456854985290045,4.487074082898339,4.515627575070974,4.542544560777401,4.567852840022075,4.591578895724467,4.6137478807065495,4.634383609879238,4.6535085577325646,4.671143861244589,4.687309328330713,4.7020234519577055,4.7153034300449335,4.727165191268849,4.737623426875393,4.74669162858865,4.754382132682801,4.760706170258279,4.765673923732237,4.769294589518372,4.771576446832077,4.772526932514321,4.772152721722263,4.770459814286676,4.767453626486731,4.763139087941987,4.7575207432705025,4.750602858111172,4.742389529058709,4.732884797011673,4.722092763388185,4.710017708621242,4.6966642123061995,4.682037274337819,4.666142436343488,4.648985902693385,4.630574660347692,4.610916596785904,4.590020615253746,4.567896746559741,4.544556256655625,4.520011749243066,4.494277262663154,4.467368360344814,4.439302214113539,4.4100976796924325,4.379775363763047,4.348357681993939,4.315868907489374,4.282335209159456,4.247784679565141,4.212247351847157,4.175755205406061,4.13834216006126,4.100044058479316,4.060898636725794,4.020945482859778,3.9802259835558096,3.9387832588036047,3.896662084801384,3.853908805223449,3.8105712311063935,3.7666985296607787,3.7223411023758017,3.6775504528430782,3.632379044782073,3.586880150803324,3.5411076924965896,3.495116072478591,3.4489599990796935,3.40269430438958,3.356373756419458,3.3100528661715862,3.2637856904366234,3.217625631164656,3.171625232277218,3.1258359748047595,3.080308071247003,3.035090260062345,2.9902296011969383,2.945771273564309,2.9017583753824385,2.858231728266961,2.815229685967173,2.7727879486149685,2.730939383336984,2.6897138520560406,2.6491380472803985,2.6092353366481897,2.570025616959732,2.531525178392577,2.4937465795533824,2.456698533976789,2.420385808635078,2.3848091349735543,2.349965132935249,2.3158462483854296,2.2824407042912997,2.249732465955574,2.2177012205448157,2.186322371094096,2.1555670451097693,2.125402117831596,2.095790250154422,2.0666899411488298,2.038055595059198,2.0098376025971834,1.981982436289044,1.9544327595760786,1.9271275493101174,1.900002231229443,1.872988827945981,1.8460161189219089,1.8190098118630185,1.7918927249079455,1.7645849789465333,1.737004199357553,1.7090657264157687,1.6806828335815065,1.6517669528519465,1.6222279063231961,1.5919741430855292,1.5609129805510622,1.5289508492943429,1.4959935404708697,1.4619464548677388,1.426714852633601,1.3902041027323686,1.352319931166686,1.3129686670230565,1.272057485400388,1.2294946462984266,1.1851897285609314,1.1390538579914806,1.0909999287867538,1.0409428174632107,0.9887995884882161,0.9344896908655609,0.8779351449677715,0.819060718954034,0.7577940941616457,0.6940660189118542,0.6278104502261495,0.5589646830072854,0.4874694662998311,0.41326910630744207,0.33631155590833783,0.2565484904761841,0.1739353698800694,0.08843148660478262],\\\"type\\\":\\\"scatter\\\",\\\"name\\\":\\\"u\\\",\\\"x\\\":[0.0,0.031415926535897934,0.06283185307179587,0.0942477796076938,0.12566370614359174,0.15707963267948966,0.1884955592153876,0.21991148575128555,0.25132741228718347,0.2827433388230814,0.3141592653589793,0.3455751918948773,0.3769911184307752,0.4084070449666731,0.4398229715025711,0.471238898038469,0.5026548245743669,0.5340707511102649,0.5654866776461628,0.5969026041820608,0.6283185307179586,0.6597344572538566,0.6911503837897546,0.7225663103256524,0.7539822368615504,0.7853981633974484,0.8168140899333463,0.8482300164692442,0.8796459430051422,0.9110618695410401,0.942477796076938,0.9738937226128359,1.0053096491487339,1.0367255756846319,1.0681415022205298,1.0995574287564276,1.1309733552923256,1.1623892818282235,1.1938052083641215,1.2252211349000195,1.2566370614359172,1.2880529879718152,1.3194689145077132,1.3508848410436112,1.3823007675795091,1.4137166941154071,1.4451326206513049,1.4765485471872029,1.5079644737231008,1.5393804002589988,1.5707963267948968,1.6022122533307945,1.6336281798666925,1.6650441064025905,1.6964600329384885,1.7278759594743864,1.7592918860102844,1.7907078125461822,1.8221237390820801,1.8535396656179781,1.884955592153876,1.916371518689774,1.9477874452256718,1.9792033717615698,2.0106192982974678,2.0420352248333655,2.0734511513692637,2.1048670779051615,2.1362830044410597,2.1676989309769574,2.199114857512855,2.2305307840487534,2.261946710584651,2.2933626371205493,2.324778563656447,2.356194490192345,2.387610416728243,2.419026343264141,2.450442269800039,2.4818581963359367,2.5132741228718345,2.5446900494077327,2.5761059759436304,2.6075219024795286,2.6389378290154264,2.6703537555513246,2.7017696820872223,2.73318560862312,2.7646015351590183,2.796017461694916,2.8274333882308142,2.858849314766712,2.8902652413026098,2.921681167838508,2.9530970943744057,2.984513020910304,3.0159289474462017,3.0473448739820994,3.0787608005179976,3.1101767270538954,3.1415926535897936,3.1730085801256913,3.204424506661589,3.2358404331974873,3.267256359733385,3.298672286269283,3.330088212805181,3.3615041393410787,3.392920065876977,3.4243359924128747,3.455751918948773,3.4871678454846706,3.518583772020569,3.5499996985564666,3.5814156250923643,3.6128315516282625,3.6442474781641603,3.6756634047000585,3.7070793312359562,3.738495257771854,3.769911184307752,3.80132711084365,3.832743037379548,3.864158963915446,3.8955748904513436,3.926990816987242,3.9584067435231396,3.989822670059038,4.0212385965949355,4.052654523130833,4.084070449666731,4.11548637620263,4.1469023027385274,4.178318229274425,4.209734155810323,4.241150082346221,4.272566008882119,4.303981935418017,4.335397861953915,4.366813788489813,4.39822971502571,4.429645641561609,4.461061568097507,4.4924774946334045,4.523893421169302,4.5553093477052,4.586725274241099,4.618141200776996,4.649557127312894,4.680973053848792,4.71238898038469,4.743804906920588,4.775220833456486,4.806636759992384,4.838052686528282,4.869468613064179,4.900884539600078,4.932300466135976,4.9637163926718735,4.995132319207771,5.026548245743669,5.057964172279568,5.089380098815465,5.120796025351363,5.152211951887261,5.1836278784231595,5.215043804959057,5.246459731494955,5.277875658030853,5.3092915845667505,5.340707511102649,5.372123437638547,5.403539364174445,5.4349552907103424,5.46637121724624,5.497787143782139,5.529203070318037,5.560618996853934,5.592034923389832,5.62345084992573,5.6548667764616285,5.686282702997526,5.717698629533424,5.749114556069322,5.7805304826052195,5.811946409141118,5.843362335677016,5.874778262212914,5.906194188748811,5.937610115284709,5.969026041820608,6.000441968356506,6.031857894892403,6.063273821428301,6.094689747964199,6.1261056745000975,6.157521601035995,6.188937527571893,6.220353454107791,6.2517693806436885]},{\\\"mode\\\":\\\"markers+lines\\\",\\\"y\\\":[3.0,3.0294425717447955,3.054945190016637,3.0765279563448695,3.094223981529839,3.108078984433228,3.1181508325963376,3.1245090279307464,3.1272341411479267,3.1264171989981135,3.122159028768838,3.1145695648446408,3.103767122446083,3.0898776439428746,3.0730339233673893,3.053374814935832,3.031044431510271,3.0061913390011314,2.9789677527129816,2.9495287415735176,2.918031446054328,2.884634315391245,2.84949636944161,2.812776490176773,2.7746327474027614,2.73522176283402,2.6946981161191714,2.65321379584018,2.6109176978845126,2.567955172932574,2.5244676241195174,2.480592155232277,2.4364612691006666,2.3922026151477387,2.3479387843915664,2.303787149550634,2.259859747310255,2.2162631992696196,2.1730986676190627,2.130461841204868,2.0884429473328665,2.0471267844492034,2.006592770722156,1.9669150035359355,1.928162324997154,1.8903983887459996,1.8536817236538718,1.8180657903718527,1.783599027162392,1.7503248819904669,1.7182818284590449,1.6875033638342103,1.6580179881037653,1.629849163734824,1.6030152565252629,1.577529458665538,1.5533996958257044,1.5306285207428505,1.509212996392446,1.489144572370745,1.4704089585829716,1.4529860007142852,1.436849562249707,1.4219674180000585,1.4083011641801098,1.39580615007154,1.384431436188136,1.3741197836469965,1.3648076791426735,1.356425399528016,1.3488971195345714,1.3421410656266215,1.3360697183871333,1.330590065192876,1.3256039042617942,1.321008200460925,1.3166954925599383,1.3125543509158537,1.3084698838900315,1.3043242906398635,1.2999974573044333,1.2953675930243942,1.2903119017089517,1.2847072849932442,1.2784310714225442,1.2713617665590964,1.2633798184353506,1.2543683925749125,1.2442141506695799,1.2328080269361903,1.2200459961785306,1.2058298276442274,1.190067818890665,1.1726755040532515,1.1535763311389602,1.1327023032429522,1.109994578900883,1.0854040271387095,1.0588917331600936,1.0304294510133323,0.9999999999999997,0.9675976020211275,0.9332281574989852,0.8969094579590341,0.8586713338032321,0.8185557362488981,0.776616752843478,0.7329205563917405,0.687545287545668,0.6405808717062623,0.59212877126879,0.5423016746070972,0.4912231235371114,0.4390270813236905,0.38585744359758234,0.33186749483006794,0.27721931327135463,0.22208312749485343,0.16663662790306594,0.11106423674191168,0.055556340339245835,0.00030848743018885294,-0.054479442442892045,-0.10860409636392754,-0.16185952713534724,-0.21403808979130817,-0.26493135125152617,-0.3143310088118381,-0.36202981316300276,-0.40782249164298745,-0.4515066674594001,-0.49288377066739525,-0.5317599367535977,-0.5679468887578888,-0.6012627989615567,-0.6315331262818737,-0.658591425638879,-0.6822801256994463,-0.7024512715559762,-0.7189672290615299,-0.7317013477193477,-0.7405385792116628,-0.7453760488499117,-0.7461235774350455,-0.7427041512319741,-0.7350543379854155,-0.7231246471348158,-0.7068798326227295,-0.6862991369333153,-0.6613764752445489,-0.6321205588285579,-0.5985549570882917,-0.5607180978746884,-0.5186632059857008,-0.4724581800062076,-0.4221854079049541,-0.3679415220605238,-0.3098370946419598,-0.2479962745202019,-0.1825563671332044,-0.11366735896945324,-0.041491388570945975,0.03379783381338086,0.1120156555701155,0.19296715749126653,0.2764478731972216,0.3622445492418754,0.4501359427428549,0.5398936532043965,0.6312829850368666,0.724063837125548,0.8179916156629671,0.912818166334378,1.0082927218354667,1.1041628606058511,1.2001754725817895,1.2960777277074773,1.3916180428969929,1.4865470431086876,1.5806185121815697,1.6735903290891432,1.765225385291037,1.8552924789070973,1.9435671815027418,2.0298326733590817,2.1138805432068057,2.1955115485296224,2.274536332691654,2.350776095313615,2.424063212515548,2.494241803859099,2.5611682430601492,2.6247116098029313,2.6847540802692356,2.7411912543008556,2.793932417439175,2.8429007364321888,2.888033387165195,2.9292816143555283,2.966610722752591],\\\"type\\\":\\\"scatter\\\",\\\"name\\\":\\\"f(x)\\\",\\\"x\\\":[0.0,0.031415926535897934,0.06283185307179587,0.0942477796076938,0.12566370614359174,0.15707963267948966,0.1884955592153876,0.21991148575128555,0.25132741228718347,0.2827433388230814,0.3141592653589793,0.3455751918948773,0.3769911184307752,0.4084070449666731,0.4398229715025711,0.471238898038469,0.5026548245743669,0.5340707511102649,0.5654866776461628,0.5969026041820608,0.6283185307179586,0.6597344572538566,0.6911503837897546,0.7225663103256524,0.7539822368615504,0.7853981633974484,0.8168140899333463,0.8482300164692442,0.8796459430051422,0.9110618695410401,0.942477796076938,0.9738937226128359,1.0053096491487339,1.0367255756846319,1.0681415022205298,1.0995574287564276,1.1309733552923256,1.1623892818282235,1.1938052083641215,1.2252211349000195,1.2566370614359172,1.2880529879718152,1.3194689145077132,1.3508848410436112,1.3823007675795091,1.4137166941154071,1.4451326206513049,1.4765485471872029,1.5079644737231008,1.5393804002589988,1.5707963267948968,1.6022122533307945,1.6336281798666925,1.6650441064025905,1.6964600329384885,1.7278759594743864,1.7592918860102844,1.7907078125461822,1.8221237390820801,1.8535396656179781,1.884955592153876,1.916371518689774,1.9477874452256718,1.9792033717615698,2.0106192982974678,2.0420352248333655,2.0734511513692637,2.1048670779051615,2.1362830044410597,2.1676989309769574,2.199114857512855,2.2305307840487534,2.261946710584651,2.2933626371205493,2.324778563656447,2.356194490192345,2.387610416728243,2.419026343264141,2.450442269800039,2.4818581963359367,2.5132741228718345,2.5446900494077327,2.5761059759436304,2.6075219024795286,2.6389378290154264,2.6703537555513246,2.7017696820872223,2.73318560862312,2.7646015351590183,2.796017461694916,2.8274333882308142,2.858849314766712,2.8902652413026098,2.921681167838508,2.9530970943744057,2.984513020910304,3.0159289474462017,3.0473448739820994,3.0787608005179976,3.1101767270538954,3.1415926535897936,3.1730085801256913,3.204424506661589,3.2358404331974873,3.267256359733385,3.298672286269283,3.330088212805181,3.3615041393410787,3.392920065876977,3.4243359924128747,3.455751918948773,3.4871678454846706,3.518583772020569,3.5499996985564666,3.5814156250923643,3.6128315516282625,3.6442474781641603,3.6756634047000585,3.7070793312359562,3.738495257771854,3.769911184307752,3.80132711084365,3.832743037379548,3.864158963915446,3.8955748904513436,3.926990816987242,3.9584067435231396,3.989822670059038,4.0212385965949355,4.052654523130833,4.084070449666731,4.11548637620263,4.1469023027385274,4.178318229274425,4.209734155810323,4.241150082346221,4.272566008882119,4.303981935418017,4.335397861953915,4.366813788489813,4.39822971502571,4.429645641561609,4.461061568097507,4.4924774946334045,4.523893421169302,4.5553093477052,4.586725274241099,4.618141200776996,4.649557127312894,4.680973053848792,4.71238898038469,4.743804906920588,4.775220833456486,4.806636759992384,4.838052686528282,4.869468613064179,4.900884539600078,4.932300466135976,4.9637163926718735,4.995132319207771,5.026548245743669,5.057964172279568,5.089380098815465,5.120796025351363,5.152211951887261,5.1836278784231595,5.215043804959057,5.246459731494955,5.277875658030853,5.3092915845667505,5.340707511102649,5.372123437638547,5.403539364174445,5.4349552907103424,5.46637121724624,5.497787143782139,5.529203070318037,5.560618996853934,5.592034923389832,5.62345084992573,5.6548667764616285,5.686282702997526,5.717698629533424,5.749114556069322,5.7805304826052195,5.811946409141118,5.843362335677016,5.874778262212914,5.906194188748811,5.937610115284709,5.969026041820608,6.000441968356506,6.031857894892403,6.063273821428301,6.094689747964199,6.1261056745000975,6.157521601035995,6.188937527571893,6.220353454107791,6.2517693806436885]}],{\\\"xaxis\\\":{\\\"title\\\":{\\\"text\\\":\\\"x\\\"}},\\\"template\\\":{\\\"layout\\\":{\\\"coloraxis\\\":{\\\"colorbar\\\":{\\\"ticks\\\":\\\"\\\",\\\"outlinewidth\\\":0}},\\\"xaxis\\\":{\\\"gridcolor\\\":\\\"white\\\",\\\"zerolinewidth\\\":2,\\\"title\\\":{\\\"standoff\\\":15},\\\"ticks\\\":\\\"\\\",\\\"zerolinecolor\\\":\\\"white\\\",\\\"automargin\\\":true,\\\"linecolor\\\":\\\"white\\\"},\\\"hovermode\\\":\\\"closest\\\",\\\"paper_bgcolor\\\":\\\"white\\\",\\\"geo\\\":{\\\"showlakes\\\":true,\\\"showland\\\":true,\\\"landcolor\\\":\\\"#E5ECF6\\\",\\\"bgcolor\\\":\\\"white\\\",\\\"subunitcolor\\\":\\\"white\\\",\\\"lakecolor\\\":\\\"white\\\"},\\\"colorscale\\\":{\\\"sequential\\\":[[0.0,\\\"#0d0887\\\"],[0.1111111111111111,\\\"#46039f\\\"],[0.2222222222222222,\\\"#7201a8\\\"],[0.3333333333333333,\\\"#9c179e\\\"],[0.4444444444444444,\\\"#bd3786\\\"],[0.5555555555555556,\\\"#d8576b\\\"],[0.6666666666666666,\\\"#ed7953\\\"],[0.7777777777777778,\\\"#fb9f3a\\\"],[0.8888888888888888,\\\"#fdca26\\\"],[1.0,\\\"#f0f921\\\"]],\\\"diverging\\\":[[0,\\\"#8e0152\\\"],[0.1,\\\"#c51b7d\\\"],[0.2,\\\"#de77ae\\\"],[0.3,\\\"#f1b6da\\\"],[0.4,\\\"#fde0ef\\\"],[0.5,\\\"#f7f7f7\\\"],[0.6,\\\"#e6f5d0\\\"],[0.7,\\\"#b8e186\\\"],[0.8,\\\"#7fbc41\\\"],[0.9,\\\"#4d9221\\\"],[1,\\\"#276419\\\"]],\\\"sequentialminus\\\":[[0.0,\\\"#0d0887\\\"],[0.1111111111111111,\\\"#46039f\\\"],[0.2222222222222222,\\\"#7201a8\\\"],[0.3333333333333333,\\\"#9c179e\\\"],[0.4444444444444444,\\\"#bd3786\\\"],[0.5555555555555556,\\\"#d8576b\\\"],[0.6666666666666666,\\\"#ed7953\\\"],[0.7777777777777778,\\\"#fb9f3a\\\"],[0.8888888888888888,\\\"#fdca26\\\"],[1.0,\\\"#f0f921\\\"]]},\\\"yaxis\\\":{\\\"gridcolor\\\":\\\"white\\\",\\\"zerolinewidth\\\":2,\\\"title\\\":{\\\"standoff\\\":15},\\\"ticks\\\":\\\"\\\",\\\"zerolinecolor\\\":\\\"white\\\",\\\"automargin\\\":true,\\\"linecolor\\\":\\\"white\\\"},\\\"shapedefaults\\\":{\\\"line\\\":{\\\"color\\\":\\\"#2a3f5f\\\"}},\\\"hoverlabel\\\":{\\\"align\\\":\\\"left\\\"},\\\"mapbox\\\":{\\\"style\\\":\\\"light\\\"},\\\"polar\\\":{\\\"angularaxis\\\":{\\\"gridcolor\\\":\\\"white\\\",\\\"ticks\\\":\\\"\\\",\\\"linecolor\\\":\\\"white\\\"},\\\"bgcolor\\\":\\\"#E5ECF6\\\",\\\"radialaxis\\\":{\\\"gridcolor\\\":\\\"white\\\",\\\"ticks\\\":\\\"\\\",\\\"linecolor\\\":\\\"white\\\"}},\\\"autotypenumbers\\\":\\\"strict\\\",\\\"font\\\":{\\\"color\\\":\\\"#2a3f5f\\\"},\\\"ternary\\\":{\\\"baxis\\\":{\\\"gridcolor\\\":\\\"white\\\",\\\"ticks\\\":\\\"\\\",\\\"linecolor\\\":\\\"white\\\"},\\\"bgcolor\\\":\\\"#E5ECF6\\\",\\\"caxis\\\":{\\\"gridcolor\\\":\\\"white\\\",\\\"ticks\\\":\\\"\\\",\\\"linecolor\\\":\\\"white\\\"},\\\"aaxis\\\":{\\\"gridcolor\\\":\\\"white\\\",\\\"ticks\\\":\\\"\\\",\\\"linecolor\\\":\\\"white\\\"}},\\\"annotationdefaults\\\":{\\\"arrowhead\\\":0,\\\"arrowwidth\\\":1,\\\"arrowcolor\\\":\\\"#2a3f5f\\\"},\\\"plot_bgcolor\\\":\\\"#E5ECF6\\\",\\\"title\\\":{\\\"x\\\":0.05},\\\"scene\\\":{\\\"xaxis\\\":{\\\"gridcolor\\\":\\\"white\\\",\\\"gridwidth\\\":2,\\\"backgroundcolor\\\":\\\"#E5ECF6\\\",\\\"ticks\\\":\\\"\\\",\\\"showbackground\\\":true,\\\"zerolinecolor\\\":\\\"white\\\",\\\"linecolor\\\":\\\"white\\\"},\\\"zaxis\\\":{\\\"gridcolor\\\":\\\"white\\\",\\\"gridwidth\\\":2,\\\"backgroundcolor\\\":\\\"#E5ECF6\\\",\\\"ticks\\\":\\\"\\\",\\\"showbackground\\\":true,\\\"zerolinecolor\\\":\\\"white\\\",\\\"linecolor\\\":\\\"white\\\"},\\\"yaxis\\\":{\\\"gridcolor\\\":\\\"white\\\",\\\"gridwidth\\\":2,\\\"backgroundcolor\\\":\\\"#E5ECF6\\\",\\\"ticks\\\":\\\"\\\",\\\"showbackground\\\":true,\\\"zerolinecolor\\\":\\\"white\\\",\\\"linecolor\\\":\\\"white\\\"}},\\\"colorway\\\":[\\\"#636efa\\\",\\\"#EF553B\\\",\\\"#00cc96\\\",\\\"#ab63fa\\\",\\\"#FFA15A\\\",\\\"#19d3f3\\\",\\\"#FF6692\\\",\\\"#B6E880\\\",\\\"#FF97FF\\\",\\\"#FECB52\\\"]},\\\"data\\\":{\\\"barpolar\\\":[{\\\"type\\\":\\\"barpolar\\\",\\\"marker\\\":{\\\"line\\\":{\\\"color\\\":\\\"#E5ECF6\\\",\\\"width\\\":0.5}}}],\\\"carpet\\\":[{\\\"aaxis\\\":{\\\"gridcolor\\\":\\\"white\\\",\\\"endlinecolor\\\":\\\"#2a3f5f\\\",\\\"minorgridcolor\\\":\\\"white\\\",\\\"startlinecolor\\\":\\\"#2a3f5f\\\",\\\"linecolor\\\":\\\"white\\\"},\\\"type\\\":\\\"carpet\\\",\\\"baxis\\\":{\\\"gridcolor\\\":\\\"white\\\",\\\"endlinecolor\\\":\\\"#2a3f5f\\\",\\\"minorgridcolor\\\":\\\"white\\\",\\\"startlinecolor\\\":\\\"#2a3f5f\\\",\\\"linecolor\\\":\\\"white\\\"}}],\\\"scatterpolar\\\":[{\\\"type\\\":\\\"scatterpolar\\\",\\\"marker\\\":{\\\"colorbar\\\":{\\\"ticks\\\":\\\"\\\",\\\"outlinewidth\\\":0}}}],\\\"parcoords\\\":[{\\\"line\\\":{\\\"colorbar\\\":{\\\"ticks\\\":\\\"\\\",\\\"outlinewidth\\\":0}},\\\"type\\\":\\\"parcoords\\\"}],\\\"scatter\\\":[{\\\"type\\\":\\\"scatter\\\",\\\"marker\\\":{\\\"colorbar\\\":{\\\"ticks\\\":\\\"\\\",\\\"outlinewidth\\\":0}}}],\\\"histogram2dcontour\\\":[{\\\"colorbar\\\":{\\\"ticks\\\":\\\"\\\",\\\"outlinewidth\\\":0},\\\"type\\\":\\\"histogram2dcontour\\\",\\\"colorscale\\\":[[0.0,\\\"#0d0887\\\"],[0.1111111111111111,\\\"#46039f\\\"],[0.2222222222222222,\\\"#7201a8\\\"],[0.3333333333333333,\\\"#9c179e\\\"],[0.4444444444444444,\\\"#bd3786\\\"],[0.5555555555555556,\\\"#d8576b\\\"],[0.6666666666666666,\\\"#ed7953\\\"],[0.7777777777777778,\\\"#fb9f3a\\\"],[0.8888888888888888,\\\"#fdca26\\\"],[1.0,\\\"#f0f921\\\"]]}],\\\"contour\\\":[{\\\"colorbar\\\":{\\\"ticks\\\":\\\"\\\",\\\"outlinewidth\\\":0},\\\"type\\\":\\\"contour\\\",\\\"colorscale\\\":[[0.0,\\\"#0d0887\\\"],[0.1111111111111111,\\\"#46039f\\\"],[0.2222222222222222,\\\"#7201a8\\\"],[0.3333333333333333,\\\"#9c179e\\\"],[0.4444444444444444,\\\"#bd3786\\\"],[0.5555555555555556,\\\"#d8576b\\\"],[0.6666666666666666,\\\"#ed7953\\\"],[0.7777777777777778,\\\"#fb9f3a\\\"],[0.8888888888888888,\\\"#fdca26\\\"],[1.0,\\\"#f0f921\\\"]]}],\\\"scattercarpet\\\":[{\\\"type\\\":\\\"scattercarpet\\\",\\\"marker\\\":{\\\"colorbar\\\":{\\\"ticks\\\":\\\"\\\",\\\"outlinewidth\\\":0}}}],\\\"mesh3d\\\":[{\\\"colorbar\\\":{\\\"ticks\\\":\\\"\\\",\\\"outlinewidth\\\":0},\\\"type\\\":\\\"mesh3d\\\"}],\\\"surface\\\":[{\\\"colorbar\\\":{\\\"ticks\\\":\\\"\\\",\\\"outlinewidth\\\":0},\\\"type\\\":\\\"surface\\\",\\\"colorscale\\\":[[0.0,\\\"#0d0887\\\"],[0.1111111111111111,\\\"#46039f\\\"],[0.2222222222222222,\\\"#7201a8\\\"],[0.3333333333333333,\\\"#9c179e\\\"],[0.4444444444444444,\\\"#bd3786\\\"],[0.5555555555555556,\\\"#d8576b\\\"],[0.6666666666666666,\\\"#ed7953\\\"],[0.7777777777777778,\\\"#fb9f3a\\\"],[0.8888888888888888,\\\"#fdca26\\\"],[1.0,\\\"#f0f921\\\"]]}],\\\"scattermapbox\\\":[{\\\"type\\\":\\\"scattermapbox\\\",\\\"marker\\\":{\\\"colorbar\\\":{\\\"ticks\\\":\\\"\\\",\\\"outlinewidth\\\":0}}}],\\\"scattergeo\\\":[{\\\"type\\\":\\\"scattergeo\\\",\\\"marker\\\":{\\\"colorbar\\\":{\\\"ticks\\\":\\\"\\\",\\\"outlinewidth\\\":0}}}],\\\"histogram\\\":[{\\\"type\\\":\\\"histogram\\\",\\\"marker\\\":{\\\"colorbar\\\":{\\\"ticks\\\":\\\"\\\",\\\"outlinewidth\\\":0}}}],\\\"pie\\\":[{\\\"type\\\":\\\"pie\\\",\\\"automargin\\\":true}],\\\"choropleth\\\":[{\\\"colorbar\\\":{\\\"ticks\\\":\\\"\\\",\\\"outlinewidth\\\":0},\\\"type\\\":\\\"choropleth\\\"}],\\\"heatmapgl\\\":[{\\\"colorbar\\\":{\\\"ticks\\\":\\\"\\\",\\\"outlinewidth\\\":0},\\\"type\\\":\\\"heatmapgl\\\",\\\"colorscale\\\":[[0.0,\\\"#0d0887\\\"],[0.1111111111111111,\\\"#46039f\\\"],[0.2222222222222222,\\\"#7201a8\\\"],[0.3333333333333333,\\\"#9c179e\\\"],[0.4444444444444444,\\\"#bd3786\\\"],[0.5555555555555556,\\\"#d8576b\\\"],[0.6666666666666666,\\\"#ed7953\\\"],[0.7777777777777778,\\\"#fb9f3a\\\"],[0.8888888888888888,\\\"#fdca26\\\"],[1.0,\\\"#f0f921\\\"]]}],\\\"bar\\\":[{\\\"type\\\":\\\"bar\\\",\\\"error_y\\\":{\\\"color\\\":\\\"#2a3f5f\\\"},\\\"error_x\\\":{\\\"color\\\":\\\"#2a3f5f\\\"},\\\"marker\\\":{\\\"line\\\":{\\\"color\\\":\\\"#E5ECF6\\\",\\\"width\\\":0.5}}}],\\\"heatmap\\\":[{\\\"colorbar\\\":{\\\"ticks\\\":\\\"\\\",\\\"outlinewidth\\\":0},\\\"type\\\":\\\"heatmap\\\",\\\"colorscale\\\":[[0.0,\\\"#0d0887\\\"],[0.1111111111111111,\\\"#46039f\\\"],[0.2222222222222222,\\\"#7201a8\\\"],[0.3333333333333333,\\\"#9c179e\\\"],[0.4444444444444444,\\\"#bd3786\\\"],[0.5555555555555556,\\\"#d8576b\\\"],[0.6666666666666666,\\\"#ed7953\\\"],[0.7777777777777778,\\\"#fb9f3a\\\"],[0.8888888888888888,\\\"#fdca26\\\"],[1.0,\\\"#f0f921\\\"]]}],\\\"contourcarpet\\\":[{\\\"colorbar\\\":{\\\"ticks\\\":\\\"\\\",\\\"outlinewidth\\\":0},\\\"type\\\":\\\"contourcarpet\\\"}],\\\"table\\\":[{\\\"type\\\":\\\"table\\\",\\\"header\\\":{\\\"line\\\":{\\\"color\\\":\\\"white\\\"},\\\"fill\\\":{\\\"color\\\":\\\"#C8D4E3\\\"}},\\\"cells\\\":{\\\"line\\\":{\\\"color\\\":\\\"white\\\"},\\\"fill\\\":{\\\"color\\\":\\\"#EBF0F8\\\"}}}],\\\"scatter3d\\\":[{\\\"line\\\":{\\\"colorbar\\\":{\\\"ticks\\\":\\\"\\\",\\\"outlinewidth\\\":0}},\\\"type\\\":\\\"scatter3d\\\",\\\"marker\\\":{\\\"colorbar\\\":{\\\"ticks\\\":\\\"\\\",\\\"outlinewidth\\\":0}}}],\\\"scattergl\\\":[{\\\"type\\\":\\\"scattergl\\\",\\\"marker\\\":{\\\"colorbar\\\":{\\\"ticks\\\":\\\"\\\",\\\"outlinewidth\\\":0}}}],\\\"histogram2d\\\":[{\\\"colorbar\\\":{\\\"ticks\\\":\\\"\\\",\\\"outlinewidth\\\":0},\\\"type\\\":\\\"histogram2d\\\",\\\"colorscale\\\":[[0.0,\\\"#0d0887\\\"],[0.1111111111111111,\\\"#46039f\\\"],[0.2222222222222222,\\\"#7201a8\\\"],[0.3333333333333333,\\\"#9c179e\\\"],[0.4444444444444444,\\\"#bd3786\\\"],[0.5555555555555556,\\\"#d8576b\\\"],[0.6666666666666666,\\\"#ed7953\\\"],[0.7777777777777778,\\\"#fb9f3a\\\"],[0.8888888888888888,\\\"#fdca26\\\"],[1.0,\\\"#f0f921\\\"]]}],\\\"scatterternary\\\":[{\\\"type\\\":\\\"scatterternary\\\",\\\"marker\\\":{\\\"colorbar\\\":{\\\"ticks\\\":\\\"\\\",\\\"outlinewidth\\\":0}}}],\\\"scatterpolargl\\\":[{\\\"type\\\":\\\"scatterpolargl\\\",\\\"marker\\\":{\\\"colorbar\\\":{\\\"ticks\\\":\\\"\\\",\\\"outlinewidth\\\":0}}}]}},\\\"margin\\\":{\\\"l\\\":50,\\\"b\\\":50,\\\"r\\\":50,\\\"t\\\":60}},{\\\"showLink\\\":false,\\\"editable\\\":false,\\\"responsive\\\":true,\\\"staticPlot\\\":false,\\\"scrollZoom\\\":true}); gd.on(\\\"plotly_hover\\\",(function (data){var filtered_data=WebIO.PlotlyCommands.filterEventData(gd,data,\\\"hover\\\"); return !(filtered_data.isnil) ? (WebIO.setval({\\\"name\\\":\\\"hover\\\",\\\"scope\\\":\\\"17346320974634314753\\\",\\\"id\\\":\\\"291\\\",\\\"type\\\":\\\"observable\\\"},filtered_data.out)) : undefined})); gd.on(\\\"plotly_unhover\\\",(function (){return WebIO.setval({\\\"name\\\":\\\"hover\\\",\\\"scope\\\":\\\"17346320974634314753\\\",\\\"id\\\":\\\"291\\\",\\\"type\\\":\\\"observable\\\"},{})})); gd.on(\\\"plotly_selected\\\",(function (data){var filtered_data=WebIO.PlotlyCommands.filterEventData(gd,data,\\\"selected\\\"); return !(filtered_data.isnil) ? (WebIO.setval({\\\"name\\\":\\\"selected\\\",\\\"scope\\\":\\\"17346320974634314753\\\",\\\"id\\\":\\\"292\\\",\\\"type\\\":\\\"observable\\\"},filtered_data.out)) : undefined})); gd.on(\\\"plotly_deselect\\\",(function (){return WebIO.setval({\\\"name\\\":\\\"selected\\\",\\\"scope\\\":\\\"17346320974634314753\\\",\\\"id\\\":\\\"292\\\",\\\"type\\\":\\\"observable\\\"},{})})); gd.on(\\\"plotly_relayout\\\",(function (data){var filtered_data=WebIO.PlotlyCommands.filterEventData(gd,data,\\\"relayout\\\"); return !(filtered_data.isnil) ? (WebIO.setval({\\\"name\\\":\\\"relayout\\\",\\\"scope\\\":\\\"17346320974634314753\\\",\\\"id\\\":\\\"294\\\",\\\"type\\\":\\\"observable\\\"},filtered_data.out)) : undefined})); return gd.on(\\\"plotly_click\\\",(function (data){var filtered_data=WebIO.PlotlyCommands.filterEventData(gd,data,\\\"click\\\"); return !(filtered_data.isnil) ? (WebIO.setval({\\\"name\\\":\\\"click\\\",\\\"scope\\\":\\\"17346320974634314753\\\",\\\"id\\\":\\\"293\\\",\\\"type\\\":\\\"observable\\\"},filtered_data.out)) : undefined}))}));\\n    (WebIO.importBlock({\\\"data\\\":[{\\\"name\\\":\\\"Plotly\\\",\\\"type\\\":\\\"js\\\",\\\"url\\\":\\\"\\/assetserver\\/d6feb8d8ce4676ebdde817a0745950a35b4ba3ae-plotly.min.js\\\"},{\\\"name\\\":null,\\\"type\\\":\\\"js\\\",\\\"url\\\":\\\"\\/assetserver\\/517030b23c1c21e94bf622985d97a74a9582e066-plotly_webio.bundle.js\\\"}],\\\"type\\\":\\\"async_block\\\"})).then((imports) => handler.apply(this, imports));\\n}\\n\"],\"observables\":{\"_toImage\":{\"sync\":false,\"id\":\"298\",\"value\":{}},\"hover\":{\"sync\":false,\"id\":\"291\",\"value\":{}},\"selected\":{\"sync\":false,\"id\":\"292\",\"value\":{}},\"__gd_contents\":{\"sync\":false,\"id\":\"296\",\"value\":{}},\"click\":{\"sync\":false,\"id\":\"293\",\"value\":{}},\"image\":{\"sync\":true,\"id\":\"295\",\"value\":\"\"},\"__get_gd_contents\":{\"sync\":false,\"id\":\"300\",\"value\":\"\"},\"_downloadImage\":{\"sync\":false,\"id\":\"299\",\"value\":{}},\"relayout\":{\"sync\":false,\"id\":\"294\",\"value\":{}},\"_commands\":{\"sync\":false,\"id\":\"297\",\"value\":[]}}},\"children\":[{\"props\":{\"id\":\"plot-fd9da691-3ef5-43c6-bbf7-53970342167e\"},\"nodeType\":\"DOM\",\"type\":\"node\",\"instanceArgs\":{\"namespace\":\"html\",\"tag\":\"div\"},\"children\":[]}]},\n",
       "        window,\n",
       "    );\n",
       "    })()\n",
       "    </script>\n",
       "</div>\n"
      ],
      "text/plain": [
       "data: [\n",
       "  \"scatter with fields mode, name, type, x, and y\",\n",
       "  \"scatter with fields mode, name, type, x, and y\"\n",
       "]\n",
       "\n",
       "layout: \"layout with fields margin, template, and xaxis\"\n",
       "\n"
      ]
     },
     "execution_count": 217,
     "metadata": {},
     "output_type": "execute_result"
    }
   ],
   "source": [
    "plot([\n",
    "    scatter(x=x, y=u_fft, mode=\"markers+lines\", name=\"u\"),\n",
    "    scatter(x=x, y=f_rhs, mode=\"markers+lines\", name=\"f(x)\")],\n",
    "    Layout(xaxis_title=\"x\") #yaxis_title=\"u(x)\",  \n",
    ")"
   ]
  },
  {
   "cell_type": "markdown",
   "id": "f6f84a1f-91b0-415d-8919-0e9935f487a8",
   "metadata": {},
   "source": [
    "Instead of the Fourier basis, other trigonometric basis may be used to solve ODEs/PDEs. For example, the Discrete Sine Transform is suitable for the Poisson problem with Dirichlet boundary conditions. Let us see how this is done:\n",
    "\n",
    "##  Discrete Sine Transform Type-I (DST-I) for Poisson Problems\n",
    "\n",
    "We aim to solve the 1D Poisson problem:\n",
    "\n",
    "$$\n",
    "-u''(x) = f(x), \\quad x \\in (0, L), \\quad u(0) = u(L) = 0.\n",
    "$$\n",
    "\n",
    "A convenient approach is to expand the solution using a **sine series**, which automatically satisfies the zero boundary conditions.\n",
    "\n",
    "---\n",
    "\n",
    "###  Grid and Sine Expansion\n",
    "\n",
    "We discretize the domain using **interior points only** (excluding the boundaries):\n",
    "\n",
    "$$\n",
    "x_j = \\frac{jL}{N+1}, \\quad j = 1, 2, \\dots, N\n",
    "$$\n",
    "\n",
    "At these points, we approximate the solution $u(x_j)$ by a sine expansion:\n",
    "\n",
    "$$\n",
    "u(x_j) \\approx  \\sum_{k=1}^{N} \\hat{u}_k \\sin\\left(\\frac{\\pi k x_j}{L} \\right) =  \\sum_{k=1}^{N} \\hat{u}_k \\sin\\left(\\frac{\\pi k j}{N+1} \\right)\n",
    "$$\n",
    "\n",
    "This defines the **Discrete Sine Transform of Type-I (DST-I)**.\n",
    "\n",
    "---\n",
    "\n",
    "### How DST-I Helps\n",
    "\n",
    "The sine basis functions are eigenfunctions of the second derivative with homogeneous Dirichlet BCs. So if we write:\n",
    "\n",
    "$$\n",
    "u(x) = \\sum_{k=1}^\\infty \\hat{u}_k \\sin\\left(\\frac{\\pi k x}{L}\\right)\n",
    "$$\n",
    "\n",
    "then applying the second derivative gives:\n",
    "\n",
    "$$\n",
    "u''(x) = - \\left( \\frac{\\pi k}{L} \\right)^2 \\sum_{k=1}^\\infty \\hat{u}_k  \\sin\\left(\\frac{\\pi k x}{L}\\right) = -\\left( \\frac{\\pi k}{L} \\right)^2 u(x).\n",
    "$$\n",
    "\n",
    "We will work with a finite number of frequencies along the grid.\n",
    "To solve $-u''(x_j) = f(x_j)$, we will:\n",
    "\n",
    "1. Apply DST-I to $f_j = f(x_j)$ to get $\\hat{f}_k$\n",
    "2. Solve $\\hat{u}_k = \\hat{f}_k$ $\\left( \\frac{\\pi k}{L} \\right)^{-2} $\n",
    "3. Invert DST-I to recover $u_j$\n",
    "\n",
    "---\n",
    "\n",
    "### DST-I via FFT (Extension Method)\n",
    "\n",
    "DST-I can be computed via FFT using an **odd extension** of the data. Here's how:\n",
    "\n",
    "Let\n",
    "$$\n",
    "u = [u_1, u_2, \\dots, u_N]\n",
    "$$  \n",
    "be a vector of function values $u_j = u(x_j)$ corresponding to the **interior points** of a domain $x \\in [0, L]$, with spacing $h = \\frac{L}{N+1}$. \n",
    "\n",
    "Since $u$ only contains interior values, we must extend it in a way that respects the **Dirichlet BCs**. This is done by creating an **odd extension** of the data.\n",
    "\n",
    "We define the odd extension as:\n",
    "\n",
    "$$\n",
    "u_{\\text{ext}} = [0, u_1, u_2, \\dots, u_N, 0, -u_N, -u_{N-1}, \\dots, -u_1]\n",
    "$$\n",
    "\n",
    "This gives a vector of length $2(N+1)$, and enforces:\n",
    "\n",
    "- $u_{\\text{ext}}[0] = 0$\n",
    "- $u_{\\text{ext}}[N+1] = 0$\n",
    "- Odd symmetry: $u_{\\text{ext}}[x] = -u_{\\text{ext}}[N + 1-x]$\n",
    "\n",
    "### Why Add Zeros?\n",
    "\n",
    "The zeros at the start and middle of the extended array **explicitly encode the boundary conditions** $u(0) = u(L) = 0$. By doing so, the extended function naturally satisfy homogeneous Dirichlet BCs after a sine transform.\n",
    "\n",
    "By extending the data oddly and ensuring zeros at the boundaries, the extended function becomes purely **odd**, meaning its Fourier transform contains only **sine terms**. Taking the **imaginary part** of the FFT over this extended data isolates these sine components, effectively computing the DST-I.\n",
    "\n",
    "### Summarizing the procedure.\n",
    "\n",
    "1. Given $u \\in \\mathbb{R}^N$, extend it to an **odd** array of length $2(N+1)$\n",
    "2. Compute FFT of this array\n",
    "3. Extract the imaginary parts of appropriate entries.\n",
    "\n",
    "\n",
    "\n",
    "\n"
   ]
  },
  {
   "cell_type": "code",
   "execution_count": 218,
   "id": "583a89f7-8c21-4f07-a46f-faf918871207",
   "metadata": {},
   "outputs": [],
   "source": [
    "N = 10\n",
    "u = randn(N);"
   ]
  },
  {
   "cell_type": "code",
   "execution_count": 219,
   "id": "b46aa280-093a-43a3-95c3-877c2c6f1bd3",
   "metadata": {},
   "outputs": [
    {
     "data": {
      "text/plain": [
       "idst1_fft (generic function with 1 method)"
      ]
     },
     "execution_count": 219,
     "metadata": {},
     "output_type": "execute_result"
    }
   ],
   "source": [
    "# Function to perform DST-I via FFT using odd extension\n",
    "function dst1_fft(f)\n",
    "    N = length(f)\n",
    "    \n",
    "    # Fill odd extension\n",
    "    f_ext = vcat([0], f, [0], -reverse(f))\n",
    "\n",
    "    # Apply FFT and take imaginary part (odd part)\n",
    "    F_ext = fft(f_ext)\n",
    "    dst = -imag(F_ext[2:N+1])  # Extract DST-I components \n",
    "    \n",
    "    return dst\n",
    "end\n",
    "\n",
    "function idst1_fft(f_hat)\n",
    "    N = length(f_hat)\n",
    "    \n",
    "    # Fill odd imaginary extension\n",
    "    F_ext = vcat([0], -1im * f_hat, 0, 1im * reverse(f_hat))\n",
    "    \n",
    "    # Inverse FFT and extract\n",
    "    f_ifft = real(ifft(F_ext))\n",
    "    idst = f_ifft[2:N+1]\n",
    "    return idst\n",
    "end"
   ]
  },
  {
   "cell_type": "code",
   "execution_count": 220,
   "id": "370c90be-82c6-4f8e-ba01-d1931297cd3e",
   "metadata": {},
   "outputs": [
    {
     "data": {
      "text/plain": [
       "1.4412175193453247e-16"
      ]
     },
     "execution_count": 220,
     "metadata": {},
     "output_type": "execute_result"
    }
   ],
   "source": [
    "norm(idst1_fft(dst1_fft(u)) - u, Inf)/norm(u, Inf)"
   ]
  },
  {
   "cell_type": "markdown",
   "id": "377f1349-50c2-4810-8825-fe1cd9403d45",
   "metadata": {},
   "source": [
    "We may now solve the 1D Poisson problem \n",
    "$$\n",
    "-u''(x) = f(x), \\quad x \\in (0, L), \\quad u(0) = u(L) = 0\n",
    "$$\n",
    "using DST. We will use $L = 2\\pi$ , $f(x) = \\cos(x) + \\cos(2x) + \\exp(\\sin(x))$ as in the previous example."
   ]
  },
  {
   "cell_type": "code",
   "execution_count": 221,
   "id": "a7e5fe5b-bbb5-46b2-b238-d4f7ce778282",
   "metadata": {},
   "outputs": [],
   "source": [
    "# Parameters\n",
    "N = 199\n",
    "L = 2 * pi\n",
    "h = L / (N + 1)\n",
    "x = h * collect(1:N)\n",
    "\n",
    "# RHS\n",
    "f_rhs = cos.(x) .+ cos.(2x) .+ exp.(sin.(x))\n",
    "\n",
    "# DST-I of RHS\n",
    "f_hat = dst1_fft(f_rhs)\n",
    "\n",
    "# Spectral solve\n",
    "k = collect(1:N) \n",
    "u_hat = f_hat .* (pi * k / L).^(-2)\n",
    "\n",
    "# Inverse DST-I\n",
    "u_dst = idst1_fft(u_hat);\n",
    "\n",
    "# To compare with the solution obtained with FFT, we will add u(0) = 0\n",
    "u_dst = vcat([0], u_dst);"
   ]
  },
  {
   "cell_type": "code",
   "execution_count": 222,
   "id": "f9f8548e-d49c-4dd3-be42-dc77bc3b2f73",
   "metadata": {},
   "outputs": [
    {
     "data": {
      "application/vnd.plotly.v1+json": {
       "config": {
        "editable": false,
        "responsive": true,
        "scrollZoom": true,
        "showLink": false,
        "staticPlot": false
       },
       "data": [
        {
         "mode": "markers+lines",
         "name": "u_dst",
         "type": "scatter",
         "x": [
          0,
          0.031415926535897934,
          0.06283185307179587,
          0.0942477796076938,
          0.12566370614359174,
          0.15707963267948966,
          0.1884955592153876,
          0.21991148575128555,
          0.25132741228718347,
          0.2827433388230814,
          0.3141592653589793,
          0.3455751918948773,
          0.3769911184307752,
          0.4084070449666731,
          0.4398229715025711,
          0.471238898038469,
          0.5026548245743669,
          0.5340707511102649,
          0.5654866776461628,
          0.5969026041820608,
          0.6283185307179586,
          0.6597344572538566,
          0.6911503837897546,
          0.7225663103256524,
          0.7539822368615504,
          0.7853981633974484,
          0.8168140899333463,
          0.8482300164692442,
          0.8796459430051422,
          0.9110618695410401,
          0.942477796076938,
          0.9738937226128359,
          1.0053096491487339,
          1.0367255756846319,
          1.0681415022205298,
          1.0995574287564276,
          1.1309733552923256,
          1.1623892818282235,
          1.1938052083641215,
          1.2252211349000195,
          1.2566370614359172,
          1.2880529879718152,
          1.3194689145077132,
          1.3508848410436112,
          1.3823007675795091,
          1.4137166941154071,
          1.4451326206513049,
          1.4765485471872029,
          1.5079644737231008,
          1.5393804002589988,
          1.5707963267948968,
          1.6022122533307945,
          1.6336281798666925,
          1.6650441064025905,
          1.6964600329384885,
          1.7278759594743864,
          1.7592918860102844,
          1.7907078125461822,
          1.8221237390820801,
          1.8535396656179781,
          1.884955592153876,
          1.916371518689774,
          1.9477874452256718,
          1.9792033717615698,
          2.0106192982974678,
          2.0420352248333655,
          2.0734511513692637,
          2.1048670779051615,
          2.1362830044410597,
          2.1676989309769574,
          2.199114857512855,
          2.2305307840487534,
          2.261946710584651,
          2.2933626371205493,
          2.324778563656447,
          2.356194490192345,
          2.387610416728243,
          2.419026343264141,
          2.450442269800039,
          2.4818581963359367,
          2.5132741228718345,
          2.5446900494077327,
          2.5761059759436304,
          2.6075219024795286,
          2.6389378290154264,
          2.6703537555513246,
          2.7017696820872223,
          2.73318560862312,
          2.7646015351590183,
          2.796017461694916,
          2.8274333882308142,
          2.858849314766712,
          2.8902652413026098,
          2.921681167838508,
          2.9530970943744057,
          2.984513020910304,
          3.0159289474462017,
          3.0473448739820994,
          3.0787608005179976,
          3.1101767270538954,
          3.1415926535897936,
          3.1730085801256913,
          3.204424506661589,
          3.2358404331974873,
          3.267256359733385,
          3.298672286269283,
          3.330088212805181,
          3.3615041393410787,
          3.392920065876977,
          3.4243359924128747,
          3.455751918948773,
          3.4871678454846706,
          3.518583772020569,
          3.5499996985564666,
          3.5814156250923643,
          3.6128315516282625,
          3.6442474781641603,
          3.6756634047000585,
          3.7070793312359562,
          3.738495257771854,
          3.769911184307752,
          3.80132711084365,
          3.832743037379548,
          3.864158963915446,
          3.8955748904513436,
          3.926990816987242,
          3.9584067435231396,
          3.989822670059038,
          4.0212385965949355,
          4.052654523130833,
          4.084070449666731,
          4.11548637620263,
          4.1469023027385274,
          4.178318229274425,
          4.209734155810323,
          4.241150082346221,
          4.272566008882119,
          4.303981935418017,
          4.335397861953915,
          4.366813788489813,
          4.39822971502571,
          4.429645641561609,
          4.461061568097507,
          4.4924774946334045,
          4.523893421169302,
          4.5553093477052,
          4.586725274241099,
          4.618141200776996,
          4.649557127312894,
          4.680973053848792,
          4.71238898038469,
          4.743804906920588,
          4.775220833456486,
          4.806636759992384,
          4.838052686528282,
          4.869468613064179,
          4.900884539600078,
          4.932300466135976,
          4.9637163926718735,
          4.995132319207771,
          5.026548245743669,
          5.057964172279568,
          5.089380098815465,
          5.120796025351363,
          5.152211951887261,
          5.1836278784231595,
          5.215043804959057,
          5.246459731494955,
          5.277875658030853,
          5.3092915845667505,
          5.340707511102649,
          5.372123437638547,
          5.403539364174445,
          5.4349552907103424,
          5.46637121724624,
          5.497787143782139,
          5.529203070318037,
          5.560618996853934,
          5.592034923389832,
          5.62345084992573,
          5.6548667764616285,
          5.686282702997526,
          5.717698629533424,
          5.749114556069322,
          5.7805304826052195,
          5.811946409141118,
          5.843362335677016,
          5.874778262212914,
          5.906194188748811,
          5.937610115284709,
          5.969026041820608,
          6.000441968356506,
          6.031857894892403,
          6.063273821428301,
          6.094689747964199,
          6.1261056745000975,
          6.157521601035995,
          6.188937527571893,
          6.220353454107791,
          6.2517693806436885
         ],
         "y": [
          0,
          0.15825435545348773,
          0.3138068476061609,
          0.4663155596356077,
          0.6157969010092746,
          0.7622209614433687,
          0.9055796994464265,
          1.045860137305684,
          1.1830578106591212,
          1.317168846889077,
          1.448194848086761,
          1.5761394336059449,
          1.7010105086021166,
          1.8228184017894868,
          1.9415770614338619,
          2.0573029012735295,
          2.1700154726355403,
          2.2797366712480516,
          2.3864911223643324,
          2.490305590705492,
          2.591209195593659,
          2.6892329447473657,
          2.7844098433828286,
          2.8767745090885235,
          2.9663632127709154,
          3.0532135503088726,
          3.1373644392542634,
          3.2188558329055286,
          3.297728688628573,
          3.374024715565732,
          3.4477863254946635,
          3.5190564085994347,
          3.5878782745569073,
          3.654295452665035,
          3.718351628629081,
          3.7800904664282684,
          3.8395555446889005,
          3.896790198297785,
          3.9518374570865125,
          4.004739905564352,
          4.055539625778591,
          4.104278073763395,
          4.150996027814574,
          4.195733480411713,
          4.238529592706992,
          4.279422600823462,
          4.318449777074112,
          4.35564734969625,
          4.391050471161677,
          4.424693150586933,
          4.4566082294422635,
          4.486827326079519,
          4.515380819170112,
          4.542297804007618,
          4.567606084075851,
          4.591332138996698,
          4.613501124721364,
          4.63413685318764,
          4.653261801713764,
          4.67089710458426,
          4.6870625722827945,
          4.701776695324514,
          4.715056673971705,
          4.726918434659283,
          4.7373766707800975,
          4.746444871999711,
          4.754135376568217,
          4.760459413687386,
          4.765427167600761,
          4.769047832963296,
          4.771329690685787,
          4.772280175973121,
          4.771905965562972,
          4.7702130577576565,
          4.7672068703160315,
          4.76289233142365,
          4.757273987089801,
          4.7503561016022,
          4.7421427728692525,
          4.73263804051088,
          4.721846007191089,
          4.709770952127572,
          4.696417456102472,
          4.681790517850313,
          4.6658956801340405,
          4.648739146211173,
          4.630327904133361,
          4.610669840308184,
          4.589773859035299,
          4.567649990085774,
          4.544309500433782,
          4.519764992772154,
          4.494030506438584,
          4.467121603876302,
          4.439055457886885,
          4.409850923225696,
          4.37952860753492,
          4.348110925528377,
          4.315622151260372,
          4.282088452694476,
          4.2475379233358455,
          4.212000595382177,
          4.175508449177057,
          4.138095403595695,
          4.099797302251189,
          4.06065188025906,
          4.020698726633125,
          3.979979227087299,
          3.938536502579034,
          3.8964153283304723,
          3.853662049001605,
          3.810324474632425,
          3.766451773442333,
          3.7220943458980833,
          3.6773036966287482,
          3.632132288299861,
          3.586633394593878,
          3.5408609360090857,
          3.4948693162748645,
          3.448713242586023,
          3.402447548192484,
          3.356126999918666,
          3.30980610998213,
          3.263538933927651,
          3.217378874983954,
          3.171378475758883,
          3.1255892186340613,
          3.080061314717984,
          3.0348435039030552,
          2.9899828446557355,
          2.9455245174180202,
          2.901511618827361,
          2.8579849721354873,
          2.8149829293962787,
          2.772541192500383,
          2.730692626748044,
          2.6894670959607434,
          2.64889129067083,
          2.608988580574962,
          2.5697788603265397,
          2.531278422344659,
          2.49349982289306,
          2.456451777957991,
          2.420139051943481,
          2.3845623789883685,
          2.3497183762074814,
          2.31559949243921,
          2.2821939475215194,
          2.2494857100547136,
          2.217454463725997,
          2.186075615246313,
          2.155320288233412,
          2.125155362046279,
          2.09554349321015,
          2.066443185437471,
          2.0378088380342443,
          2.0095908469739965,
          1.9817356791675542,
          1.9541860040587997,
          1.9268807920721938,
          1.8997554758404551,
          1.8727420705663782,
          1.8457693636897703,
          1.8187630543093327,
          1.7916459698695473,
          1.7643382211766037,
          1.7367574445612461,
          1.70881896837393,
          1.6804360790916355,
          1.651520194463499,
          1.6219811522268968,
          1.5917273842483481,
          1.5606662269686569,
          1.5287040898658562,
          1.4957467875722936,
          1.461699694644106,
          1.4264681006650706,
          1.3899573414139759,
          1.352073180495707,
          1.3127219041551512,
          1.2718107365950544,
          1.2292478811639418,
          1.184942982536726,
          1.138807089406824,
          1.0907531870953788,
          1.040696043362218,
          0.9885528539292489,
          0.9342429073793865,
          0.8776884230091502,
          0.8188139181525963,
          0.757547396654586,
          0.6938191824473964,
          0.6275638067995714,
          0.55871776051668,
          0.4872229681926649,
          0.4130219184767326,
          0.336065595725544,
          0.2563000377029276,
          0.17369314552284665,
          0.08816649814118918
         ]
        },
        {
         "mode": "markers+lines",
         "name": "f(x)",
         "type": "scatter",
         "x": [
          0.031415926535897934,
          0.06283185307179587,
          0.0942477796076938,
          0.12566370614359174,
          0.15707963267948966,
          0.1884955592153876,
          0.21991148575128555,
          0.25132741228718347,
          0.2827433388230814,
          0.3141592653589793,
          0.3455751918948773,
          0.3769911184307752,
          0.4084070449666731,
          0.4398229715025711,
          0.471238898038469,
          0.5026548245743669,
          0.5340707511102649,
          0.5654866776461628,
          0.5969026041820608,
          0.6283185307179586,
          0.6597344572538566,
          0.6911503837897546,
          0.7225663103256524,
          0.7539822368615504,
          0.7853981633974484,
          0.8168140899333463,
          0.8482300164692442,
          0.8796459430051422,
          0.9110618695410401,
          0.942477796076938,
          0.9738937226128359,
          1.0053096491487339,
          1.0367255756846319,
          1.0681415022205298,
          1.0995574287564276,
          1.1309733552923256,
          1.1623892818282235,
          1.1938052083641215,
          1.2252211349000195,
          1.2566370614359172,
          1.2880529879718152,
          1.3194689145077132,
          1.3508848410436112,
          1.3823007675795091,
          1.4137166941154071,
          1.4451326206513049,
          1.4765485471872029,
          1.5079644737231008,
          1.5393804002589988,
          1.5707963267948968,
          1.6022122533307945,
          1.6336281798666925,
          1.6650441064025905,
          1.6964600329384885,
          1.7278759594743864,
          1.7592918860102844,
          1.7907078125461822,
          1.8221237390820801,
          1.8535396656179781,
          1.884955592153876,
          1.916371518689774,
          1.9477874452256718,
          1.9792033717615698,
          2.0106192982974678,
          2.0420352248333655,
          2.0734511513692637,
          2.1048670779051615,
          2.1362830044410597,
          2.1676989309769574,
          2.199114857512855,
          2.2305307840487534,
          2.261946710584651,
          2.2933626371205493,
          2.324778563656447,
          2.356194490192345,
          2.387610416728243,
          2.419026343264141,
          2.450442269800039,
          2.4818581963359367,
          2.5132741228718345,
          2.5446900494077327,
          2.5761059759436304,
          2.6075219024795286,
          2.6389378290154264,
          2.6703537555513246,
          2.7017696820872223,
          2.73318560862312,
          2.7646015351590183,
          2.796017461694916,
          2.8274333882308142,
          2.858849314766712,
          2.8902652413026098,
          2.921681167838508,
          2.9530970943744057,
          2.984513020910304,
          3.0159289474462017,
          3.0473448739820994,
          3.0787608005179976,
          3.1101767270538954,
          3.1415926535897936,
          3.1730085801256913,
          3.204424506661589,
          3.2358404331974873,
          3.267256359733385,
          3.298672286269283,
          3.330088212805181,
          3.3615041393410787,
          3.392920065876977,
          3.4243359924128747,
          3.455751918948773,
          3.4871678454846706,
          3.518583772020569,
          3.5499996985564666,
          3.5814156250923643,
          3.6128315516282625,
          3.6442474781641603,
          3.6756634047000585,
          3.7070793312359562,
          3.738495257771854,
          3.769911184307752,
          3.80132711084365,
          3.832743037379548,
          3.864158963915446,
          3.8955748904513436,
          3.926990816987242,
          3.9584067435231396,
          3.989822670059038,
          4.0212385965949355,
          4.052654523130833,
          4.084070449666731,
          4.11548637620263,
          4.1469023027385274,
          4.178318229274425,
          4.209734155810323,
          4.241150082346221,
          4.272566008882119,
          4.303981935418017,
          4.335397861953915,
          4.366813788489813,
          4.39822971502571,
          4.429645641561609,
          4.461061568097507,
          4.4924774946334045,
          4.523893421169302,
          4.5553093477052,
          4.586725274241099,
          4.618141200776996,
          4.649557127312894,
          4.680973053848792,
          4.71238898038469,
          4.743804906920588,
          4.775220833456486,
          4.806636759992384,
          4.838052686528282,
          4.869468613064179,
          4.900884539600078,
          4.932300466135976,
          4.9637163926718735,
          4.995132319207771,
          5.026548245743669,
          5.057964172279568,
          5.089380098815465,
          5.120796025351363,
          5.152211951887261,
          5.1836278784231595,
          5.215043804959057,
          5.246459731494955,
          5.277875658030853,
          5.3092915845667505,
          5.340707511102649,
          5.372123437638547,
          5.403539364174445,
          5.4349552907103424,
          5.46637121724624,
          5.497787143782139,
          5.529203070318037,
          5.560618996853934,
          5.592034923389832,
          5.62345084992573,
          5.6548667764616285,
          5.686282702997526,
          5.717698629533424,
          5.749114556069322,
          5.7805304826052195,
          5.811946409141118,
          5.843362335677016,
          5.874778262212914,
          5.906194188748811,
          5.937610115284709,
          5.969026041820608,
          6.000441968356506,
          6.031857894892403,
          6.063273821428301,
          6.094689747964199,
          6.1261056745000975,
          6.157521601035995,
          6.188937527571893,
          6.220353454107791,
          6.2517693806436885
         ],
         "y": [
          3.0294425717447955,
          3.054945190016637,
          3.0765279563448695,
          3.094223981529839,
          3.108078984433228,
          3.1181508325963376,
          3.1245090279307464,
          3.1272341411479267,
          3.1264171989981135,
          3.122159028768838,
          3.1145695648446408,
          3.103767122446083,
          3.0898776439428746,
          3.0730339233673893,
          3.053374814935832,
          3.031044431510271,
          3.0061913390011314,
          2.9789677527129816,
          2.9495287415735176,
          2.918031446054328,
          2.884634315391245,
          2.84949636944161,
          2.812776490176773,
          2.7746327474027614,
          2.73522176283402,
          2.6946981161191714,
          2.65321379584018,
          2.6109176978845126,
          2.567955172932574,
          2.5244676241195174,
          2.480592155232277,
          2.4364612691006666,
          2.3922026151477387,
          2.3479387843915664,
          2.303787149550634,
          2.259859747310255,
          2.2162631992696196,
          2.1730986676190627,
          2.130461841204868,
          2.0884429473328665,
          2.0471267844492034,
          2.006592770722156,
          1.9669150035359355,
          1.928162324997154,
          1.8903983887459996,
          1.8536817236538718,
          1.8180657903718527,
          1.783599027162392,
          1.7503248819904669,
          1.7182818284590449,
          1.6875033638342103,
          1.6580179881037653,
          1.629849163734824,
          1.6030152565252629,
          1.577529458665538,
          1.5533996958257044,
          1.5306285207428505,
          1.509212996392446,
          1.489144572370745,
          1.4704089585829716,
          1.4529860007142852,
          1.436849562249707,
          1.4219674180000585,
          1.4083011641801098,
          1.39580615007154,
          1.384431436188136,
          1.3741197836469965,
          1.3648076791426735,
          1.356425399528016,
          1.3488971195345714,
          1.3421410656266215,
          1.3360697183871333,
          1.330590065192876,
          1.3256039042617942,
          1.321008200460925,
          1.3166954925599383,
          1.3125543509158537,
          1.3084698838900315,
          1.3043242906398635,
          1.2999974573044333,
          1.2953675930243942,
          1.2903119017089517,
          1.2847072849932442,
          1.2784310714225442,
          1.2713617665590964,
          1.2633798184353506,
          1.2543683925749125,
          1.2442141506695799,
          1.2328080269361903,
          1.2200459961785306,
          1.2058298276442274,
          1.190067818890665,
          1.1726755040532515,
          1.1535763311389602,
          1.1327023032429522,
          1.109994578900883,
          1.0854040271387095,
          1.0588917331600936,
          1.0304294510133323,
          0.9999999999999997,
          0.9675976020211275,
          0.9332281574989852,
          0.8969094579590341,
          0.8586713338032321,
          0.8185557362488981,
          0.776616752843478,
          0.7329205563917405,
          0.687545287545668,
          0.6405808717062623,
          0.59212877126879,
          0.5423016746070972,
          0.4912231235371114,
          0.4390270813236905,
          0.38585744359758234,
          0.33186749483006794,
          0.27721931327135463,
          0.22208312749485343,
          0.16663662790306594,
          0.11106423674191168,
          0.055556340339245835,
          0.00030848743018885294,
          -0.054479442442892045,
          -0.10860409636392754,
          -0.16185952713534724,
          -0.21403808979130817,
          -0.26493135125152617,
          -0.3143310088118381,
          -0.36202981316300276,
          -0.40782249164298745,
          -0.4515066674594001,
          -0.49288377066739525,
          -0.5317599367535977,
          -0.5679468887578888,
          -0.6012627989615567,
          -0.6315331262818737,
          -0.658591425638879,
          -0.6822801256994463,
          -0.7024512715559762,
          -0.7189672290615299,
          -0.7317013477193477,
          -0.7405385792116628,
          -0.7453760488499117,
          -0.7461235774350455,
          -0.7427041512319741,
          -0.7350543379854155,
          -0.7231246471348158,
          -0.7068798326227295,
          -0.6862991369333153,
          -0.6613764752445489,
          -0.6321205588285579,
          -0.5985549570882917,
          -0.5607180978746884,
          -0.5186632059857008,
          -0.4724581800062076,
          -0.4221854079049541,
          -0.3679415220605238,
          -0.3098370946419598,
          -0.2479962745202019,
          -0.1825563671332044,
          -0.11366735896945324,
          -0.041491388570945975,
          0.03379783381338086,
          0.1120156555701155,
          0.19296715749126653,
          0.2764478731972216,
          0.3622445492418754,
          0.4501359427428549,
          0.5398936532043965,
          0.6312829850368666,
          0.724063837125548,
          0.8179916156629671,
          0.912818166334378,
          1.0082927218354667,
          1.1041628606058511,
          1.2001754725817895,
          1.2960777277074773,
          1.3916180428969929,
          1.4865470431086876,
          1.5806185121815697,
          1.6735903290891432,
          1.765225385291037,
          1.8552924789070973,
          1.9435671815027418,
          2.0298326733590817,
          2.1138805432068057,
          2.1955115485296224,
          2.274536332691654,
          2.350776095313615,
          2.424063212515548,
          2.494241803859099,
          2.5611682430601492,
          2.6247116098029313,
          2.6847540802692356,
          2.7411912543008556,
          2.793932417439175,
          2.8429007364321888,
          2.888033387165195,
          2.9292816143555283,
          2.966610722752591
         ]
        }
       ],
       "frames": [],
       "layout": {
        "margin": {
         "b": 50,
         "l": 50,
         "r": 50,
         "t": 60
        },
        "template": {
         "data": {
          "bar": [
           {
            "error_x": {
             "color": "#2a3f5f"
            },
            "error_y": {
             "color": "#2a3f5f"
            },
            "marker": {
             "line": {
              "color": "#E5ECF6",
              "width": 0.5
             }
            },
            "type": "bar"
           }
          ],
          "barpolar": [
           {
            "marker": {
             "line": {
              "color": "#E5ECF6",
              "width": 0.5
             }
            },
            "type": "barpolar"
           }
          ],
          "carpet": [
           {
            "aaxis": {
             "endlinecolor": "#2a3f5f",
             "gridcolor": "white",
             "linecolor": "white",
             "minorgridcolor": "white",
             "startlinecolor": "#2a3f5f"
            },
            "baxis": {
             "endlinecolor": "#2a3f5f",
             "gridcolor": "white",
             "linecolor": "white",
             "minorgridcolor": "white",
             "startlinecolor": "#2a3f5f"
            },
            "type": "carpet"
           }
          ],
          "choropleth": [
           {
            "colorbar": {
             "outlinewidth": 0,
             "ticks": ""
            },
            "type": "choropleth"
           }
          ],
          "contour": [
           {
            "colorbar": {
             "outlinewidth": 0,
             "ticks": ""
            },
            "colorscale": [
             [
              0,
              "#0d0887"
             ],
             [
              0.1111111111111111,
              "#46039f"
             ],
             [
              0.2222222222222222,
              "#7201a8"
             ],
             [
              0.3333333333333333,
              "#9c179e"
             ],
             [
              0.4444444444444444,
              "#bd3786"
             ],
             [
              0.5555555555555556,
              "#d8576b"
             ],
             [
              0.6666666666666666,
              "#ed7953"
             ],
             [
              0.7777777777777778,
              "#fb9f3a"
             ],
             [
              0.8888888888888888,
              "#fdca26"
             ],
             [
              1,
              "#f0f921"
             ]
            ],
            "type": "contour"
           }
          ],
          "contourcarpet": [
           {
            "colorbar": {
             "outlinewidth": 0,
             "ticks": ""
            },
            "type": "contourcarpet"
           }
          ],
          "heatmap": [
           {
            "colorbar": {
             "outlinewidth": 0,
             "ticks": ""
            },
            "colorscale": [
             [
              0,
              "#0d0887"
             ],
             [
              0.1111111111111111,
              "#46039f"
             ],
             [
              0.2222222222222222,
              "#7201a8"
             ],
             [
              0.3333333333333333,
              "#9c179e"
             ],
             [
              0.4444444444444444,
              "#bd3786"
             ],
             [
              0.5555555555555556,
              "#d8576b"
             ],
             [
              0.6666666666666666,
              "#ed7953"
             ],
             [
              0.7777777777777778,
              "#fb9f3a"
             ],
             [
              0.8888888888888888,
              "#fdca26"
             ],
             [
              1,
              "#f0f921"
             ]
            ],
            "type": "heatmap"
           }
          ],
          "heatmapgl": [
           {
            "colorbar": {
             "outlinewidth": 0,
             "ticks": ""
            },
            "colorscale": [
             [
              0,
              "#0d0887"
             ],
             [
              0.1111111111111111,
              "#46039f"
             ],
             [
              0.2222222222222222,
              "#7201a8"
             ],
             [
              0.3333333333333333,
              "#9c179e"
             ],
             [
              0.4444444444444444,
              "#bd3786"
             ],
             [
              0.5555555555555556,
              "#d8576b"
             ],
             [
              0.6666666666666666,
              "#ed7953"
             ],
             [
              0.7777777777777778,
              "#fb9f3a"
             ],
             [
              0.8888888888888888,
              "#fdca26"
             ],
             [
              1,
              "#f0f921"
             ]
            ],
            "type": "heatmapgl"
           }
          ],
          "histogram": [
           {
            "marker": {
             "colorbar": {
              "outlinewidth": 0,
              "ticks": ""
             }
            },
            "type": "histogram"
           }
          ],
          "histogram2d": [
           {
            "colorbar": {
             "outlinewidth": 0,
             "ticks": ""
            },
            "colorscale": [
             [
              0,
              "#0d0887"
             ],
             [
              0.1111111111111111,
              "#46039f"
             ],
             [
              0.2222222222222222,
              "#7201a8"
             ],
             [
              0.3333333333333333,
              "#9c179e"
             ],
             [
              0.4444444444444444,
              "#bd3786"
             ],
             [
              0.5555555555555556,
              "#d8576b"
             ],
             [
              0.6666666666666666,
              "#ed7953"
             ],
             [
              0.7777777777777778,
              "#fb9f3a"
             ],
             [
              0.8888888888888888,
              "#fdca26"
             ],
             [
              1,
              "#f0f921"
             ]
            ],
            "type": "histogram2d"
           }
          ],
          "histogram2dcontour": [
           {
            "colorbar": {
             "outlinewidth": 0,
             "ticks": ""
            },
            "colorscale": [
             [
              0,
              "#0d0887"
             ],
             [
              0.1111111111111111,
              "#46039f"
             ],
             [
              0.2222222222222222,
              "#7201a8"
             ],
             [
              0.3333333333333333,
              "#9c179e"
             ],
             [
              0.4444444444444444,
              "#bd3786"
             ],
             [
              0.5555555555555556,
              "#d8576b"
             ],
             [
              0.6666666666666666,
              "#ed7953"
             ],
             [
              0.7777777777777778,
              "#fb9f3a"
             ],
             [
              0.8888888888888888,
              "#fdca26"
             ],
             [
              1,
              "#f0f921"
             ]
            ],
            "type": "histogram2dcontour"
           }
          ],
          "mesh3d": [
           {
            "colorbar": {
             "outlinewidth": 0,
             "ticks": ""
            },
            "type": "mesh3d"
           }
          ],
          "parcoords": [
           {
            "line": {
             "colorbar": {
              "outlinewidth": 0,
              "ticks": ""
             }
            },
            "type": "parcoords"
           }
          ],
          "pie": [
           {
            "automargin": true,
            "type": "pie"
           }
          ],
          "scatter": [
           {
            "marker": {
             "colorbar": {
              "outlinewidth": 0,
              "ticks": ""
             }
            },
            "type": "scatter"
           }
          ],
          "scatter3d": [
           {
            "line": {
             "colorbar": {
              "outlinewidth": 0,
              "ticks": ""
             }
            },
            "marker": {
             "colorbar": {
              "outlinewidth": 0,
              "ticks": ""
             }
            },
            "type": "scatter3d"
           }
          ],
          "scattercarpet": [
           {
            "marker": {
             "colorbar": {
              "outlinewidth": 0,
              "ticks": ""
             }
            },
            "type": "scattercarpet"
           }
          ],
          "scattergeo": [
           {
            "marker": {
             "colorbar": {
              "outlinewidth": 0,
              "ticks": ""
             }
            },
            "type": "scattergeo"
           }
          ],
          "scattergl": [
           {
            "marker": {
             "colorbar": {
              "outlinewidth": 0,
              "ticks": ""
             }
            },
            "type": "scattergl"
           }
          ],
          "scattermapbox": [
           {
            "marker": {
             "colorbar": {
              "outlinewidth": 0,
              "ticks": ""
             }
            },
            "type": "scattermapbox"
           }
          ],
          "scatterpolar": [
           {
            "marker": {
             "colorbar": {
              "outlinewidth": 0,
              "ticks": ""
             }
            },
            "type": "scatterpolar"
           }
          ],
          "scatterpolargl": [
           {
            "marker": {
             "colorbar": {
              "outlinewidth": 0,
              "ticks": ""
             }
            },
            "type": "scatterpolargl"
           }
          ],
          "scatterternary": [
           {
            "marker": {
             "colorbar": {
              "outlinewidth": 0,
              "ticks": ""
             }
            },
            "type": "scatterternary"
           }
          ],
          "surface": [
           {
            "colorbar": {
             "outlinewidth": 0,
             "ticks": ""
            },
            "colorscale": [
             [
              0,
              "#0d0887"
             ],
             [
              0.1111111111111111,
              "#46039f"
             ],
             [
              0.2222222222222222,
              "#7201a8"
             ],
             [
              0.3333333333333333,
              "#9c179e"
             ],
             [
              0.4444444444444444,
              "#bd3786"
             ],
             [
              0.5555555555555556,
              "#d8576b"
             ],
             [
              0.6666666666666666,
              "#ed7953"
             ],
             [
              0.7777777777777778,
              "#fb9f3a"
             ],
             [
              0.8888888888888888,
              "#fdca26"
             ],
             [
              1,
              "#f0f921"
             ]
            ],
            "type": "surface"
           }
          ],
          "table": [
           {
            "cells": {
             "fill": {
              "color": "#EBF0F8"
             },
             "line": {
              "color": "white"
             }
            },
            "header": {
             "fill": {
              "color": "#C8D4E3"
             },
             "line": {
              "color": "white"
             }
            },
            "type": "table"
           }
          ]
         },
         "layout": {
          "annotationdefaults": {
           "arrowcolor": "#2a3f5f",
           "arrowhead": 0,
           "arrowwidth": 1
          },
          "autotypenumbers": "strict",
          "coloraxis": {
           "colorbar": {
            "outlinewidth": 0,
            "ticks": ""
           }
          },
          "colorscale": {
           "diverging": [
            [
             0,
             "#8e0152"
            ],
            [
             0.1,
             "#c51b7d"
            ],
            [
             0.2,
             "#de77ae"
            ],
            [
             0.3,
             "#f1b6da"
            ],
            [
             0.4,
             "#fde0ef"
            ],
            [
             0.5,
             "#f7f7f7"
            ],
            [
             0.6,
             "#e6f5d0"
            ],
            [
             0.7,
             "#b8e186"
            ],
            [
             0.8,
             "#7fbc41"
            ],
            [
             0.9,
             "#4d9221"
            ],
            [
             1,
             "#276419"
            ]
           ],
           "sequential": [
            [
             0,
             "#0d0887"
            ],
            [
             0.1111111111111111,
             "#46039f"
            ],
            [
             0.2222222222222222,
             "#7201a8"
            ],
            [
             0.3333333333333333,
             "#9c179e"
            ],
            [
             0.4444444444444444,
             "#bd3786"
            ],
            [
             0.5555555555555556,
             "#d8576b"
            ],
            [
             0.6666666666666666,
             "#ed7953"
            ],
            [
             0.7777777777777778,
             "#fb9f3a"
            ],
            [
             0.8888888888888888,
             "#fdca26"
            ],
            [
             1,
             "#f0f921"
            ]
           ],
           "sequentialminus": [
            [
             0,
             "#0d0887"
            ],
            [
             0.1111111111111111,
             "#46039f"
            ],
            [
             0.2222222222222222,
             "#7201a8"
            ],
            [
             0.3333333333333333,
             "#9c179e"
            ],
            [
             0.4444444444444444,
             "#bd3786"
            ],
            [
             0.5555555555555556,
             "#d8576b"
            ],
            [
             0.6666666666666666,
             "#ed7953"
            ],
            [
             0.7777777777777778,
             "#fb9f3a"
            ],
            [
             0.8888888888888888,
             "#fdca26"
            ],
            [
             1,
             "#f0f921"
            ]
           ]
          },
          "colorway": [
           "#636efa",
           "#EF553B",
           "#00cc96",
           "#ab63fa",
           "#FFA15A",
           "#19d3f3",
           "#FF6692",
           "#B6E880",
           "#FF97FF",
           "#FECB52"
          ],
          "font": {
           "color": "#2a3f5f"
          },
          "geo": {
           "bgcolor": "white",
           "lakecolor": "white",
           "landcolor": "#E5ECF6",
           "showlakes": true,
           "showland": true,
           "subunitcolor": "white"
          },
          "hoverlabel": {
           "align": "left"
          },
          "hovermode": "closest",
          "mapbox": {
           "style": "light"
          },
          "paper_bgcolor": "white",
          "plot_bgcolor": "#E5ECF6",
          "polar": {
           "angularaxis": {
            "gridcolor": "white",
            "linecolor": "white",
            "ticks": ""
           },
           "bgcolor": "#E5ECF6",
           "radialaxis": {
            "gridcolor": "white",
            "linecolor": "white",
            "ticks": ""
           }
          },
          "scene": {
           "xaxis": {
            "backgroundcolor": "#E5ECF6",
            "gridcolor": "white",
            "gridwidth": 2,
            "linecolor": "white",
            "showbackground": true,
            "ticks": "",
            "zerolinecolor": "white"
           },
           "yaxis": {
            "backgroundcolor": "#E5ECF6",
            "gridcolor": "white",
            "gridwidth": 2,
            "linecolor": "white",
            "showbackground": true,
            "ticks": "",
            "zerolinecolor": "white"
           },
           "zaxis": {
            "backgroundcolor": "#E5ECF6",
            "gridcolor": "white",
            "gridwidth": 2,
            "linecolor": "white",
            "showbackground": true,
            "ticks": "",
            "zerolinecolor": "white"
           }
          },
          "shapedefaults": {
           "line": {
            "color": "#2a3f5f"
           }
          },
          "ternary": {
           "aaxis": {
            "gridcolor": "white",
            "linecolor": "white",
            "ticks": ""
           },
           "baxis": {
            "gridcolor": "white",
            "linecolor": "white",
            "ticks": ""
           },
           "bgcolor": "#E5ECF6",
           "caxis": {
            "gridcolor": "white",
            "linecolor": "white",
            "ticks": ""
           }
          },
          "title": {
           "x": 0.05
          },
          "xaxis": {
           "automargin": true,
           "gridcolor": "white",
           "linecolor": "white",
           "ticks": "",
           "title": {
            "standoff": 15
           },
           "zerolinecolor": "white",
           "zerolinewidth": 2
          },
          "yaxis": {
           "automargin": true,
           "gridcolor": "white",
           "linecolor": "white",
           "ticks": "",
           "title": {
            "standoff": 15
           },
           "zerolinecolor": "white",
           "zerolinewidth": 2
          }
         }
        },
        "xaxis": {
         "title": {
          "text": "x"
         }
        }
       }
      },
      "image/png": "[encoded data removed]",
      "text/html": [
       "<div\n",
       "    class=\"webio-mountpoint\"\n",
       "    data-webio-mountpoint=\"13701624907587029536\"\n",
       ">\n",
       "    <script>\n",
       "    (function(){\n",
       "    // Some integrations (namely, IJulia/Jupyter) use an alternate render pathway than\n",
       "    // just putting the html on the page. If WebIO isn't defined, then it's pretty likely\n",
       "    // that we're in one of those situations and the integration just isn't installed\n",
       "    // correctly.\n",
       "    if (typeof window.WebIO === \"undefined\") {\n",
       "        document\n",
       "            .querySelector('[data-webio-mountpoint=\"13701624907587029536\"]')\n",
       "            .innerHTML = (\n",
       "                '<div style=\"padding: 1em; background-color: #f8d6da; border: 1px solid #f5c6cb; font-weight: bold;\">' +\n",
       "                '<p><strong>WebIO not detected.</strong></p>' +\n",
       "                '<p>Please read ' +\n",
       "                '<a href=\"https://juliagizmos.github.io/WebIO.jl/latest/troubleshooting/not-detected/\" target=\"_blank\">the troubleshooting guide</a> ' +\n",
       "                'for more information on how to resolve this issue.</p>' +\n",
       "                '<p><a href=\"https://juliagizmos.github.io/WebIO.jl/latest/troubleshooting/not-detected/\" target=\"_blank\">https://juliagizmos.github.io/WebIO.jl/latest/troubleshooting/not-detected/</a></p>' +\n",
       "                '</div>'\n",
       "            );\n",
       "        return;\n",
       "    }\n",
       "    WebIO.mount(\n",
       "        document.querySelector('[data-webio-mountpoint=\"13701624907587029536\"]'),\n",
       "        {\"props\":{},\"nodeType\":\"Scope\",\"type\":\"node\",\"instanceArgs\":{\"imports\":{\"data\":[{\"name\":\"Plotly\",\"type\":\"js\",\"url\":\"\\/assetserver\\/d6feb8d8ce4676ebdde817a0745950a35b4ba3ae-plotly.min.js\"},{\"name\":null,\"type\":\"js\",\"url\":\"\\/assetserver\\/517030b23c1c21e94bf622985d97a74a9582e066-plotly_webio.bundle.js\"}],\"type\":\"async_block\"},\"id\":\"13460145676894428618\",\"handlers\":{\"_toImage\":[\"(function (options){return this.Plotly.toImage(this.plotElem,options).then((function (data){return WebIO.setval({\\\"name\\\":\\\"image\\\",\\\"scope\\\":\\\"13460145676894428618\\\",\\\"id\\\":\\\"305\\\",\\\"type\\\":\\\"observable\\\"},data)}))})\"],\"__get_gd_contents\":[\"(function (prop){prop==\\\"data\\\" ? (WebIO.setval({\\\"name\\\":\\\"__gd_contents\\\",\\\"scope\\\":\\\"13460145676894428618\\\",\\\"id\\\":\\\"306\\\",\\\"type\\\":\\\"observable\\\"},this.plotElem.data)) : undefined; return prop==\\\"layout\\\" ? (WebIO.setval({\\\"name\\\":\\\"__gd_contents\\\",\\\"scope\\\":\\\"13460145676894428618\\\",\\\"id\\\":\\\"306\\\",\\\"type\\\":\\\"observable\\\"},this.plotElem.layout)) : undefined})\"],\"_downloadImage\":[\"(function (options){return this.Plotly.downloadImage(this.plotElem,options)})\"],\"_commands\":[\"(function (args){var fn=args.shift(); var elem=this.plotElem; var Plotly=this.Plotly; args.unshift(elem); return Plotly[fn].apply(this,args)})\"]},\"systemjs_options\":null,\"mount_callbacks\":[\"function () {\\n    var handler = ((function (Plotly,PlotlyWebIO){PlotlyWebIO.init(WebIO); var gd=this.dom.querySelector(\\\"#plot-feb5d928-7105-49f3-8da4-25fe73d6cf6d\\\"); this.plotElem=gd; this.Plotly=Plotly; (window.Blink!==undefined) ? (gd.style.width=\\\"100%\\\", gd.style.height=\\\"100vh\\\", gd.style.marginLeft=\\\"0%\\\", gd.style.marginTop=\\\"0vh\\\") : undefined; window.onresize=(function (){return Plotly.Plots.resize(gd)}); Plotly.newPlot(gd,[{\\\"mode\\\":\\\"markers+lines\\\",\\\"y\\\":[0.0,0.15825435545348773,0.3138068476061609,0.4663155596356077,0.6157969010092746,0.7622209614433687,0.9055796994464265,1.045860137305684,1.1830578106591212,1.317168846889077,1.448194848086761,1.5761394336059449,1.7010105086021166,1.8228184017894868,1.9415770614338619,2.0573029012735295,2.1700154726355403,2.2797366712480516,2.3864911223643324,2.490305590705492,2.591209195593659,2.6892329447473657,2.7844098433828286,2.8767745090885235,2.9663632127709154,3.0532135503088726,3.1373644392542634,3.2188558329055286,3.297728688628573,3.374024715565732,3.4477863254946635,3.5190564085994347,3.5878782745569073,3.654295452665035,3.718351628629081,3.7800904664282684,3.8395555446889005,3.896790198297785,3.9518374570865125,4.004739905564352,4.055539625778591,4.104278073763395,4.150996027814574,4.195733480411713,4.238529592706992,4.279422600823462,4.318449777074112,4.35564734969625,4.391050471161677,4.424693150586933,4.4566082294422635,4.486827326079519,4.515380819170112,4.542297804007618,4.567606084075851,4.591332138996698,4.613501124721364,4.63413685318764,4.653261801713764,4.67089710458426,4.6870625722827945,4.701776695324514,4.715056673971705,4.726918434659283,4.7373766707800975,4.746444871999711,4.754135376568217,4.760459413687386,4.765427167600761,4.769047832963296,4.771329690685787,4.772280175973121,4.771905965562972,4.7702130577576565,4.7672068703160315,4.76289233142365,4.757273987089801,4.7503561016022,4.7421427728692525,4.73263804051088,4.721846007191089,4.709770952127572,4.696417456102472,4.681790517850313,4.6658956801340405,4.648739146211173,4.630327904133361,4.610669840308184,4.589773859035299,4.567649990085774,4.544309500433782,4.519764992772154,4.494030506438584,4.467121603876302,4.439055457886885,4.409850923225696,4.37952860753492,4.348110925528377,4.315622151260372,4.282088452694476,4.2475379233358455,4.212000595382177,4.175508449177057,4.138095403595695,4.099797302251189,4.06065188025906,4.020698726633125,3.979979227087299,3.938536502579034,3.8964153283304723,3.853662049001605,3.810324474632425,3.766451773442333,3.7220943458980833,3.6773036966287482,3.632132288299861,3.586633394593878,3.5408609360090857,3.4948693162748645,3.448713242586023,3.402447548192484,3.356126999918666,3.30980610998213,3.263538933927651,3.217378874983954,3.171378475758883,3.1255892186340613,3.080061314717984,3.0348435039030552,2.9899828446557355,2.9455245174180202,2.901511618827361,2.8579849721354873,2.8149829293962787,2.772541192500383,2.730692626748044,2.6894670959607434,2.64889129067083,2.608988580574962,2.5697788603265397,2.531278422344659,2.49349982289306,2.456451777957991,2.420139051943481,2.3845623789883685,2.3497183762074814,2.31559949243921,2.2821939475215194,2.2494857100547136,2.217454463725997,2.186075615246313,2.155320288233412,2.125155362046279,2.09554349321015,2.066443185437471,2.0378088380342443,2.0095908469739965,1.9817356791675542,1.9541860040587997,1.9268807920721938,1.8997554758404551,1.8727420705663782,1.8457693636897703,1.8187630543093327,1.7916459698695473,1.7643382211766037,1.7367574445612461,1.70881896837393,1.6804360790916355,1.651520194463499,1.6219811522268968,1.5917273842483481,1.5606662269686569,1.5287040898658562,1.4957467875722936,1.461699694644106,1.4264681006650706,1.3899573414139759,1.352073180495707,1.3127219041551512,1.2718107365950544,1.2292478811639418,1.184942982536726,1.138807089406824,1.0907531870953788,1.040696043362218,0.9885528539292489,0.9342429073793865,0.8776884230091502,0.8188139181525963,0.757547396654586,0.6938191824473964,0.6275638067995714,0.55871776051668,0.4872229681926649,0.4130219184767326,0.336065595725544,0.2563000377029276,0.17369314552284665,0.08816649814118918],\\\"type\\\":\\\"scatter\\\",\\\"name\\\":\\\"u_dst\\\",\\\"x\\\":[0.0,0.031415926535897934,0.06283185307179587,0.0942477796076938,0.12566370614359174,0.15707963267948966,0.1884955592153876,0.21991148575128555,0.25132741228718347,0.2827433388230814,0.3141592653589793,0.3455751918948773,0.3769911184307752,0.4084070449666731,0.4398229715025711,0.471238898038469,0.5026548245743669,0.5340707511102649,0.5654866776461628,0.5969026041820608,0.6283185307179586,0.6597344572538566,0.6911503837897546,0.7225663103256524,0.7539822368615504,0.7853981633974484,0.8168140899333463,0.8482300164692442,0.8796459430051422,0.9110618695410401,0.942477796076938,0.9738937226128359,1.0053096491487339,1.0367255756846319,1.0681415022205298,1.0995574287564276,1.1309733552923256,1.1623892818282235,1.1938052083641215,1.2252211349000195,1.2566370614359172,1.2880529879718152,1.3194689145077132,1.3508848410436112,1.3823007675795091,1.4137166941154071,1.4451326206513049,1.4765485471872029,1.5079644737231008,1.5393804002589988,1.5707963267948968,1.6022122533307945,1.6336281798666925,1.6650441064025905,1.6964600329384885,1.7278759594743864,1.7592918860102844,1.7907078125461822,1.8221237390820801,1.8535396656179781,1.884955592153876,1.916371518689774,1.9477874452256718,1.9792033717615698,2.0106192982974678,2.0420352248333655,2.0734511513692637,2.1048670779051615,2.1362830044410597,2.1676989309769574,2.199114857512855,2.2305307840487534,2.261946710584651,2.2933626371205493,2.324778563656447,2.356194490192345,2.387610416728243,2.419026343264141,2.450442269800039,2.4818581963359367,2.5132741228718345,2.5446900494077327,2.5761059759436304,2.6075219024795286,2.6389378290154264,2.6703537555513246,2.7017696820872223,2.73318560862312,2.7646015351590183,2.796017461694916,2.8274333882308142,2.858849314766712,2.8902652413026098,2.921681167838508,2.9530970943744057,2.984513020910304,3.0159289474462017,3.0473448739820994,3.0787608005179976,3.1101767270538954,3.1415926535897936,3.1730085801256913,3.204424506661589,3.2358404331974873,3.267256359733385,3.298672286269283,3.330088212805181,3.3615041393410787,3.392920065876977,3.4243359924128747,3.455751918948773,3.4871678454846706,3.518583772020569,3.5499996985564666,3.5814156250923643,3.6128315516282625,3.6442474781641603,3.6756634047000585,3.7070793312359562,3.738495257771854,3.769911184307752,3.80132711084365,3.832743037379548,3.864158963915446,3.8955748904513436,3.926990816987242,3.9584067435231396,3.989822670059038,4.0212385965949355,4.052654523130833,4.084070449666731,4.11548637620263,4.1469023027385274,4.178318229274425,4.209734155810323,4.241150082346221,4.272566008882119,4.303981935418017,4.335397861953915,4.366813788489813,4.39822971502571,4.429645641561609,4.461061568097507,4.4924774946334045,4.523893421169302,4.5553093477052,4.586725274241099,4.618141200776996,4.649557127312894,4.680973053848792,4.71238898038469,4.743804906920588,4.775220833456486,4.806636759992384,4.838052686528282,4.869468613064179,4.900884539600078,4.932300466135976,4.9637163926718735,4.995132319207771,5.026548245743669,5.057964172279568,5.089380098815465,5.120796025351363,5.152211951887261,5.1836278784231595,5.215043804959057,5.246459731494955,5.277875658030853,5.3092915845667505,5.340707511102649,5.372123437638547,5.403539364174445,5.4349552907103424,5.46637121724624,5.497787143782139,5.529203070318037,5.560618996853934,5.592034923389832,5.62345084992573,5.6548667764616285,5.686282702997526,5.717698629533424,5.749114556069322,5.7805304826052195,5.811946409141118,5.843362335677016,5.874778262212914,5.906194188748811,5.937610115284709,5.969026041820608,6.000441968356506,6.031857894892403,6.063273821428301,6.094689747964199,6.1261056745000975,6.157521601035995,6.188937527571893,6.220353454107791,6.2517693806436885]},{\\\"mode\\\":\\\"markers+lines\\\",\\\"y\\\":[3.0294425717447955,3.054945190016637,3.0765279563448695,3.094223981529839,3.108078984433228,3.1181508325963376,3.1245090279307464,3.1272341411479267,3.1264171989981135,3.122159028768838,3.1145695648446408,3.103767122446083,3.0898776439428746,3.0730339233673893,3.053374814935832,3.031044431510271,3.0061913390011314,2.9789677527129816,2.9495287415735176,2.918031446054328,2.884634315391245,2.84949636944161,2.812776490176773,2.7746327474027614,2.73522176283402,2.6946981161191714,2.65321379584018,2.6109176978845126,2.567955172932574,2.5244676241195174,2.480592155232277,2.4364612691006666,2.3922026151477387,2.3479387843915664,2.303787149550634,2.259859747310255,2.2162631992696196,2.1730986676190627,2.130461841204868,2.0884429473328665,2.0471267844492034,2.006592770722156,1.9669150035359355,1.928162324997154,1.8903983887459996,1.8536817236538718,1.8180657903718527,1.783599027162392,1.7503248819904669,1.7182818284590449,1.6875033638342103,1.6580179881037653,1.629849163734824,1.6030152565252629,1.577529458665538,1.5533996958257044,1.5306285207428505,1.509212996392446,1.489144572370745,1.4704089585829716,1.4529860007142852,1.436849562249707,1.4219674180000585,1.4083011641801098,1.39580615007154,1.384431436188136,1.3741197836469965,1.3648076791426735,1.356425399528016,1.3488971195345714,1.3421410656266215,1.3360697183871333,1.330590065192876,1.3256039042617942,1.321008200460925,1.3166954925599383,1.3125543509158537,1.3084698838900315,1.3043242906398635,1.2999974573044333,1.2953675930243942,1.2903119017089517,1.2847072849932442,1.2784310714225442,1.2713617665590964,1.2633798184353506,1.2543683925749125,1.2442141506695799,1.2328080269361903,1.2200459961785306,1.2058298276442274,1.190067818890665,1.1726755040532515,1.1535763311389602,1.1327023032429522,1.109994578900883,1.0854040271387095,1.0588917331600936,1.0304294510133323,0.9999999999999997,0.9675976020211275,0.9332281574989852,0.8969094579590341,0.8586713338032321,0.8185557362488981,0.776616752843478,0.7329205563917405,0.687545287545668,0.6405808717062623,0.59212877126879,0.5423016746070972,0.4912231235371114,0.4390270813236905,0.38585744359758234,0.33186749483006794,0.27721931327135463,0.22208312749485343,0.16663662790306594,0.11106423674191168,0.055556340339245835,0.00030848743018885294,-0.054479442442892045,-0.10860409636392754,-0.16185952713534724,-0.21403808979130817,-0.26493135125152617,-0.3143310088118381,-0.36202981316300276,-0.40782249164298745,-0.4515066674594001,-0.49288377066739525,-0.5317599367535977,-0.5679468887578888,-0.6012627989615567,-0.6315331262818737,-0.658591425638879,-0.6822801256994463,-0.7024512715559762,-0.7189672290615299,-0.7317013477193477,-0.7405385792116628,-0.7453760488499117,-0.7461235774350455,-0.7427041512319741,-0.7350543379854155,-0.7231246471348158,-0.7068798326227295,-0.6862991369333153,-0.6613764752445489,-0.6321205588285579,-0.5985549570882917,-0.5607180978746884,-0.5186632059857008,-0.4724581800062076,-0.4221854079049541,-0.3679415220605238,-0.3098370946419598,-0.2479962745202019,-0.1825563671332044,-0.11366735896945324,-0.041491388570945975,0.03379783381338086,0.1120156555701155,0.19296715749126653,0.2764478731972216,0.3622445492418754,0.4501359427428549,0.5398936532043965,0.6312829850368666,0.724063837125548,0.8179916156629671,0.912818166334378,1.0082927218354667,1.1041628606058511,1.2001754725817895,1.2960777277074773,1.3916180428969929,1.4865470431086876,1.5806185121815697,1.6735903290891432,1.765225385291037,1.8552924789070973,1.9435671815027418,2.0298326733590817,2.1138805432068057,2.1955115485296224,2.274536332691654,2.350776095313615,2.424063212515548,2.494241803859099,2.5611682430601492,2.6247116098029313,2.6847540802692356,2.7411912543008556,2.793932417439175,2.8429007364321888,2.888033387165195,2.9292816143555283,2.966610722752591],\\\"type\\\":\\\"scatter\\\",\\\"name\\\":\\\"f(x)\\\",\\\"x\\\":[0.031415926535897934,0.06283185307179587,0.0942477796076938,0.12566370614359174,0.15707963267948966,0.1884955592153876,0.21991148575128555,0.25132741228718347,0.2827433388230814,0.3141592653589793,0.3455751918948773,0.3769911184307752,0.4084070449666731,0.4398229715025711,0.471238898038469,0.5026548245743669,0.5340707511102649,0.5654866776461628,0.5969026041820608,0.6283185307179586,0.6597344572538566,0.6911503837897546,0.7225663103256524,0.7539822368615504,0.7853981633974484,0.8168140899333463,0.8482300164692442,0.8796459430051422,0.9110618695410401,0.942477796076938,0.9738937226128359,1.0053096491487339,1.0367255756846319,1.0681415022205298,1.0995574287564276,1.1309733552923256,1.1623892818282235,1.1938052083641215,1.2252211349000195,1.2566370614359172,1.2880529879718152,1.3194689145077132,1.3508848410436112,1.3823007675795091,1.4137166941154071,1.4451326206513049,1.4765485471872029,1.5079644737231008,1.5393804002589988,1.5707963267948968,1.6022122533307945,1.6336281798666925,1.6650441064025905,1.6964600329384885,1.7278759594743864,1.7592918860102844,1.7907078125461822,1.8221237390820801,1.8535396656179781,1.884955592153876,1.916371518689774,1.9477874452256718,1.9792033717615698,2.0106192982974678,2.0420352248333655,2.0734511513692637,2.1048670779051615,2.1362830044410597,2.1676989309769574,2.199114857512855,2.2305307840487534,2.261946710584651,2.2933626371205493,2.324778563656447,2.356194490192345,2.387610416728243,2.419026343264141,2.450442269800039,2.4818581963359367,2.5132741228718345,2.5446900494077327,2.5761059759436304,2.6075219024795286,2.6389378290154264,2.6703537555513246,2.7017696820872223,2.73318560862312,2.7646015351590183,2.796017461694916,2.8274333882308142,2.858849314766712,2.8902652413026098,2.921681167838508,2.9530970943744057,2.984513020910304,3.0159289474462017,3.0473448739820994,3.0787608005179976,3.1101767270538954,3.1415926535897936,3.1730085801256913,3.204424506661589,3.2358404331974873,3.267256359733385,3.298672286269283,3.330088212805181,3.3615041393410787,3.392920065876977,3.4243359924128747,3.455751918948773,3.4871678454846706,3.518583772020569,3.5499996985564666,3.5814156250923643,3.6128315516282625,3.6442474781641603,3.6756634047000585,3.7070793312359562,3.738495257771854,3.769911184307752,3.80132711084365,3.832743037379548,3.864158963915446,3.8955748904513436,3.926990816987242,3.9584067435231396,3.989822670059038,4.0212385965949355,4.052654523130833,4.084070449666731,4.11548637620263,4.1469023027385274,4.178318229274425,4.209734155810323,4.241150082346221,4.272566008882119,4.303981935418017,4.335397861953915,4.366813788489813,4.39822971502571,4.429645641561609,4.461061568097507,4.4924774946334045,4.523893421169302,4.5553093477052,4.586725274241099,4.618141200776996,4.649557127312894,4.680973053848792,4.71238898038469,4.743804906920588,4.775220833456486,4.806636759992384,4.838052686528282,4.869468613064179,4.900884539600078,4.932300466135976,4.9637163926718735,4.995132319207771,5.026548245743669,5.057964172279568,5.089380098815465,5.120796025351363,5.152211951887261,5.1836278784231595,5.215043804959057,5.246459731494955,5.277875658030853,5.3092915845667505,5.340707511102649,5.372123437638547,5.403539364174445,5.4349552907103424,5.46637121724624,5.497787143782139,5.529203070318037,5.560618996853934,5.592034923389832,5.62345084992573,5.6548667764616285,5.686282702997526,5.717698629533424,5.749114556069322,5.7805304826052195,5.811946409141118,5.843362335677016,5.874778262212914,5.906194188748811,5.937610115284709,5.969026041820608,6.000441968356506,6.031857894892403,6.063273821428301,6.094689747964199,6.1261056745000975,6.157521601035995,6.188937527571893,6.220353454107791,6.2517693806436885]}],{\\\"xaxis\\\":{\\\"title\\\":{\\\"text\\\":\\\"x\\\"}},\\\"template\\\":{\\\"layout\\\":{\\\"coloraxis\\\":{\\\"colorbar\\\":{\\\"ticks\\\":\\\"\\\",\\\"outlinewidth\\\":0}},\\\"xaxis\\\":{\\\"gridcolor\\\":\\\"white\\\",\\\"zerolinewidth\\\":2,\\\"title\\\":{\\\"standoff\\\":15},\\\"ticks\\\":\\\"\\\",\\\"zerolinecolor\\\":\\\"white\\\",\\\"automargin\\\":true,\\\"linecolor\\\":\\\"white\\\"},\\\"hovermode\\\":\\\"closest\\\",\\\"paper_bgcolor\\\":\\\"white\\\",\\\"geo\\\":{\\\"showlakes\\\":true,\\\"showland\\\":true,\\\"landcolor\\\":\\\"#E5ECF6\\\",\\\"bgcolor\\\":\\\"white\\\",\\\"subunitcolor\\\":\\\"white\\\",\\\"lakecolor\\\":\\\"white\\\"},\\\"colorscale\\\":{\\\"sequential\\\":[[0.0,\\\"#0d0887\\\"],[0.1111111111111111,\\\"#46039f\\\"],[0.2222222222222222,\\\"#7201a8\\\"],[0.3333333333333333,\\\"#9c179e\\\"],[0.4444444444444444,\\\"#bd3786\\\"],[0.5555555555555556,\\\"#d8576b\\\"],[0.6666666666666666,\\\"#ed7953\\\"],[0.7777777777777778,\\\"#fb9f3a\\\"],[0.8888888888888888,\\\"#fdca26\\\"],[1.0,\\\"#f0f921\\\"]],\\\"diverging\\\":[[0,\\\"#8e0152\\\"],[0.1,\\\"#c51b7d\\\"],[0.2,\\\"#de77ae\\\"],[0.3,\\\"#f1b6da\\\"],[0.4,\\\"#fde0ef\\\"],[0.5,\\\"#f7f7f7\\\"],[0.6,\\\"#e6f5d0\\\"],[0.7,\\\"#b8e186\\\"],[0.8,\\\"#7fbc41\\\"],[0.9,\\\"#4d9221\\\"],[1,\\\"#276419\\\"]],\\\"sequentialminus\\\":[[0.0,\\\"#0d0887\\\"],[0.1111111111111111,\\\"#46039f\\\"],[0.2222222222222222,\\\"#7201a8\\\"],[0.3333333333333333,\\\"#9c179e\\\"],[0.4444444444444444,\\\"#bd3786\\\"],[0.5555555555555556,\\\"#d8576b\\\"],[0.6666666666666666,\\\"#ed7953\\\"],[0.7777777777777778,\\\"#fb9f3a\\\"],[0.8888888888888888,\\\"#fdca26\\\"],[1.0,\\\"#f0f921\\\"]]},\\\"yaxis\\\":{\\\"gridcolor\\\":\\\"white\\\",\\\"zerolinewidth\\\":2,\\\"title\\\":{\\\"standoff\\\":15},\\\"ticks\\\":\\\"\\\",\\\"zerolinecolor\\\":\\\"white\\\",\\\"automargin\\\":true,\\\"linecolor\\\":\\\"white\\\"},\\\"shapedefaults\\\":{\\\"line\\\":{\\\"color\\\":\\\"#2a3f5f\\\"}},\\\"hoverlabel\\\":{\\\"align\\\":\\\"left\\\"},\\\"mapbox\\\":{\\\"style\\\":\\\"light\\\"},\\\"polar\\\":{\\\"angularaxis\\\":{\\\"gridcolor\\\":\\\"white\\\",\\\"ticks\\\":\\\"\\\",\\\"linecolor\\\":\\\"white\\\"},\\\"bgcolor\\\":\\\"#E5ECF6\\\",\\\"radialaxis\\\":{\\\"gridcolor\\\":\\\"white\\\",\\\"ticks\\\":\\\"\\\",\\\"linecolor\\\":\\\"white\\\"}},\\\"autotypenumbers\\\":\\\"strict\\\",\\\"font\\\":{\\\"color\\\":\\\"#2a3f5f\\\"},\\\"ternary\\\":{\\\"baxis\\\":{\\\"gridcolor\\\":\\\"white\\\",\\\"ticks\\\":\\\"\\\",\\\"linecolor\\\":\\\"white\\\"},\\\"bgcolor\\\":\\\"#E5ECF6\\\",\\\"caxis\\\":{\\\"gridcolor\\\":\\\"white\\\",\\\"ticks\\\":\\\"\\\",\\\"linecolor\\\":\\\"white\\\"},\\\"aaxis\\\":{\\\"gridcolor\\\":\\\"white\\\",\\\"ticks\\\":\\\"\\\",\\\"linecolor\\\":\\\"white\\\"}},\\\"annotationdefaults\\\":{\\\"arrowhead\\\":0,\\\"arrowwidth\\\":1,\\\"arrowcolor\\\":\\\"#2a3f5f\\\"},\\\"plot_bgcolor\\\":\\\"#E5ECF6\\\",\\\"title\\\":{\\\"x\\\":0.05},\\\"scene\\\":{\\\"xaxis\\\":{\\\"gridcolor\\\":\\\"white\\\",\\\"gridwidth\\\":2,\\\"backgroundcolor\\\":\\\"#E5ECF6\\\",\\\"ticks\\\":\\\"\\\",\\\"showbackground\\\":true,\\\"zerolinecolor\\\":\\\"white\\\",\\\"linecolor\\\":\\\"white\\\"},\\\"zaxis\\\":{\\\"gridcolor\\\":\\\"white\\\",\\\"gridwidth\\\":2,\\\"backgroundcolor\\\":\\\"#E5ECF6\\\",\\\"ticks\\\":\\\"\\\",\\\"showbackground\\\":true,\\\"zerolinecolor\\\":\\\"white\\\",\\\"linecolor\\\":\\\"white\\\"},\\\"yaxis\\\":{\\\"gridcolor\\\":\\\"white\\\",\\\"gridwidth\\\":2,\\\"backgroundcolor\\\":\\\"#E5ECF6\\\",\\\"ticks\\\":\\\"\\\",\\\"showbackground\\\":true,\\\"zerolinecolor\\\":\\\"white\\\",\\\"linecolor\\\":\\\"white\\\"}},\\\"colorway\\\":[\\\"#636efa\\\",\\\"#EF553B\\\",\\\"#00cc96\\\",\\\"#ab63fa\\\",\\\"#FFA15A\\\",\\\"#19d3f3\\\",\\\"#FF6692\\\",\\\"#B6E880\\\",\\\"#FF97FF\\\",\\\"#FECB52\\\"]},\\\"data\\\":{\\\"barpolar\\\":[{\\\"type\\\":\\\"barpolar\\\",\\\"marker\\\":{\\\"line\\\":{\\\"color\\\":\\\"#E5ECF6\\\",\\\"width\\\":0.5}}}],\\\"carpet\\\":[{\\\"aaxis\\\":{\\\"gridcolor\\\":\\\"white\\\",\\\"endlinecolor\\\":\\\"#2a3f5f\\\",\\\"minorgridcolor\\\":\\\"white\\\",\\\"startlinecolor\\\":\\\"#2a3f5f\\\",\\\"linecolor\\\":\\\"white\\\"},\\\"type\\\":\\\"carpet\\\",\\\"baxis\\\":{\\\"gridcolor\\\":\\\"white\\\",\\\"endlinecolor\\\":\\\"#2a3f5f\\\",\\\"minorgridcolor\\\":\\\"white\\\",\\\"startlinecolor\\\":\\\"#2a3f5f\\\",\\\"linecolor\\\":\\\"white\\\"}}],\\\"scatterpolar\\\":[{\\\"type\\\":\\\"scatterpolar\\\",\\\"marker\\\":{\\\"colorbar\\\":{\\\"ticks\\\":\\\"\\\",\\\"outlinewidth\\\":0}}}],\\\"parcoords\\\":[{\\\"line\\\":{\\\"colorbar\\\":{\\\"ticks\\\":\\\"\\\",\\\"outlinewidth\\\":0}},\\\"type\\\":\\\"parcoords\\\"}],\\\"scatter\\\":[{\\\"type\\\":\\\"scatter\\\",\\\"marker\\\":{\\\"colorbar\\\":{\\\"ticks\\\":\\\"\\\",\\\"outlinewidth\\\":0}}}],\\\"histogram2dcontour\\\":[{\\\"colorbar\\\":{\\\"ticks\\\":\\\"\\\",\\\"outlinewidth\\\":0},\\\"type\\\":\\\"histogram2dcontour\\\",\\\"colorscale\\\":[[0.0,\\\"#0d0887\\\"],[0.1111111111111111,\\\"#46039f\\\"],[0.2222222222222222,\\\"#7201a8\\\"],[0.3333333333333333,\\\"#9c179e\\\"],[0.4444444444444444,\\\"#bd3786\\\"],[0.5555555555555556,\\\"#d8576b\\\"],[0.6666666666666666,\\\"#ed7953\\\"],[0.7777777777777778,\\\"#fb9f3a\\\"],[0.8888888888888888,\\\"#fdca26\\\"],[1.0,\\\"#f0f921\\\"]]}],\\\"contour\\\":[{\\\"colorbar\\\":{\\\"ticks\\\":\\\"\\\",\\\"outlinewidth\\\":0},\\\"type\\\":\\\"contour\\\",\\\"colorscale\\\":[[0.0,\\\"#0d0887\\\"],[0.1111111111111111,\\\"#46039f\\\"],[0.2222222222222222,\\\"#7201a8\\\"],[0.3333333333333333,\\\"#9c179e\\\"],[0.4444444444444444,\\\"#bd3786\\\"],[0.5555555555555556,\\\"#d8576b\\\"],[0.6666666666666666,\\\"#ed7953\\\"],[0.7777777777777778,\\\"#fb9f3a\\\"],[0.8888888888888888,\\\"#fdca26\\\"],[1.0,\\\"#f0f921\\\"]]}],\\\"scattercarpet\\\":[{\\\"type\\\":\\\"scattercarpet\\\",\\\"marker\\\":{\\\"colorbar\\\":{\\\"ticks\\\":\\\"\\\",\\\"outlinewidth\\\":0}}}],\\\"mesh3d\\\":[{\\\"colorbar\\\":{\\\"ticks\\\":\\\"\\\",\\\"outlinewidth\\\":0},\\\"type\\\":\\\"mesh3d\\\"}],\\\"surface\\\":[{\\\"colorbar\\\":{\\\"ticks\\\":\\\"\\\",\\\"outlinewidth\\\":0},\\\"type\\\":\\\"surface\\\",\\\"colorscale\\\":[[0.0,\\\"#0d0887\\\"],[0.1111111111111111,\\\"#46039f\\\"],[0.2222222222222222,\\\"#7201a8\\\"],[0.3333333333333333,\\\"#9c179e\\\"],[0.4444444444444444,\\\"#bd3786\\\"],[0.5555555555555556,\\\"#d8576b\\\"],[0.6666666666666666,\\\"#ed7953\\\"],[0.7777777777777778,\\\"#fb9f3a\\\"],[0.8888888888888888,\\\"#fdca26\\\"],[1.0,\\\"#f0f921\\\"]]}],\\\"scattermapbox\\\":[{\\\"type\\\":\\\"scattermapbox\\\",\\\"marker\\\":{\\\"colorbar\\\":{\\\"ticks\\\":\\\"\\\",\\\"outlinewidth\\\":0}}}],\\\"scattergeo\\\":[{\\\"type\\\":\\\"scattergeo\\\",\\\"marker\\\":{\\\"colorbar\\\":{\\\"ticks\\\":\\\"\\\",\\\"outlinewidth\\\":0}}}],\\\"histogram\\\":[{\\\"type\\\":\\\"histogram\\\",\\\"marker\\\":{\\\"colorbar\\\":{\\\"ticks\\\":\\\"\\\",\\\"outlinewidth\\\":0}}}],\\\"pie\\\":[{\\\"type\\\":\\\"pie\\\",\\\"automargin\\\":true}],\\\"choropleth\\\":[{\\\"colorbar\\\":{\\\"ticks\\\":\\\"\\\",\\\"outlinewidth\\\":0},\\\"type\\\":\\\"choropleth\\\"}],\\\"heatmapgl\\\":[{\\\"colorbar\\\":{\\\"ticks\\\":\\\"\\\",\\\"outlinewidth\\\":0},\\\"type\\\":\\\"heatmapgl\\\",\\\"colorscale\\\":[[0.0,\\\"#0d0887\\\"],[0.1111111111111111,\\\"#46039f\\\"],[0.2222222222222222,\\\"#7201a8\\\"],[0.3333333333333333,\\\"#9c179e\\\"],[0.4444444444444444,\\\"#bd3786\\\"],[0.5555555555555556,\\\"#d8576b\\\"],[0.6666666666666666,\\\"#ed7953\\\"],[0.7777777777777778,\\\"#fb9f3a\\\"],[0.8888888888888888,\\\"#fdca26\\\"],[1.0,\\\"#f0f921\\\"]]}],\\\"bar\\\":[{\\\"type\\\":\\\"bar\\\",\\\"error_y\\\":{\\\"color\\\":\\\"#2a3f5f\\\"},\\\"error_x\\\":{\\\"color\\\":\\\"#2a3f5f\\\"},\\\"marker\\\":{\\\"line\\\":{\\\"color\\\":\\\"#E5ECF6\\\",\\\"width\\\":0.5}}}],\\\"heatmap\\\":[{\\\"colorbar\\\":{\\\"ticks\\\":\\\"\\\",\\\"outlinewidth\\\":0},\\\"type\\\":\\\"heatmap\\\",\\\"colorscale\\\":[[0.0,\\\"#0d0887\\\"],[0.1111111111111111,\\\"#46039f\\\"],[0.2222222222222222,\\\"#7201a8\\\"],[0.3333333333333333,\\\"#9c179e\\\"],[0.4444444444444444,\\\"#bd3786\\\"],[0.5555555555555556,\\\"#d8576b\\\"],[0.6666666666666666,\\\"#ed7953\\\"],[0.7777777777777778,\\\"#fb9f3a\\\"],[0.8888888888888888,\\\"#fdca26\\\"],[1.0,\\\"#f0f921\\\"]]}],\\\"contourcarpet\\\":[{\\\"colorbar\\\":{\\\"ticks\\\":\\\"\\\",\\\"outlinewidth\\\":0},\\\"type\\\":\\\"contourcarpet\\\"}],\\\"table\\\":[{\\\"type\\\":\\\"table\\\",\\\"header\\\":{\\\"line\\\":{\\\"color\\\":\\\"white\\\"},\\\"fill\\\":{\\\"color\\\":\\\"#C8D4E3\\\"}},\\\"cells\\\":{\\\"line\\\":{\\\"color\\\":\\\"white\\\"},\\\"fill\\\":{\\\"color\\\":\\\"#EBF0F8\\\"}}}],\\\"scatter3d\\\":[{\\\"line\\\":{\\\"colorbar\\\":{\\\"ticks\\\":\\\"\\\",\\\"outlinewidth\\\":0}},\\\"type\\\":\\\"scatter3d\\\",\\\"marker\\\":{\\\"colorbar\\\":{\\\"ticks\\\":\\\"\\\",\\\"outlinewidth\\\":0}}}],\\\"scattergl\\\":[{\\\"type\\\":\\\"scattergl\\\",\\\"marker\\\":{\\\"colorbar\\\":{\\\"ticks\\\":\\\"\\\",\\\"outlinewidth\\\":0}}}],\\\"histogram2d\\\":[{\\\"colorbar\\\":{\\\"ticks\\\":\\\"\\\",\\\"outlinewidth\\\":0},\\\"type\\\":\\\"histogram2d\\\",\\\"colorscale\\\":[[0.0,\\\"#0d0887\\\"],[0.1111111111111111,\\\"#46039f\\\"],[0.2222222222222222,\\\"#7201a8\\\"],[0.3333333333333333,\\\"#9c179e\\\"],[0.4444444444444444,\\\"#bd3786\\\"],[0.5555555555555556,\\\"#d8576b\\\"],[0.6666666666666666,\\\"#ed7953\\\"],[0.7777777777777778,\\\"#fb9f3a\\\"],[0.8888888888888888,\\\"#fdca26\\\"],[1.0,\\\"#f0f921\\\"]]}],\\\"scatterternary\\\":[{\\\"type\\\":\\\"scatterternary\\\",\\\"marker\\\":{\\\"colorbar\\\":{\\\"ticks\\\":\\\"\\\",\\\"outlinewidth\\\":0}}}],\\\"scatterpolargl\\\":[{\\\"type\\\":\\\"scatterpolargl\\\",\\\"marker\\\":{\\\"colorbar\\\":{\\\"ticks\\\":\\\"\\\",\\\"outlinewidth\\\":0}}}]}},\\\"margin\\\":{\\\"l\\\":50,\\\"b\\\":50,\\\"r\\\":50,\\\"t\\\":60}},{\\\"showLink\\\":false,\\\"editable\\\":false,\\\"responsive\\\":true,\\\"staticPlot\\\":false,\\\"scrollZoom\\\":true}); gd.on(\\\"plotly_hover\\\",(function (data){var filtered_data=WebIO.PlotlyCommands.filterEventData(gd,data,\\\"hover\\\"); return !(filtered_data.isnil) ? (WebIO.setval({\\\"name\\\":\\\"hover\\\",\\\"scope\\\":\\\"13460145676894428618\\\",\\\"id\\\":\\\"301\\\",\\\"type\\\":\\\"observable\\\"},filtered_data.out)) : undefined})); gd.on(\\\"plotly_unhover\\\",(function (){return WebIO.setval({\\\"name\\\":\\\"hover\\\",\\\"scope\\\":\\\"13460145676894428618\\\",\\\"id\\\":\\\"301\\\",\\\"type\\\":\\\"observable\\\"},{})})); gd.on(\\\"plotly_selected\\\",(function (data){var filtered_data=WebIO.PlotlyCommands.filterEventData(gd,data,\\\"selected\\\"); return !(filtered_data.isnil) ? (WebIO.setval({\\\"name\\\":\\\"selected\\\",\\\"scope\\\":\\\"13460145676894428618\\\",\\\"id\\\":\\\"302\\\",\\\"type\\\":\\\"observable\\\"},filtered_data.out)) : undefined})); gd.on(\\\"plotly_deselect\\\",(function (){return WebIO.setval({\\\"name\\\":\\\"selected\\\",\\\"scope\\\":\\\"13460145676894428618\\\",\\\"id\\\":\\\"302\\\",\\\"type\\\":\\\"observable\\\"},{})})); gd.on(\\\"plotly_relayout\\\",(function (data){var filtered_data=WebIO.PlotlyCommands.filterEventData(gd,data,\\\"relayout\\\"); return !(filtered_data.isnil) ? (WebIO.setval({\\\"name\\\":\\\"relayout\\\",\\\"scope\\\":\\\"13460145676894428618\\\",\\\"id\\\":\\\"304\\\",\\\"type\\\":\\\"observable\\\"},filtered_data.out)) : undefined})); return gd.on(\\\"plotly_click\\\",(function (data){var filtered_data=WebIO.PlotlyCommands.filterEventData(gd,data,\\\"click\\\"); return !(filtered_data.isnil) ? (WebIO.setval({\\\"name\\\":\\\"click\\\",\\\"scope\\\":\\\"13460145676894428618\\\",\\\"id\\\":\\\"303\\\",\\\"type\\\":\\\"observable\\\"},filtered_data.out)) : undefined}))}));\\n    (WebIO.importBlock({\\\"data\\\":[{\\\"name\\\":\\\"Plotly\\\",\\\"type\\\":\\\"js\\\",\\\"url\\\":\\\"\\/assetserver\\/d6feb8d8ce4676ebdde817a0745950a35b4ba3ae-plotly.min.js\\\"},{\\\"name\\\":null,\\\"type\\\":\\\"js\\\",\\\"url\\\":\\\"\\/assetserver\\/517030b23c1c21e94bf622985d97a74a9582e066-plotly_webio.bundle.js\\\"}],\\\"type\\\":\\\"async_block\\\"})).then((imports) => handler.apply(this, imports));\\n}\\n\"],\"observables\":{\"_toImage\":{\"sync\":false,\"id\":\"308\",\"value\":{}},\"hover\":{\"sync\":false,\"id\":\"301\",\"value\":{}},\"selected\":{\"sync\":false,\"id\":\"302\",\"value\":{}},\"__gd_contents\":{\"sync\":false,\"id\":\"306\",\"value\":{}},\"click\":{\"sync\":false,\"id\":\"303\",\"value\":{}},\"image\":{\"sync\":true,\"id\":\"305\",\"value\":\"\"},\"__get_gd_contents\":{\"sync\":false,\"id\":\"310\",\"value\":\"\"},\"_downloadImage\":{\"sync\":false,\"id\":\"309\",\"value\":{}},\"relayout\":{\"sync\":false,\"id\":\"304\",\"value\":{}},\"_commands\":{\"sync\":false,\"id\":\"307\",\"value\":[]}}},\"children\":[{\"props\":{\"id\":\"plot-feb5d928-7105-49f3-8da4-25fe73d6cf6d\"},\"nodeType\":\"DOM\",\"type\":\"node\",\"instanceArgs\":{\"namespace\":\"html\",\"tag\":\"div\"},\"children\":[]}]},\n",
       "        window,\n",
       "    );\n",
       "    })()\n",
       "    </script>\n",
       "</div>\n"
      ],
      "text/plain": [
       "data: [\n",
       "  \"scatter with fields mode, name, type, x, and y\",\n",
       "  \"scatter with fields mode, name, type, x, and y\"\n",
       "]\n",
       "\n",
       "layout: \"layout with fields margin, template, and xaxis\"\n",
       "\n"
      ]
     },
     "execution_count": 222,
     "metadata": {},
     "output_type": "execute_result"
    }
   ],
   "source": [
    "plot([\n",
    "    scatter(x=vcat([0],x), y=u_dst, mode=\"markers+lines\", name=\"u_dst\"),\n",
    "    scatter(x=x, y=f_rhs, mode=\"markers+lines\", name=\"f(x)\")],\n",
    "    Layout(xaxis_title=\"x\") #yaxis_title=\"u(x)\",  \n",
    ")"
   ]
  },
  {
   "cell_type": "code",
   "execution_count": 223,
   "id": "096ad58f-53f3-4479-8113-af08a7383855",
   "metadata": {},
   "outputs": [
    {
     "data": {
      "text/plain": [
       "5.552659395988035e-5"
      ]
     },
     "execution_count": 223,
     "metadata": {},
     "output_type": "execute_result"
    }
   ],
   "source": [
    "error = norm(u_dst - u_fft, Inf)/norm(u_dst, Inf)"
   ]
  },
  {
   "cell_type": "markdown",
   "id": "558f10f1-8ce9-4015-ab95-1b93112ddf34",
   "metadata": {},
   "source": [
    "Similarly, for Neumann BCs, we may use a basis of cossines, which leads to the Discrete Cossine Transform.\n",
    "\n",
    "\n",
    "We aim to solve the 1D Poisson problem:\n",
    "\n",
    "$$\n",
    "-u''(x) = f(x), \\quad x \\in (0, L), \\quad u'(0) = u'(L) = 0.\n",
    "$$\n",
    "\n",
    "A convenient approach is to expand the solution using a **cossine series**, which automatically satisfies the zero neumann boundary conditions.\n",
    "\n",
    "---\n",
    "\n",
    "## Discrete Cossine Transform Type-I (DCT-I) for Poisson Problems\n",
    "\n",
    "Just like the **DST-I** represents a function using **sine functions** (odd extensions), the **DCT-I** represents a function using **cosine functions** (even extensions). Here's how it works:\n",
    "\n",
    "---\n",
    "\n",
    "### DCT-I Expansion\n",
    "\n",
    "Given a function $u(x)$ defined on $x \\in [0, L]$, and sampled at **interior grid points**:\n",
    "$$\n",
    "x_j = \\frac{L j}{N+1}, \\quad j = 1, 2, \\dots, N\n",
    "$$\n",
    "\n",
    "\n",
    "The **DCT-I** expansion is:\n",
    "\n",
    "$$\n",
    "u(x_j) \\approx \\sum_{k=1}^{N} \\hat{u}_k \\cos\\left( \\frac{\\pi (k-1) x_j}{L} \\right) = \\sum_{k=1}^{N} \\hat{u}_k \\cos\\left( \\frac{\\pi (k-1) j}{N+1} \\right)\n",
    "$$\n",
    "\n",
    "where:\n",
    "\n",
    "\n",
    "- $\\hat{u}_k$ are the **DCT-I coefficients**, given by:\n",
    "\n",
    "$$\n",
    "\\hat{u}_k = \\sum_{j=1}^{N} u_j \\cos\\left( \\frac{\\pi (k-1) j}{N+1} \\right)\n",
    "$$\n",
    "\n",
    "up to normalization constants depending on the convention.\n",
    "\n",
    "---\n",
    "\n",
    "We may compute the DCT-I similarly to DST-I using the **FFT**, by performing an **even extension** of the data:\n",
    "\n",
    "Let $u = [u_1, u_2, \\dots, u_N] $ be the input data (samples at interior grid points), then define the even extension:\n",
    "\n",
    "$$\n",
    "u_{\\text{ext}} = [u_1, u_2, \\dots, u_N, u_{N-1}, \\dots, u_2]\n",
    "$$\n",
    "\n",
    "\n",
    "Finally, extract the first $N$ **real** components to get the DCT-I coefficients.\n",
    "\n",
    "This works because the even extension ensures the resulting complex Fourier transform only contains real components in the cosine terms, which matches the DCT-I basis.\n",
    "\n",
    "\n",
    "\n"
   ]
  },
  {
   "cell_type": "code",
   "execution_count": 224,
   "id": "0f481c1c-3acb-4e30-96af-47b02d7263fe",
   "metadata": {},
   "outputs": [
    {
     "data": {
      "text/plain": [
       "idct1_fft (generic function with 1 method)"
      ]
     },
     "execution_count": 224,
     "metadata": {},
     "output_type": "execute_result"
    }
   ],
   "source": [
    "function dct1_fft(f)\n",
    "    N = length(f)\n",
    "    # Construct even extension (DCT-I symmetry: f[-k] = f[k], f[N+k] = f[N-k])\n",
    "    f_ext = vcat(f, f[end-1:-1:2])  \n",
    "\n",
    "    # Compute FFT (scaling handled later)\n",
    "    F_ext = fft(f_ext)\n",
    "\n",
    "    # Extract first N coefficients (real part)\n",
    "    dct = real(F_ext[1:N])\n",
    "\n",
    "    return dct\n",
    "end\n",
    "\n",
    "function idct1_fft(f_hat)\n",
    "    N = length(f_hat)\n",
    "    # Construct even-symmetric extension in frequency domain\n",
    "    F_ext = vcat(f_hat, f_hat[end-1:-1:2])\n",
    "\n",
    "    # Compute inverse FFT and take real part\n",
    "    f_ifft = real(ifft(F_ext))\n",
    "\n",
    "    # Extract the first N samples (original signal)\n",
    "    idct = f_ifft[1:N]\n",
    "\n",
    "    return idct\n",
    "end"
   ]
  },
  {
   "cell_type": "code",
   "execution_count": 225,
   "id": "057aa2ef-7088-45e1-bcc8-c6fb70eebb70",
   "metadata": {},
   "outputs": [],
   "source": [
    "# Parameters\n",
    "N = 200\n",
    "L = 2 * pi\n",
    "h = L / (N + 1)\n",
    "x = h * collect(1:N)\n",
    "\n",
    "# RHS (same as before f(x) = cos(x) + cos(2x) + exp(sin(x)))\n",
    "f_rhs = cos.(x) .+ cos.(2x) .+ exp.(sin.(x))\n",
    "\n",
    "# DCT-I of RHS\n",
    "f_hat = dct1_fft(f_rhs)  \n",
    "\n",
    "# Spectral solve for Poisson equation\n",
    "k = 0:(N-1)  # DCT-I frequencies\n",
    "u_hat = zeros(N)\n",
    "u_hat[2:N] = -f_hat[2:N] .* (pi/L * k[2:N]).^(-2)  \n",
    "\n",
    "\n",
    "# Inverse DCT-I to get solution u(x)\n",
    "u_dct = idct1_fft(u_hat); "
   ]
  },
  {
   "cell_type": "code",
   "execution_count": 226,
   "id": "2e19e042-6461-4a46-aecd-a27db2df57da",
   "metadata": {},
   "outputs": [
    {
     "data": {
      "application/vnd.plotly.v1+json": {
       "config": {
        "editable": false,
        "responsive": true,
        "scrollZoom": true,
        "showLink": false,
        "staticPlot": false
       },
       "data": [
        {
         "mode": "markers+lines",
         "name": "u_dst",
         "type": "scatter",
         "x": [
          0.03125962839392829,
          0.06251925678785658,
          0.09377888518178487,
          0.12503851357571316,
          0.15629814196964145,
          0.18755777036356974,
          0.21881739875749803,
          0.2500770271514263,
          0.2813366555453546,
          0.3125962839392829,
          0.3438559123332112,
          0.3751155407271395,
          0.40637516912106775,
          0.43763479751499607,
          0.4688944259089244,
          0.5001540543028526,
          0.5314136826967809,
          0.5626733110907092,
          0.5939329394846375,
          0.6251925678785658,
          0.6564521962724941,
          0.6877118246664224,
          0.7189714530603507,
          0.750231081454279,
          0.7814907098482072,
          0.8127503382421355,
          0.8440099666360639,
          0.8752695950299921,
          0.9065292234239204,
          0.9377888518178488,
          0.969048480211777,
          1.0003081086057053,
          1.0315677369996337,
          1.0628273653935618,
          1.0940869937874902,
          1.1253466221814183,
          1.1566062505753467,
          1.187865878969275,
          1.2191255073632032,
          1.2503851357571316,
          1.28164476415106,
          1.3129043925449881,
          1.3441640209389165,
          1.3754236493328449,
          1.406683277726773,
          1.4379429061207014,
          1.4692025345146296,
          1.500462162908558,
          1.5317217913024863,
          1.5629814196964145,
          1.5942410480903428,
          1.625500676484271,
          1.6567603048781994,
          1.6880199332721277,
          1.7192795616660559,
          1.7505391900599843,
          1.7817988184539126,
          1.8130584468478408,
          1.8443180752417692,
          1.8755777036356975,
          1.9068373320296257,
          1.938096960423554,
          1.9693565888174822,
          2.0006162172114106,
          2.031875845605339,
          2.0631354739992673,
          2.0943951023931953,
          2.1256547307871236,
          2.156914359181052,
          2.1881739875749804,
          2.2194336159689088,
          2.2506932443628367,
          2.281952872756765,
          2.3132125011506934,
          2.344472129544622,
          2.37573175793855,
          2.4069913863324786,
          2.4382510147264065,
          2.469510643120335,
          2.5007702715142632,
          2.5320298999081916,
          2.56328952830212,
          2.594549156696048,
          2.6258087850899763,
          2.6570684134839047,
          2.688328041877833,
          2.7195876702717614,
          2.7508472986656898,
          2.7821069270596177,
          2.813366555453546,
          2.8446261838474745,
          2.875885812241403,
          2.907145440635331,
          2.938405069029259,
          2.9696646974231875,
          3.000924325817116,
          3.0321839542110443,
          3.0634435826049726,
          3.0947032109989006,
          3.125962839392829,
          3.1572224677867573,
          3.1884820961806857,
          3.219741724574614,
          3.251001352968542,
          3.2822609813624704,
          3.3135206097563987,
          3.344780238150327,
          3.3760398665442555,
          3.407299494938184,
          3.4385591233321118,
          3.46981875172604,
          3.5010783801199685,
          3.532338008513897,
          3.5635976369078253,
          3.594857265301753,
          3.6261168936956816,
          3.65737652208961,
          3.6886361504835383,
          3.7198957788774667,
          3.751155407271395,
          3.782415035665323,
          3.8136746640592514,
          3.8449342924531797,
          3.876193920847108,
          3.9074535492410365,
          3.9387131776349644,
          3.969972806028893,
          4.001232434422821,
          4.0324920628167495,
          4.063751691210678,
          4.095011319604606,
          4.126270947998535,
          4.157530576392463,
          4.1887902047863905,
          4.220049833180319,
          4.251309461574247,
          4.282569089968176,
          4.313828718362104,
          4.345088346756032,
          4.376347975149961,
          4.407607603543889,
          4.4388672319378175,
          4.470126860331746,
          4.501386488725673,
          4.532646117119602,
          4.56390574551353,
          4.5951653739074585,
          4.626425002301387,
          4.657684630695315,
          4.688944259089244,
          4.720203887483172,
          4.7514635158771,
          4.782723144271029,
          4.813982772664957,
          4.845242401058885,
          4.876502029452813,
          4.907761657846741,
          4.93902128624067,
          4.970280914634598,
          5.0015405430285265,
          5.032800171422455,
          5.064059799816383,
          5.095319428210312,
          5.12657905660424,
          5.157838684998168,
          5.189098313392096,
          5.220357941786024,
          5.251617570179953,
          5.282877198573881,
          5.314136826967809,
          5.345396455361738,
          5.376656083755666,
          5.407915712149594,
          5.439175340543523,
          5.470434968937451,
          5.5016945973313796,
          5.532954225725307,
          5.564213854119235,
          5.595473482513164,
          5.626733110907092,
          5.6579927393010205,
          5.689252367694949,
          5.720511996088877,
          5.751771624482806,
          5.783031252876734,
          5.814290881270662,
          5.84555050966459,
          5.876810138058518,
          5.908069766452447,
          5.939329394846375,
          5.970589023240303,
          6.001848651634232,
          6.03310828002816,
          6.0643679084220885,
          6.095627536816017,
          6.126887165209945,
          6.158146793603874,
          6.189406421997801,
          6.2206660503917295,
          6.251925678785658
         ],
         "y": [
          -4.734213877988737,
          -4.733323704624837,
          -4.730634028092052,
          -4.726122517109808,
          -4.7197718852920385,
          -4.711568122837585,
          -4.70150124006369,
          -4.689564732337091,
          -4.675755808872306,
          -4.660075085507403,
          -4.64252664927075,
          -4.623117824188399,
          -4.601859156872025,
          -4.578764210373661,
          -4.553849503404691,
          -4.52713431578408,
          -4.49864059765896,
          -4.468392780242341,
          -4.436417665011844,
          -4.402744237747996,
          -4.36740354469022,
          -4.33042850990346,
          -4.291853803729823,
          -4.251715664466695,
          -4.210051763404207,
          -4.166901032199461,
          -4.122303528014966,
          -4.076300268058636,
          -4.028933097695663,
          -3.9802445335194876,
          -3.9302776367380243,
          -3.8790758659239675,
          -3.8266829574533023,
          -3.77314278880725,
          -3.718499267363295,
          -3.6627962048257334,
          -3.6060772152434506,
          -3.54838560086273,
          -3.4897642598816927,
          -3.4302555837723334,
          -3.369901374988802,
          -3.308742755613607,
          -3.2468200950230313,
          -3.184172929586458,
          -3.1208399001602727,
          -3.0568586825139286,
          -2.9922659344712277,
          -2.927097236749821,
          -2.8613870495881364,
          -2.795168663757823,
          -2.7284741665925023,
          -2.6613344030512414,
          -2.5937789511841203,
          -2.525836093270791,
          -2.457532800896887,
          -2.3888947163441387,
          -2.319946147588659,
          -2.2507100602562278,
          -2.1812080829665215,
          -2.1114605102685116,
          -2.04148631882393,
          -1.9713031817852729,
          -1.9009274963212983,
          -1.8303744098805403,
          -1.7596578595000916,
          -1.6887906103028159,
          -1.61778430689297,
          -1.5466495242633183,
          -1.475395831368245,
          -1.4040318543718702,
          -1.3325653522080225,
          -1.2610032917920835,
          -1.1893519350397994,
          -1.1176169253085164,
          -1.0458033849699058,
          -0.9739160119587994,
          -0.9019591865979995,
          -0.8299370767356103,
          -0.757853752124308,
          -0.6857132962422111,
          -0.613519926155419,
          -0.5412781087638197,
          -0.46899268374414005,
          -0.3966689816594363,
          -0.3243129473078534,
          -0.25193125689863544,
          -0.17953143893335044,
          -0.10712198749440051,
          -0.034712477670760265,
          0.037686328064712976,
          0.110062372897934,
          0.1824022092097361,
          0.2546909030331262,
          0.32691195039271387,
          0.3990471959664287,
          0.4710767649185155,
          0.5429789983150934,
          0.6147304028611773,
          0.6863056053032903,
          0.757677322130588,
          0.8288163348163515,
          0.899691481133833,
          0.9702696526541827,
          1.0405158088718407,
          1.110392997902453,
          1.1798623941239923,
          1.248883342518125,
          1.317413420025348,
          1.3854085034605532,
          1.452822854266646,
          1.5196092094227645,
          1.58571888877371,
          1.6511019078495783,
          1.7157071064596587,
          1.779482281866258,
          1.8423743368720185,
          1.9043294313484591,
          1.9652931476242135,
          2.025210657968893,
          2.084026904714569,
          2.141686780945184,
          2.1981353224612943,
          2.253317898630433,
          2.307180413040866,
          2.359669501233519,
          2.4107327366883093,
          2.4603188319867506,
          2.5083778466368587,
          2.5548613881093285,
          2.599722817935507,
          2.6429174490199054,
          2.6844027464405094,
          2.7241385174659434,
          2.7620871035476,
          2.7982135595596014,
          2.8324858335960155,
          2.8648749321034055,
          2.8953550842808164,
          2.9239038899848597,
          2.95050246577159,
          2.975135572718382,
          2.9977917414406288,
          3.0184633772882576,
          3.0371468620112165,
          3.053842634145419,
          3.068555265383301,
          3.0812935143581526,
          3.0920703761931616,
          3.1009031083173917,
          3.1078132521118977,
          3.112826629837861,
          3.1159733377641965,
          3.117287713750802,
          3.1168083017213166,
          3.1145777899139446,
          3.1106429470481616,
          3.10505453172412,
          3.0978672011154167,
          3.0891393924573687,
          3.0789332055722984,
          3.067314257828554,
          3.0543515422630385,
          3.0401172578084172,
          3.024686645213354,
          3.008137794716493,
          2.990551462372248,
          2.972010857688485,
          2.9526014433399017,
          2.932410705573308,
          2.911527940628237,
          2.8900440109402474,
          2.8680511218878277,
          2.8456425669803975,
          2.8229124988129906,
          2.7999556664998746,
          2.7768671849490296,
          2.7537422677796117,
          2.7306759992384624,
          2.7077630656986065,
          2.6850975347518693,
          2.6627725880933557,
          2.640880312577852,
          2.6195114367960683,
          2.5987551392523938,
          2.578698790131114,
          2.5594277823820817,
          2.5410252788606287,
          2.523572073286866,
          2.5071463406996295,
          2.491823537628375,
          2.4776761496419706,
          2.4647736452289575,
          2.453182205525747,
          2.4429647588929786,
          2.4341806563919492,
          2.426885850013792,
          2.4211324090066553,
          2.4169690450686985,
          2.414440022694952,
          2.4135873272101516
         ]
        },
        {
         "mode": "markers+lines",
         "name": "f(x)",
         "type": "scatter",
         "x": [
          0.03125962839392829,
          0.06251925678785658,
          0.09377888518178487,
          0.12503851357571316,
          0.15629814196964145,
          0.18755777036356974,
          0.21881739875749803,
          0.2500770271514263,
          0.2813366555453546,
          0.3125962839392829,
          0.3438559123332112,
          0.3751155407271395,
          0.40637516912106775,
          0.43763479751499607,
          0.4688944259089244,
          0.5001540543028526,
          0.5314136826967809,
          0.5626733110907092,
          0.5939329394846375,
          0.6251925678785658,
          0.6564521962724941,
          0.6877118246664224,
          0.7189714530603507,
          0.750231081454279,
          0.7814907098482072,
          0.8127503382421355,
          0.8440099666360639,
          0.8752695950299921,
          0.9065292234239204,
          0.9377888518178488,
          0.969048480211777,
          1.0003081086057053,
          1.0315677369996337,
          1.0628273653935618,
          1.0940869937874902,
          1.1253466221814183,
          1.1566062505753467,
          1.187865878969275,
          1.2191255073632032,
          1.2503851357571316,
          1.28164476415106,
          1.3129043925449881,
          1.3441640209389165,
          1.3754236493328449,
          1.406683277726773,
          1.4379429061207014,
          1.4692025345146296,
          1.500462162908558,
          1.5317217913024863,
          1.5629814196964145,
          1.5942410480903428,
          1.625500676484271,
          1.6567603048781994,
          1.6880199332721277,
          1.7192795616660559,
          1.7505391900599843,
          1.7817988184539126,
          1.8130584468478408,
          1.8443180752417692,
          1.8755777036356975,
          1.9068373320296257,
          1.938096960423554,
          1.9693565888174822,
          2.0006162172114106,
          2.031875845605339,
          2.0631354739992673,
          2.0943951023931953,
          2.1256547307871236,
          2.156914359181052,
          2.1881739875749804,
          2.2194336159689088,
          2.2506932443628367,
          2.281952872756765,
          2.3132125011506934,
          2.344472129544622,
          2.37573175793855,
          2.4069913863324786,
          2.4382510147264065,
          2.469510643120335,
          2.5007702715142632,
          2.5320298999081916,
          2.56328952830212,
          2.594549156696048,
          2.6258087850899763,
          2.6570684134839047,
          2.688328041877833,
          2.7195876702717614,
          2.7508472986656898,
          2.7821069270596177,
          2.813366555453546,
          2.8446261838474745,
          2.875885812241403,
          2.907145440635331,
          2.938405069029259,
          2.9696646974231875,
          3.000924325817116,
          3.0321839542110443,
          3.0634435826049726,
          3.0947032109989006,
          3.125962839392829,
          3.1572224677867573,
          3.1884820961806857,
          3.219741724574614,
          3.251001352968542,
          3.2822609813624704,
          3.3135206097563987,
          3.344780238150327,
          3.3760398665442555,
          3.407299494938184,
          3.4385591233321118,
          3.46981875172604,
          3.5010783801199685,
          3.532338008513897,
          3.5635976369078253,
          3.594857265301753,
          3.6261168936956816,
          3.65737652208961,
          3.6886361504835383,
          3.7198957788774667,
          3.751155407271395,
          3.782415035665323,
          3.8136746640592514,
          3.8449342924531797,
          3.876193920847108,
          3.9074535492410365,
          3.9387131776349644,
          3.969972806028893,
          4.001232434422821,
          4.0324920628167495,
          4.063751691210678,
          4.095011319604606,
          4.126270947998535,
          4.157530576392463,
          4.1887902047863905,
          4.220049833180319,
          4.251309461574247,
          4.282569089968176,
          4.313828718362104,
          4.345088346756032,
          4.376347975149961,
          4.407607603543889,
          4.4388672319378175,
          4.470126860331746,
          4.501386488725673,
          4.532646117119602,
          4.56390574551353,
          4.5951653739074585,
          4.626425002301387,
          4.657684630695315,
          4.688944259089244,
          4.720203887483172,
          4.7514635158771,
          4.782723144271029,
          4.813982772664957,
          4.845242401058885,
          4.876502029452813,
          4.907761657846741,
          4.93902128624067,
          4.970280914634598,
          5.0015405430285265,
          5.032800171422455,
          5.064059799816383,
          5.095319428210312,
          5.12657905660424,
          5.157838684998168,
          5.189098313392096,
          5.220357941786024,
          5.251617570179953,
          5.282877198573881,
          5.314136826967809,
          5.345396455361738,
          5.376656083755666,
          5.407915712149594,
          5.439175340543523,
          5.470434968937451,
          5.5016945973313796,
          5.532954225725307,
          5.564213854119235,
          5.595473482513164,
          5.626733110907092,
          5.6579927393010205,
          5.689252367694949,
          5.720511996088877,
          5.751771624482806,
          5.783031252876734,
          5.814290881270662,
          5.84555050966459,
          5.876810138058518,
          5.908069766452447,
          5.939329394846375,
          5.970589023240303,
          6.001848651634232,
          6.03310828002816,
          6.0643679084220885,
          6.095627536816017,
          6.126887165209945,
          6.158146793603874,
          6.189406421997801,
          6.2206660503917295,
          6.251925678785658
         ],
         "y": [
          3.0293058545775553,
          3.0547107845126433,
          3.0762344962389667,
          3.093909452212018,
          3.10778048029914,
          3.11790432666768,
          3.124349155297174,
          3.1271939976474217,
          3.126528156402792,
          3.1224505675790777,
          3.115069125617696,
          3.104499976397659,
          3.090866783363505,
          3.0742999721920032,
          3.054935959597242,
          3.032916371997948,
          3.008387259838541,
          2.9814983133628665,
          2.952402085583908,
          2.921253228071901,
          2.8882077449959924,
          2.8534222706006855,
          2.8170533749786753,
          2.779256902618388,
          2.7401873477608594,
          2.699997270101025,
          2.658836753818827,
          2.6168529123327184,
          2.5741894405402395,
          2.530986215656534,
          2.4873789470920076,
          2.4434988751355515,
          2.399472517541347,
          2.355421462466774,
          2.311462205588305,
          2.2677060286430604,
          2.2242589161171082,
          2.1812215063382814,
          2.1386890728406383,
          2.096751531558217,
          2.055493469184287,
          2.0149941879040556,
          1.9753277616772977,
          1.9365630993139757,
          1.8987640097500766,
          1.861989265189906,
          1.8262926581301966,
          1.7917230487138691,
          1.7583243993684898,
          1.7261357942560895,
          1.6951914416851972,
          1.665520658299742,
          1.637147834548848,
          1.6100923816420396,
          1.5843686608910814,
          1.5599858970179732,
          1.5369480776541369,
          1.5152538418550903,
          1.4948963609954333,
          1.475863215879679,
          1.4581362742958395,
          1.4416915735430362,
          1.4264992126759533,
          1.4125232593239905,
          1.3997216759598885,
          1.388046270411728,
          1.3774426752361648,
          1.3678503603037206,
          1.3592026825951575,
          1.351426976778978,
          1.3444446896429756,
          1.3381715608975324,
          1.332517852265996,
          1.3273886261393635,
          1.3226840744104993,
          1.3182998974288904,
          1.3141277323421812,
          1.3100556294264156,
          1.305968574363615,
          1.3017490538125331,
          1.2972776610449062,
          1.2924337378927084,
          1.2870960487782328,
          1.2811434821833858,
          1.274455774561294,
          1.2669142514048473,
          1.258402579964596,
          1.24880752795287,
          1.2380197224813045,
          1.22593440345354,
          1.2124521656711598,
          1.197479684005669,
          1.1809304161386818,
          1.1627252775720534,
          1.1427932838547772,
          1.1210721552590512,
          1.0975088794588366,
          1.072060228115336,
          1.044693223649876,
          1.0153855528806837,
          0.984125924611118,
          0.9509143686783819,
          0.915762474399309,
          0.8786935667793709,
          0.8397428192789225,
          0.7989573023535377,
          0.7563959674000238,
          0.7121295661437673,
          0.6662405058940731,
          0.6188226414701743,
          0.5699810049599229,
          0.5198314748144773,
          0.46850038610440914,
          0.41612408406479173,
          0.3628484233382754,
          0.3088282155855081,
          0.2542266283712481,
          0.19921453845196907,
          0.1439698427867595,
          0.08867673076789889,
          0.0335249213209079,
          -0.021291131343623815,
          -0.07557305943218107,
          -0.1291194267384589,
          -0.18172659322348667,
          -0.23318959489506286,
          -0.283303034841966,
          -0.33186198126285954,
          -0.37866286833213086,
          -0.4235043957644724,
          -0.46618842297639995,
          -0.5065208537954826,
          -0.5443125077363447,
          -0.5793799739458848,
          -0.6115464440181158,
          -0.6406425199909229,
          -0.666506993962371,
          -0.68898759590223,
          -0.7079417063846326,
          -0.7232370311295234,
          -0.7347522344131774,
          -0.7423775285908765,
          -0.7460152171671885,
          -0.7455801890504268,
          -0.7410003618371267,
          -0.732217072188994,
          -0.7191854115879754,
          -0.701874505984188,
          -0.6802677380855434,
          -0.6543629112763099,
          -0.6241723543936877,
          -0.5897229668359982,
          -0.551056203722399,
          -0.5082280010713978,
          -0.4613086412129412,
          -0.4103825588957244,
          -0.3555480887967845,
          -0.29691715538349006,
          -0.23461490631806647,
          -0.16877929083082271,
          -0.09956058471959356,
          -0.0271208638587343,
          0.0483665716794528,
          0.12671782057547193,
          0.20773904776547059,
          0.29122719377984285,
          0.3769707230143268,
          0.4647504078531926,
          0.5543401453977301,
          0.6455078033979259,
          0.7380160918419257,
          0.8316234565270453,
          0.9260849908183838,
          1.0211533616971349,
          1.116579746111015,
          1.2121147735644544,
          1.3075094708268589,
          1.402516204593924,
          1.4968896179101407,
          1.590387556151009,
          1.6827719783712576,
          1.7738098498514425,
          1.8632740117198843,
          1.9509440235906559,
          2.036606975241606,
          2.1200582634597276,
          2.2011023303048924,
          2.2795533591874677,
          2.355235925320883,
          2.427985597297152,
          2.4976494867416794,
          2.564086743233613,
          2.627168991929385,
          2.6867807115997415,
          2.7428195510841653,
          2.7951965824805427,
          2.8438364897215407,
          2.888677691541405,
          2.9296723982065482,
          2.9667866017688187
         ]
        }
       ],
       "frames": [],
       "layout": {
        "margin": {
         "b": 50,
         "l": 50,
         "r": 50,
         "t": 60
        },
        "template": {
         "data": {
          "bar": [
           {
            "error_x": {
             "color": "#2a3f5f"
            },
            "error_y": {
             "color": "#2a3f5f"
            },
            "marker": {
             "line": {
              "color": "#E5ECF6",
              "width": 0.5
             }
            },
            "type": "bar"
           }
          ],
          "barpolar": [
           {
            "marker": {
             "line": {
              "color": "#E5ECF6",
              "width": 0.5
             }
            },
            "type": "barpolar"
           }
          ],
          "carpet": [
           {
            "aaxis": {
             "endlinecolor": "#2a3f5f",
             "gridcolor": "white",
             "linecolor": "white",
             "minorgridcolor": "white",
             "startlinecolor": "#2a3f5f"
            },
            "baxis": {
             "endlinecolor": "#2a3f5f",
             "gridcolor": "white",
             "linecolor": "white",
             "minorgridcolor": "white",
             "startlinecolor": "#2a3f5f"
            },
            "type": "carpet"
           }
          ],
          "choropleth": [
           {
            "colorbar": {
             "outlinewidth": 0,
             "ticks": ""
            },
            "type": "choropleth"
           }
          ],
          "contour": [
           {
            "colorbar": {
             "outlinewidth": 0,
             "ticks": ""
            },
            "colorscale": [
             [
              0,
              "#0d0887"
             ],
             [
              0.1111111111111111,
              "#46039f"
             ],
             [
              0.2222222222222222,
              "#7201a8"
             ],
             [
              0.3333333333333333,
              "#9c179e"
             ],
             [
              0.4444444444444444,
              "#bd3786"
             ],
             [
              0.5555555555555556,
              "#d8576b"
             ],
             [
              0.6666666666666666,
              "#ed7953"
             ],
             [
              0.7777777777777778,
              "#fb9f3a"
             ],
             [
              0.8888888888888888,
              "#fdca26"
             ],
             [
              1,
              "#f0f921"
             ]
            ],
            "type": "contour"
           }
          ],
          "contourcarpet": [
           {
            "colorbar": {
             "outlinewidth": 0,
             "ticks": ""
            },
            "type": "contourcarpet"
           }
          ],
          "heatmap": [
           {
            "colorbar": {
             "outlinewidth": 0,
             "ticks": ""
            },
            "colorscale": [
             [
              0,
              "#0d0887"
             ],
             [
              0.1111111111111111,
              "#46039f"
             ],
             [
              0.2222222222222222,
              "#7201a8"
             ],
             [
              0.3333333333333333,
              "#9c179e"
             ],
             [
              0.4444444444444444,
              "#bd3786"
             ],
             [
              0.5555555555555556,
              "#d8576b"
             ],
             [
              0.6666666666666666,
              "#ed7953"
             ],
             [
              0.7777777777777778,
              "#fb9f3a"
             ],
             [
              0.8888888888888888,
              "#fdca26"
             ],
             [
              1,
              "#f0f921"
             ]
            ],
            "type": "heatmap"
           }
          ],
          "heatmapgl": [
           {
            "colorbar": {
             "outlinewidth": 0,
             "ticks": ""
            },
            "colorscale": [
             [
              0,
              "#0d0887"
             ],
             [
              0.1111111111111111,
              "#46039f"
             ],
             [
              0.2222222222222222,
              "#7201a8"
             ],
             [
              0.3333333333333333,
              "#9c179e"
             ],
             [
              0.4444444444444444,
              "#bd3786"
             ],
             [
              0.5555555555555556,
              "#d8576b"
             ],
             [
              0.6666666666666666,
              "#ed7953"
             ],
             [
              0.7777777777777778,
              "#fb9f3a"
             ],
             [
              0.8888888888888888,
              "#fdca26"
             ],
             [
              1,
              "#f0f921"
             ]
            ],
            "type": "heatmapgl"
           }
          ],
          "histogram": [
           {
            "marker": {
             "colorbar": {
              "outlinewidth": 0,
              "ticks": ""
             }
            },
            "type": "histogram"
           }
          ],
          "histogram2d": [
           {
            "colorbar": {
             "outlinewidth": 0,
             "ticks": ""
            },
            "colorscale": [
             [
              0,
              "#0d0887"
             ],
             [
              0.1111111111111111,
              "#46039f"
             ],
             [
              0.2222222222222222,
              "#7201a8"
             ],
             [
              0.3333333333333333,
              "#9c179e"
             ],
             [
              0.4444444444444444,
              "#bd3786"
             ],
             [
              0.5555555555555556,
              "#d8576b"
             ],
             [
              0.6666666666666666,
              "#ed7953"
             ],
             [
              0.7777777777777778,
              "#fb9f3a"
             ],
             [
              0.8888888888888888,
              "#fdca26"
             ],
             [
              1,
              "#f0f921"
             ]
            ],
            "type": "histogram2d"
           }
          ],
          "histogram2dcontour": [
           {
            "colorbar": {
             "outlinewidth": 0,
             "ticks": ""
            },
            "colorscale": [
             [
              0,
              "#0d0887"
             ],
             [
              0.1111111111111111,
              "#46039f"
             ],
             [
              0.2222222222222222,
              "#7201a8"
             ],
             [
              0.3333333333333333,
              "#9c179e"
             ],
             [
              0.4444444444444444,
              "#bd3786"
             ],
             [
              0.5555555555555556,
              "#d8576b"
             ],
             [
              0.6666666666666666,
              "#ed7953"
             ],
             [
              0.7777777777777778,
              "#fb9f3a"
             ],
             [
              0.8888888888888888,
              "#fdca26"
             ],
             [
              1,
              "#f0f921"
             ]
            ],
            "type": "histogram2dcontour"
           }
          ],
          "mesh3d": [
           {
            "colorbar": {
             "outlinewidth": 0,
             "ticks": ""
            },
            "type": "mesh3d"
           }
          ],
          "parcoords": [
           {
            "line": {
             "colorbar": {
              "outlinewidth": 0,
              "ticks": ""
             }
            },
            "type": "parcoords"
           }
          ],
          "pie": [
           {
            "automargin": true,
            "type": "pie"
           }
          ],
          "scatter": [
           {
            "marker": {
             "colorbar": {
              "outlinewidth": 0,
              "ticks": ""
             }
            },
            "type": "scatter"
           }
          ],
          "scatter3d": [
           {
            "line": {
             "colorbar": {
              "outlinewidth": 0,
              "ticks": ""
             }
            },
            "marker": {
             "colorbar": {
              "outlinewidth": 0,
              "ticks": ""
             }
            },
            "type": "scatter3d"
           }
          ],
          "scattercarpet": [
           {
            "marker": {
             "colorbar": {
              "outlinewidth": 0,
              "ticks": ""
             }
            },
            "type": "scattercarpet"
           }
          ],
          "scattergeo": [
           {
            "marker": {
             "colorbar": {
              "outlinewidth": 0,
              "ticks": ""
             }
            },
            "type": "scattergeo"
           }
          ],
          "scattergl": [
           {
            "marker": {
             "colorbar": {
              "outlinewidth": 0,
              "ticks": ""
             }
            },
            "type": "scattergl"
           }
          ],
          "scattermapbox": [
           {
            "marker": {
             "colorbar": {
              "outlinewidth": 0,
              "ticks": ""
             }
            },
            "type": "scattermapbox"
           }
          ],
          "scatterpolar": [
           {
            "marker": {
             "colorbar": {
              "outlinewidth": 0,
              "ticks": ""
             }
            },
            "type": "scatterpolar"
           }
          ],
          "scatterpolargl": [
           {
            "marker": {
             "colorbar": {
              "outlinewidth": 0,
              "ticks": ""
             }
            },
            "type": "scatterpolargl"
           }
          ],
          "scatterternary": [
           {
            "marker": {
             "colorbar": {
              "outlinewidth": 0,
              "ticks": ""
             }
            },
            "type": "scatterternary"
           }
          ],
          "surface": [
           {
            "colorbar": {
             "outlinewidth": 0,
             "ticks": ""
            },
            "colorscale": [
             [
              0,
              "#0d0887"
             ],
             [
              0.1111111111111111,
              "#46039f"
             ],
             [
              0.2222222222222222,
              "#7201a8"
             ],
             [
              0.3333333333333333,
              "#9c179e"
             ],
             [
              0.4444444444444444,
              "#bd3786"
             ],
             [
              0.5555555555555556,
              "#d8576b"
             ],
             [
              0.6666666666666666,
              "#ed7953"
             ],
             [
              0.7777777777777778,
              "#fb9f3a"
             ],
             [
              0.8888888888888888,
              "#fdca26"
             ],
             [
              1,
              "#f0f921"
             ]
            ],
            "type": "surface"
           }
          ],
          "table": [
           {
            "cells": {
             "fill": {
              "color": "#EBF0F8"
             },
             "line": {
              "color": "white"
             }
            },
            "header": {
             "fill": {
              "color": "#C8D4E3"
             },
             "line": {
              "color": "white"
             }
            },
            "type": "table"
           }
          ]
         },
         "layout": {
          "annotationdefaults": {
           "arrowcolor": "#2a3f5f",
           "arrowhead": 0,
           "arrowwidth": 1
          },
          "autotypenumbers": "strict",
          "coloraxis": {
           "colorbar": {
            "outlinewidth": 0,
            "ticks": ""
           }
          },
          "colorscale": {
           "diverging": [
            [
             0,
             "#8e0152"
            ],
            [
             0.1,
             "#c51b7d"
            ],
            [
             0.2,
             "#de77ae"
            ],
            [
             0.3,
             "#f1b6da"
            ],
            [
             0.4,
             "#fde0ef"
            ],
            [
             0.5,
             "#f7f7f7"
            ],
            [
             0.6,
             "#e6f5d0"
            ],
            [
             0.7,
             "#b8e186"
            ],
            [
             0.8,
             "#7fbc41"
            ],
            [
             0.9,
             "#4d9221"
            ],
            [
             1,
             "#276419"
            ]
           ],
           "sequential": [
            [
             0,
             "#0d0887"
            ],
            [
             0.1111111111111111,
             "#46039f"
            ],
            [
             0.2222222222222222,
             "#7201a8"
            ],
            [
             0.3333333333333333,
             "#9c179e"
            ],
            [
             0.4444444444444444,
             "#bd3786"
            ],
            [
             0.5555555555555556,
             "#d8576b"
            ],
            [
             0.6666666666666666,
             "#ed7953"
            ],
            [
             0.7777777777777778,
             "#fb9f3a"
            ],
            [
             0.8888888888888888,
             "#fdca26"
            ],
            [
             1,
             "#f0f921"
            ]
           ],
           "sequentialminus": [
            [
             0,
             "#0d0887"
            ],
            [
             0.1111111111111111,
             "#46039f"
            ],
            [
             0.2222222222222222,
             "#7201a8"
            ],
            [
             0.3333333333333333,
             "#9c179e"
            ],
            [
             0.4444444444444444,
             "#bd3786"
            ],
            [
             0.5555555555555556,
             "#d8576b"
            ],
            [
             0.6666666666666666,
             "#ed7953"
            ],
            [
             0.7777777777777778,
             "#fb9f3a"
            ],
            [
             0.8888888888888888,
             "#fdca26"
            ],
            [
             1,
             "#f0f921"
            ]
           ]
          },
          "colorway": [
           "#636efa",
           "#EF553B",
           "#00cc96",
           "#ab63fa",
           "#FFA15A",
           "#19d3f3",
           "#FF6692",
           "#B6E880",
           "#FF97FF",
           "#FECB52"
          ],
          "font": {
           "color": "#2a3f5f"
          },
          "geo": {
           "bgcolor": "white",
           "lakecolor": "white",
           "landcolor": "#E5ECF6",
           "showlakes": true,
           "showland": true,
           "subunitcolor": "white"
          },
          "hoverlabel": {
           "align": "left"
          },
          "hovermode": "closest",
          "mapbox": {
           "style": "light"
          },
          "paper_bgcolor": "white",
          "plot_bgcolor": "#E5ECF6",
          "polar": {
           "angularaxis": {
            "gridcolor": "white",
            "linecolor": "white",
            "ticks": ""
           },
           "bgcolor": "#E5ECF6",
           "radialaxis": {
            "gridcolor": "white",
            "linecolor": "white",
            "ticks": ""
           }
          },
          "scene": {
           "xaxis": {
            "backgroundcolor": "#E5ECF6",
            "gridcolor": "white",
            "gridwidth": 2,
            "linecolor": "white",
            "showbackground": true,
            "ticks": "",
            "zerolinecolor": "white"
           },
           "yaxis": {
            "backgroundcolor": "#E5ECF6",
            "gridcolor": "white",
            "gridwidth": 2,
            "linecolor": "white",
            "showbackground": true,
            "ticks": "",
            "zerolinecolor": "white"
           },
           "zaxis": {
            "backgroundcolor": "#E5ECF6",
            "gridcolor": "white",
            "gridwidth": 2,
            "linecolor": "white",
            "showbackground": true,
            "ticks": "",
            "zerolinecolor": "white"
           }
          },
          "shapedefaults": {
           "line": {
            "color": "#2a3f5f"
           }
          },
          "ternary": {
           "aaxis": {
            "gridcolor": "white",
            "linecolor": "white",
            "ticks": ""
           },
           "baxis": {
            "gridcolor": "white",
            "linecolor": "white",
            "ticks": ""
           },
           "bgcolor": "#E5ECF6",
           "caxis": {
            "gridcolor": "white",
            "linecolor": "white",
            "ticks": ""
           }
          },
          "title": {
           "x": 0.05
          },
          "xaxis": {
           "automargin": true,
           "gridcolor": "white",
           "linecolor": "white",
           "ticks": "",
           "title": {
            "standoff": 15
           },
           "zerolinecolor": "white",
           "zerolinewidth": 2
          },
          "yaxis": {
           "automargin": true,
           "gridcolor": "white",
           "linecolor": "white",
           "ticks": "",
           "title": {
            "standoff": 15
           },
           "zerolinecolor": "white",
           "zerolinewidth": 2
          }
         }
        },
        "xaxis": {
         "title": {
          "text": "x"
         }
        }
       }
      },
      "image/png": "[encoded data removed]",
      "text/html": [
       "<div\n",
       "    class=\"webio-mountpoint\"\n",
       "    data-webio-mountpoint=\"13461575924282917760\"\n",
       ">\n",
       "    <script>\n",
       "    (function(){\n",
       "    // Some integrations (namely, IJulia/Jupyter) use an alternate render pathway than\n",
       "    // just putting the html on the page. If WebIO isn't defined, then it's pretty likely\n",
       "    // that we're in one of those situations and the integration just isn't installed\n",
       "    // correctly.\n",
       "    if (typeof window.WebIO === \"undefined\") {\n",
       "        document\n",
       "            .querySelector('[data-webio-mountpoint=\"13461575924282917760\"]')\n",
       "            .innerHTML = (\n",
       "                '<div style=\"padding: 1em; background-color: #f8d6da; border: 1px solid #f5c6cb; font-weight: bold;\">' +\n",
       "                '<p><strong>WebIO not detected.</strong></p>' +\n",
       "                '<p>Please read ' +\n",
       "                '<a href=\"https://juliagizmos.github.io/WebIO.jl/latest/troubleshooting/not-detected/\" target=\"_blank\">the troubleshooting guide</a> ' +\n",
       "                'for more information on how to resolve this issue.</p>' +\n",
       "                '<p><a href=\"https://juliagizmos.github.io/WebIO.jl/latest/troubleshooting/not-detected/\" target=\"_blank\">https://juliagizmos.github.io/WebIO.jl/latest/troubleshooting/not-detected/</a></p>' +\n",
       "                '</div>'\n",
       "            );\n",
       "        return;\n",
       "    }\n",
       "    WebIO.mount(\n",
       "        document.querySelector('[data-webio-mountpoint=\"13461575924282917760\"]'),\n",
       "        {\"props\":{},\"nodeType\":\"Scope\",\"type\":\"node\",\"instanceArgs\":{\"imports\":{\"data\":[{\"name\":\"Plotly\",\"type\":\"js\",\"url\":\"\\/assetserver\\/d6feb8d8ce4676ebdde817a0745950a35b4ba3ae-plotly.min.js\"},{\"name\":null,\"type\":\"js\",\"url\":\"\\/assetserver\\/517030b23c1c21e94bf622985d97a74a9582e066-plotly_webio.bundle.js\"}],\"type\":\"async_block\"},\"id\":\"12391986663457383737\",\"handlers\":{\"_toImage\":[\"(function (options){return this.Plotly.toImage(this.plotElem,options).then((function (data){return WebIO.setval({\\\"name\\\":\\\"image\\\",\\\"scope\\\":\\\"12391986663457383737\\\",\\\"id\\\":\\\"315\\\",\\\"type\\\":\\\"observable\\\"},data)}))})\"],\"__get_gd_contents\":[\"(function (prop){prop==\\\"data\\\" ? (WebIO.setval({\\\"name\\\":\\\"__gd_contents\\\",\\\"scope\\\":\\\"12391986663457383737\\\",\\\"id\\\":\\\"316\\\",\\\"type\\\":\\\"observable\\\"},this.plotElem.data)) : undefined; return prop==\\\"layout\\\" ? (WebIO.setval({\\\"name\\\":\\\"__gd_contents\\\",\\\"scope\\\":\\\"12391986663457383737\\\",\\\"id\\\":\\\"316\\\",\\\"type\\\":\\\"observable\\\"},this.plotElem.layout)) : undefined})\"],\"_downloadImage\":[\"(function (options){return this.Plotly.downloadImage(this.plotElem,options)})\"],\"_commands\":[\"(function (args){var fn=args.shift(); var elem=this.plotElem; var Plotly=this.Plotly; args.unshift(elem); return Plotly[fn].apply(this,args)})\"]},\"systemjs_options\":null,\"mount_callbacks\":[\"function () {\\n    var handler = ((function (Plotly,PlotlyWebIO){PlotlyWebIO.init(WebIO); var gd=this.dom.querySelector(\\\"#plot-60c029f4-bb2b-408d-b0bd-1a3fe462b8f6\\\"); this.plotElem=gd; this.Plotly=Plotly; (window.Blink!==undefined) ? (gd.style.width=\\\"100%\\\", gd.style.height=\\\"100vh\\\", gd.style.marginLeft=\\\"0%\\\", gd.style.marginTop=\\\"0vh\\\") : undefined; window.onresize=(function (){return Plotly.Plots.resize(gd)}); Plotly.newPlot(gd,[{\\\"mode\\\":\\\"markers+lines\\\",\\\"y\\\":[-4.734213877988737,-4.733323704624837,-4.730634028092052,-4.726122517109808,-4.7197718852920385,-4.711568122837585,-4.70150124006369,-4.689564732337091,-4.675755808872306,-4.660075085507403,-4.64252664927075,-4.623117824188399,-4.601859156872025,-4.578764210373661,-4.553849503404691,-4.52713431578408,-4.49864059765896,-4.468392780242341,-4.436417665011844,-4.402744237747996,-4.36740354469022,-4.33042850990346,-4.291853803729823,-4.251715664466695,-4.210051763404207,-4.166901032199461,-4.122303528014966,-4.076300268058636,-4.028933097695663,-3.9802445335194876,-3.9302776367380243,-3.8790758659239675,-3.8266829574533023,-3.77314278880725,-3.718499267363295,-3.6627962048257334,-3.6060772152434506,-3.54838560086273,-3.4897642598816927,-3.4302555837723334,-3.369901374988802,-3.308742755613607,-3.2468200950230313,-3.184172929586458,-3.1208399001602727,-3.0568586825139286,-2.9922659344712277,-2.927097236749821,-2.8613870495881364,-2.795168663757823,-2.7284741665925023,-2.6613344030512414,-2.5937789511841203,-2.525836093270791,-2.457532800896887,-2.3888947163441387,-2.319946147588659,-2.2507100602562278,-2.1812080829665215,-2.1114605102685116,-2.04148631882393,-1.9713031817852729,-1.9009274963212983,-1.8303744098805403,-1.7596578595000916,-1.6887906103028159,-1.61778430689297,-1.5466495242633183,-1.475395831368245,-1.4040318543718702,-1.3325653522080225,-1.2610032917920835,-1.1893519350397994,-1.1176169253085164,-1.0458033849699058,-0.9739160119587994,-0.9019591865979995,-0.8299370767356103,-0.757853752124308,-0.6857132962422111,-0.613519926155419,-0.5412781087638197,-0.46899268374414005,-0.3966689816594363,-0.3243129473078534,-0.25193125689863544,-0.17953143893335044,-0.10712198749440051,-0.034712477670760265,0.037686328064712976,0.110062372897934,0.1824022092097361,0.2546909030331262,0.32691195039271387,0.3990471959664287,0.4710767649185155,0.5429789983150934,0.6147304028611773,0.6863056053032903,0.757677322130588,0.8288163348163515,0.899691481133833,0.9702696526541827,1.0405158088718407,1.110392997902453,1.1798623941239923,1.248883342518125,1.317413420025348,1.3854085034605532,1.452822854266646,1.5196092094227645,1.58571888877371,1.6511019078495783,1.7157071064596587,1.779482281866258,1.8423743368720185,1.9043294313484591,1.9652931476242135,2.025210657968893,2.084026904714569,2.141686780945184,2.1981353224612943,2.253317898630433,2.307180413040866,2.359669501233519,2.4107327366883093,2.4603188319867506,2.5083778466368587,2.5548613881093285,2.599722817935507,2.6429174490199054,2.6844027464405094,2.7241385174659434,2.7620871035476,2.7982135595596014,2.8324858335960155,2.8648749321034055,2.8953550842808164,2.9239038899848597,2.95050246577159,2.975135572718382,2.9977917414406288,3.0184633772882576,3.0371468620112165,3.053842634145419,3.068555265383301,3.0812935143581526,3.0920703761931616,3.1009031083173917,3.1078132521118977,3.112826629837861,3.1159733377641965,3.117287713750802,3.1168083017213166,3.1145777899139446,3.1106429470481616,3.10505453172412,3.0978672011154167,3.0891393924573687,3.0789332055722984,3.067314257828554,3.0543515422630385,3.0401172578084172,3.024686645213354,3.008137794716493,2.990551462372248,2.972010857688485,2.9526014433399017,2.932410705573308,2.911527940628237,2.8900440109402474,2.8680511218878277,2.8456425669803975,2.8229124988129906,2.7999556664998746,2.7768671849490296,2.7537422677796117,2.7306759992384624,2.7077630656986065,2.6850975347518693,2.6627725880933557,2.640880312577852,2.6195114367960683,2.5987551392523938,2.578698790131114,2.5594277823820817,2.5410252788606287,2.523572073286866,2.5071463406996295,2.491823537628375,2.4776761496419706,2.4647736452289575,2.453182205525747,2.4429647588929786,2.4341806563919492,2.426885850013792,2.4211324090066553,2.4169690450686985,2.414440022694952,2.4135873272101516],\\\"type\\\":\\\"scatter\\\",\\\"name\\\":\\\"u_dst\\\",\\\"x\\\":[0.03125962839392829,0.06251925678785658,0.09377888518178487,0.12503851357571316,0.15629814196964145,0.18755777036356974,0.21881739875749803,0.2500770271514263,0.2813366555453546,0.3125962839392829,0.3438559123332112,0.3751155407271395,0.40637516912106775,0.43763479751499607,0.4688944259089244,0.5001540543028526,0.5314136826967809,0.5626733110907092,0.5939329394846375,0.6251925678785658,0.6564521962724941,0.6877118246664224,0.7189714530603507,0.750231081454279,0.7814907098482072,0.8127503382421355,0.8440099666360639,0.8752695950299921,0.9065292234239204,0.9377888518178488,0.969048480211777,1.0003081086057053,1.0315677369996337,1.0628273653935618,1.0940869937874902,1.1253466221814183,1.1566062505753467,1.187865878969275,1.2191255073632032,1.2503851357571316,1.28164476415106,1.3129043925449881,1.3441640209389165,1.3754236493328449,1.406683277726773,1.4379429061207014,1.4692025345146296,1.500462162908558,1.5317217913024863,1.5629814196964145,1.5942410480903428,1.625500676484271,1.6567603048781994,1.6880199332721277,1.7192795616660559,1.7505391900599843,1.7817988184539126,1.8130584468478408,1.8443180752417692,1.8755777036356975,1.9068373320296257,1.938096960423554,1.9693565888174822,2.0006162172114106,2.031875845605339,2.0631354739992673,2.0943951023931953,2.1256547307871236,2.156914359181052,2.1881739875749804,2.2194336159689088,2.2506932443628367,2.281952872756765,2.3132125011506934,2.344472129544622,2.37573175793855,2.4069913863324786,2.4382510147264065,2.469510643120335,2.5007702715142632,2.5320298999081916,2.56328952830212,2.594549156696048,2.6258087850899763,2.6570684134839047,2.688328041877833,2.7195876702717614,2.7508472986656898,2.7821069270596177,2.813366555453546,2.8446261838474745,2.875885812241403,2.907145440635331,2.938405069029259,2.9696646974231875,3.000924325817116,3.0321839542110443,3.0634435826049726,3.0947032109989006,3.125962839392829,3.1572224677867573,3.1884820961806857,3.219741724574614,3.251001352968542,3.2822609813624704,3.3135206097563987,3.344780238150327,3.3760398665442555,3.407299494938184,3.4385591233321118,3.46981875172604,3.5010783801199685,3.532338008513897,3.5635976369078253,3.594857265301753,3.6261168936956816,3.65737652208961,3.6886361504835383,3.7198957788774667,3.751155407271395,3.782415035665323,3.8136746640592514,3.8449342924531797,3.876193920847108,3.9074535492410365,3.9387131776349644,3.969972806028893,4.001232434422821,4.0324920628167495,4.063751691210678,4.095011319604606,4.126270947998535,4.157530576392463,4.1887902047863905,4.220049833180319,4.251309461574247,4.282569089968176,4.313828718362104,4.345088346756032,4.376347975149961,4.407607603543889,4.4388672319378175,4.470126860331746,4.501386488725673,4.532646117119602,4.56390574551353,4.5951653739074585,4.626425002301387,4.657684630695315,4.688944259089244,4.720203887483172,4.7514635158771,4.782723144271029,4.813982772664957,4.845242401058885,4.876502029452813,4.907761657846741,4.93902128624067,4.970280914634598,5.0015405430285265,5.032800171422455,5.064059799816383,5.095319428210312,5.12657905660424,5.157838684998168,5.189098313392096,5.220357941786024,5.251617570179953,5.282877198573881,5.314136826967809,5.345396455361738,5.376656083755666,5.407915712149594,5.439175340543523,5.470434968937451,5.5016945973313796,5.532954225725307,5.564213854119235,5.595473482513164,5.626733110907092,5.6579927393010205,5.689252367694949,5.720511996088877,5.751771624482806,5.783031252876734,5.814290881270662,5.84555050966459,5.876810138058518,5.908069766452447,5.939329394846375,5.970589023240303,6.001848651634232,6.03310828002816,6.0643679084220885,6.095627536816017,6.126887165209945,6.158146793603874,6.189406421997801,6.2206660503917295,6.251925678785658]},{\\\"mode\\\":\\\"markers+lines\\\",\\\"y\\\":[3.0293058545775553,3.0547107845126433,3.0762344962389667,3.093909452212018,3.10778048029914,3.11790432666768,3.124349155297174,3.1271939976474217,3.126528156402792,3.1224505675790777,3.115069125617696,3.104499976397659,3.090866783363505,3.0742999721920032,3.054935959597242,3.032916371997948,3.008387259838541,2.9814983133628665,2.952402085583908,2.921253228071901,2.8882077449959924,2.8534222706006855,2.8170533749786753,2.779256902618388,2.7401873477608594,2.699997270101025,2.658836753818827,2.6168529123327184,2.5741894405402395,2.530986215656534,2.4873789470920076,2.4434988751355515,2.399472517541347,2.355421462466774,2.311462205588305,2.2677060286430604,2.2242589161171082,2.1812215063382814,2.1386890728406383,2.096751531558217,2.055493469184287,2.0149941879040556,1.9753277616772977,1.9365630993139757,1.8987640097500766,1.861989265189906,1.8262926581301966,1.7917230487138691,1.7583243993684898,1.7261357942560895,1.6951914416851972,1.665520658299742,1.637147834548848,1.6100923816420396,1.5843686608910814,1.5599858970179732,1.5369480776541369,1.5152538418550903,1.4948963609954333,1.475863215879679,1.4581362742958395,1.4416915735430362,1.4264992126759533,1.4125232593239905,1.3997216759598885,1.388046270411728,1.3774426752361648,1.3678503603037206,1.3592026825951575,1.351426976778978,1.3444446896429756,1.3381715608975324,1.332517852265996,1.3273886261393635,1.3226840744104993,1.3182998974288904,1.3141277323421812,1.3100556294264156,1.305968574363615,1.3017490538125331,1.2972776610449062,1.2924337378927084,1.2870960487782328,1.2811434821833858,1.274455774561294,1.2669142514048473,1.258402579964596,1.24880752795287,1.2380197224813045,1.22593440345354,1.2124521656711598,1.197479684005669,1.1809304161386818,1.1627252775720534,1.1427932838547772,1.1210721552590512,1.0975088794588366,1.072060228115336,1.044693223649876,1.0153855528806837,0.984125924611118,0.9509143686783819,0.915762474399309,0.8786935667793709,0.8397428192789225,0.7989573023535377,0.7563959674000238,0.7121295661437673,0.6662405058940731,0.6188226414701743,0.5699810049599229,0.5198314748144773,0.46850038610440914,0.41612408406479173,0.3628484233382754,0.3088282155855081,0.2542266283712481,0.19921453845196907,0.1439698427867595,0.08867673076789889,0.0335249213209079,-0.021291131343623815,-0.07557305943218107,-0.1291194267384589,-0.18172659322348667,-0.23318959489506286,-0.283303034841966,-0.33186198126285954,-0.37866286833213086,-0.4235043957644724,-0.46618842297639995,-0.5065208537954826,-0.5443125077363447,-0.5793799739458848,-0.6115464440181158,-0.6406425199909229,-0.666506993962371,-0.68898759590223,-0.7079417063846326,-0.7232370311295234,-0.7347522344131774,-0.7423775285908765,-0.7460152171671885,-0.7455801890504268,-0.7410003618371267,-0.732217072188994,-0.7191854115879754,-0.701874505984188,-0.6802677380855434,-0.6543629112763099,-0.6241723543936877,-0.5897229668359982,-0.551056203722399,-0.5082280010713978,-0.4613086412129412,-0.4103825588957244,-0.3555480887967845,-0.29691715538349006,-0.23461490631806647,-0.16877929083082271,-0.09956058471959356,-0.0271208638587343,0.0483665716794528,0.12671782057547193,0.20773904776547059,0.29122719377984285,0.3769707230143268,0.4647504078531926,0.5543401453977301,0.6455078033979259,0.7380160918419257,0.8316234565270453,0.9260849908183838,1.0211533616971349,1.116579746111015,1.2121147735644544,1.3075094708268589,1.402516204593924,1.4968896179101407,1.590387556151009,1.6827719783712576,1.7738098498514425,1.8632740117198843,1.9509440235906559,2.036606975241606,2.1200582634597276,2.2011023303048924,2.2795533591874677,2.355235925320883,2.427985597297152,2.4976494867416794,2.564086743233613,2.627168991929385,2.6867807115997415,2.7428195510841653,2.7951965824805427,2.8438364897215407,2.888677691541405,2.9296723982065482,2.9667866017688187],\\\"type\\\":\\\"scatter\\\",\\\"name\\\":\\\"f(x)\\\",\\\"x\\\":[0.03125962839392829,0.06251925678785658,0.09377888518178487,0.12503851357571316,0.15629814196964145,0.18755777036356974,0.21881739875749803,0.2500770271514263,0.2813366555453546,0.3125962839392829,0.3438559123332112,0.3751155407271395,0.40637516912106775,0.43763479751499607,0.4688944259089244,0.5001540543028526,0.5314136826967809,0.5626733110907092,0.5939329394846375,0.6251925678785658,0.6564521962724941,0.6877118246664224,0.7189714530603507,0.750231081454279,0.7814907098482072,0.8127503382421355,0.8440099666360639,0.8752695950299921,0.9065292234239204,0.9377888518178488,0.969048480211777,1.0003081086057053,1.0315677369996337,1.0628273653935618,1.0940869937874902,1.1253466221814183,1.1566062505753467,1.187865878969275,1.2191255073632032,1.2503851357571316,1.28164476415106,1.3129043925449881,1.3441640209389165,1.3754236493328449,1.406683277726773,1.4379429061207014,1.4692025345146296,1.500462162908558,1.5317217913024863,1.5629814196964145,1.5942410480903428,1.625500676484271,1.6567603048781994,1.6880199332721277,1.7192795616660559,1.7505391900599843,1.7817988184539126,1.8130584468478408,1.8443180752417692,1.8755777036356975,1.9068373320296257,1.938096960423554,1.9693565888174822,2.0006162172114106,2.031875845605339,2.0631354739992673,2.0943951023931953,2.1256547307871236,2.156914359181052,2.1881739875749804,2.2194336159689088,2.2506932443628367,2.281952872756765,2.3132125011506934,2.344472129544622,2.37573175793855,2.4069913863324786,2.4382510147264065,2.469510643120335,2.5007702715142632,2.5320298999081916,2.56328952830212,2.594549156696048,2.6258087850899763,2.6570684134839047,2.688328041877833,2.7195876702717614,2.7508472986656898,2.7821069270596177,2.813366555453546,2.8446261838474745,2.875885812241403,2.907145440635331,2.938405069029259,2.9696646974231875,3.000924325817116,3.0321839542110443,3.0634435826049726,3.0947032109989006,3.125962839392829,3.1572224677867573,3.1884820961806857,3.219741724574614,3.251001352968542,3.2822609813624704,3.3135206097563987,3.344780238150327,3.3760398665442555,3.407299494938184,3.4385591233321118,3.46981875172604,3.5010783801199685,3.532338008513897,3.5635976369078253,3.594857265301753,3.6261168936956816,3.65737652208961,3.6886361504835383,3.7198957788774667,3.751155407271395,3.782415035665323,3.8136746640592514,3.8449342924531797,3.876193920847108,3.9074535492410365,3.9387131776349644,3.969972806028893,4.001232434422821,4.0324920628167495,4.063751691210678,4.095011319604606,4.126270947998535,4.157530576392463,4.1887902047863905,4.220049833180319,4.251309461574247,4.282569089968176,4.313828718362104,4.345088346756032,4.376347975149961,4.407607603543889,4.4388672319378175,4.470126860331746,4.501386488725673,4.532646117119602,4.56390574551353,4.5951653739074585,4.626425002301387,4.657684630695315,4.688944259089244,4.720203887483172,4.7514635158771,4.782723144271029,4.813982772664957,4.845242401058885,4.876502029452813,4.907761657846741,4.93902128624067,4.970280914634598,5.0015405430285265,5.032800171422455,5.064059799816383,5.095319428210312,5.12657905660424,5.157838684998168,5.189098313392096,5.220357941786024,5.251617570179953,5.282877198573881,5.314136826967809,5.345396455361738,5.376656083755666,5.407915712149594,5.439175340543523,5.470434968937451,5.5016945973313796,5.532954225725307,5.564213854119235,5.595473482513164,5.626733110907092,5.6579927393010205,5.689252367694949,5.720511996088877,5.751771624482806,5.783031252876734,5.814290881270662,5.84555050966459,5.876810138058518,5.908069766452447,5.939329394846375,5.970589023240303,6.001848651634232,6.03310828002816,6.0643679084220885,6.095627536816017,6.126887165209945,6.158146793603874,6.189406421997801,6.2206660503917295,6.251925678785658]}],{\\\"xaxis\\\":{\\\"title\\\":{\\\"text\\\":\\\"x\\\"}},\\\"template\\\":{\\\"layout\\\":{\\\"coloraxis\\\":{\\\"colorbar\\\":{\\\"ticks\\\":\\\"\\\",\\\"outlinewidth\\\":0}},\\\"xaxis\\\":{\\\"gridcolor\\\":\\\"white\\\",\\\"zerolinewidth\\\":2,\\\"title\\\":{\\\"standoff\\\":15},\\\"ticks\\\":\\\"\\\",\\\"zerolinecolor\\\":\\\"white\\\",\\\"automargin\\\":true,\\\"linecolor\\\":\\\"white\\\"},\\\"hovermode\\\":\\\"closest\\\",\\\"paper_bgcolor\\\":\\\"white\\\",\\\"geo\\\":{\\\"showlakes\\\":true,\\\"showland\\\":true,\\\"landcolor\\\":\\\"#E5ECF6\\\",\\\"bgcolor\\\":\\\"white\\\",\\\"subunitcolor\\\":\\\"white\\\",\\\"lakecolor\\\":\\\"white\\\"},\\\"colorscale\\\":{\\\"sequential\\\":[[0.0,\\\"#0d0887\\\"],[0.1111111111111111,\\\"#46039f\\\"],[0.2222222222222222,\\\"#7201a8\\\"],[0.3333333333333333,\\\"#9c179e\\\"],[0.4444444444444444,\\\"#bd3786\\\"],[0.5555555555555556,\\\"#d8576b\\\"],[0.6666666666666666,\\\"#ed7953\\\"],[0.7777777777777778,\\\"#fb9f3a\\\"],[0.8888888888888888,\\\"#fdca26\\\"],[1.0,\\\"#f0f921\\\"]],\\\"diverging\\\":[[0,\\\"#8e0152\\\"],[0.1,\\\"#c51b7d\\\"],[0.2,\\\"#de77ae\\\"],[0.3,\\\"#f1b6da\\\"],[0.4,\\\"#fde0ef\\\"],[0.5,\\\"#f7f7f7\\\"],[0.6,\\\"#e6f5d0\\\"],[0.7,\\\"#b8e186\\\"],[0.8,\\\"#7fbc41\\\"],[0.9,\\\"#4d9221\\\"],[1,\\\"#276419\\\"]],\\\"sequentialminus\\\":[[0.0,\\\"#0d0887\\\"],[0.1111111111111111,\\\"#46039f\\\"],[0.2222222222222222,\\\"#7201a8\\\"],[0.3333333333333333,\\\"#9c179e\\\"],[0.4444444444444444,\\\"#bd3786\\\"],[0.5555555555555556,\\\"#d8576b\\\"],[0.6666666666666666,\\\"#ed7953\\\"],[0.7777777777777778,\\\"#fb9f3a\\\"],[0.8888888888888888,\\\"#fdca26\\\"],[1.0,\\\"#f0f921\\\"]]},\\\"yaxis\\\":{\\\"gridcolor\\\":\\\"white\\\",\\\"zerolinewidth\\\":2,\\\"title\\\":{\\\"standoff\\\":15},\\\"ticks\\\":\\\"\\\",\\\"zerolinecolor\\\":\\\"white\\\",\\\"automargin\\\":true,\\\"linecolor\\\":\\\"white\\\"},\\\"shapedefaults\\\":{\\\"line\\\":{\\\"color\\\":\\\"#2a3f5f\\\"}},\\\"hoverlabel\\\":{\\\"align\\\":\\\"left\\\"},\\\"mapbox\\\":{\\\"style\\\":\\\"light\\\"},\\\"polar\\\":{\\\"angularaxis\\\":{\\\"gridcolor\\\":\\\"white\\\",\\\"ticks\\\":\\\"\\\",\\\"linecolor\\\":\\\"white\\\"},\\\"bgcolor\\\":\\\"#E5ECF6\\\",\\\"radialaxis\\\":{\\\"gridcolor\\\":\\\"white\\\",\\\"ticks\\\":\\\"\\\",\\\"linecolor\\\":\\\"white\\\"}},\\\"autotypenumbers\\\":\\\"strict\\\",\\\"font\\\":{\\\"color\\\":\\\"#2a3f5f\\\"},\\\"ternary\\\":{\\\"baxis\\\":{\\\"gridcolor\\\":\\\"white\\\",\\\"ticks\\\":\\\"\\\",\\\"linecolor\\\":\\\"white\\\"},\\\"bgcolor\\\":\\\"#E5ECF6\\\",\\\"caxis\\\":{\\\"gridcolor\\\":\\\"white\\\",\\\"ticks\\\":\\\"\\\",\\\"linecolor\\\":\\\"white\\\"},\\\"aaxis\\\":{\\\"gridcolor\\\":\\\"white\\\",\\\"ticks\\\":\\\"\\\",\\\"linecolor\\\":\\\"white\\\"}},\\\"annotationdefaults\\\":{\\\"arrowhead\\\":0,\\\"arrowwidth\\\":1,\\\"arrowcolor\\\":\\\"#2a3f5f\\\"},\\\"plot_bgcolor\\\":\\\"#E5ECF6\\\",\\\"title\\\":{\\\"x\\\":0.05},\\\"scene\\\":{\\\"xaxis\\\":{\\\"gridcolor\\\":\\\"white\\\",\\\"gridwidth\\\":2,\\\"backgroundcolor\\\":\\\"#E5ECF6\\\",\\\"ticks\\\":\\\"\\\",\\\"showbackground\\\":true,\\\"zerolinecolor\\\":\\\"white\\\",\\\"linecolor\\\":\\\"white\\\"},\\\"zaxis\\\":{\\\"gridcolor\\\":\\\"white\\\",\\\"gridwidth\\\":2,\\\"backgroundcolor\\\":\\\"#E5ECF6\\\",\\\"ticks\\\":\\\"\\\",\\\"showbackground\\\":true,\\\"zerolinecolor\\\":\\\"white\\\",\\\"linecolor\\\":\\\"white\\\"},\\\"yaxis\\\":{\\\"gridcolor\\\":\\\"white\\\",\\\"gridwidth\\\":2,\\\"backgroundcolor\\\":\\\"#E5ECF6\\\",\\\"ticks\\\":\\\"\\\",\\\"showbackground\\\":true,\\\"zerolinecolor\\\":\\\"white\\\",\\\"linecolor\\\":\\\"white\\\"}},\\\"colorway\\\":[\\\"#636efa\\\",\\\"#EF553B\\\",\\\"#00cc96\\\",\\\"#ab63fa\\\",\\\"#FFA15A\\\",\\\"#19d3f3\\\",\\\"#FF6692\\\",\\\"#B6E880\\\",\\\"#FF97FF\\\",\\\"#FECB52\\\"]},\\\"data\\\":{\\\"barpolar\\\":[{\\\"type\\\":\\\"barpolar\\\",\\\"marker\\\":{\\\"line\\\":{\\\"color\\\":\\\"#E5ECF6\\\",\\\"width\\\":0.5}}}],\\\"carpet\\\":[{\\\"aaxis\\\":{\\\"gridcolor\\\":\\\"white\\\",\\\"endlinecolor\\\":\\\"#2a3f5f\\\",\\\"minorgridcolor\\\":\\\"white\\\",\\\"startlinecolor\\\":\\\"#2a3f5f\\\",\\\"linecolor\\\":\\\"white\\\"},\\\"type\\\":\\\"carpet\\\",\\\"baxis\\\":{\\\"gridcolor\\\":\\\"white\\\",\\\"endlinecolor\\\":\\\"#2a3f5f\\\",\\\"minorgridcolor\\\":\\\"white\\\",\\\"startlinecolor\\\":\\\"#2a3f5f\\\",\\\"linecolor\\\":\\\"white\\\"}}],\\\"scatterpolar\\\":[{\\\"type\\\":\\\"scatterpolar\\\",\\\"marker\\\":{\\\"colorbar\\\":{\\\"ticks\\\":\\\"\\\",\\\"outlinewidth\\\":0}}}],\\\"parcoords\\\":[{\\\"line\\\":{\\\"colorbar\\\":{\\\"ticks\\\":\\\"\\\",\\\"outlinewidth\\\":0}},\\\"type\\\":\\\"parcoords\\\"}],\\\"scatter\\\":[{\\\"type\\\":\\\"scatter\\\",\\\"marker\\\":{\\\"colorbar\\\":{\\\"ticks\\\":\\\"\\\",\\\"outlinewidth\\\":0}}}],\\\"histogram2dcontour\\\":[{\\\"colorbar\\\":{\\\"ticks\\\":\\\"\\\",\\\"outlinewidth\\\":0},\\\"type\\\":\\\"histogram2dcontour\\\",\\\"colorscale\\\":[[0.0,\\\"#0d0887\\\"],[0.1111111111111111,\\\"#46039f\\\"],[0.2222222222222222,\\\"#7201a8\\\"],[0.3333333333333333,\\\"#9c179e\\\"],[0.4444444444444444,\\\"#bd3786\\\"],[0.5555555555555556,\\\"#d8576b\\\"],[0.6666666666666666,\\\"#ed7953\\\"],[0.7777777777777778,\\\"#fb9f3a\\\"],[0.8888888888888888,\\\"#fdca26\\\"],[1.0,\\\"#f0f921\\\"]]}],\\\"contour\\\":[{\\\"colorbar\\\":{\\\"ticks\\\":\\\"\\\",\\\"outlinewidth\\\":0},\\\"type\\\":\\\"contour\\\",\\\"colorscale\\\":[[0.0,\\\"#0d0887\\\"],[0.1111111111111111,\\\"#46039f\\\"],[0.2222222222222222,\\\"#7201a8\\\"],[0.3333333333333333,\\\"#9c179e\\\"],[0.4444444444444444,\\\"#bd3786\\\"],[0.5555555555555556,\\\"#d8576b\\\"],[0.6666666666666666,\\\"#ed7953\\\"],[0.7777777777777778,\\\"#fb9f3a\\\"],[0.8888888888888888,\\\"#fdca26\\\"],[1.0,\\\"#f0f921\\\"]]}],\\\"scattercarpet\\\":[{\\\"type\\\":\\\"scattercarpet\\\",\\\"marker\\\":{\\\"colorbar\\\":{\\\"ticks\\\":\\\"\\\",\\\"outlinewidth\\\":0}}}],\\\"mesh3d\\\":[{\\\"colorbar\\\":{\\\"ticks\\\":\\\"\\\",\\\"outlinewidth\\\":0},\\\"type\\\":\\\"mesh3d\\\"}],\\\"surface\\\":[{\\\"colorbar\\\":{\\\"ticks\\\":\\\"\\\",\\\"outlinewidth\\\":0},\\\"type\\\":\\\"surface\\\",\\\"colorscale\\\":[[0.0,\\\"#0d0887\\\"],[0.1111111111111111,\\\"#46039f\\\"],[0.2222222222222222,\\\"#7201a8\\\"],[0.3333333333333333,\\\"#9c179e\\\"],[0.4444444444444444,\\\"#bd3786\\\"],[0.5555555555555556,\\\"#d8576b\\\"],[0.6666666666666666,\\\"#ed7953\\\"],[0.7777777777777778,\\\"#fb9f3a\\\"],[0.8888888888888888,\\\"#fdca26\\\"],[1.0,\\\"#f0f921\\\"]]}],\\\"scattermapbox\\\":[{\\\"type\\\":\\\"scattermapbox\\\",\\\"marker\\\":{\\\"colorbar\\\":{\\\"ticks\\\":\\\"\\\",\\\"outlinewidth\\\":0}}}],\\\"scattergeo\\\":[{\\\"type\\\":\\\"scattergeo\\\",\\\"marker\\\":{\\\"colorbar\\\":{\\\"ticks\\\":\\\"\\\",\\\"outlinewidth\\\":0}}}],\\\"histogram\\\":[{\\\"type\\\":\\\"histogram\\\",\\\"marker\\\":{\\\"colorbar\\\":{\\\"ticks\\\":\\\"\\\",\\\"outlinewidth\\\":0}}}],\\\"pie\\\":[{\\\"type\\\":\\\"pie\\\",\\\"automargin\\\":true}],\\\"choropleth\\\":[{\\\"colorbar\\\":{\\\"ticks\\\":\\\"\\\",\\\"outlinewidth\\\":0},\\\"type\\\":\\\"choropleth\\\"}],\\\"heatmapgl\\\":[{\\\"colorbar\\\":{\\\"ticks\\\":\\\"\\\",\\\"outlinewidth\\\":0},\\\"type\\\":\\\"heatmapgl\\\",\\\"colorscale\\\":[[0.0,\\\"#0d0887\\\"],[0.1111111111111111,\\\"#46039f\\\"],[0.2222222222222222,\\\"#7201a8\\\"],[0.3333333333333333,\\\"#9c179e\\\"],[0.4444444444444444,\\\"#bd3786\\\"],[0.5555555555555556,\\\"#d8576b\\\"],[0.6666666666666666,\\\"#ed7953\\\"],[0.7777777777777778,\\\"#fb9f3a\\\"],[0.8888888888888888,\\\"#fdca26\\\"],[1.0,\\\"#f0f921\\\"]]}],\\\"bar\\\":[{\\\"type\\\":\\\"bar\\\",\\\"error_y\\\":{\\\"color\\\":\\\"#2a3f5f\\\"},\\\"error_x\\\":{\\\"color\\\":\\\"#2a3f5f\\\"},\\\"marker\\\":{\\\"line\\\":{\\\"color\\\":\\\"#E5ECF6\\\",\\\"width\\\":0.5}}}],\\\"heatmap\\\":[{\\\"colorbar\\\":{\\\"ticks\\\":\\\"\\\",\\\"outlinewidth\\\":0},\\\"type\\\":\\\"heatmap\\\",\\\"colorscale\\\":[[0.0,\\\"#0d0887\\\"],[0.1111111111111111,\\\"#46039f\\\"],[0.2222222222222222,\\\"#7201a8\\\"],[0.3333333333333333,\\\"#9c179e\\\"],[0.4444444444444444,\\\"#bd3786\\\"],[0.5555555555555556,\\\"#d8576b\\\"],[0.6666666666666666,\\\"#ed7953\\\"],[0.7777777777777778,\\\"#fb9f3a\\\"],[0.8888888888888888,\\\"#fdca26\\\"],[1.0,\\\"#f0f921\\\"]]}],\\\"contourcarpet\\\":[{\\\"colorbar\\\":{\\\"ticks\\\":\\\"\\\",\\\"outlinewidth\\\":0},\\\"type\\\":\\\"contourcarpet\\\"}],\\\"table\\\":[{\\\"type\\\":\\\"table\\\",\\\"header\\\":{\\\"line\\\":{\\\"color\\\":\\\"white\\\"},\\\"fill\\\":{\\\"color\\\":\\\"#C8D4E3\\\"}},\\\"cells\\\":{\\\"line\\\":{\\\"color\\\":\\\"white\\\"},\\\"fill\\\":{\\\"color\\\":\\\"#EBF0F8\\\"}}}],\\\"scatter3d\\\":[{\\\"line\\\":{\\\"colorbar\\\":{\\\"ticks\\\":\\\"\\\",\\\"outlinewidth\\\":0}},\\\"type\\\":\\\"scatter3d\\\",\\\"marker\\\":{\\\"colorbar\\\":{\\\"ticks\\\":\\\"\\\",\\\"outlinewidth\\\":0}}}],\\\"scattergl\\\":[{\\\"type\\\":\\\"scattergl\\\",\\\"marker\\\":{\\\"colorbar\\\":{\\\"ticks\\\":\\\"\\\",\\\"outlinewidth\\\":0}}}],\\\"histogram2d\\\":[{\\\"colorbar\\\":{\\\"ticks\\\":\\\"\\\",\\\"outlinewidth\\\":0},\\\"type\\\":\\\"histogram2d\\\",\\\"colorscale\\\":[[0.0,\\\"#0d0887\\\"],[0.1111111111111111,\\\"#46039f\\\"],[0.2222222222222222,\\\"#7201a8\\\"],[0.3333333333333333,\\\"#9c179e\\\"],[0.4444444444444444,\\\"#bd3786\\\"],[0.5555555555555556,\\\"#d8576b\\\"],[0.6666666666666666,\\\"#ed7953\\\"],[0.7777777777777778,\\\"#fb9f3a\\\"],[0.8888888888888888,\\\"#fdca26\\\"],[1.0,\\\"#f0f921\\\"]]}],\\\"scatterternary\\\":[{\\\"type\\\":\\\"scatterternary\\\",\\\"marker\\\":{\\\"colorbar\\\":{\\\"ticks\\\":\\\"\\\",\\\"outlinewidth\\\":0}}}],\\\"scatterpolargl\\\":[{\\\"type\\\":\\\"scatterpolargl\\\",\\\"marker\\\":{\\\"colorbar\\\":{\\\"ticks\\\":\\\"\\\",\\\"outlinewidth\\\":0}}}]}},\\\"margin\\\":{\\\"l\\\":50,\\\"b\\\":50,\\\"r\\\":50,\\\"t\\\":60}},{\\\"showLink\\\":false,\\\"editable\\\":false,\\\"responsive\\\":true,\\\"staticPlot\\\":false,\\\"scrollZoom\\\":true}); gd.on(\\\"plotly_hover\\\",(function (data){var filtered_data=WebIO.PlotlyCommands.filterEventData(gd,data,\\\"hover\\\"); return !(filtered_data.isnil) ? (WebIO.setval({\\\"name\\\":\\\"hover\\\",\\\"scope\\\":\\\"12391986663457383737\\\",\\\"id\\\":\\\"311\\\",\\\"type\\\":\\\"observable\\\"},filtered_data.out)) : undefined})); gd.on(\\\"plotly_unhover\\\",(function (){return WebIO.setval({\\\"name\\\":\\\"hover\\\",\\\"scope\\\":\\\"12391986663457383737\\\",\\\"id\\\":\\\"311\\\",\\\"type\\\":\\\"observable\\\"},{})})); gd.on(\\\"plotly_selected\\\",(function (data){var filtered_data=WebIO.PlotlyCommands.filterEventData(gd,data,\\\"selected\\\"); return !(filtered_data.isnil) ? (WebIO.setval({\\\"name\\\":\\\"selected\\\",\\\"scope\\\":\\\"12391986663457383737\\\",\\\"id\\\":\\\"312\\\",\\\"type\\\":\\\"observable\\\"},filtered_data.out)) : undefined})); gd.on(\\\"plotly_deselect\\\",(function (){return WebIO.setval({\\\"name\\\":\\\"selected\\\",\\\"scope\\\":\\\"12391986663457383737\\\",\\\"id\\\":\\\"312\\\",\\\"type\\\":\\\"observable\\\"},{})})); gd.on(\\\"plotly_relayout\\\",(function (data){var filtered_data=WebIO.PlotlyCommands.filterEventData(gd,data,\\\"relayout\\\"); return !(filtered_data.isnil) ? (WebIO.setval({\\\"name\\\":\\\"relayout\\\",\\\"scope\\\":\\\"12391986663457383737\\\",\\\"id\\\":\\\"314\\\",\\\"type\\\":\\\"observable\\\"},filtered_data.out)) : undefined})); return gd.on(\\\"plotly_click\\\",(function (data){var filtered_data=WebIO.PlotlyCommands.filterEventData(gd,data,\\\"click\\\"); return !(filtered_data.isnil) ? (WebIO.setval({\\\"name\\\":\\\"click\\\",\\\"scope\\\":\\\"12391986663457383737\\\",\\\"id\\\":\\\"313\\\",\\\"type\\\":\\\"observable\\\"},filtered_data.out)) : undefined}))}));\\n    (WebIO.importBlock({\\\"data\\\":[{\\\"name\\\":\\\"Plotly\\\",\\\"type\\\":\\\"js\\\",\\\"url\\\":\\\"\\/assetserver\\/d6feb8d8ce4676ebdde817a0745950a35b4ba3ae-plotly.min.js\\\"},{\\\"name\\\":null,\\\"type\\\":\\\"js\\\",\\\"url\\\":\\\"\\/assetserver\\/517030b23c1c21e94bf622985d97a74a9582e066-plotly_webio.bundle.js\\\"}],\\\"type\\\":\\\"async_block\\\"})).then((imports) => handler.apply(this, imports));\\n}\\n\"],\"observables\":{\"_toImage\":{\"sync\":false,\"id\":\"318\",\"value\":{}},\"hover\":{\"sync\":false,\"id\":\"311\",\"value\":{}},\"selected\":{\"sync\":false,\"id\":\"312\",\"value\":{}},\"__gd_contents\":{\"sync\":false,\"id\":\"316\",\"value\":{}},\"click\":{\"sync\":false,\"id\":\"313\",\"value\":{}},\"image\":{\"sync\":true,\"id\":\"315\",\"value\":\"\"},\"__get_gd_contents\":{\"sync\":false,\"id\":\"320\",\"value\":\"\"},\"_downloadImage\":{\"sync\":false,\"id\":\"319\",\"value\":{}},\"relayout\":{\"sync\":false,\"id\":\"314\",\"value\":{}},\"_commands\":{\"sync\":false,\"id\":\"317\",\"value\":[]}}},\"children\":[{\"props\":{\"id\":\"plot-60c029f4-bb2b-408d-b0bd-1a3fe462b8f6\"},\"nodeType\":\"DOM\",\"type\":\"node\",\"instanceArgs\":{\"namespace\":\"html\",\"tag\":\"div\"},\"children\":[]}]},\n",
       "        window,\n",
       "    );\n",
       "    })()\n",
       "    </script>\n",
       "</div>\n"
      ],
      "text/plain": [
       "data: [\n",
       "  \"scatter with fields mode, name, type, x, and y\",\n",
       "  \"scatter with fields mode, name, type, x, and y\"\n",
       "]\n",
       "\n",
       "layout: \"layout with fields margin, template, and xaxis\"\n",
       "\n"
      ]
     },
     "execution_count": 226,
     "metadata": {},
     "output_type": "execute_result"
    }
   ],
   "source": [
    "plot([\n",
    "    scatter(x=x, y=u_dct, mode=\"markers+lines\", name=\"u_dst\"),\n",
    "    scatter(x=x, y=f_rhs, mode=\"markers+lines\", name=\"f(x)\")],\n",
    "    Layout(xaxis_title=\"x\") #yaxis_title=\"u(x)\",  \n",
    ")"
   ]
  },
  {
   "cell_type": "markdown",
   "id": "cf335764-a3bc-44fc-99b3-3b74298033a1",
   "metadata": {},
   "source": [
    "# 2D Laplacian problem \n",
    "\n",
    "**TO DO: Explanation**\n",
    "\n",
    "$$-\\nabla^2 u = f(x, y), \\quad \\text{for } (x,y) \\in [0, L_x] \\times [0, L_y]$$\n",
    "$$f(x, y) = \\cos(x) \\sin(y)$$\n",
    "\n",
    "\n",
    "periodic BCs for both $x$ and $y$.\n",
    "\n",
    "Analytical solution $u(x, y) = \\frac{1}{2} \\cos(x) \\sin(y) = \\frac{1}{2}f(x,y)$.\n",
    "\n",
    "2D FFT\n",
    "\n",
    "$$\n",
    "\\hat{u}_{p,q} =  \\sum_{q=0}^{n_y-1} \\sum_{p=0}^{n_x-1} u_{p,q} \\, \\exp(-2\\pi i\\left(x_p + y_q \\right)) =  \\sum_{q=0}^{n_y-1} \\sum_{p=0}^{n_x-1} u_{p,q} \\, \\exp\\left(-2\\pi i\\left[\\frac{k_x p}{n_x} + \\frac{l_j q}{n_y} \\right] \\right), \\quad \\text{for } k_x = ..., k_y = ...\n",
    "$$\n"
   ]
  },
  {
   "cell_type": "code",
   "execution_count": 227,
   "id": "7ab43320-25e9-4939-a9df-aa5bfdade0fb",
   "metadata": {},
   "outputs": [],
   "source": [
    "# Initial setup\n",
    "nx = 64\n",
    "ny = 32\n",
    "Lx = 2 * pi\n",
    "Ly = 2 * pi\n",
    "\n",
    "# Grids\n",
    "x = range(0, stop=Lx, length=nx+1)[1:end-1]\n",
    "y = range(0, stop=Ly, length=ny+1)[1:end-1]\n",
    "X = repeat(x, 1, ny)\n",
    "Y = repeat(y', nx, 1)\n",
    "\n",
    "# Define RHS\n",
    "f_rhs = cos.(X) .* sin.(Y)  # Shape: (nx, ny)\n",
    "\n",
    "# Step 1: FFT in x-direction (rows)\n",
    "f_temp = zeros(ComplexF64, nx, ny)\n",
    "for j in 1:ny\n",
    "    f_temp[:, j] = fft(f_rhs[:, j])\n",
    "end\n",
    "\n",
    "# Step 2: FFT in y-direction (columns)\n",
    "f_hat = zeros(ComplexF64, nx, ny)\n",
    "for i in 1:nx\n",
    "    f_hat[i, :] = fft(f_temp[i, :])\n",
    "end\n",
    "\n",
    "# Step 3: Solve in spectral space\n",
    "kx = vcat(0:nx÷2, -nx÷2+1:-1) * (2 * pi / Lx)\n",
    "ky = vcat(0:ny÷2, -ny÷2+1:-1) * (2 * pi / Ly)\n",
    "KX = reshape(kx.^2, nx, 1)\n",
    "KY = reshape(ky.^2, 1, ny)\n",
    "λ = KX .+ KY\n",
    "\n",
    "u_hat = f_hat ./ λ\n",
    "u_hat[1, 1] = 0  # Enforcing zero-mean, but already satisfied due to used f(x,y) \n",
    "\n",
    "# Step 4: Inverse FFT in y-direction (columns)\n",
    "u_temp = zeros(ComplexF64, nx, ny)\n",
    "for i in 1:nx\n",
    "    u_temp[i, :] = ifft(u_hat[i, :])\n",
    "end\n",
    "\n",
    "# Step 5: Inverse FFT in x-direction (rows)\n",
    "u = zeros(ComplexF64, nx, ny)\n",
    "for j in 1:ny\n",
    "    u[:, j] = ifft(u_temp[:, j])\n",
    "end\n",
    "\n",
    "# Final result: real part\n",
    "u_real = real(u);\n"
   ]
  },
  {
   "cell_type": "code",
   "execution_count": 228,
   "id": "0e1f4aa8-7c8d-47ef-8c1a-0efcdd4336d3",
   "metadata": {},
   "outputs": [
    {
     "data": {
      "text/plain": [
       "2.2079425200240586e-17"
      ]
     },
     "execution_count": 228,
     "metadata": {},
     "output_type": "execute_result"
    }
   ],
   "source": [
    "error = norm(u_real - 0.5 * f_rhs, Inf)/norm(0.5 * f_rhs)"
   ]
  }
 ],
 "metadata": {
  "kernelspec": {
   "display_name": "Julia 1.10.4",
   "language": "julia",
   "name": "julia-1.10"
  },
  "language_info": {
   "file_extension": ".jl",
   "mimetype": "application/julia",
   "name": "julia",
   "version": "1.10.4"
  }
 },
 "nbformat": 4,
 "nbformat_minor": 5
}
